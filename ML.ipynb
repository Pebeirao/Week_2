{
 "cells": [
  {
   "cell_type": "markdown",
   "metadata": {},
   "source": [
    "# Assignment 1\n",
    "\n",
    "The goal of this assignment is to supply you with machine learning models and algorithms. In this notebook, we will cover linear and nonlinear models, the concept of loss functions and some optimization techniques. All mathematical operations should be implemented in **NumPy** only. \n",
    "\n",
    "\n",
    "## Table of contents\n",
    "* [1. Logistic Regression](#1.-Logistic-Regression)\n",
    "    * [1.1 Linear Mapping](#1.1-Linear-Mapping)\n",
    "    * [1.2 Sigmoid](#1.2-Sigmoid)\n",
    "    * [1.3 Negative Log Likelihood](#1.3-Negative-Log-Likelihood)\n",
    "    * [1.4 Model](#1.4-Model)\n",
    "    * [1.5 Simple Experiment](#1.5-Simple-Experiment)\n",
    "* [2. Decision Tree](#2.-Decision-Tree)\n",
    "    * [2.1 Gini Index & Data Split](#2.1-Gini-Index-&-Data-Split)\n",
    "    * [2.2 Terminal Node](#2.2-Terminal-Node)\n",
    "    * [2.3 Build the Decision Tree](#2.3-Build-the-Decision-Tree)\n",
    "* [3. Experiments](#3.-Experiments)\n",
    "    * [3.1 Decision Tree for Heart Disease Prediction](#3.1-Decision-Tree-for-Heart-Disease-Prediction) \n",
    "    * [3.2 Logistic Regression for Heart Disease Prediction](#3.2-Logistic-Regression-for-Heart-Disease-Prediction)\n",
    "\n",
    "### Note\n",
    "Some of the concepts below have not (yet) been discussed during the lecture. These will be discussed further during the next lectures. "
   ]
  },
  {
   "cell_type": "markdown",
   "metadata": {},
   "source": [
    "### Before you begin\n",
    "\n",
    "To check whether the code you've written is correct, we'll use **automark**. For this, we created for each of you an account with the username being your student number. "
   ]
  },
  {
   "cell_type": "code",
   "execution_count": 120,
   "metadata": {},
   "outputs": [
    {
     "output_type": "stream",
     "name": "stdout",
     "text": [
      "---------------------------------------------\n| Pericles Cataldi Beirao                   |\n| pericles.cataldi.beirao@student.uva.nl    |\n---------------------------------------------\n| linear_forward           | completed      |\n| linear_grad_W            | completed      |\n| linear_grad_b            | completed      |\n| nll_forward              | completed      |\n| nll_grad_input           | completed      |\n| sigmoid_forward          | completed      |\n| sigmoid_grad_input       | completed      |\n| tree_gini_index          | not attempted  |\n| tree_split_data_left     | not attempted  |\n| tree_split_data_right    | not attempted  |\n| tree_to_terminal         | not attempted  |\n---------------------------------------------\n"
     ]
    }
   ],
   "source": [
    "import automark as am\n",
    "\n",
    "# fill in you student number as your username\n",
    "username = '13233580'\n",
    "\n",
    "# to check your progress, you can run this function\n",
    "am.get_progress(username)"
   ]
  },
  {
   "cell_type": "markdown",
   "metadata": {},
   "source": [
    "So far all your tests are 'not attempted'. At the end of this notebook you'll need to have completed all test. The output of `am.get_progress(username)` should at least match the example below. However, we encourage you to take a shot at the 'not attempted' tests!\n",
    "\n",
    "```\n",
    "---------------------------------------------\n",
    "| Your name / student number                |\n",
    "| your_email@your_domain.whatever           |\n",
    "---------------------------------------------\n",
    "| linear_forward           | not attempted  |\n",
    "| linear_grad_W            | not attempted  |\n",
    "| linear_grad_b            | not attempted  |\n",
    "| nll_forward              | not attempted  |\n",
    "| nll_grad_input           | not attempted  |\n",
    "| sigmoid_forward          | not attempted  |\n",
    "| sigmoid_grad_input       | not attempted  |\n",
    "| tree_data_split_left     | not attempted  |\n",
    "| tree_data_split_right    | not attempted  |\n",
    "| tree_gini_index          | not attempted  |\n",
    "| tree_to_terminal         | not attempted  |\n",
    "---------------------------------------------\n",
    "```"
   ]
  },
  {
   "cell_type": "code",
   "execution_count": 121,
   "metadata": {},
   "outputs": [],
   "source": [
    "from __future__ import print_function, absolute_import, division # You don't need to know what this is. \n",
    "import numpy as np # this imports numpy, which is used for vector- and matrix calculations"
   ]
  },
  {
   "cell_type": "markdown",
   "metadata": {},
   "source": [
    "This notebook makes use of **classes** and their **instances** that we have already implemented for you. It allows us to write less code and make it more readable. If you are interested in it, here are some useful links:\n",
    "* The official [documentation](https://docs.python.org/3/tutorial/classes.html) \n",
    "* Video by *sentdex*: [Object Oriented Programming Introduction](https://www.youtube.com/watch?v=ekA6hvk-8H8)\n",
    "* Antipatterns in OOP: [Stop Writing Classes](https://www.youtube.com/watch?v=o9pEzgHorH0)"
   ]
  },
  {
   "cell_type": "markdown",
   "metadata": {},
   "source": [
    "# 1. Logistic Regression\n",
    "\n",
    "We start with a very simple algorithm called **Logistic Regression**. It is a generalized linear model for 2-class classification.\n",
    "It can be generalized to the case of many classes and to non-linear cases as well. However, here we consider only the simplest case. \n",
    "\n",
    "Let us consider a data with 2 classes. Class 0 and class 1. For a given test sample, logistic regression returns a value from $[0, 1]$ which is interpreted as a probability of belonging to class 1. The set of points for which the prediction is $0.5$ is called a *decision boundary*. It is a line on a plane or a hyper-plane in a space.\n",
    "\n",
    "![](https://nlpforhackers.io/wp-content/uploads/2018/07/Linear-Separability-610x610.png)"
   ]
  },
  {
   "cell_type": "markdown",
   "metadata": {},
   "source": [
    "Logistic regression has two trainable parameters: a weight $W$ and a bias $b$. For a vector of features $X$, the prediction of logistic regression is given by\n",
    "\n",
    "$$\n",
    "f(X) = \\frac{1}{1 + \\exp(-[XW + b])} = \\sigma(h(X))\n",
    "$$\n",
    "where $\\sigma(z) = \\frac{1}{1 + \\exp(-z)}$ and $h(X)=XW + b$.\n",
    "\n",
    "Parameters $W$ and $b$ are fitted by maximizing the log-likelihood (or minimizing the negative log-likelihood) of the model on the training data. For a training subset $\\{X_j, Y_j\\}_{j=1}^N$ the normalized negative log likelihood (NLL) is given by \n",
    "\n",
    "$$\n",
    "\\mathcal{L} = -\\frac{1}{N}\\sum_j \\log\\Big[ f(X_j)^{Y_j} \\cdot (1-f(X_j))^{1-Y_j}\\Big]\n",
    "= -\\frac{1}{N}\\sum_j \\Big[ Y_j\\log f(X_j) + (1-Y_j)\\log(1-f(X_j))\\Big]\n",
    "$$"
   ]
  },
  {
   "cell_type": "markdown",
   "metadata": {},
   "source": [
    "There are different ways of fitting this model. In this assignment we consider Logistic Regression as a one-layer neural network. We use the following algorithm for the **forward** pass:\n",
    "\n",
    "1. Linear mapping: $h=XW + b$\n",
    "2. Sigmoid activation function: $f=\\sigma(h)$\n",
    "3. Calculation of NLL: $\\mathcal{L} = -\\frac{1}{N}\\sum_j \\Big[ Y_j\\log f_j + (1-Y_j)\\log(1-f_j)\\Big]$"
   ]
  },
  {
   "cell_type": "markdown",
   "metadata": {},
   "source": [
    "In order to fit $W$ and $b$ we perform Gradient Descent ([GD](https://en.wikipedia.org/wiki/Gradient_descent)). We choose a small learning rate $\\gamma$ and after each computation of forward pass, we update the parameters \n",
    "\n",
    "$$W_{\\text{new}} = W_{\\text{old}} - \\gamma \\frac{\\partial \\mathcal{L}}{\\partial W}$$\n",
    "\n",
    "$$b_{\\text{new}} = b_{\\text{old}} - \\gamma \\frac{\\partial \\mathcal{L}}{\\partial b}$$\n",
    "\n",
    "We use Backpropagation method ([BP](https://en.wikipedia.org/wiki/Backpropagation)) to calculate the partial derivatives of the loss function with respect to the parameters of the model.\n",
    "\n",
    "$$\n",
    "\\frac{\\partial\\mathcal{L}}{\\partial W} = \n",
    "\\frac{\\partial\\mathcal{L}}{\\partial h} \\frac{\\partial h}{\\partial W} =\n",
    "\\frac{\\partial\\mathcal{L}}{\\partial f} \\frac{\\partial f}{\\partial h} \\frac{\\partial h}{\\partial W}\n",
    "$$\n",
    "\n",
    "$$\n",
    "\\frac{\\partial\\mathcal{L}}{\\partial b} = \n",
    "\\frac{\\partial\\mathcal{L}}{\\partial h} \\frac{\\partial h}{\\partial b} =\n",
    "\\frac{\\partial\\mathcal{L}}{\\partial f} \\frac{\\partial f}{\\partial h} \\frac{\\partial h}{\\partial b}\n",
    "$$"
   ]
  },
  {
   "cell_type": "markdown",
   "metadata": {},
   "source": [
    "## 1.1 Linear Mapping\n",
    "First of all, you need to implement the forward pass of a linear mapping:\n",
    "$$\n",
    "h(X) = XW +b\n",
    "$$"
   ]
  },
  {
   "cell_type": "markdown",
   "metadata": {},
   "source": [
    "**Note**: here we use `n_out` as the dimensionality of the output. For logisitc regression `n_out = 1`. However, we will work with cases of `n_out > 1` in next assignments. You will **pass** the current assignment even if your implementation works only in case `n_out = 1`. If your implementation works for the cases of `n_out > 1` then you will not have to modify your method next week. All **numpy** operations are generic. It is recommended to use numpy when is it possible."
   ]
  },
  {
   "cell_type": "code",
   "execution_count": 122,
   "metadata": {},
   "outputs": [],
   "source": [
    "def linear_forward(x_input, W, b):\n",
    "    \"\"\"Perform the mapping of the input\n",
    "    # Arguments\n",
    "        x_input: input of the linear function - np.array of size `(n_objects, n_in)`\n",
    "        W: np.array of size `(n_in, n_out)`\n",
    "        b: np.array of size `(n_out,)`\n",
    "    # Output\n",
    "        the output of the linear function \n",
    "        np.array of size `(n_objects, n_out)`\n",
    "    \"\"\"\n",
    "    output = np.array([np.add(np.dot(xi,W),b) for xi in x_input])\n",
    "    \n",
    "    return output"
   ]
  },
  {
   "cell_type": "markdown",
   "metadata": {},
   "source": [
    "Let's check your first function. We set the matrices $X, W, b$:\n",
    "$$\n",
    "X = \\begin{bmatrix}\n",
    "1 & -1 \\\\\n",
    "-1 & 0 \\\\\n",
    "1 & 1 \\\\\n",
    "\\end{bmatrix} \\quad\n",
    "W = \\begin{bmatrix}\n",
    "4 \\\\\n",
    "2 \\\\\n",
    "\\end{bmatrix} \\quad\n",
    "b = \\begin{bmatrix}\n",
    "3 \\\\\n",
    "\\end{bmatrix}\n",
    "$$\n",
    "\n",
    "And then compute \n",
    "$$\n",
    "XW = \\begin{bmatrix}\n",
    "1 & -1 \\\\\n",
    "-1 & 0 \\\\\n",
    "1 & 1 \\\\\n",
    "\\end{bmatrix}\n",
    "\\begin{bmatrix}\n",
    "4 \\\\\n",
    "2 \\\\\n",
    "\\end{bmatrix} =\n",
    "\\begin{bmatrix}\n",
    "2 \\\\\n",
    "-4 \\\\\n",
    "6 \\\\\n",
    "\\end{bmatrix} \\\\\n",
    "XW + b = \n",
    "\\begin{bmatrix}\n",
    "5 \\\\\n",
    "-1 \\\\\n",
    "9 \\\\\n",
    "\\end{bmatrix} \n",
    "$$"
   ]
  },
  {
   "cell_type": "code",
   "execution_count": 123,
   "metadata": {},
   "outputs": [
    {
     "output_type": "stream",
     "name": "stdout",
     "text": [
      "[[[ 5]\n  [-1]\n  [ 9]]]\n"
     ]
    }
   ],
   "source": [
    "X_test = np.array([[[1, -1],\n",
    "                   [-1, 0],\n",
    "                   [1, 1]]])\n",
    "\n",
    "W_test = np.array([[4],\n",
    "                   [2]])\n",
    "\n",
    "b_test = np.array([3])\n",
    "\n",
    "h_test = linear_forward(X_test, W_test, b_test)\n",
    "print(h_test)"
   ]
  },
  {
   "cell_type": "code",
   "execution_count": 124,
   "metadata": {},
   "outputs": [
    {
     "output_type": "stream",
     "name": "stdout",
     "text": [
      "Running local tests...\n",
      "linear_forward successfully passed local tests\n",
      "Running remote test...\n",
      "Test was successful. Congratulations!\n"
     ]
    }
   ],
   "source": [
    "am.test_student_function(username, linear_forward, ['x_input', 'W', 'b'])"
   ]
  },
  {
   "cell_type": "markdown",
   "metadata": {},
   "source": [
    "Now you need to implement the calculation of the partial derivative of the loss function with respect to the parameters of the model. As this expressions are used for the updates of the parameters, we refer to them as gradients.\n",
    "$$\n",
    "\\frac{\\partial \\mathcal{L}}{\\partial W} = \n",
    "\\frac{\\partial \\mathcal{L}}{\\partial h}\n",
    "\\frac{\\partial h}{\\partial W} \\\\\n",
    "\\frac{\\partial \\mathcal{L}}{\\partial b} = \n",
    "\\frac{\\partial \\mathcal{L}}{\\partial h}\n",
    "\\frac{\\partial h}{\\partial b} \\\\\n",
    "$$"
   ]
  },
  {
   "cell_type": "code",
   "execution_count": 125,
   "metadata": {},
   "outputs": [],
   "source": [
    "def linear_grad_W(x_input, grad_output, W, b):\n",
    "    \"\"\"Calculate the partial derivative of \n",
    "        the loss with respect to W parameter of the function\n",
    "        dL / dW = (dL / dh) * (dh / dW)\n",
    "    # Arguments\n",
    "        x_input: input of a dense layer - np.array of size `(n_objects, n_in)`\n",
    "        grad_output: partial derivative of the loss functions with \n",
    "            respect to the ouput of the dense layer (dL / dh)\n",
    "            np.array of size `(n_objects, n_out)`\n",
    "        W: np.array of size `(n_in, n_out)`\n",
    "        b: np.array of size `(n_out,)`\n",
    "    # Output\n",
    "        the partial derivative of the loss \n",
    "        with respect to W parameter of the function\n",
    "        np.array of size `(n_in, n_out)`\n",
    "    \"\"\"\n",
    "    \n",
    "    \n",
    "    grad_W = np.dot(np.transpose(x_input), grad_output)\n",
    "\n",
    "    return grad_W"
   ]
  },
  {
   "cell_type": "code",
   "execution_count": 129,
   "metadata": {
    "tags": []
   },
   "outputs": [
    {
     "output_type": "stream",
     "name": "stdout",
     "text": [
      "Running local tests...\n",
      "linear_grad_W successfully passed local tests\n",
      "Running remote test...\n",
      "Test was successful. Congratulations!\n"
     ]
    }
   ],
   "source": [
    "am.test_student_function(username, linear_grad_W, ['x_input', 'grad_output', 'W', 'b'])"
   ]
  },
  {
   "cell_type": "code",
   "execution_count": 130,
   "metadata": {},
   "outputs": [],
   "source": [
    "def linear_grad_b(x_input, grad_output, W, b):\n",
    "    \"\"\"Calculate the partial derivative of \n",
    "        the loss with respect to b parameter of the function\n",
    "        dL / db = (dL / dh) * (dh / db)\n",
    "    # Arguments\n",
    "        x_input: input of a dense layer - np.array of size `(n_objects, n_in)`\n",
    "        grad_output: partial derivative of the loss functions with \n",
    "            respect to the ouput of the linear function (dL / dh)\n",
    "            np.array of size `(n_objects, n_out)`\n",
    "        W: np.array of size `(n_in, n_out)`\n",
    "        b: np.array of size `(n_out,)`\n",
    "    # Output\n",
    "        the partial derivative of the loss \n",
    "        with respect to b parameter of the linear function\n",
    "        np.array of size `(n_out,)`\n",
    "    \"\"\"\n",
    "    \n",
    "    grad_b = np.sum(grad_output,axis=0,keepdims=True)\n",
    "    \n",
    "    return grad_b"
   ]
  },
  {
   "cell_type": "code",
   "execution_count": 131,
   "metadata": {},
   "outputs": [
    {
     "output_type": "stream",
     "name": "stdout",
     "text": [
      "Running local tests...\nlinear_grad_b successfully passed local tests\nRunning remote test...\n"
     ]
    },
    {
     "output_type": "error",
     "ename": "ServerError",
     "evalue": "your timeout expires in 25 sec.",
     "traceback": [
      "\u001b[1;31m---------------------------------------------------------------------------\u001b[0m",
      "\u001b[1;31mServerError\u001b[0m                               Traceback (most recent call last)",
      "\u001b[1;32m<ipython-input-131-9688f24c8a51>\u001b[0m in \u001b[0;36m<module>\u001b[1;34m\u001b[0m\n\u001b[1;32m----> 1\u001b[1;33m \u001b[0mam\u001b[0m\u001b[1;33m.\u001b[0m\u001b[0mtest_student_function\u001b[0m\u001b[1;33m(\u001b[0m\u001b[0musername\u001b[0m\u001b[1;33m,\u001b[0m \u001b[0mlinear_grad_b\u001b[0m\u001b[1;33m,\u001b[0m \u001b[1;33m[\u001b[0m\u001b[1;34m'x_input'\u001b[0m\u001b[1;33m,\u001b[0m \u001b[1;34m'grad_output'\u001b[0m\u001b[1;33m,\u001b[0m \u001b[1;34m'W'\u001b[0m\u001b[1;33m,\u001b[0m \u001b[1;34m'b'\u001b[0m\u001b[1;33m]\u001b[0m\u001b[1;33m)\u001b[0m\u001b[1;33m\u001b[0m\u001b[1;33m\u001b[0m\u001b[0m\n\u001b[0m",
      "\u001b[1;32mc:\\Users\\PericlesWorkandStudy\\Documents\\UvA\\Master_DataScience\\AppliedMachineLearningCourse\\Week_2\\automark.py\u001b[0m in \u001b[0;36mtest_student_function\u001b[1;34m(username, function, arg_keys)\u001b[0m\n\u001b[0;32m    155\u001b[0m         \u001b[0msys\u001b[0m\u001b[1;33m.\u001b[0m\u001b[0mstdout\u001b[0m\u001b[1;33m.\u001b[0m\u001b[0mflush\u001b[0m\u001b[1;33m(\u001b[0m\u001b[1;33m)\u001b[0m\u001b[1;33m\u001b[0m\u001b[1;33m\u001b[0m\u001b[0m\n\u001b[0;32m    156\u001b[0m \u001b[1;33m\u001b[0m\u001b[0m\n\u001b[1;32m--> 157\u001b[1;33m         \u001b[1;32mif\u001b[0m \u001b[0m_passed_remote_test\u001b[0m\u001b[1;33m(\u001b[0m\u001b[0musername\u001b[0m\u001b[1;33m,\u001b[0m \u001b[0mfunction\u001b[0m\u001b[1;33m,\u001b[0m \u001b[0marg_keys\u001b[0m\u001b[1;33m)\u001b[0m\u001b[1;33m:\u001b[0m\u001b[1;33m\u001b[0m\u001b[1;33m\u001b[0m\u001b[0m\n\u001b[0m\u001b[0;32m    158\u001b[0m             \u001b[0mprint\u001b[0m\u001b[1;33m(\u001b[0m\u001b[1;34m\"Test was successful. Congratulations!\"\u001b[0m\u001b[1;33m)\u001b[0m\u001b[1;33m\u001b[0m\u001b[1;33m\u001b[0m\u001b[0m\n\u001b[0;32m    159\u001b[0m         \u001b[1;32melse\u001b[0m\u001b[1;33m:\u001b[0m\u001b[1;33m\u001b[0m\u001b[1;33m\u001b[0m\u001b[0m\n",
      "\u001b[1;32mc:\\Users\\PericlesWorkandStudy\\Documents\\UvA\\Master_DataScience\\AppliedMachineLearningCourse\\Week_2\\automark.py\u001b[0m in \u001b[0;36m_passed_remote_test\u001b[1;34m(username, function, arg_keys)\u001b[0m\n\u001b[0;32m    102\u001b[0m \u001b[1;33m\u001b[0m\u001b[0m\n\u001b[0;32m    103\u001b[0m     \u001b[1;32mif\u001b[0m \u001b[1;34m'error'\u001b[0m \u001b[1;32min\u001b[0m \u001b[0mdata\u001b[0m\u001b[1;33m:\u001b[0m\u001b[1;33m\u001b[0m\u001b[1;33m\u001b[0m\u001b[0m\n\u001b[1;32m--> 104\u001b[1;33m         \u001b[1;32mraise\u001b[0m \u001b[0mServerError\u001b[0m\u001b[1;33m(\u001b[0m\u001b[0mdata\u001b[0m\u001b[1;33m[\u001b[0m\u001b[1;34m'error'\u001b[0m\u001b[1;33m]\u001b[0m\u001b[1;33m)\u001b[0m\u001b[1;33m\u001b[0m\u001b[1;33m\u001b[0m\u001b[0m\n\u001b[0m\u001b[0;32m    105\u001b[0m \u001b[1;33m\u001b[0m\u001b[0m\n\u001b[0;32m    106\u001b[0m     \u001b[0margs\u001b[0m \u001b[1;33m=\u001b[0m \u001b[1;33m[\u001b[0m\u001b[1;33m]\u001b[0m\u001b[1;33m\u001b[0m\u001b[1;33m\u001b[0m\u001b[0m\n",
      "\u001b[1;31mServerError\u001b[0m: your timeout expires in 25 sec."
     ]
    }
   ],
   "source": [
    "am.test_student_function(username, linear_grad_b, ['x_input', 'grad_output', 'W', 'b'])"
   ]
  },
  {
   "cell_type": "code",
   "execution_count": 110,
   "metadata": {},
   "outputs": [
    {
     "output_type": "stream",
     "name": "stdout",
     "text": [
      "---------------------------------------------\n| Pericles Cataldi Beirao                   |\n| pericles.cataldi.beirao@student.uva.nl    |\n---------------------------------------------\n| linear_forward           | completed      |\n| linear_grad_W            | completed      |\n| linear_grad_b            | not attempted  |\n| nll_forward              | completed      |\n| nll_grad_input           | completed      |\n| sigmoid_forward          | completed      |\n| sigmoid_grad_input       | completed      |\n| tree_gini_index          | not attempted  |\n| tree_split_data_left     | not attempted  |\n| tree_split_data_right    | not attempted  |\n| tree_to_terminal         | not attempted  |\n---------------------------------------------\n"
     ]
    }
   ],
   "source": [
    "am.get_progress(username)"
   ]
  },
  {
   "cell_type": "markdown",
   "metadata": {},
   "source": [
    "## 1.2 Sigmoid\n",
    "$$\n",
    "f = \\sigma(h) = \\frac{1}{1 + e^{-h}} \n",
    "$$\n",
    "\n",
    "Sigmoid function is applied element-wise. It does not change the dimensionality of the tensor and its implementation is shape-agnostic in general."
   ]
  },
  {
   "cell_type": "code",
   "execution_count": 62,
   "metadata": {},
   "outputs": [],
   "source": [
    "def sigmoid_forward(x_input):\n",
    "    \"\"\"sigmoid nonlinearity\n",
    "    # Arguments\n",
    "        x_input: np.array of size `(n_objects, n_in)`\n",
    "    # Output\n",
    "        the output of relu layer\n",
    "        np.array of size `(n_objects, n_in)`\n",
    "    \"\"\"\n",
    "    output = 1/(1 + np.exp(-x_input)) \n",
    "    return output"
   ]
  },
  {
   "cell_type": "code",
   "execution_count": 63,
   "metadata": {},
   "outputs": [
    {
     "output_type": "stream",
     "name": "stdout",
     "text": [
      "Running local tests...\n",
      "sigmoid_forward successfully passed local tests\n",
      "Running remote test...\n",
      "Test was successful. Congratulations!\n"
     ]
    }
   ],
   "source": [
    "am.test_student_function(username, sigmoid_forward, ['x_input'])"
   ]
  },
  {
   "cell_type": "markdown",
   "metadata": {},
   "source": [
    "Now you need to implement the calculation of the partial derivative of the loss function with respect to the input of sigmoid. \n",
    "\n",
    "$$\n",
    "\\frac{\\partial \\mathcal{L}}{\\partial h} = \n",
    "\\frac{\\partial \\mathcal{L}}{\\partial f}\n",
    "\\frac{\\partial f}{\\partial h} \n",
    "$$\n",
    "\n",
    "Tensor $\\frac{\\partial \\mathcal{L}}{\\partial f}$ comes from the loss function. Let's calculate $\\frac{\\partial f}{\\partial h}$\n",
    "\n",
    "$$\n",
    "\\frac{\\partial f}{\\partial h} = \n",
    "\\frac{\\partial \\sigma(h)}{\\partial h} =\n",
    "\\frac{\\partial}{\\partial h} \\Big(\\frac{1}{1 + e^{-h}}\\Big)\n",
    "= \\frac{e^{-h}}{(1 + e^{-h})^2}\n",
    "= \\frac{1}{1 + e^{-h}} \\frac{e^{-h}}{1 + e^{-h}}\n",
    "= f(h) (1 - f(h))\n",
    "$$\n",
    "\n",
    "Therefore, in order to calculate the gradient of the loss with respect to the input of sigmoid function you need \n",
    "to \n",
    "1. calculate $f(h) (1 - f(h))$ \n",
    "2. multiply it element-wise by $\\frac{\\partial \\mathcal{L}}{\\partial f}$"
   ]
  },
  {
   "cell_type": "code",
   "execution_count": 64,
   "metadata": {},
   "outputs": [],
   "source": [
    "def sigmoid_grad_input(x_input, grad_output):\n",
    "    \"\"\"sigmoid nonlinearity gradient. \n",
    "        Calculate the partial derivative of the loss \n",
    "        with respect to the input of the layer\n",
    "    # Arguments\n",
    "        x_input: np.array of size `(n_objects, n_in)`\n",
    "        grad_output: np.array of size `(n_objects, n_in)` \n",
    "            dL / df\n",
    "    # Output\n",
    "        the partial derivative of the loss \n",
    "        with respect to the input of the function\n",
    "        np.array of size `(n_objects, n_in)` \n",
    "        dL / dh\n",
    "    \"\"\"\n",
    "    dfBYdh = (1/(1 + np.exp(-x_input)))*(1- 1/(1 + np.exp(-x_input))) \n",
    "    grad_input = dfBYdh*grad_output\n",
    "    return grad_input"
   ]
  },
  {
   "cell_type": "code",
   "execution_count": 65,
   "metadata": {},
   "outputs": [
    {
     "output_type": "stream",
     "name": "stdout",
     "text": [
      "Running local tests...\n",
      "sigmoid_grad_input successfully passed local tests\n",
      "Running remote test...\n",
      "Test was successful. Congratulations!\n"
     ]
    }
   ],
   "source": [
    "am.test_student_function(username, sigmoid_grad_input, ['x_input', 'grad_output'])"
   ]
  },
  {
   "cell_type": "markdown",
   "metadata": {},
   "source": [
    "## 1.3 Negative Log Likelihood"
   ]
  },
  {
   "cell_type": "markdown",
   "metadata": {},
   "source": [
    "$$\n",
    "\\mathcal{L} \n",
    "= -\\frac{1}{N}\\sum_j \\Big[ Y_j\\log \\dot{Y}_j + (1-Y_j)\\log(1-\\dot{Y}_j)\\Big]\n",
    "$$\n",
    "\n",
    "Here $N$ is the number of objects. $Y_j$ is the real label of an object and $\\dot{Y}_j$ is the predicted one."
   ]
  },
  {
   "cell_type": "code",
   "execution_count": 67,
   "metadata": {},
   "outputs": [],
   "source": [
    "def nll_forward(target_pred, target_true):\n",
    "    \"\"\"Compute the value of NLL\n",
    "        for a given prediction and the ground truth\n",
    "    # Arguments\n",
    "        target_pred: predictions - np.array of size `(n_objects, 1)`\n",
    "        target_true: ground truth - np.array of size `(n_objects, 1)`\n",
    "    # Output\n",
    "        the value of NLL for a given prediction and the ground truth\n",
    "        scalar\n",
    "    \"\"\"\n",
    "    output = -1/len(target_pred)*np.sum(target_true*np.log(target_pred)+(1-target_true)*np.log((1-target_pred)))  \n",
    "    return output"
   ]
  },
  {
   "cell_type": "code",
   "execution_count": 68,
   "metadata": {},
   "outputs": [
    {
     "output_type": "stream",
     "name": "stdout",
     "text": [
      "Running local tests...\n",
      "nll_forward successfully passed local tests\n",
      "Running remote test...\n",
      "Test was successful. Congratulations!\n"
     ]
    }
   ],
   "source": [
    "am.test_student_function(username, nll_forward, ['target_pred', 'target_true'])"
   ]
  },
  {
   "cell_type": "markdown",
   "metadata": {},
   "source": [
    "Now you need to calculate the partial derivative of NLL with with respect to its input.\n",
    "\n",
    "$$\n",
    "\\frac{\\partial \\mathcal{L}}{\\partial \\dot{Y}}\n",
    "=\n",
    "\\begin{pmatrix}\n",
    "\\frac{\\partial \\mathcal{L}}{\\partial \\dot{Y}_0} \\\\\n",
    "\\frac{\\partial \\mathcal{L}}{\\partial \\dot{Y}_1} \\\\\n",
    "\\vdots \\\\\n",
    "\\frac{\\partial \\mathcal{L}}{\\partial \\dot{Y}_N}\n",
    "\\end{pmatrix}\n",
    "$$\n",
    "\n",
    "Let's do it step-by-step\n",
    "\n",
    "\\begin{equation}\n",
    "\\begin{split}\n",
    "\\frac{\\partial \\mathcal{L}}{\\partial \\dot{Y}_0} \n",
    "&= \\frac{\\partial}{\\partial \\dot{Y}_0} \\Big(-\\frac{1}{N}\\sum_j \\Big[ Y_j\\log \\dot{Y}_j + (1-Y_j)\\log(1-\\dot{Y}_j)\\Big]\\Big) \\\\\n",
    "&= -\\frac{1}{N} \\frac{\\partial}{\\partial \\dot{Y}_0} \\Big(Y_0\\log \\dot{Y}_0 + (1-Y_0)\\log(1-\\dot{Y}_0)\\Big) \\\\\n",
    "&= -\\frac{1}{N} \\Big(\\frac{Y_0}{\\dot{Y}_0} - \\frac{1-Y_0}{1-\\dot{Y}_0}\\Big)\n",
    "= \\frac{1}{N} \\frac{\\dot{Y}_0 - Y_0}{\\dot{Y}_0 (1 - \\dot{Y}_0)}\n",
    "\\end{split}\n",
    "\\end{equation}\n",
    "\n",
    "And for the other components it can be done in exactly the same way. So the result is the vector where each component is given by \n",
    "$$\\frac{1}{N} \\frac{\\dot{Y}_j - Y_j}{\\dot{Y}_j (1 - \\dot{Y}_j)}$$\n",
    "\n",
    "Or if we assume all multiplications and divisions to be done element-wise the output can be calculated as\n",
    "$$\n",
    "\\frac{\\partial \\mathcal{L}}{\\partial \\dot{Y}} = \\frac{1}{N} \\frac{\\dot{Y} - Y}{\\dot{Y} (1 - \\dot{Y})}\n",
    "$$"
   ]
  },
  {
   "cell_type": "code",
   "execution_count": 93,
   "metadata": {},
   "outputs": [],
   "source": [
    "def nll_grad_input(target_pred, target_true):\n",
    "    \"\"\"Compute the partial derivative of NLL\n",
    "        with respect to its input\n",
    "    # Arguments\n",
    "        target_pred: predictions - np.array of size `(n_objects, 1)`\n",
    "        target_true: ground truth - np.array of size `(n_objects, 1)`\n",
    "    # Output\n",
    "        the partial derivative \n",
    "        of NLL with respect to its input\n",
    "        np.array of size `(n_objects, 1)`\n",
    "    \"\"\"\n",
    "   \n",
    "    grad_input = 1/len(target_pred)*((target_pred-target_true)/(target_pred*(1-target_pred)))  \n",
    "    return grad_input"
   ]
  },
  {
   "cell_type": "code",
   "execution_count": 96,
   "metadata": {},
   "outputs": [
    {
     "output_type": "stream",
     "name": "stdout",
     "text": [
      "Running local tests...\n",
      "nll_grad_input successfully passed local tests\n",
      "Running remote test...\n",
      "Test was successful. Congratulations!\n"
     ]
    }
   ],
   "source": [
    "am.test_student_function(username, nll_grad_input, ['target_pred', 'target_true'])"
   ]
  },
  {
   "cell_type": "code",
   "execution_count": 159,
   "metadata": {},
   "outputs": [
    {
     "output_type": "stream",
     "name": "stdout",
     "text": [
      "---------------------------------------------\n| Pericles Cataldi Beirao                   |\n| pericles.cataldi.beirao@student.uva.nl    |\n---------------------------------------------\n| linear_forward           | completed      |\n| linear_grad_W            | completed      |\n| linear_grad_b            | completed      |\n| nll_forward              | completed      |\n| nll_grad_input           | completed      |\n| sigmoid_forward          | completed      |\n| sigmoid_grad_input       | completed      |\n| tree_gini_index          | completed      |\n| tree_split_data_left     | not attempted  |\n| tree_split_data_right    | not attempted  |\n| tree_to_terminal         | not attempted  |\n---------------------------------------------\n"
     ]
    }
   ],
   "source": [
    "am.get_progress(username)"
   ]
  },
  {
   "cell_type": "markdown",
   "metadata": {},
   "source": [
    "## 1.4 Model\n",
    "\n",
    "Here we provide a model for your. It consist of the function which you have implmeneted above"
   ]
  },
  {
   "cell_type": "code",
   "execution_count": 98,
   "metadata": {},
   "outputs": [],
   "source": [
    "class LogsticRegressionGD(object):\n",
    "    \n",
    "    def __init__(self, n_in, lr=0.05):\n",
    "        super().__init__()\n",
    "        self.lr = lr\n",
    "        self.b = np.zeros(1, )\n",
    "        self.W = np.random.randn(n_in, 1)\n",
    "        \n",
    "    def forward(self, x):\n",
    "        self.h = linear_forward(x, self.W, self.b)\n",
    "        y = sigmoid_forward(self.h)\n",
    "        return y\n",
    "    \n",
    "    def update_params(self, x, nll_grad):\n",
    "        # compute gradients\n",
    "        grad_h = sigmoid_grad_input(self.h, nll_grad)\n",
    "        grad_W = linear_grad_W(x, grad_h, self.W, self.b)\n",
    "        grad_b = linear_grad_b(x, grad_h, self.W, self.b)\n",
    "        # update params\n",
    "        self.W = self.W - self.lr * grad_W\n",
    "        self.b = self.b - self.lr * grad_b"
   ]
  },
  {
   "cell_type": "markdown",
   "metadata": {},
   "source": [
    "## 1.5 Simple Experiment"
   ]
  },
  {
   "cell_type": "code",
   "execution_count": 99,
   "metadata": {},
   "outputs": [],
   "source": [
    "import matplotlib.pyplot as plt\n",
    "%matplotlib inline"
   ]
  },
  {
   "cell_type": "code",
   "execution_count": 100,
   "metadata": {},
   "outputs": [
    {
     "output_type": "display_data",
     "data": {
      "text/plain": "<Figure size 576x288 with 2 Axes>",
      "image/svg+xml": "<?xml version=\"1.0\" encoding=\"utf-8\" standalone=\"no\"?>\r\n<!DOCTYPE svg PUBLIC \"-//W3C//DTD SVG 1.1//EN\"\r\n  \"http://www.w3.org/Graphics/SVG/1.1/DTD/svg11.dtd\">\r\n<!-- Created with matplotlib (https://matplotlib.org/) -->\r\n<svg height=\"248.518125pt\" version=\"1.1\" viewBox=\"0 0 482.41218 248.518125\" width=\"482.41218pt\" xmlns=\"http://www.w3.org/2000/svg\" xmlns:xlink=\"http://www.w3.org/1999/xlink\">\r\n <metadata>\r\n  <rdf:RDF xmlns:cc=\"http://creativecommons.org/ns#\" xmlns:dc=\"http://purl.org/dc/elements/1.1/\" xmlns:rdf=\"http://www.w3.org/1999/02/22-rdf-syntax-ns#\">\r\n   <cc:Work>\r\n    <dc:type rdf:resource=\"http://purl.org/dc/dcmitype/StillImage\"/>\r\n    <dc:date>2020-11-11T11:35:31.682258</dc:date>\r\n    <dc:format>image/svg+xml</dc:format>\r\n    <dc:creator>\r\n     <cc:Agent>\r\n      <dc:title>Matplotlib v3.3.2, https://matplotlib.org/</dc:title>\r\n     </cc:Agent>\r\n    </dc:creator>\r\n   </cc:Work>\r\n  </rdf:RDF>\r\n </metadata>\r\n <defs>\r\n  <style type=\"text/css\">*{stroke-linecap:butt;stroke-linejoin:round;}</style>\r\n </defs>\r\n <g id=\"figure_1\">\r\n  <g id=\"patch_1\">\r\n   <path d=\"M 0 248.518125 \r\nL 482.41218 248.518125 \r\nL 482.41218 0 \r\nL 0 0 \r\nz\r\n\" style=\"fill:none;\"/>\r\n  </g>\r\n  <g id=\"axes_1\">\r\n   <g id=\"patch_2\">\r\n    <path d=\"M 28.942188 217.361775 \r\nL 231.851278 217.361775 \r\nL 231.851278 14.478225 \r\nL 28.942188 14.478225 \r\nz\r\n\" style=\"fill:#ffffff;\"/>\r\n   </g>\r\n   <g id=\"PathCollection_1\">\r\n    <defs>\r\n     <path d=\"M 0 3 \r\nC 0.795609 3 1.55874 2.683901 2.12132 2.12132 \r\nC 2.683901 1.55874 3 0.795609 3 -0 \r\nC 3 -0.795609 2.683901 -1.55874 2.12132 -2.12132 \r\nC 1.55874 -2.683901 0.795609 -3 0 -3 \r\nC -0.795609 -3 -1.55874 -2.683901 -2.12132 -2.12132 \r\nC -2.683901 -1.55874 -3 -0.795609 -3 0 \r\nC -3 0.795609 -2.683901 1.55874 -2.12132 2.12132 \r\nC -1.55874 2.683901 -0.795609 3 0 3 \r\nz\r\n\" id=\"C0_0_e3d05c8a7d\"/>\r\n    </defs>\r\n    <g clip-path=\"url(#pcd5531e151)\">\r\n     <use style=\"fill:#fde725;\" x=\"130.396733\" xlink:href=\"#C0_0_e3d05c8a7d\" y=\"82.120781\"/>\r\n    </g>\r\n    <g clip-path=\"url(#pcd5531e151)\">\r\n     <use style=\"fill:#fde725;\" x=\"132.541885\" xlink:href=\"#C0_0_e3d05c8a7d\" y=\"82.188877\"/>\r\n    </g>\r\n    <g clip-path=\"url(#pcd5531e151)\">\r\n     <use style=\"fill:#fde725;\" x=\"134.678399\" xlink:href=\"#C0_0_e3d05c8a7d\" y=\"82.392889\"/>\r\n    </g>\r\n    <g clip-path=\"url(#pcd5531e151)\">\r\n     <use style=\"fill:#fde725;\" x=\"136.797672\" xlink:href=\"#C0_0_e3d05c8a7d\" y=\"82.731997\"/>\r\n    </g>\r\n    <g clip-path=\"url(#pcd5531e151)\">\r\n     <use style=\"fill:#fde725;\" x=\"138.89117\" xlink:href=\"#C0_0_e3d05c8a7d\" y=\"83.204834\"/>\r\n    </g>\r\n    <g clip-path=\"url(#pcd5531e151)\">\r\n     <use style=\"fill:#fde725;\" x=\"140.950465\" xlink:href=\"#C0_0_e3d05c8a7d\" y=\"83.809498\"/>\r\n    </g>\r\n    <g clip-path=\"url(#pcd5531e151)\">\r\n     <use style=\"fill:#fde725;\" x=\"142.967264\" xlink:href=\"#C0_0_e3d05c8a7d\" y=\"84.543552\"/>\r\n    </g>\r\n    <g clip-path=\"url(#pcd5531e151)\">\r\n     <use style=\"fill:#fde725;\" x=\"144.933445\" xlink:href=\"#C0_0_e3d05c8a7d\" y=\"85.404042\"/>\r\n    </g>\r\n    <g clip-path=\"url(#pcd5531e151)\">\r\n     <use style=\"fill:#fde725;\" x=\"146.841092\" xlink:href=\"#C0_0_e3d05c8a7d\" y=\"86.387503\"/>\r\n    </g>\r\n    <g clip-path=\"url(#pcd5531e151)\">\r\n     <use style=\"fill:#fde725;\" x=\"148.682524\" xlink:href=\"#C0_0_e3d05c8a7d\" y=\"87.489974\"/>\r\n    </g>\r\n    <g clip-path=\"url(#pcd5531e151)\">\r\n     <use style=\"fill:#fde725;\" x=\"150.450325\" xlink:href=\"#C0_0_e3d05c8a7d\" y=\"88.707016\"/>\r\n    </g>\r\n    <g clip-path=\"url(#pcd5531e151)\">\r\n     <use style=\"fill:#fde725;\" x=\"152.137378\" xlink:href=\"#C0_0_e3d05c8a7d\" y=\"90.033729\"/>\r\n    </g>\r\n    <g clip-path=\"url(#pcd5531e151)\">\r\n     <use style=\"fill:#fde725;\" x=\"153.736888\" xlink:href=\"#C0_0_e3d05c8a7d\" y=\"91.46477\"/>\r\n    </g>\r\n    <g clip-path=\"url(#pcd5531e151)\">\r\n     <use style=\"fill:#fde725;\" x=\"155.242416\" xlink:href=\"#C0_0_e3d05c8a7d\" y=\"92.994377\"/>\r\n    </g>\r\n    <g clip-path=\"url(#pcd5531e151)\">\r\n     <use style=\"fill:#fde725;\" x=\"156.647899\" xlink:href=\"#C0_0_e3d05c8a7d\" y=\"94.616391\"/>\r\n    </g>\r\n    <g clip-path=\"url(#pcd5531e151)\">\r\n     <use style=\"fill:#fde725;\" x=\"157.947679\" xlink:href=\"#C0_0_e3d05c8a7d\" y=\"96.324281\"/>\r\n    </g>\r\n    <g clip-path=\"url(#pcd5531e151)\">\r\n     <use style=\"fill:#fde725;\" x=\"159.13652\" xlink:href=\"#C0_0_e3d05c8a7d\" y=\"98.111169\"/>\r\n    </g>\r\n    <g clip-path=\"url(#pcd5531e151)\">\r\n     <use style=\"fill:#fde725;\" x=\"160.209636\" xlink:href=\"#C0_0_e3d05c8a7d\" y=\"99.969861\"/>\r\n    </g>\r\n    <g clip-path=\"url(#pcd5531e151)\">\r\n     <use style=\"fill:#fde725;\" x=\"161.162706\" xlink:href=\"#C0_0_e3d05c8a7d\" y=\"101.892871\"/>\r\n    </g>\r\n    <g clip-path=\"url(#pcd5531e151)\">\r\n     <use style=\"fill:#fde725;\" x=\"161.991892\" xlink:href=\"#C0_0_e3d05c8a7d\" y=\"103.872458\"/>\r\n    </g>\r\n    <g clip-path=\"url(#pcd5531e151)\">\r\n     <use style=\"fill:#fde725;\" x=\"162.693856\" xlink:href=\"#C0_0_e3d05c8a7d\" y=\"105.900649\"/>\r\n    </g>\r\n    <g clip-path=\"url(#pcd5531e151)\">\r\n     <use style=\"fill:#fde725;\" x=\"163.265771\" xlink:href=\"#C0_0_e3d05c8a7d\" y=\"107.969278\"/>\r\n    </g>\r\n    <g clip-path=\"url(#pcd5531e151)\">\r\n     <use style=\"fill:#fde725;\" x=\"163.705333\" xlink:href=\"#C0_0_e3d05c8a7d\" y=\"110.070015\"/>\r\n    </g>\r\n    <g clip-path=\"url(#pcd5531e151)\">\r\n     <use style=\"fill:#fde725;\" x=\"164.010774\" xlink:href=\"#C0_0_e3d05c8a7d\" y=\"112.194402\"/>\r\n    </g>\r\n    <g clip-path=\"url(#pcd5531e151)\">\r\n     <use style=\"fill:#fde725;\" x=\"164.180863\" xlink:href=\"#C0_0_e3d05c8a7d\" y=\"114.333884\"/>\r\n    </g>\r\n    <g clip-path=\"url(#pcd5531e151)\">\r\n     <use style=\"fill:#fde725;\" x=\"164.214915\" xlink:href=\"#C0_0_e3d05c8a7d\" y=\"116.479846\"/>\r\n    </g>\r\n    <g clip-path=\"url(#pcd5531e151)\">\r\n     <use style=\"fill:#fde725;\" x=\"164.112793\" xlink:href=\"#C0_0_e3d05c8a7d\" y=\"118.623647\"/>\r\n    </g>\r\n    <g clip-path=\"url(#pcd5531e151)\">\r\n     <use style=\"fill:#fde725;\" x=\"163.874908\" xlink:href=\"#C0_0_e3d05c8a7d\" y=\"120.756655\"/>\r\n    </g>\r\n    <g clip-path=\"url(#pcd5531e151)\">\r\n     <use style=\"fill:#fde725;\" x=\"163.502219\" xlink:href=\"#C0_0_e3d05c8a7d\" y=\"122.870281\"/>\r\n    </g>\r\n    <g clip-path=\"url(#pcd5531e151)\">\r\n     <use style=\"fill:#fde725;\" x=\"162.996226\" xlink:href=\"#C0_0_e3d05c8a7d\" y=\"124.956015\"/>\r\n    </g>\r\n    <g clip-path=\"url(#pcd5531e151)\">\r\n     <use style=\"fill:#fde725;\" x=\"162.358966\" xlink:href=\"#C0_0_e3d05c8a7d\" y=\"127.005457\"/>\r\n    </g>\r\n    <g clip-path=\"url(#pcd5531e151)\">\r\n     <use style=\"fill:#fde725;\" x=\"161.593005\" xlink:href=\"#C0_0_e3d05c8a7d\" y=\"129.010355\"/>\r\n    </g>\r\n    <g clip-path=\"url(#pcd5531e151)\">\r\n     <use style=\"fill:#fde725;\" x=\"160.701428\" xlink:href=\"#C0_0_e3d05c8a7d\" y=\"130.962636\"/>\r\n    </g>\r\n    <g clip-path=\"url(#pcd5531e151)\">\r\n     <use style=\"fill:#fde725;\" x=\"159.687824\" xlink:href=\"#C0_0_e3d05c8a7d\" y=\"132.85444\"/>\r\n    </g>\r\n    <g clip-path=\"url(#pcd5531e151)\">\r\n     <use style=\"fill:#fde725;\" x=\"158.556276\" xlink:href=\"#C0_0_e3d05c8a7d\" y=\"134.678148\"/>\r\n    </g>\r\n    <g clip-path=\"url(#pcd5531e151)\">\r\n     <use style=\"fill:#fde725;\" x=\"157.311339\" xlink:href=\"#C0_0_e3d05c8a7d\" y=\"136.426417\"/>\r\n    </g>\r\n    <g clip-path=\"url(#pcd5531e151)\">\r\n     <use style=\"fill:#fde725;\" x=\"155.958027\" xlink:href=\"#C0_0_e3d05c8a7d\" y=\"138.092208\"/>\r\n    </g>\r\n    <g clip-path=\"url(#pcd5531e151)\">\r\n     <use style=\"fill:#fde725;\" x=\"154.501788\" xlink:href=\"#C0_0_e3d05c8a7d\" y=\"139.668812\"/>\r\n    </g>\r\n    <g clip-path=\"url(#pcd5531e151)\">\r\n     <use style=\"fill:#fde725;\" x=\"152.948487\" xlink:href=\"#C0_0_e3d05c8a7d\" y=\"141.149882\"/>\r\n    </g>\r\n    <g clip-path=\"url(#pcd5531e151)\">\r\n     <use style=\"fill:#fde725;\" x=\"151.304378\" xlink:href=\"#C0_0_e3d05c8a7d\" y=\"142.529453\"/>\r\n    </g>\r\n    <g clip-path=\"url(#pcd5531e151)\">\r\n     <use style=\"fill:#fde725;\" x=\"149.576081\" xlink:href=\"#C0_0_e3d05c8a7d\" y=\"143.801971\"/>\r\n    </g>\r\n    <g clip-path=\"url(#pcd5531e151)\">\r\n     <use style=\"fill:#fde725;\" x=\"147.770555\" xlink:href=\"#C0_0_e3d05c8a7d\" y=\"144.962312\"/>\r\n    </g>\r\n    <g clip-path=\"url(#pcd5531e151)\">\r\n     <use style=\"fill:#fde725;\" x=\"145.895072\" xlink:href=\"#C0_0_e3d05c8a7d\" y=\"146.005803\"/>\r\n    </g>\r\n    <g clip-path=\"url(#pcd5531e151)\">\r\n     <use style=\"fill:#fde725;\" x=\"143.957182\" xlink:href=\"#C0_0_e3d05c8a7d\" y=\"146.928243\"/>\r\n    </g>\r\n    <g clip-path=\"url(#pcd5531e151)\">\r\n     <use style=\"fill:#fde725;\" x=\"141.964688\" xlink:href=\"#C0_0_e3d05c8a7d\" y=\"147.725917\"/>\r\n    </g>\r\n    <g clip-path=\"url(#pcd5531e151)\">\r\n     <use style=\"fill:#fde725;\" x=\"139.925615\" xlink:href=\"#C0_0_e3d05c8a7d\" y=\"148.395613\"/>\r\n    </g>\r\n    <g clip-path=\"url(#pcd5531e151)\">\r\n     <use style=\"fill:#fde725;\" x=\"137.848173\" xlink:href=\"#C0_0_e3d05c8a7d\" y=\"148.934635\"/>\r\n    </g>\r\n    <g clip-path=\"url(#pcd5531e151)\">\r\n     <use style=\"fill:#fde725;\" x=\"135.740726\" xlink:href=\"#C0_0_e3d05c8a7d\" y=\"149.340812\"/>\r\n    </g>\r\n    <g clip-path=\"url(#pcd5531e151)\">\r\n     <use style=\"fill:#fde725;\" x=\"133.61176\" xlink:href=\"#C0_0_e3d05c8a7d\" y=\"149.612509\"/>\r\n    </g>\r\n    <g clip-path=\"url(#pcd5531e151)\">\r\n     <use style=\"fill:#fde725;\" x=\"131.469849\" xlink:href=\"#C0_0_e3d05c8a7d\" y=\"149.748631\"/>\r\n    </g>\r\n    <g clip-path=\"url(#pcd5531e151)\">\r\n     <use style=\"fill:#fde725;\" x=\"129.323617\" xlink:href=\"#C0_0_e3d05c8a7d\" y=\"149.748631\"/>\r\n    </g>\r\n    <g clip-path=\"url(#pcd5531e151)\">\r\n     <use style=\"fill:#fde725;\" x=\"127.181706\" xlink:href=\"#C0_0_e3d05c8a7d\" y=\"149.612509\"/>\r\n    </g>\r\n    <g clip-path=\"url(#pcd5531e151)\">\r\n     <use style=\"fill:#fde725;\" x=\"125.05274\" xlink:href=\"#C0_0_e3d05c8a7d\" y=\"149.340812\"/>\r\n    </g>\r\n    <g clip-path=\"url(#pcd5531e151)\">\r\n     <use style=\"fill:#fde725;\" x=\"122.945293\" xlink:href=\"#C0_0_e3d05c8a7d\" y=\"148.934635\"/>\r\n    </g>\r\n    <g clip-path=\"url(#pcd5531e151)\">\r\n     <use style=\"fill:#fde725;\" x=\"120.867851\" xlink:href=\"#C0_0_e3d05c8a7d\" y=\"148.395613\"/>\r\n    </g>\r\n    <g clip-path=\"url(#pcd5531e151)\">\r\n     <use style=\"fill:#fde725;\" x=\"118.828777\" xlink:href=\"#C0_0_e3d05c8a7d\" y=\"147.725917\"/>\r\n    </g>\r\n    <g clip-path=\"url(#pcd5531e151)\">\r\n     <use style=\"fill:#fde725;\" x=\"116.836284\" xlink:href=\"#C0_0_e3d05c8a7d\" y=\"146.928243\"/>\r\n    </g>\r\n    <g clip-path=\"url(#pcd5531e151)\">\r\n     <use style=\"fill:#fde725;\" x=\"114.898394\" xlink:href=\"#C0_0_e3d05c8a7d\" y=\"146.005803\"/>\r\n    </g>\r\n    <g clip-path=\"url(#pcd5531e151)\">\r\n     <use style=\"fill:#fde725;\" x=\"113.022911\" xlink:href=\"#C0_0_e3d05c8a7d\" y=\"144.962312\"/>\r\n    </g>\r\n    <g clip-path=\"url(#pcd5531e151)\">\r\n     <use style=\"fill:#fde725;\" x=\"111.217385\" xlink:href=\"#C0_0_e3d05c8a7d\" y=\"143.801971\"/>\r\n    </g>\r\n    <g clip-path=\"url(#pcd5531e151)\">\r\n     <use style=\"fill:#fde725;\" x=\"109.489088\" xlink:href=\"#C0_0_e3d05c8a7d\" y=\"142.529453\"/>\r\n    </g>\r\n    <g clip-path=\"url(#pcd5531e151)\">\r\n     <use style=\"fill:#fde725;\" x=\"107.844979\" xlink:href=\"#C0_0_e3d05c8a7d\" y=\"141.149882\"/>\r\n    </g>\r\n    <g clip-path=\"url(#pcd5531e151)\">\r\n     <use style=\"fill:#fde725;\" x=\"106.291678\" xlink:href=\"#C0_0_e3d05c8a7d\" y=\"139.668812\"/>\r\n    </g>\r\n    <g clip-path=\"url(#pcd5531e151)\">\r\n     <use style=\"fill:#fde725;\" x=\"104.835439\" xlink:href=\"#C0_0_e3d05c8a7d\" y=\"138.092208\"/>\r\n    </g>\r\n    <g clip-path=\"url(#pcd5531e151)\">\r\n     <use style=\"fill:#fde725;\" x=\"103.482127\" xlink:href=\"#C0_0_e3d05c8a7d\" y=\"136.426417\"/>\r\n    </g>\r\n    <g clip-path=\"url(#pcd5531e151)\">\r\n     <use style=\"fill:#fde725;\" x=\"102.23719\" xlink:href=\"#C0_0_e3d05c8a7d\" y=\"134.678148\"/>\r\n    </g>\r\n    <g clip-path=\"url(#pcd5531e151)\">\r\n     <use style=\"fill:#fde725;\" x=\"101.105641\" xlink:href=\"#C0_0_e3d05c8a7d\" y=\"132.85444\"/>\r\n    </g>\r\n    <g clip-path=\"url(#pcd5531e151)\">\r\n     <use style=\"fill:#fde725;\" x=\"100.092038\" xlink:href=\"#C0_0_e3d05c8a7d\" y=\"130.962636\"/>\r\n    </g>\r\n    <g clip-path=\"url(#pcd5531e151)\">\r\n     <use style=\"fill:#fde725;\" x=\"99.200461\" xlink:href=\"#C0_0_e3d05c8a7d\" y=\"129.010355\"/>\r\n    </g>\r\n    <g clip-path=\"url(#pcd5531e151)\">\r\n     <use style=\"fill:#fde725;\" x=\"98.4345\" xlink:href=\"#C0_0_e3d05c8a7d\" y=\"127.005457\"/>\r\n    </g>\r\n    <g clip-path=\"url(#pcd5531e151)\">\r\n     <use style=\"fill:#fde725;\" x=\"97.79724\" xlink:href=\"#C0_0_e3d05c8a7d\" y=\"124.956015\"/>\r\n    </g>\r\n    <g clip-path=\"url(#pcd5531e151)\">\r\n     <use style=\"fill:#fde725;\" x=\"97.291247\" xlink:href=\"#C0_0_e3d05c8a7d\" y=\"122.870281\"/>\r\n    </g>\r\n    <g clip-path=\"url(#pcd5531e151)\">\r\n     <use style=\"fill:#fde725;\" x=\"96.918557\" xlink:href=\"#C0_0_e3d05c8a7d\" y=\"120.756655\"/>\r\n    </g>\r\n    <g clip-path=\"url(#pcd5531e151)\">\r\n     <use style=\"fill:#fde725;\" x=\"96.680673\" xlink:href=\"#C0_0_e3d05c8a7d\" y=\"118.623647\"/>\r\n    </g>\r\n    <g clip-path=\"url(#pcd5531e151)\">\r\n     <use style=\"fill:#fde725;\" x=\"96.578551\" xlink:href=\"#C0_0_e3d05c8a7d\" y=\"116.479846\"/>\r\n    </g>\r\n    <g clip-path=\"url(#pcd5531e151)\">\r\n     <use style=\"fill:#fde725;\" x=\"96.612603\" xlink:href=\"#C0_0_e3d05c8a7d\" y=\"114.333884\"/>\r\n    </g>\r\n    <g clip-path=\"url(#pcd5531e151)\">\r\n     <use style=\"fill:#fde725;\" x=\"96.782692\" xlink:href=\"#C0_0_e3d05c8a7d\" y=\"112.194402\"/>\r\n    </g>\r\n    <g clip-path=\"url(#pcd5531e151)\">\r\n     <use style=\"fill:#fde725;\" x=\"97.088133\" xlink:href=\"#C0_0_e3d05c8a7d\" y=\"110.070015\"/>\r\n    </g>\r\n    <g clip-path=\"url(#pcd5531e151)\">\r\n     <use style=\"fill:#fde725;\" x=\"97.527695\" xlink:href=\"#C0_0_e3d05c8a7d\" y=\"107.969278\"/>\r\n    </g>\r\n    <g clip-path=\"url(#pcd5531e151)\">\r\n     <use style=\"fill:#fde725;\" x=\"98.09961\" xlink:href=\"#C0_0_e3d05c8a7d\" y=\"105.900649\"/>\r\n    </g>\r\n    <g clip-path=\"url(#pcd5531e151)\">\r\n     <use style=\"fill:#fde725;\" x=\"98.801574\" xlink:href=\"#C0_0_e3d05c8a7d\" y=\"103.872458\"/>\r\n    </g>\r\n    <g clip-path=\"url(#pcd5531e151)\">\r\n     <use style=\"fill:#fde725;\" x=\"99.63076\" xlink:href=\"#C0_0_e3d05c8a7d\" y=\"101.892871\"/>\r\n    </g>\r\n    <g clip-path=\"url(#pcd5531e151)\">\r\n     <use style=\"fill:#fde725;\" x=\"100.58383\" xlink:href=\"#C0_0_e3d05c8a7d\" y=\"99.969861\"/>\r\n    </g>\r\n    <g clip-path=\"url(#pcd5531e151)\">\r\n     <use style=\"fill:#fde725;\" x=\"101.656946\" xlink:href=\"#C0_0_e3d05c8a7d\" y=\"98.111169\"/>\r\n    </g>\r\n    <g clip-path=\"url(#pcd5531e151)\">\r\n     <use style=\"fill:#fde725;\" x=\"102.845787\" xlink:href=\"#C0_0_e3d05c8a7d\" y=\"96.324281\"/>\r\n    </g>\r\n    <g clip-path=\"url(#pcd5531e151)\">\r\n     <use style=\"fill:#fde725;\" x=\"104.145566\" xlink:href=\"#C0_0_e3d05c8a7d\" y=\"94.616391\"/>\r\n    </g>\r\n    <g clip-path=\"url(#pcd5531e151)\">\r\n     <use style=\"fill:#fde725;\" x=\"105.55105\" xlink:href=\"#C0_0_e3d05c8a7d\" y=\"92.994377\"/>\r\n    </g>\r\n    <g clip-path=\"url(#pcd5531e151)\">\r\n     <use style=\"fill:#fde725;\" x=\"107.056578\" xlink:href=\"#C0_0_e3d05c8a7d\" y=\"91.46477\"/>\r\n    </g>\r\n    <g clip-path=\"url(#pcd5531e151)\">\r\n     <use style=\"fill:#fde725;\" x=\"108.656088\" xlink:href=\"#C0_0_e3d05c8a7d\" y=\"90.033729\"/>\r\n    </g>\r\n    <g clip-path=\"url(#pcd5531e151)\">\r\n     <use style=\"fill:#fde725;\" x=\"110.343141\" xlink:href=\"#C0_0_e3d05c8a7d\" y=\"88.707016\"/>\r\n    </g>\r\n    <g clip-path=\"url(#pcd5531e151)\">\r\n     <use style=\"fill:#fde725;\" x=\"112.110942\" xlink:href=\"#C0_0_e3d05c8a7d\" y=\"87.489974\"/>\r\n    </g>\r\n    <g clip-path=\"url(#pcd5531e151)\">\r\n     <use style=\"fill:#fde725;\" x=\"113.952373\" xlink:href=\"#C0_0_e3d05c8a7d\" y=\"86.387503\"/>\r\n    </g>\r\n    <g clip-path=\"url(#pcd5531e151)\">\r\n     <use style=\"fill:#fde725;\" x=\"115.860021\" xlink:href=\"#C0_0_e3d05c8a7d\" y=\"85.404042\"/>\r\n    </g>\r\n    <g clip-path=\"url(#pcd5531e151)\">\r\n     <use style=\"fill:#fde725;\" x=\"117.826202\" xlink:href=\"#C0_0_e3d05c8a7d\" y=\"84.543552\"/>\r\n    </g>\r\n    <g clip-path=\"url(#pcd5531e151)\">\r\n     <use style=\"fill:#fde725;\" x=\"119.843001\" xlink:href=\"#C0_0_e3d05c8a7d\" y=\"83.809498\"/>\r\n    </g>\r\n    <g clip-path=\"url(#pcd5531e151)\">\r\n     <use style=\"fill:#fde725;\" x=\"121.902295\" xlink:href=\"#C0_0_e3d05c8a7d\" y=\"83.204834\"/>\r\n    </g>\r\n    <g clip-path=\"url(#pcd5531e151)\">\r\n     <use style=\"fill:#fde725;\" x=\"123.995794\" xlink:href=\"#C0_0_e3d05c8a7d\" y=\"82.731997\"/>\r\n    </g>\r\n    <g clip-path=\"url(#pcd5531e151)\">\r\n     <use style=\"fill:#fde725;\" x=\"126.115067\" xlink:href=\"#C0_0_e3d05c8a7d\" y=\"82.392889\"/>\r\n    </g>\r\n    <g clip-path=\"url(#pcd5531e151)\">\r\n     <use style=\"fill:#fde725;\" x=\"128.251581\" xlink:href=\"#C0_0_e3d05c8a7d\" y=\"82.188877\"/>\r\n    </g>\r\n    <g clip-path=\"url(#pcd5531e151)\">\r\n     <use style=\"fill:#fde725;\" x=\"130.396733\" xlink:href=\"#C0_0_e3d05c8a7d\" y=\"82.120781\"/>\r\n    </g>\r\n    <g clip-path=\"url(#pcd5531e151)\">\r\n     <use style=\"fill:#440154;\" x=\"130.396733\" xlink:href=\"#C0_0_e3d05c8a7d\" y=\"23.700204\"/>\r\n    </g>\r\n    <g clip-path=\"url(#pcd5531e151)\">\r\n     <use style=\"fill:#440154;\" x=\"136.247147\" xlink:href=\"#C0_0_e3d05c8a7d\" y=\"23.885919\"/>\r\n    </g>\r\n    <g clip-path=\"url(#pcd5531e151)\">\r\n     <use style=\"fill:#440154;\" x=\"142.074003\" xlink:href=\"#C0_0_e3d05c8a7d\" y=\"24.442317\"/>\r\n    </g>\r\n    <g clip-path=\"url(#pcd5531e151)\">\r\n     <use style=\"fill:#440154;\" x=\"147.853838\" xlink:href=\"#C0_0_e3d05c8a7d\" y=\"25.367156\"/>\r\n    </g>\r\n    <g clip-path=\"url(#pcd5531e151)\">\r\n     <use style=\"fill:#440154;\" x=\"153.563381\" xlink:href=\"#C0_0_e3d05c8a7d\" y=\"26.656713\"/>\r\n    </g>\r\n    <g clip-path=\"url(#pcd5531e151)\">\r\n     <use style=\"fill:#440154;\" x=\"159.179639\" xlink:href=\"#C0_0_e3d05c8a7d\" y=\"28.305795\"/>\r\n    </g>\r\n    <g clip-path=\"url(#pcd5531e151)\">\r\n     <use style=\"fill:#440154;\" x=\"164.679999\" xlink:href=\"#C0_0_e3d05c8a7d\" y=\"30.307762\"/>\r\n    </g>\r\n    <g clip-path=\"url(#pcd5531e151)\">\r\n     <use style=\"fill:#440154;\" x=\"170.042312\" xlink:href=\"#C0_0_e3d05c8a7d\" y=\"32.654553\"/>\r\n    </g>\r\n    <g clip-path=\"url(#pcd5531e151)\">\r\n     <use style=\"fill:#440154;\" x=\"175.244986\" xlink:href=\"#C0_0_e3d05c8a7d\" y=\"35.336718\"/>\r\n    </g>\r\n    <g clip-path=\"url(#pcd5531e151)\">\r\n     <use style=\"fill:#440154;\" x=\"180.267072\" xlink:href=\"#C0_0_e3d05c8a7d\" y=\"38.343457\"/>\r\n    </g>\r\n    <g clip-path=\"url(#pcd5531e151)\">\r\n     <use style=\"fill:#440154;\" x=\"185.088348\" xlink:href=\"#C0_0_e3d05c8a7d\" y=\"41.662663\"/>\r\n    </g>\r\n    <g clip-path=\"url(#pcd5531e151)\">\r\n     <use style=\"fill:#440154;\" x=\"189.689401\" xlink:href=\"#C0_0_e3d05c8a7d\" y=\"45.280971\"/>\r\n    </g>\r\n    <g clip-path=\"url(#pcd5531e151)\">\r\n     <use style=\"fill:#440154;\" x=\"194.051702\" xlink:href=\"#C0_0_e3d05c8a7d\" y=\"49.18381\"/>\r\n    </g>\r\n    <g clip-path=\"url(#pcd5531e151)\">\r\n     <use style=\"fill:#440154;\" x=\"198.157688\" xlink:href=\"#C0_0_e3d05c8a7d\" y=\"53.355466\"/>\r\n    </g>\r\n    <g clip-path=\"url(#pcd5531e151)\">\r\n     <use style=\"fill:#440154;\" x=\"201.990824\" xlink:href=\"#C0_0_e3d05c8a7d\" y=\"57.779141\"/>\r\n    </g>\r\n    <g clip-path=\"url(#pcd5531e151)\">\r\n     <use style=\"fill:#440154;\" x=\"205.535675\" xlink:href=\"#C0_0_e3d05c8a7d\" y=\"62.437022\"/>\r\n    </g>\r\n    <g clip-path=\"url(#pcd5531e151)\">\r\n     <use style=\"fill:#440154;\" x=\"208.777969\" xlink:href=\"#C0_0_e3d05c8a7d\" y=\"67.310353\"/>\r\n    </g>\r\n    <g clip-path=\"url(#pcd5531e151)\">\r\n     <use style=\"fill:#440154;\" x=\"211.704649\" xlink:href=\"#C0_0_e3d05c8a7d\" y=\"72.379512\"/>\r\n    </g>\r\n    <g clip-path=\"url(#pcd5531e151)\">\r\n     <use style=\"fill:#440154;\" x=\"214.303931\" xlink:href=\"#C0_0_e3d05c8a7d\" y=\"77.624087\"/>\r\n    </g>\r\n    <g clip-path=\"url(#pcd5531e151)\">\r\n     <use style=\"fill:#440154;\" x=\"216.565349\" xlink:href=\"#C0_0_e3d05c8a7d\" y=\"83.022959\"/>\r\n    </g>\r\n    <g clip-path=\"url(#pcd5531e151)\">\r\n     <use style=\"fill:#440154;\" x=\"218.479796\" xlink:href=\"#C0_0_e3d05c8a7d\" y=\"88.554389\"/>\r\n    </g>\r\n    <g clip-path=\"url(#pcd5531e151)\">\r\n     <use style=\"fill:#440154;\" x=\"220.039563\" xlink:href=\"#C0_0_e3d05c8a7d\" y=\"94.196105\"/>\r\n    </g>\r\n    <g clip-path=\"url(#pcd5531e151)\">\r\n     <use style=\"fill:#440154;\" x=\"221.23837\" xlink:href=\"#C0_0_e3d05c8a7d\" y=\"99.925389\"/>\r\n    </g>\r\n    <g clip-path=\"url(#pcd5531e151)\">\r\n     <use style=\"fill:#440154;\" x=\"222.07139\" xlink:href=\"#C0_0_e3d05c8a7d\" y=\"105.71917\"/>\r\n    </g>\r\n    <g clip-path=\"url(#pcd5531e151)\">\r\n     <use style=\"fill:#440154;\" x=\"222.535269\" xlink:href=\"#C0_0_e3d05c8a7d\" y=\"111.554121\"/>\r\n    </g>\r\n    <g clip-path=\"url(#pcd5531e151)\">\r\n     <use style=\"fill:#440154;\" x=\"222.628138\" xlink:href=\"#C0_0_e3d05c8a7d\" y=\"117.406745\"/>\r\n    </g>\r\n    <g clip-path=\"url(#pcd5531e151)\">\r\n     <use style=\"fill:#440154;\" x=\"222.349624\" xlink:href=\"#C0_0_e3d05c8a7d\" y=\"123.253475\"/>\r\n    </g>\r\n    <g clip-path=\"url(#pcd5531e151)\">\r\n     <use style=\"fill:#440154;\" x=\"221.700848\" xlink:href=\"#C0_0_e3d05c8a7d\" y=\"129.07077\"/>\r\n    </g>\r\n    <g clip-path=\"url(#pcd5531e151)\">\r\n     <use style=\"fill:#440154;\" x=\"220.684422\" xlink:href=\"#C0_0_e3d05c8a7d\" y=\"134.835205\"/>\r\n    </g>\r\n    <g clip-path=\"url(#pcd5531e151)\">\r\n     <use style=\"fill:#440154;\" x=\"219.30444\" xlink:href=\"#C0_0_e3d05c8a7d\" y=\"140.523568\"/>\r\n    </g>\r\n    <g clip-path=\"url(#pcd5531e151)\">\r\n     <use style=\"fill:#440154;\" x=\"217.566458\" xlink:href=\"#C0_0_e3d05c8a7d\" y=\"146.112956\"/>\r\n    </g>\r\n    <g clip-path=\"url(#pcd5531e151)\">\r\n     <use style=\"fill:#440154;\" x=\"215.477475\" xlink:href=\"#C0_0_e3d05c8a7d\" y=\"151.58086\"/>\r\n    </g>\r\n    <g clip-path=\"url(#pcd5531e151)\">\r\n     <use style=\"fill:#440154;\" x=\"213.045901\" xlink:href=\"#C0_0_e3d05c8a7d\" y=\"156.905264\"/>\r\n    </g>\r\n    <g clip-path=\"url(#pcd5531e151)\">\r\n     <use style=\"fill:#440154;\" x=\"210.281528\" xlink:href=\"#C0_0_e3d05c8a7d\" y=\"162.064728\"/>\r\n    </g>\r\n    <g clip-path=\"url(#pcd5531e151)\">\r\n     <use style=\"fill:#440154;\" x=\"207.195487\" xlink:href=\"#C0_0_e3d05c8a7d\" y=\"167.038477\"/>\r\n    </g>\r\n    <g clip-path=\"url(#pcd5531e151)\">\r\n     <use style=\"fill:#440154;\" x=\"203.800205\" xlink:href=\"#C0_0_e3d05c8a7d\" y=\"171.806484\"/>\r\n    </g>\r\n    <g clip-path=\"url(#pcd5531e151)\">\r\n     <use style=\"fill:#440154;\" x=\"200.109353\" xlink:href=\"#C0_0_e3d05c8a7d\" y=\"176.349549\"/>\r\n    </g>\r\n    <g clip-path=\"url(#pcd5531e151)\">\r\n     <use style=\"fill:#440154;\" x=\"196.137793\" xlink:href=\"#C0_0_e3d05c8a7d\" y=\"180.649379\"/>\r\n    </g>\r\n    <g clip-path=\"url(#pcd5531e151)\">\r\n     <use style=\"fill:#440154;\" x=\"191.901516\" xlink:href=\"#C0_0_e3d05c8a7d\" y=\"184.688661\"/>\r\n    </g>\r\n    <g clip-path=\"url(#pcd5531e151)\">\r\n     <use style=\"fill:#440154;\" x=\"187.417582\" xlink:href=\"#C0_0_e3d05c8a7d\" y=\"188.451128\"/>\r\n    </g>\r\n    <g clip-path=\"url(#pcd5531e151)\">\r\n     <use style=\"fill:#440154;\" x=\"182.704045\" xlink:href=\"#C0_0_e3d05c8a7d\" y=\"191.921632\"/>\r\n    </g>\r\n    <g clip-path=\"url(#pcd5531e151)\">\r\n     <use style=\"fill:#440154;\" x=\"177.779885\" xlink:href=\"#C0_0_e3d05c8a7d\" y=\"195.086198\"/>\r\n    </g>\r\n    <g clip-path=\"url(#pcd5531e151)\">\r\n     <use style=\"fill:#440154;\" x=\"172.664929\" xlink:href=\"#C0_0_e3d05c8a7d\" y=\"197.932083\"/>\r\n    </g>\r\n    <g clip-path=\"url(#pcd5531e151)\">\r\n     <use style=\"fill:#440154;\" x=\"167.379775\" xlink:href=\"#C0_0_e3d05c8a7d\" y=\"200.447827\"/>\r\n    </g>\r\n    <g clip-path=\"url(#pcd5531e151)\">\r\n     <use style=\"fill:#440154;\" x=\"161.945702\" xlink:href=\"#C0_0_e3d05c8a7d\" y=\"202.623301\"/>\r\n    </g>\r\n    <g clip-path=\"url(#pcd5531e151)\">\r\n     <use style=\"fill:#440154;\" x=\"156.384594\" xlink:href=\"#C0_0_e3d05c8a7d\" y=\"204.449746\"/>\r\n    </g>\r\n    <g clip-path=\"url(#pcd5531e151)\">\r\n     <use style=\"fill:#440154;\" x=\"150.718841\" xlink:href=\"#C0_0_e3d05c8a7d\" y=\"205.919805\"/>\r\n    </g>\r\n    <g clip-path=\"url(#pcd5531e151)\">\r\n     <use style=\"fill:#440154;\" x=\"144.971258\" xlink:href=\"#C0_0_e3d05c8a7d\" y=\"207.027561\"/>\r\n    </g>\r\n    <g clip-path=\"url(#pcd5531e151)\">\r\n     <use style=\"fill:#440154;\" x=\"139.164989\" xlink:href=\"#C0_0_e3d05c8a7d\" y=\"207.768553\"/>\r\n    </g>\r\n    <g clip-path=\"url(#pcd5531e151)\">\r\n     <use style=\"fill:#440154;\" x=\"133.323413\" xlink:href=\"#C0_0_e3d05c8a7d\" y=\"208.139796\"/>\r\n    </g>\r\n    <g clip-path=\"url(#pcd5531e151)\">\r\n     <use style=\"fill:#440154;\" x=\"127.470053\" xlink:href=\"#C0_0_e3d05c8a7d\" y=\"208.139796\"/>\r\n    </g>\r\n    <g clip-path=\"url(#pcd5531e151)\">\r\n     <use style=\"fill:#440154;\" x=\"121.628477\" xlink:href=\"#C0_0_e3d05c8a7d\" y=\"207.768553\"/>\r\n    </g>\r\n    <g clip-path=\"url(#pcd5531e151)\">\r\n     <use style=\"fill:#440154;\" x=\"115.822208\" xlink:href=\"#C0_0_e3d05c8a7d\" y=\"207.027561\"/>\r\n    </g>\r\n    <g clip-path=\"url(#pcd5531e151)\">\r\n     <use style=\"fill:#440154;\" x=\"110.074625\" xlink:href=\"#C0_0_e3d05c8a7d\" y=\"205.919805\"/>\r\n    </g>\r\n    <g clip-path=\"url(#pcd5531e151)\">\r\n     <use style=\"fill:#440154;\" x=\"104.408872\" xlink:href=\"#C0_0_e3d05c8a7d\" y=\"204.449746\"/>\r\n    </g>\r\n    <g clip-path=\"url(#pcd5531e151)\">\r\n     <use style=\"fill:#440154;\" x=\"98.847763\" xlink:href=\"#C0_0_e3d05c8a7d\" y=\"202.623301\"/>\r\n    </g>\r\n    <g clip-path=\"url(#pcd5531e151)\">\r\n     <use style=\"fill:#440154;\" x=\"93.413691\" xlink:href=\"#C0_0_e3d05c8a7d\" y=\"200.447827\"/>\r\n    </g>\r\n    <g clip-path=\"url(#pcd5531e151)\">\r\n     <use style=\"fill:#440154;\" x=\"88.128537\" xlink:href=\"#C0_0_e3d05c8a7d\" y=\"197.932083\"/>\r\n    </g>\r\n    <g clip-path=\"url(#pcd5531e151)\">\r\n     <use style=\"fill:#440154;\" x=\"83.013581\" xlink:href=\"#C0_0_e3d05c8a7d\" y=\"195.086198\"/>\r\n    </g>\r\n    <g clip-path=\"url(#pcd5531e151)\">\r\n     <use style=\"fill:#440154;\" x=\"78.089421\" xlink:href=\"#C0_0_e3d05c8a7d\" y=\"191.921632\"/>\r\n    </g>\r\n    <g clip-path=\"url(#pcd5531e151)\">\r\n     <use style=\"fill:#440154;\" x=\"73.375884\" xlink:href=\"#C0_0_e3d05c8a7d\" y=\"188.451128\"/>\r\n    </g>\r\n    <g clip-path=\"url(#pcd5531e151)\">\r\n     <use style=\"fill:#440154;\" x=\"68.89195\" xlink:href=\"#C0_0_e3d05c8a7d\" y=\"184.688661\"/>\r\n    </g>\r\n    <g clip-path=\"url(#pcd5531e151)\">\r\n     <use style=\"fill:#440154;\" x=\"64.655673\" xlink:href=\"#C0_0_e3d05c8a7d\" y=\"180.649379\"/>\r\n    </g>\r\n    <g clip-path=\"url(#pcd5531e151)\">\r\n     <use style=\"fill:#440154;\" x=\"60.684113\" xlink:href=\"#C0_0_e3d05c8a7d\" y=\"176.349549\"/>\r\n    </g>\r\n    <g clip-path=\"url(#pcd5531e151)\">\r\n     <use style=\"fill:#440154;\" x=\"56.993261\" xlink:href=\"#C0_0_e3d05c8a7d\" y=\"171.806484\"/>\r\n    </g>\r\n    <g clip-path=\"url(#pcd5531e151)\">\r\n     <use style=\"fill:#440154;\" x=\"53.597979\" xlink:href=\"#C0_0_e3d05c8a7d\" y=\"167.038477\"/>\r\n    </g>\r\n    <g clip-path=\"url(#pcd5531e151)\">\r\n     <use style=\"fill:#440154;\" x=\"50.511938\" xlink:href=\"#C0_0_e3d05c8a7d\" y=\"162.064728\"/>\r\n    </g>\r\n    <g clip-path=\"url(#pcd5531e151)\">\r\n     <use style=\"fill:#440154;\" x=\"47.747565\" xlink:href=\"#C0_0_e3d05c8a7d\" y=\"156.905264\"/>\r\n    </g>\r\n    <g clip-path=\"url(#pcd5531e151)\">\r\n     <use style=\"fill:#440154;\" x=\"45.315991\" xlink:href=\"#C0_0_e3d05c8a7d\" y=\"151.58086\"/>\r\n    </g>\r\n    <g clip-path=\"url(#pcd5531e151)\">\r\n     <use style=\"fill:#440154;\" x=\"43.227008\" xlink:href=\"#C0_0_e3d05c8a7d\" y=\"146.112956\"/>\r\n    </g>\r\n    <g clip-path=\"url(#pcd5531e151)\">\r\n     <use style=\"fill:#440154;\" x=\"41.489025\" xlink:href=\"#C0_0_e3d05c8a7d\" y=\"140.523568\"/>\r\n    </g>\r\n    <g clip-path=\"url(#pcd5531e151)\">\r\n     <use style=\"fill:#440154;\" x=\"40.109043\" xlink:href=\"#C0_0_e3d05c8a7d\" y=\"134.835205\"/>\r\n    </g>\r\n    <g clip-path=\"url(#pcd5531e151)\">\r\n     <use style=\"fill:#440154;\" x=\"39.092618\" xlink:href=\"#C0_0_e3d05c8a7d\" y=\"129.07077\"/>\r\n    </g>\r\n    <g clip-path=\"url(#pcd5531e151)\">\r\n     <use style=\"fill:#440154;\" x=\"38.443842\" xlink:href=\"#C0_0_e3d05c8a7d\" y=\"123.253475\"/>\r\n    </g>\r\n    <g clip-path=\"url(#pcd5531e151)\">\r\n     <use style=\"fill:#440154;\" x=\"38.165328\" xlink:href=\"#C0_0_e3d05c8a7d\" y=\"117.406745\"/>\r\n    </g>\r\n    <g clip-path=\"url(#pcd5531e151)\">\r\n     <use style=\"fill:#440154;\" x=\"38.258197\" xlink:href=\"#C0_0_e3d05c8a7d\" y=\"111.554121\"/>\r\n    </g>\r\n    <g clip-path=\"url(#pcd5531e151)\">\r\n     <use style=\"fill:#440154;\" x=\"38.722076\" xlink:href=\"#C0_0_e3d05c8a7d\" y=\"105.71917\"/>\r\n    </g>\r\n    <g clip-path=\"url(#pcd5531e151)\">\r\n     <use style=\"fill:#440154;\" x=\"39.555096\" xlink:href=\"#C0_0_e3d05c8a7d\" y=\"99.925389\"/>\r\n    </g>\r\n    <g clip-path=\"url(#pcd5531e151)\">\r\n     <use style=\"fill:#440154;\" x=\"40.753903\" xlink:href=\"#C0_0_e3d05c8a7d\" y=\"94.196105\"/>\r\n    </g>\r\n    <g clip-path=\"url(#pcd5531e151)\">\r\n     <use style=\"fill:#440154;\" x=\"42.31367\" xlink:href=\"#C0_0_e3d05c8a7d\" y=\"88.554389\"/>\r\n    </g>\r\n    <g clip-path=\"url(#pcd5531e151)\">\r\n     <use style=\"fill:#440154;\" x=\"44.228117\" xlink:href=\"#C0_0_e3d05c8a7d\" y=\"83.022959\"/>\r\n    </g>\r\n    <g clip-path=\"url(#pcd5531e151)\">\r\n     <use style=\"fill:#440154;\" x=\"46.489534\" xlink:href=\"#C0_0_e3d05c8a7d\" y=\"77.624087\"/>\r\n    </g>\r\n    <g clip-path=\"url(#pcd5531e151)\">\r\n     <use style=\"fill:#440154;\" x=\"49.088816\" xlink:href=\"#C0_0_e3d05c8a7d\" y=\"72.379512\"/>\r\n    </g>\r\n    <g clip-path=\"url(#pcd5531e151)\">\r\n     <use style=\"fill:#440154;\" x=\"52.015497\" xlink:href=\"#C0_0_e3d05c8a7d\" y=\"67.310353\"/>\r\n    </g>\r\n    <g clip-path=\"url(#pcd5531e151)\">\r\n     <use style=\"fill:#440154;\" x=\"55.257791\" xlink:href=\"#C0_0_e3d05c8a7d\" y=\"62.437022\"/>\r\n    </g>\r\n    <g clip-path=\"url(#pcd5531e151)\">\r\n     <use style=\"fill:#440154;\" x=\"58.802642\" xlink:href=\"#C0_0_e3d05c8a7d\" y=\"57.779141\"/>\r\n    </g>\r\n    <g clip-path=\"url(#pcd5531e151)\">\r\n     <use style=\"fill:#440154;\" x=\"62.635778\" xlink:href=\"#C0_0_e3d05c8a7d\" y=\"53.355466\"/>\r\n    </g>\r\n    <g clip-path=\"url(#pcd5531e151)\">\r\n     <use style=\"fill:#440154;\" x=\"66.741764\" xlink:href=\"#C0_0_e3d05c8a7d\" y=\"49.18381\"/>\r\n    </g>\r\n    <g clip-path=\"url(#pcd5531e151)\">\r\n     <use style=\"fill:#440154;\" x=\"71.104065\" xlink:href=\"#C0_0_e3d05c8a7d\" y=\"45.280971\"/>\r\n    </g>\r\n    <g clip-path=\"url(#pcd5531e151)\">\r\n     <use style=\"fill:#440154;\" x=\"75.705117\" xlink:href=\"#C0_0_e3d05c8a7d\" y=\"41.662663\"/>\r\n    </g>\r\n    <g clip-path=\"url(#pcd5531e151)\">\r\n     <use style=\"fill:#440154;\" x=\"80.526393\" xlink:href=\"#C0_0_e3d05c8a7d\" y=\"38.343457\"/>\r\n    </g>\r\n    <g clip-path=\"url(#pcd5531e151)\">\r\n     <use style=\"fill:#440154;\" x=\"85.54848\" xlink:href=\"#C0_0_e3d05c8a7d\" y=\"35.336718\"/>\r\n    </g>\r\n    <g clip-path=\"url(#pcd5531e151)\">\r\n     <use style=\"fill:#440154;\" x=\"90.751154\" xlink:href=\"#C0_0_e3d05c8a7d\" y=\"32.654553\"/>\r\n    </g>\r\n    <g clip-path=\"url(#pcd5531e151)\">\r\n     <use style=\"fill:#440154;\" x=\"96.113467\" xlink:href=\"#C0_0_e3d05c8a7d\" y=\"30.307762\"/>\r\n    </g>\r\n    <g clip-path=\"url(#pcd5531e151)\">\r\n     <use style=\"fill:#440154;\" x=\"101.613827\" xlink:href=\"#C0_0_e3d05c8a7d\" y=\"28.305795\"/>\r\n    </g>\r\n    <g clip-path=\"url(#pcd5531e151)\">\r\n     <use style=\"fill:#440154;\" x=\"107.230085\" xlink:href=\"#C0_0_e3d05c8a7d\" y=\"26.656713\"/>\r\n    </g>\r\n    <g clip-path=\"url(#pcd5531e151)\">\r\n     <use style=\"fill:#440154;\" x=\"112.939627\" xlink:href=\"#C0_0_e3d05c8a7d\" y=\"25.367156\"/>\r\n    </g>\r\n    <g clip-path=\"url(#pcd5531e151)\">\r\n     <use style=\"fill:#440154;\" x=\"118.719463\" xlink:href=\"#C0_0_e3d05c8a7d\" y=\"24.442317\"/>\r\n    </g>\r\n    <g clip-path=\"url(#pcd5531e151)\">\r\n     <use style=\"fill:#440154;\" x=\"124.546319\" xlink:href=\"#C0_0_e3d05c8a7d\" y=\"23.885919\"/>\r\n    </g>\r\n    <g clip-path=\"url(#pcd5531e151)\">\r\n     <use style=\"fill:#440154;\" x=\"130.396733\" xlink:href=\"#C0_0_e3d05c8a7d\" y=\"23.700204\"/>\r\n    </g>\r\n   </g>\r\n   <g id=\"matplotlib.axis_1\">\r\n    <g id=\"xtick_1\">\r\n     <g id=\"line2d_1\">\r\n      <defs>\r\n       <path d=\"M 0 0 \r\nL 0 3.5 \r\n\" id=\"m9e65dba1f8\" style=\"stroke:#000000;stroke-width:0.8;\"/>\r\n      </defs>\r\n      <g>\r\n       <use style=\"stroke:#000000;stroke-width:0.8;\" x=\"68.901389\" xlink:href=\"#m9e65dba1f8\" y=\"217.361775\"/>\r\n      </g>\r\n     </g>\r\n     <g id=\"text_1\">\r\n      <!-- −2 -->\r\n      <g transform=\"translate(61.530295 231.960213)scale(0.1 -0.1)\">\r\n       <defs>\r\n        <path d=\"M 10.59375 35.5 \r\nL 73.1875 35.5 \r\nL 73.1875 27.203125 \r\nL 10.59375 27.203125 \r\nz\r\n\" id=\"DejaVuSans-8722\"/>\r\n        <path d=\"M 19.1875 8.296875 \r\nL 53.609375 8.296875 \r\nL 53.609375 0 \r\nL 7.328125 0 \r\nL 7.328125 8.296875 \r\nQ 12.9375 14.109375 22.625 23.890625 \r\nQ 32.328125 33.6875 34.8125 36.53125 \r\nQ 39.546875 41.84375 41.421875 45.53125 \r\nQ 43.3125 49.21875 43.3125 52.78125 \r\nQ 43.3125 58.59375 39.234375 62.25 \r\nQ 35.15625 65.921875 28.609375 65.921875 \r\nQ 23.96875 65.921875 18.8125 64.3125 \r\nQ 13.671875 62.703125 7.8125 59.421875 \r\nL 7.8125 69.390625 \r\nQ 13.765625 71.78125 18.9375 73 \r\nQ 24.125 74.21875 28.421875 74.21875 \r\nQ 39.75 74.21875 46.484375 68.546875 \r\nQ 53.21875 62.890625 53.21875 53.421875 \r\nQ 53.21875 48.921875 51.53125 44.890625 \r\nQ 49.859375 40.875 45.40625 35.40625 \r\nQ 44.1875 33.984375 37.640625 27.21875 \r\nQ 31.109375 20.453125 19.1875 8.296875 \r\nz\r\n\" id=\"DejaVuSans-50\"/>\r\n       </defs>\r\n       <use xlink:href=\"#DejaVuSans-8722\"/>\r\n       <use x=\"83.789062\" xlink:href=\"#DejaVuSans-50\"/>\r\n      </g>\r\n     </g>\r\n    </g>\r\n    <g id=\"xtick_2\">\r\n     <g id=\"line2d_2\">\r\n      <g>\r\n       <use style=\"stroke:#000000;stroke-width:0.8;\" x=\"130.396733\" xlink:href=\"#m9e65dba1f8\" y=\"217.361775\"/>\r\n      </g>\r\n     </g>\r\n     <g id=\"text_2\">\r\n      <!-- 0 -->\r\n      <g transform=\"translate(127.215483 231.960213)scale(0.1 -0.1)\">\r\n       <defs>\r\n        <path d=\"M 31.78125 66.40625 \r\nQ 24.171875 66.40625 20.328125 58.90625 \r\nQ 16.5 51.421875 16.5 36.375 \r\nQ 16.5 21.390625 20.328125 13.890625 \r\nQ 24.171875 6.390625 31.78125 6.390625 \r\nQ 39.453125 6.390625 43.28125 13.890625 \r\nQ 47.125 21.390625 47.125 36.375 \r\nQ 47.125 51.421875 43.28125 58.90625 \r\nQ 39.453125 66.40625 31.78125 66.40625 \r\nz\r\nM 31.78125 74.21875 \r\nQ 44.046875 74.21875 50.515625 64.515625 \r\nQ 56.984375 54.828125 56.984375 36.375 \r\nQ 56.984375 17.96875 50.515625 8.265625 \r\nQ 44.046875 -1.421875 31.78125 -1.421875 \r\nQ 19.53125 -1.421875 13.0625 8.265625 \r\nQ 6.59375 17.96875 6.59375 36.375 \r\nQ 6.59375 54.828125 13.0625 64.515625 \r\nQ 19.53125 74.21875 31.78125 74.21875 \r\nz\r\n\" id=\"DejaVuSans-48\"/>\r\n       </defs>\r\n       <use xlink:href=\"#DejaVuSans-48\"/>\r\n      </g>\r\n     </g>\r\n    </g>\r\n    <g id=\"xtick_3\">\r\n     <g id=\"line2d_3\">\r\n      <g>\r\n       <use style=\"stroke:#000000;stroke-width:0.8;\" x=\"191.892077\" xlink:href=\"#m9e65dba1f8\" y=\"217.361775\"/>\r\n      </g>\r\n     </g>\r\n     <g id=\"text_3\">\r\n      <!-- 2 -->\r\n      <g transform=\"translate(188.710827 231.960213)scale(0.1 -0.1)\">\r\n       <use xlink:href=\"#DejaVuSans-50\"/>\r\n      </g>\r\n     </g>\r\n    </g>\r\n   </g>\r\n   <g id=\"matplotlib.axis_2\">\r\n    <g id=\"ytick_1\">\r\n     <g id=\"line2d_4\">\r\n      <defs>\r\n       <path d=\"M 0 0 \r\nL -3.5 0 \r\n\" id=\"me3f85fee02\" style=\"stroke:#000000;stroke-width:0.8;\"/>\r\n      </defs>\r\n      <g>\r\n       <use style=\"stroke:#000000;stroke-width:0.8;\" x=\"28.942188\" xlink:href=\"#me3f85fee02\" y=\"208.186236\"/>\r\n      </g>\r\n     </g>\r\n     <g id=\"text_4\">\r\n      <!-- −3 -->\r\n      <g transform=\"translate(7.2 211.985455)scale(0.1 -0.1)\">\r\n       <defs>\r\n        <path d=\"M 40.578125 39.3125 \r\nQ 47.65625 37.796875 51.625 33 \r\nQ 55.609375 28.21875 55.609375 21.1875 \r\nQ 55.609375 10.40625 48.1875 4.484375 \r\nQ 40.765625 -1.421875 27.09375 -1.421875 \r\nQ 22.515625 -1.421875 17.65625 -0.515625 \r\nQ 12.796875 0.390625 7.625 2.203125 \r\nL 7.625 11.71875 \r\nQ 11.71875 9.328125 16.59375 8.109375 \r\nQ 21.484375 6.890625 26.8125 6.890625 \r\nQ 36.078125 6.890625 40.9375 10.546875 \r\nQ 45.796875 14.203125 45.796875 21.1875 \r\nQ 45.796875 27.640625 41.28125 31.265625 \r\nQ 36.765625 34.90625 28.71875 34.90625 \r\nL 20.21875 34.90625 \r\nL 20.21875 43.015625 \r\nL 29.109375 43.015625 \r\nQ 36.375 43.015625 40.234375 45.921875 \r\nQ 44.09375 48.828125 44.09375 54.296875 \r\nQ 44.09375 59.90625 40.109375 62.90625 \r\nQ 36.140625 65.921875 28.71875 65.921875 \r\nQ 24.65625 65.921875 20.015625 65.03125 \r\nQ 15.375 64.15625 9.8125 62.3125 \r\nL 9.8125 71.09375 \r\nQ 15.4375 72.65625 20.34375 73.4375 \r\nQ 25.25 74.21875 29.59375 74.21875 \r\nQ 40.828125 74.21875 47.359375 69.109375 \r\nQ 53.90625 64.015625 53.90625 55.328125 \r\nQ 53.90625 49.265625 50.4375 45.09375 \r\nQ 46.96875 40.921875 40.578125 39.3125 \r\nz\r\n\" id=\"DejaVuSans-51\"/>\r\n       </defs>\r\n       <use xlink:href=\"#DejaVuSans-8722\"/>\r\n       <use x=\"83.789062\" xlink:href=\"#DejaVuSans-51\"/>\r\n      </g>\r\n     </g>\r\n    </g>\r\n    <g id=\"ytick_2\">\r\n     <g id=\"line2d_5\">\r\n      <g>\r\n       <use style=\"stroke:#000000;stroke-width:0.8;\" x=\"28.942188\" xlink:href=\"#me3f85fee02\" y=\"177.438564\"/>\r\n      </g>\r\n     </g>\r\n     <g id=\"text_5\">\r\n      <!-- −2 -->\r\n      <g transform=\"translate(7.2 181.237783)scale(0.1 -0.1)\">\r\n       <use xlink:href=\"#DejaVuSans-8722\"/>\r\n       <use x=\"83.789062\" xlink:href=\"#DejaVuSans-50\"/>\r\n      </g>\r\n     </g>\r\n    </g>\r\n    <g id=\"ytick_3\">\r\n     <g id=\"line2d_6\">\r\n      <g>\r\n       <use style=\"stroke:#000000;stroke-width:0.8;\" x=\"28.942188\" xlink:href=\"#me3f85fee02\" y=\"146.690892\"/>\r\n      </g>\r\n     </g>\r\n     <g id=\"text_6\">\r\n      <!-- −1 -->\r\n      <g transform=\"translate(7.2 150.490111)scale(0.1 -0.1)\">\r\n       <defs>\r\n        <path d=\"M 12.40625 8.296875 \r\nL 28.515625 8.296875 \r\nL 28.515625 63.921875 \r\nL 10.984375 60.40625 \r\nL 10.984375 69.390625 \r\nL 28.421875 72.90625 \r\nL 38.28125 72.90625 \r\nL 38.28125 8.296875 \r\nL 54.390625 8.296875 \r\nL 54.390625 0 \r\nL 12.40625 0 \r\nz\r\n\" id=\"DejaVuSans-49\"/>\r\n       </defs>\r\n       <use xlink:href=\"#DejaVuSans-8722\"/>\r\n       <use x=\"83.789062\" xlink:href=\"#DejaVuSans-49\"/>\r\n      </g>\r\n     </g>\r\n    </g>\r\n    <g id=\"ytick_4\">\r\n     <g id=\"line2d_7\">\r\n      <g>\r\n       <use style=\"stroke:#000000;stroke-width:0.8;\" x=\"28.942188\" xlink:href=\"#me3f85fee02\" y=\"115.94322\"/>\r\n      </g>\r\n     </g>\r\n     <g id=\"text_7\">\r\n      <!-- 0 -->\r\n      <g transform=\"translate(15.579688 119.742439)scale(0.1 -0.1)\">\r\n       <use xlink:href=\"#DejaVuSans-48\"/>\r\n      </g>\r\n     </g>\r\n    </g>\r\n    <g id=\"ytick_5\">\r\n     <g id=\"line2d_8\">\r\n      <g>\r\n       <use style=\"stroke:#000000;stroke-width:0.8;\" x=\"28.942188\" xlink:href=\"#me3f85fee02\" y=\"85.195548\"/>\r\n      </g>\r\n     </g>\r\n     <g id=\"text_8\">\r\n      <!-- 1 -->\r\n      <g transform=\"translate(15.579688 88.994767)scale(0.1 -0.1)\">\r\n       <use xlink:href=\"#DejaVuSans-49\"/>\r\n      </g>\r\n     </g>\r\n    </g>\r\n    <g id=\"ytick_6\">\r\n     <g id=\"line2d_9\">\r\n      <g>\r\n       <use style=\"stroke:#000000;stroke-width:0.8;\" x=\"28.942188\" xlink:href=\"#me3f85fee02\" y=\"54.447876\"/>\r\n      </g>\r\n     </g>\r\n     <g id=\"text_9\">\r\n      <!-- 2 -->\r\n      <g transform=\"translate(15.579688 58.247095)scale(0.1 -0.1)\">\r\n       <use xlink:href=\"#DejaVuSans-50\"/>\r\n      </g>\r\n     </g>\r\n    </g>\r\n    <g id=\"ytick_7\">\r\n     <g id=\"line2d_10\">\r\n      <g>\r\n       <use style=\"stroke:#000000;stroke-width:0.8;\" x=\"28.942188\" xlink:href=\"#me3f85fee02\" y=\"23.700204\"/>\r\n      </g>\r\n     </g>\r\n     <g id=\"text_10\">\r\n      <!-- 3 -->\r\n      <g transform=\"translate(15.579688 27.499423)scale(0.1 -0.1)\">\r\n       <use xlink:href=\"#DejaVuSans-51\"/>\r\n      </g>\r\n     </g>\r\n    </g>\r\n   </g>\r\n   <g id=\"patch_3\">\r\n    <path d=\"M 28.942188 217.361775 \r\nL 28.942188 14.478225 \r\n\" style=\"fill:none;stroke:#000000;stroke-linecap:square;stroke-linejoin:miter;stroke-width:0.8;\"/>\r\n   </g>\r\n   <g id=\"patch_4\">\r\n    <path d=\"M 231.851278 217.361775 \r\nL 231.851278 14.478225 \r\n\" style=\"fill:none;stroke:#000000;stroke-linecap:square;stroke-linejoin:miter;stroke-width:0.8;\"/>\r\n   </g>\r\n   <g id=\"patch_5\">\r\n    <path d=\"M 28.942188 217.361775 \r\nL 231.851278 217.361775 \r\n\" style=\"fill:none;stroke:#000000;stroke-linecap:square;stroke-linejoin:miter;stroke-width:0.8;\"/>\r\n   </g>\r\n   <g id=\"patch_6\">\r\n    <path d=\"M 28.942188 14.478225 \r\nL 231.851278 14.478225 \r\n\" style=\"fill:none;stroke:#000000;stroke-linecap:square;stroke-linejoin:miter;stroke-width:0.8;\"/>\r\n   </g>\r\n  </g>\r\n  <g id=\"axes_2\">\r\n   <g id=\"patch_7\">\r\n    <path d=\"M 272.563104 224.64 \r\nL 475.21218 224.64 \r\nL 475.21218 7.2 \r\nL 272.563104 7.2 \r\nz\r\n\" style=\"fill:#ffffff;\"/>\r\n   </g>\r\n   <g id=\"PathCollection_2\">\r\n    <defs>\r\n     <path d=\"M 0 3 \r\nC 0.795609 3 1.55874 2.683901 2.12132 2.12132 \r\nC 2.683901 1.55874 3 0.795609 3 -0 \r\nC 3 -0.795609 2.683901 -1.55874 2.12132 -2.12132 \r\nC 1.55874 -2.683901 0.795609 -3 0 -3 \r\nC -0.795609 -3 -1.55874 -2.683901 -2.12132 -2.12132 \r\nC -2.683901 -1.55874 -3 -0.795609 -3 0 \r\nC -3 0.795609 -2.683901 1.55874 -2.12132 2.12132 \r\nC -1.55874 2.683901 -0.795609 3 0 3 \r\nz\r\n\" id=\"C1_0_0046b6ae93\"/>\r\n    </defs>\r\n    <g clip-path=\"url(#p37bf5f978f)\">\r\n     <use style=\"fill:#fde725;\" x=\"365.344397\" xlink:href=\"#C1_0_0046b6ae93\" y=\"119.469531\"/>\r\n    </g>\r\n    <g clip-path=\"url(#p37bf5f978f)\">\r\n     <use style=\"fill:#fde725;\" x=\"422.988455\" xlink:href=\"#C1_0_0046b6ae93\" y=\"141.411926\"/>\r\n    </g>\r\n    <g clip-path=\"url(#p37bf5f978f)\">\r\n     <use style=\"fill:#fde725;\" x=\"405.127256\" xlink:href=\"#C1_0_0046b6ae93\" y=\"120.327804\"/>\r\n    </g>\r\n    <g clip-path=\"url(#p37bf5f978f)\">\r\n     <use style=\"fill:#fde725;\" x=\"392.635592\" xlink:href=\"#C1_0_0046b6ae93\" y=\"144.362679\"/>\r\n    </g>\r\n    <g clip-path=\"url(#p37bf5f978f)\">\r\n     <use style=\"fill:#fde725;\" x=\"357.450993\" xlink:href=\"#C1_0_0046b6ae93\" y=\"79.675538\"/>\r\n    </g>\r\n    <g clip-path=\"url(#p37bf5f978f)\">\r\n     <use style=\"fill:#fde725;\" x=\"459.90585\" xlink:href=\"#C1_0_0046b6ae93\" y=\"192.424731\"/>\r\n    </g>\r\n    <g clip-path=\"url(#p37bf5f978f)\">\r\n     <use style=\"fill:#fde725;\" x=\"417.336809\" xlink:href=\"#C1_0_0046b6ae93\" y=\"150.48225\"/>\r\n    </g>\r\n    <g clip-path=\"url(#p37bf5f978f)\">\r\n     <use style=\"fill:#fde725;\" x=\"427.579863\" xlink:href=\"#C1_0_0046b6ae93\" y=\"147.725703\"/>\r\n    </g>\r\n    <g clip-path=\"url(#p37bf5f978f)\">\r\n     <use style=\"fill:#fde725;\" x=\"431.391669\" xlink:href=\"#C1_0_0046b6ae93\" y=\"135.386993\"/>\r\n    </g>\r\n    <g clip-path=\"url(#p37bf5f978f)\">\r\n     <use style=\"fill:#fde725;\" x=\"420.300309\" xlink:href=\"#C1_0_0046b6ae93\" y=\"133.949841\"/>\r\n    </g>\r\n    <g clip-path=\"url(#p37bf5f978f)\">\r\n     <use style=\"fill:#fde725;\" x=\"405.122015\" xlink:href=\"#C1_0_0046b6ae93\" y=\"101.311514\"/>\r\n    </g>\r\n    <g clip-path=\"url(#p37bf5f978f)\">\r\n     <use style=\"fill:#fde725;\" x=\"451.279013\" xlink:href=\"#C1_0_0046b6ae93\" y=\"154.940868\"/>\r\n    </g>\r\n    <g clip-path=\"url(#p37bf5f978f)\">\r\n     <use style=\"fill:#fde725;\" x=\"421.501239\" xlink:href=\"#C1_0_0046b6ae93\" y=\"162.569465\"/>\r\n    </g>\r\n    <g clip-path=\"url(#p37bf5f978f)\">\r\n     <use style=\"fill:#fde725;\" x=\"427.530873\" xlink:href=\"#C1_0_0046b6ae93\" y=\"142.33629\"/>\r\n    </g>\r\n    <g clip-path=\"url(#p37bf5f978f)\">\r\n     <use style=\"fill:#fde725;\" x=\"396.798659\" xlink:href=\"#C1_0_0046b6ae93\" y=\"112.508338\"/>\r\n    </g>\r\n    <g clip-path=\"url(#p37bf5f978f)\">\r\n     <use style=\"fill:#fde725;\" x=\"363.225175\" xlink:href=\"#C1_0_0046b6ae93\" y=\"107.51387\"/>\r\n    </g>\r\n    <g clip-path=\"url(#p37bf5f978f)\">\r\n     <use style=\"fill:#fde725;\" x=\"401.387841\" xlink:href=\"#C1_0_0046b6ae93\" y=\"179.821688\"/>\r\n    </g>\r\n    <g clip-path=\"url(#p37bf5f978f)\">\r\n     <use style=\"fill:#fde725;\" x=\"367.037962\" xlink:href=\"#C1_0_0046b6ae93\" y=\"93.448952\"/>\r\n    </g>\r\n    <g clip-path=\"url(#p37bf5f978f)\">\r\n     <use style=\"fill:#fde725;\" x=\"367.996367\" xlink:href=\"#C1_0_0046b6ae93\" y=\"80.951002\"/>\r\n    </g>\r\n    <g clip-path=\"url(#p37bf5f978f)\">\r\n     <use style=\"fill:#fde725;\" x=\"411.786232\" xlink:href=\"#C1_0_0046b6ae93\" y=\"157.543712\"/>\r\n    </g>\r\n    <g clip-path=\"url(#p37bf5f978f)\">\r\n     <use style=\"fill:#fde725;\" x=\"381.094641\" xlink:href=\"#C1_0_0046b6ae93\" y=\"106.685242\"/>\r\n    </g>\r\n    <g clip-path=\"url(#p37bf5f978f)\">\r\n     <use style=\"fill:#fde725;\" x=\"366.552584\" xlink:href=\"#C1_0_0046b6ae93\" y=\"153.006399\"/>\r\n    </g>\r\n    <g clip-path=\"url(#p37bf5f978f)\">\r\n     <use style=\"fill:#fde725;\" x=\"384.908307\" xlink:href=\"#C1_0_0046b6ae93\" y=\"108.893745\"/>\r\n    </g>\r\n    <g clip-path=\"url(#p37bf5f978f)\">\r\n     <use style=\"fill:#fde725;\" x=\"384.750226\" xlink:href=\"#C1_0_0046b6ae93\" y=\"86.958625\"/>\r\n    </g>\r\n    <g clip-path=\"url(#p37bf5f978f)\">\r\n     <use style=\"fill:#fde725;\" x=\"390.423263\" xlink:href=\"#C1_0_0046b6ae93\" y=\"141.416713\"/>\r\n    </g>\r\n    <g clip-path=\"url(#p37bf5f978f)\">\r\n     <use style=\"fill:#fde725;\" x=\"418.28054\" xlink:href=\"#C1_0_0046b6ae93\" y=\"160.224994\"/>\r\n    </g>\r\n    <g clip-path=\"url(#p37bf5f978f)\">\r\n     <use style=\"fill:#fde725;\" x=\"446.143993\" xlink:href=\"#C1_0_0046b6ae93\" y=\"167.627329\"/>\r\n    </g>\r\n    <g clip-path=\"url(#p37bf5f978f)\">\r\n     <use style=\"fill:#fde725;\" x=\"406.28744\" xlink:href=\"#C1_0_0046b6ae93\" y=\"140.612516\"/>\r\n    </g>\r\n    <g clip-path=\"url(#p37bf5f978f)\">\r\n     <use style=\"fill:#fde725;\" x=\"349.050665\" xlink:href=\"#C1_0_0046b6ae93\" y=\"103.737736\"/>\r\n    </g>\r\n    <g clip-path=\"url(#p37bf5f978f)\">\r\n     <use style=\"fill:#fde725;\" x=\"396.613741\" xlink:href=\"#C1_0_0046b6ae93\" y=\"85.876562\"/>\r\n    </g>\r\n    <g clip-path=\"url(#p37bf5f978f)\">\r\n     <use style=\"fill:#fde725;\" x=\"361.689655\" xlink:href=\"#C1_0_0046b6ae93\" y=\"113.042665\"/>\r\n    </g>\r\n    <g clip-path=\"url(#p37bf5f978f)\">\r\n     <use style=\"fill:#fde725;\" x=\"444.997615\" xlink:href=\"#C1_0_0046b6ae93\" y=\"173.957137\"/>\r\n    </g>\r\n    <g clip-path=\"url(#p37bf5f978f)\">\r\n     <use style=\"fill:#fde725;\" x=\"448.16167\" xlink:href=\"#C1_0_0046b6ae93\" y=\"150.01651\"/>\r\n    </g>\r\n    <g clip-path=\"url(#p37bf5f978f)\">\r\n     <use style=\"fill:#fde725;\" x=\"393.717692\" xlink:href=\"#C1_0_0046b6ae93\" y=\"140.341143\"/>\r\n    </g>\r\n    <g clip-path=\"url(#p37bf5f978f)\">\r\n     <use style=\"fill:#fde725;\" x=\"350.033304\" xlink:href=\"#C1_0_0046b6ae93\" y=\"70.741745\"/>\r\n    </g>\r\n    <g clip-path=\"url(#p37bf5f978f)\">\r\n     <use style=\"fill:#fde725;\" x=\"361.184225\" xlink:href=\"#C1_0_0046b6ae93\" y=\"116.072822\"/>\r\n    </g>\r\n    <g clip-path=\"url(#p37bf5f978f)\">\r\n     <use style=\"fill:#fde725;\" x=\"414.6431\" xlink:href=\"#C1_0_0046b6ae93\" y=\"127.733771\"/>\r\n    </g>\r\n    <g clip-path=\"url(#p37bf5f978f)\">\r\n     <use style=\"fill:#fde725;\" x=\"381.865431\" xlink:href=\"#C1_0_0046b6ae93\" y=\"100.425141\"/>\r\n    </g>\r\n    <g clip-path=\"url(#p37bf5f978f)\">\r\n     <use style=\"fill:#fde725;\" x=\"413.250048\" xlink:href=\"#C1_0_0046b6ae93\" y=\"135.379539\"/>\r\n    </g>\r\n    <g clip-path=\"url(#p37bf5f978f)\">\r\n     <use style=\"fill:#fde725;\" x=\"369.686247\" xlink:href=\"#C1_0_0046b6ae93\" y=\"103.655296\"/>\r\n    </g>\r\n    <g clip-path=\"url(#p37bf5f978f)\">\r\n     <use style=\"fill:#fde725;\" x=\"359.326999\" xlink:href=\"#C1_0_0046b6ae93\" y=\"105.599816\"/>\r\n    </g>\r\n    <g clip-path=\"url(#p37bf5f978f)\">\r\n     <use style=\"fill:#fde725;\" x=\"363.295095\" xlink:href=\"#C1_0_0046b6ae93\" y=\"90.189692\"/>\r\n    </g>\r\n    <g clip-path=\"url(#p37bf5f978f)\">\r\n     <use style=\"fill:#fde725;\" x=\"296.459933\" xlink:href=\"#C1_0_0046b6ae93\" y=\"17.083636\"/>\r\n    </g>\r\n    <g clip-path=\"url(#p37bf5f978f)\">\r\n     <use style=\"fill:#fde725;\" x=\"429.466382\" xlink:href=\"#C1_0_0046b6ae93\" y=\"131.069941\"/>\r\n    </g>\r\n    <g clip-path=\"url(#p37bf5f978f)\">\r\n     <use style=\"fill:#fde725;\" x=\"396.261323\" xlink:href=\"#C1_0_0046b6ae93\" y=\"117.924569\"/>\r\n    </g>\r\n    <g clip-path=\"url(#p37bf5f978f)\">\r\n     <use style=\"fill:#fde725;\" x=\"403.21525\" xlink:href=\"#C1_0_0046b6ae93\" y=\"142.094705\"/>\r\n    </g>\r\n    <g clip-path=\"url(#p37bf5f978f)\">\r\n     <use style=\"fill:#fde725;\" x=\"381.103998\" xlink:href=\"#C1_0_0046b6ae93\" y=\"83.87255\"/>\r\n    </g>\r\n    <g clip-path=\"url(#p37bf5f978f)\">\r\n     <use style=\"fill:#fde725;\" x=\"397.981616\" xlink:href=\"#C1_0_0046b6ae93\" y=\"133.846905\"/>\r\n    </g>\r\n    <g clip-path=\"url(#p37bf5f978f)\">\r\n     <use style=\"fill:#fde725;\" x=\"361.209838\" xlink:href=\"#C1_0_0046b6ae93\" y=\"59.876854\"/>\r\n    </g>\r\n    <g clip-path=\"url(#p37bf5f978f)\">\r\n     <use style=\"fill:#fde725;\" x=\"396.651551\" xlink:href=\"#C1_0_0046b6ae93\" y=\"141.485197\"/>\r\n    </g>\r\n    <g clip-path=\"url(#p37bf5f978f)\">\r\n     <use style=\"fill:#fde725;\" x=\"447.303961\" xlink:href=\"#C1_0_0046b6ae93\" y=\"178.662542\"/>\r\n    </g>\r\n    <g clip-path=\"url(#p37bf5f978f)\">\r\n     <use style=\"fill:#fde725;\" x=\"429.184949\" xlink:href=\"#C1_0_0046b6ae93\" y=\"173.373241\"/>\r\n    </g>\r\n    <g clip-path=\"url(#p37bf5f978f)\">\r\n     <use style=\"fill:#fde725;\" x=\"352.548405\" xlink:href=\"#C1_0_0046b6ae93\" y=\"78.537268\"/>\r\n    </g>\r\n    <g clip-path=\"url(#p37bf5f978f)\">\r\n     <use style=\"fill:#fde725;\" x=\"423.945115\" xlink:href=\"#C1_0_0046b6ae93\" y=\"184.215585\"/>\r\n    </g>\r\n    <g clip-path=\"url(#p37bf5f978f)\">\r\n     <use style=\"fill:#fde725;\" x=\"397.427593\" xlink:href=\"#C1_0_0046b6ae93\" y=\"108.770994\"/>\r\n    </g>\r\n    <g clip-path=\"url(#p37bf5f978f)\">\r\n     <use style=\"fill:#fde725;\" x=\"431.035392\" xlink:href=\"#C1_0_0046b6ae93\" y=\"145.576511\"/>\r\n    </g>\r\n    <g clip-path=\"url(#p37bf5f978f)\">\r\n     <use style=\"fill:#fde725;\" x=\"361.934187\" xlink:href=\"#C1_0_0046b6ae93\" y=\"80.275108\"/>\r\n    </g>\r\n    <g clip-path=\"url(#p37bf5f978f)\">\r\n     <use style=\"fill:#fde725;\" x=\"408.17189\" xlink:href=\"#C1_0_0046b6ae93\" y=\"162.555992\"/>\r\n    </g>\r\n    <g clip-path=\"url(#p37bf5f978f)\">\r\n     <use style=\"fill:#fde725;\" x=\"410.377012\" xlink:href=\"#C1_0_0046b6ae93\" y=\"140.796982\"/>\r\n    </g>\r\n    <g clip-path=\"url(#p37bf5f978f)\">\r\n     <use style=\"fill:#fde725;\" x=\"381.50445\" xlink:href=\"#C1_0_0046b6ae93\" y=\"84.844735\"/>\r\n    </g>\r\n    <g clip-path=\"url(#p37bf5f978f)\">\r\n     <use style=\"fill:#fde725;\" x=\"434.197921\" xlink:href=\"#C1_0_0046b6ae93\" y=\"121.553187\"/>\r\n    </g>\r\n    <g clip-path=\"url(#p37bf5f978f)\">\r\n     <use style=\"fill:#fde725;\" x=\"406.824791\" xlink:href=\"#C1_0_0046b6ae93\" y=\"149.548091\"/>\r\n    </g>\r\n    <g clip-path=\"url(#p37bf5f978f)\">\r\n     <use style=\"fill:#fde725;\" x=\"343.866357\" xlink:href=\"#C1_0_0046b6ae93\" y=\"91.432633\"/>\r\n    </g>\r\n    <g clip-path=\"url(#p37bf5f978f)\">\r\n     <use style=\"fill:#fde725;\" x=\"392.588054\" xlink:href=\"#C1_0_0046b6ae93\" y=\"106.451017\"/>\r\n    </g>\r\n    <g clip-path=\"url(#p37bf5f978f)\">\r\n     <use style=\"fill:#fde725;\" x=\"425.827437\" xlink:href=\"#C1_0_0046b6ae93\" y=\"149.729679\"/>\r\n    </g>\r\n    <g clip-path=\"url(#p37bf5f978f)\">\r\n     <use style=\"fill:#fde725;\" x=\"345.092208\" xlink:href=\"#C1_0_0046b6ae93\" y=\"96.833644\"/>\r\n    </g>\r\n    <g clip-path=\"url(#p37bf5f978f)\">\r\n     <use style=\"fill:#fde725;\" x=\"349.115377\" xlink:href=\"#C1_0_0046b6ae93\" y=\"135.760293\"/>\r\n    </g>\r\n    <g clip-path=\"url(#p37bf5f978f)\">\r\n     <use style=\"fill:#fde725;\" x=\"426.15776\" xlink:href=\"#C1_0_0046b6ae93\" y=\"150.854737\"/>\r\n    </g>\r\n    <g clip-path=\"url(#p37bf5f978f)\">\r\n     <use style=\"fill:#fde725;\" x=\"407.896432\" xlink:href=\"#C1_0_0046b6ae93\" y=\"156.751995\"/>\r\n    </g>\r\n    <g clip-path=\"url(#p37bf5f978f)\">\r\n     <use style=\"fill:#fde725;\" x=\"374.378081\" xlink:href=\"#C1_0_0046b6ae93\" y=\"86.34709\"/>\r\n    </g>\r\n    <g clip-path=\"url(#p37bf5f978f)\">\r\n     <use style=\"fill:#fde725;\" x=\"376.611435\" xlink:href=\"#C1_0_0046b6ae93\" y=\"149.105768\"/>\r\n    </g>\r\n    <g clip-path=\"url(#p37bf5f978f)\">\r\n     <use style=\"fill:#fde725;\" x=\"392.026403\" xlink:href=\"#C1_0_0046b6ae93\" y=\"130.731083\"/>\r\n    </g>\r\n    <g clip-path=\"url(#p37bf5f978f)\">\r\n     <use style=\"fill:#fde725;\" x=\"466.000859\" xlink:href=\"#C1_0_0046b6ae93\" y=\"187.364257\"/>\r\n    </g>\r\n    <g clip-path=\"url(#p37bf5f978f)\">\r\n     <use style=\"fill:#fde725;\" x=\"428.881991\" xlink:href=\"#C1_0_0046b6ae93\" y=\"159.199091\"/>\r\n    </g>\r\n    <g clip-path=\"url(#p37bf5f978f)\">\r\n     <use style=\"fill:#fde725;\" x=\"356.741752\" xlink:href=\"#C1_0_0046b6ae93\" y=\"78.052982\"/>\r\n    </g>\r\n    <g clip-path=\"url(#p37bf5f978f)\">\r\n     <use style=\"fill:#fde725;\" x=\"383.685982\" xlink:href=\"#C1_0_0046b6ae93\" y=\"117.349124\"/>\r\n    </g>\r\n    <g clip-path=\"url(#p37bf5f978f)\">\r\n     <use style=\"fill:#fde725;\" x=\"436.822696\" xlink:href=\"#C1_0_0046b6ae93\" y=\"158.835766\"/>\r\n    </g>\r\n    <g clip-path=\"url(#p37bf5f978f)\">\r\n     <use style=\"fill:#fde725;\" x=\"404.814628\" xlink:href=\"#C1_0_0046b6ae93\" y=\"122.531394\"/>\r\n    </g>\r\n    <g clip-path=\"url(#p37bf5f978f)\">\r\n     <use style=\"fill:#fde725;\" x=\"414.751138\" xlink:href=\"#C1_0_0046b6ae93\" y=\"151.33515\"/>\r\n    </g>\r\n    <g clip-path=\"url(#p37bf5f978f)\">\r\n     <use style=\"fill:#fde725;\" x=\"364.767008\" xlink:href=\"#C1_0_0046b6ae93\" y=\"118.600903\"/>\r\n    </g>\r\n    <g clip-path=\"url(#p37bf5f978f)\">\r\n     <use style=\"fill:#fde725;\" x=\"344.145057\" xlink:href=\"#C1_0_0046b6ae93\" y=\"94.616254\"/>\r\n    </g>\r\n    <g clip-path=\"url(#p37bf5f978f)\">\r\n     <use style=\"fill:#fde725;\" x=\"344.373542\" xlink:href=\"#C1_0_0046b6ae93\" y=\"57.978252\"/>\r\n    </g>\r\n    <g clip-path=\"url(#p37bf5f978f)\">\r\n     <use style=\"fill:#fde725;\" x=\"407.642014\" xlink:href=\"#C1_0_0046b6ae93\" y=\"137.600807\"/>\r\n    </g>\r\n    <g clip-path=\"url(#p37bf5f978f)\">\r\n     <use style=\"fill:#fde725;\" x=\"442.587507\" xlink:href=\"#C1_0_0046b6ae93\" y=\"150.651906\"/>\r\n    </g>\r\n    <g clip-path=\"url(#p37bf5f978f)\">\r\n     <use style=\"fill:#fde725;\" x=\"402.929588\" xlink:href=\"#C1_0_0046b6ae93\" y=\"120.163433\"/>\r\n    </g>\r\n    <g clip-path=\"url(#p37bf5f978f)\">\r\n     <use style=\"fill:#fde725;\" x=\"406.152097\" xlink:href=\"#C1_0_0046b6ae93\" y=\"128.310712\"/>\r\n    </g>\r\n    <g clip-path=\"url(#p37bf5f978f)\">\r\n     <use style=\"fill:#fde725;\" x=\"383.632128\" xlink:href=\"#C1_0_0046b6ae93\" y=\"135.144058\"/>\r\n    </g>\r\n    <g clip-path=\"url(#p37bf5f978f)\">\r\n     <use style=\"fill:#fde725;\" x=\"321.369527\" xlink:href=\"#C1_0_0046b6ae93\" y=\"96.490541\"/>\r\n    </g>\r\n    <g clip-path=\"url(#p37bf5f978f)\">\r\n     <use style=\"fill:#fde725;\" x=\"360.007298\" xlink:href=\"#C1_0_0046b6ae93\" y=\"102.458783\"/>\r\n    </g>\r\n    <g clip-path=\"url(#p37bf5f978f)\">\r\n     <use style=\"fill:#fde725;\" x=\"432.987029\" xlink:href=\"#C1_0_0046b6ae93\" y=\"149.573986\"/>\r\n    </g>\r\n    <g clip-path=\"url(#p37bf5f978f)\">\r\n     <use style=\"fill:#fde725;\" x=\"420.893079\" xlink:href=\"#C1_0_0046b6ae93\" y=\"133.135487\"/>\r\n    </g>\r\n    <g clip-path=\"url(#p37bf5f978f)\">\r\n     <use style=\"fill:#fde725;\" x=\"417.872066\" xlink:href=\"#C1_0_0046b6ae93\" y=\"144.859795\"/>\r\n    </g>\r\n    <g clip-path=\"url(#p37bf5f978f)\">\r\n     <use style=\"fill:#fde725;\" x=\"417.372146\" xlink:href=\"#C1_0_0046b6ae93\" y=\"133.266797\"/>\r\n    </g>\r\n    <g clip-path=\"url(#p37bf5f978f)\">\r\n     <use style=\"fill:#fde725;\" x=\"434.811433\" xlink:href=\"#C1_0_0046b6ae93\" y=\"147.402365\"/>\r\n    </g>\r\n    <g clip-path=\"url(#p37bf5f978f)\">\r\n     <use style=\"fill:#fde725;\" x=\"362.049554\" xlink:href=\"#C1_0_0046b6ae93\" y=\"96.263225\"/>\r\n    </g>\r\n    <g clip-path=\"url(#p37bf5f978f)\">\r\n     <use style=\"fill:#fde725;\" x=\"426.103765\" xlink:href=\"#C1_0_0046b6ae93\" y=\"158.1043\"/>\r\n    </g>\r\n    <g clip-path=\"url(#p37bf5f978f)\">\r\n     <use style=\"fill:#fde725;\" x=\"423.51937\" xlink:href=\"#C1_0_0046b6ae93\" y=\"154.942526\"/>\r\n    </g>\r\n    <g clip-path=\"url(#p37bf5f978f)\">\r\n     <use style=\"fill:#fde725;\" x=\"395.614686\" xlink:href=\"#C1_0_0046b6ae93\" y=\"136.212338\"/>\r\n    </g>\r\n    <g clip-path=\"url(#p37bf5f978f)\">\r\n     <use style=\"fill:#fde725;\" x=\"415.981314\" xlink:href=\"#C1_0_0046b6ae93\" y=\"128.449558\"/>\r\n    </g>\r\n    <g clip-path=\"url(#p37bf5f978f)\">\r\n     <use style=\"fill:#fde725;\" x=\"361.240007\" xlink:href=\"#C1_0_0046b6ae93\" y=\"119.338176\"/>\r\n    </g>\r\n    <g clip-path=\"url(#p37bf5f978f)\">\r\n     <use style=\"fill:#440154;\" x=\"347.104851\" xlink:href=\"#C1_0_0046b6ae93\" y=\"161.928151\"/>\r\n    </g>\r\n    <g clip-path=\"url(#p37bf5f978f)\">\r\n     <use style=\"fill:#440154;\" x=\"311.45577\" xlink:href=\"#C1_0_0046b6ae93\" y=\"153.230347\"/>\r\n    </g>\r\n    <g clip-path=\"url(#p37bf5f978f)\">\r\n     <use style=\"fill:#440154;\" x=\"334.806075\" xlink:href=\"#C1_0_0046b6ae93\" y=\"155.753514\"/>\r\n    </g>\r\n    <g clip-path=\"url(#p37bf5f978f)\">\r\n     <use style=\"fill:#440154;\" x=\"322.308152\" xlink:href=\"#C1_0_0046b6ae93\" y=\"137.554229\"/>\r\n    </g>\r\n    <g clip-path=\"url(#p37bf5f978f)\">\r\n     <use style=\"fill:#440154;\" x=\"312.691463\" xlink:href=\"#C1_0_0046b6ae93\" y=\"163.123856\"/>\r\n    </g>\r\n    <g clip-path=\"url(#p37bf5f978f)\">\r\n     <use style=\"fill:#440154;\" x=\"308.52342\" xlink:href=\"#C1_0_0046b6ae93\" y=\"159.805828\"/>\r\n    </g>\r\n    <g clip-path=\"url(#p37bf5f978f)\">\r\n     <use style=\"fill:#440154;\" x=\"339.822526\" xlink:href=\"#C1_0_0046b6ae93\" y=\"165.709745\"/>\r\n    </g>\r\n    <g clip-path=\"url(#p37bf5f978f)\">\r\n     <use style=\"fill:#440154;\" x=\"335.347945\" xlink:href=\"#C1_0_0046b6ae93\" y=\"160.727282\"/>\r\n    </g>\r\n    <g clip-path=\"url(#p37bf5f978f)\">\r\n     <use style=\"fill:#440154;\" x=\"347.081766\" xlink:href=\"#C1_0_0046b6ae93\" y=\"196.53622\"/>\r\n    </g>\r\n    <g clip-path=\"url(#p37bf5f978f)\">\r\n     <use style=\"fill:#440154;\" x=\"375.886343\" xlink:href=\"#C1_0_0046b6ae93\" y=\"149.381984\"/>\r\n    </g>\r\n    <g clip-path=\"url(#p37bf5f978f)\">\r\n     <use style=\"fill:#440154;\" x=\"367.104043\" xlink:href=\"#C1_0_0046b6ae93\" y=\"176.562722\"/>\r\n    </g>\r\n    <g clip-path=\"url(#p37bf5f978f)\">\r\n     <use style=\"fill:#440154;\" x=\"353.53075\" xlink:href=\"#C1_0_0046b6ae93\" y=\"175.947819\"/>\r\n    </g>\r\n    <g clip-path=\"url(#p37bf5f978f)\">\r\n     <use style=\"fill:#440154;\" x=\"354.229056\" xlink:href=\"#C1_0_0046b6ae93\" y=\"166.36412\"/>\r\n    </g>\r\n    <g clip-path=\"url(#p37bf5f978f)\">\r\n     <use style=\"fill:#440154;\" x=\"323.354031\" xlink:href=\"#C1_0_0046b6ae93\" y=\"156.439786\"/>\r\n    </g>\r\n    <g clip-path=\"url(#p37bf5f978f)\">\r\n     <use style=\"fill:#440154;\" x=\"342.024865\" xlink:href=\"#C1_0_0046b6ae93\" y=\"190.982364\"/>\r\n    </g>\r\n    <g clip-path=\"url(#p37bf5f978f)\">\r\n     <use style=\"fill:#440154;\" x=\"316.189446\" xlink:href=\"#C1_0_0046b6ae93\" y=\"169.776402\"/>\r\n    </g>\r\n    <g clip-path=\"url(#p37bf5f978f)\">\r\n     <use style=\"fill:#440154;\" x=\"355.611997\" xlink:href=\"#C1_0_0046b6ae93\" y=\"161.74259\"/>\r\n    </g>\r\n    <g clip-path=\"url(#p37bf5f978f)\">\r\n     <use style=\"fill:#440154;\" x=\"346.582015\" xlink:href=\"#C1_0_0046b6ae93\" y=\"160.366691\"/>\r\n    </g>\r\n    <g clip-path=\"url(#p37bf5f978f)\">\r\n     <use style=\"fill:#440154;\" x=\"330.367518\" xlink:href=\"#C1_0_0046b6ae93\" y=\"141.52465\"/>\r\n    </g>\r\n    <g clip-path=\"url(#p37bf5f978f)\">\r\n     <use style=\"fill:#440154;\" x=\"329.75578\" xlink:href=\"#C1_0_0046b6ae93\" y=\"149.939052\"/>\r\n    </g>\r\n    <g clip-path=\"url(#p37bf5f978f)\">\r\n     <use style=\"fill:#440154;\" x=\"325.342827\" xlink:href=\"#C1_0_0046b6ae93\" y=\"177.476783\"/>\r\n    </g>\r\n    <g clip-path=\"url(#p37bf5f978f)\">\r\n     <use style=\"fill:#440154;\" x=\"387.502132\" xlink:href=\"#C1_0_0046b6ae93\" y=\"162.775778\"/>\r\n    </g>\r\n    <g clip-path=\"url(#p37bf5f978f)\">\r\n     <use style=\"fill:#440154;\" x=\"336.802823\" xlink:href=\"#C1_0_0046b6ae93\" y=\"175.583207\"/>\r\n    </g>\r\n    <g clip-path=\"url(#p37bf5f978f)\">\r\n     <use style=\"fill:#440154;\" x=\"352.705638\" xlink:href=\"#C1_0_0046b6ae93\" y=\"151.750372\"/>\r\n    </g>\r\n    <g clip-path=\"url(#p37bf5f978f)\">\r\n     <use style=\"fill:#440154;\" x=\"382.117325\" xlink:href=\"#C1_0_0046b6ae93\" y=\"214.756364\"/>\r\n    </g>\r\n    <g clip-path=\"url(#p37bf5f978f)\">\r\n     <use style=\"fill:#440154;\" x=\"355.758181\" xlink:href=\"#C1_0_0046b6ae93\" y=\"182.032006\"/>\r\n    </g>\r\n    <g clip-path=\"url(#p37bf5f978f)\">\r\n     <use style=\"fill:#440154;\" x=\"343.946283\" xlink:href=\"#C1_0_0046b6ae93\" y=\"173.299853\"/>\r\n    </g>\r\n    <g clip-path=\"url(#p37bf5f978f)\">\r\n     <use style=\"fill:#440154;\" x=\"324.918234\" xlink:href=\"#C1_0_0046b6ae93\" y=\"182.45589\"/>\r\n    </g>\r\n    <g clip-path=\"url(#p37bf5f978f)\">\r\n     <use style=\"fill:#440154;\" x=\"350.100328\" xlink:href=\"#C1_0_0046b6ae93\" y=\"140.405137\"/>\r\n    </g>\r\n    <g clip-path=\"url(#p37bf5f978f)\">\r\n     <use style=\"fill:#440154;\" x=\"325.635454\" xlink:href=\"#C1_0_0046b6ae93\" y=\"158.567712\"/>\r\n    </g>\r\n    <g clip-path=\"url(#p37bf5f978f)\">\r\n     <use style=\"fill:#440154;\" x=\"384.181854\" xlink:href=\"#C1_0_0046b6ae93\" y=\"189.753124\"/>\r\n    </g>\r\n    <g clip-path=\"url(#p37bf5f978f)\">\r\n     <use style=\"fill:#440154;\" x=\"368.068394\" xlink:href=\"#C1_0_0046b6ae93\" y=\"195.984527\"/>\r\n    </g>\r\n    <g clip-path=\"url(#p37bf5f978f)\">\r\n     <use style=\"fill:#440154;\" x=\"372.726605\" xlink:href=\"#C1_0_0046b6ae93\" y=\"170.615225\"/>\r\n    </g>\r\n    <g clip-path=\"url(#p37bf5f978f)\">\r\n     <use style=\"fill:#440154;\" x=\"332.827143\" xlink:href=\"#C1_0_0046b6ae93\" y=\"173.357946\"/>\r\n    </g>\r\n    <g clip-path=\"url(#p37bf5f978f)\">\r\n     <use style=\"fill:#440154;\" x=\"343.268058\" xlink:href=\"#C1_0_0046b6ae93\" y=\"184.873698\"/>\r\n    </g>\r\n    <g clip-path=\"url(#p37bf5f978f)\">\r\n     <use style=\"fill:#440154;\" x=\"343.147444\" xlink:href=\"#C1_0_0046b6ae93\" y=\"132.380286\"/>\r\n    </g>\r\n    <g clip-path=\"url(#p37bf5f978f)\">\r\n     <use style=\"fill:#440154;\" x=\"324.44252\" xlink:href=\"#C1_0_0046b6ae93\" y=\"128.97007\"/>\r\n    </g>\r\n    <g clip-path=\"url(#p37bf5f978f)\">\r\n     <use style=\"fill:#440154;\" x=\"342.032362\" xlink:href=\"#C1_0_0046b6ae93\" y=\"164.575772\"/>\r\n    </g>\r\n    <g clip-path=\"url(#p37bf5f978f)\">\r\n     <use style=\"fill:#440154;\" x=\"310.95272\" xlink:href=\"#C1_0_0046b6ae93\" y=\"139.909621\"/>\r\n    </g>\r\n    <g clip-path=\"url(#p37bf5f978f)\">\r\n     <use style=\"fill:#440154;\" x=\"368.793326\" xlink:href=\"#C1_0_0046b6ae93\" y=\"188.256188\"/>\r\n    </g>\r\n    <g clip-path=\"url(#p37bf5f978f)\">\r\n     <use style=\"fill:#440154;\" x=\"358.422468\" xlink:href=\"#C1_0_0046b6ae93\" y=\"185.721377\"/>\r\n    </g>\r\n    <g clip-path=\"url(#p37bf5f978f)\">\r\n     <use style=\"fill:#440154;\" x=\"350.807693\" xlink:href=\"#C1_0_0046b6ae93\" y=\"179.256598\"/>\r\n    </g>\r\n    <g clip-path=\"url(#p37bf5f978f)\">\r\n     <use style=\"fill:#440154;\" x=\"343.076799\" xlink:href=\"#C1_0_0046b6ae93\" y=\"166.652361\"/>\r\n    </g>\r\n    <g clip-path=\"url(#p37bf5f978f)\">\r\n     <use style=\"fill:#440154;\" x=\"308.367358\" xlink:href=\"#C1_0_0046b6ae93\" y=\"163.130527\"/>\r\n    </g>\r\n    <g clip-path=\"url(#p37bf5f978f)\">\r\n     <use style=\"fill:#440154;\" x=\"332.87786\" xlink:href=\"#C1_0_0046b6ae93\" y=\"190.565935\"/>\r\n    </g>\r\n    <g clip-path=\"url(#p37bf5f978f)\">\r\n     <use style=\"fill:#440154;\" x=\"334.523736\" xlink:href=\"#C1_0_0046b6ae93\" y=\"183.589454\"/>\r\n    </g>\r\n    <g clip-path=\"url(#p37bf5f978f)\">\r\n     <use style=\"fill:#440154;\" x=\"363.383928\" xlink:href=\"#C1_0_0046b6ae93\" y=\"182.091224\"/>\r\n    </g>\r\n    <g clip-path=\"url(#p37bf5f978f)\">\r\n     <use style=\"fill:#440154;\" x=\"342.707923\" xlink:href=\"#C1_0_0046b6ae93\" y=\"185.049877\"/>\r\n    </g>\r\n    <g clip-path=\"url(#p37bf5f978f)\">\r\n     <use style=\"fill:#440154;\" x=\"351.870909\" xlink:href=\"#C1_0_0046b6ae93\" y=\"182.884328\"/>\r\n    </g>\r\n    <g clip-path=\"url(#p37bf5f978f)\">\r\n     <use style=\"fill:#440154;\" x=\"345.113183\" xlink:href=\"#C1_0_0046b6ae93\" y=\"165.394349\"/>\r\n    </g>\r\n    <g clip-path=\"url(#p37bf5f978f)\">\r\n     <use style=\"fill:#440154;\" x=\"344.528504\" xlink:href=\"#C1_0_0046b6ae93\" y=\"170.829504\"/>\r\n    </g>\r\n    <g clip-path=\"url(#p37bf5f978f)\">\r\n     <use style=\"fill:#440154;\" x=\"330.648762\" xlink:href=\"#C1_0_0046b6ae93\" y=\"161.417427\"/>\r\n    </g>\r\n    <g clip-path=\"url(#p37bf5f978f)\">\r\n     <use style=\"fill:#440154;\" x=\"361.923527\" xlink:href=\"#C1_0_0046b6ae93\" y=\"162.798136\"/>\r\n    </g>\r\n    <g clip-path=\"url(#p37bf5f978f)\">\r\n     <use style=\"fill:#440154;\" x=\"348.37675\" xlink:href=\"#C1_0_0046b6ae93\" y=\"170.981871\"/>\r\n    </g>\r\n    <g clip-path=\"url(#p37bf5f978f)\">\r\n     <use style=\"fill:#440154;\" x=\"332.615534\" xlink:href=\"#C1_0_0046b6ae93\" y=\"134.907633\"/>\r\n    </g>\r\n    <g clip-path=\"url(#p37bf5f978f)\">\r\n     <use style=\"fill:#440154;\" x=\"346.380188\" xlink:href=\"#C1_0_0046b6ae93\" y=\"158.3129\"/>\r\n    </g>\r\n    <g clip-path=\"url(#p37bf5f978f)\">\r\n     <use style=\"fill:#440154;\" x=\"329.522261\" xlink:href=\"#C1_0_0046b6ae93\" y=\"162.470018\"/>\r\n    </g>\r\n    <g clip-path=\"url(#p37bf5f978f)\">\r\n     <use style=\"fill:#440154;\" x=\"330.450137\" xlink:href=\"#C1_0_0046b6ae93\" y=\"160.298101\"/>\r\n    </g>\r\n    <g clip-path=\"url(#p37bf5f978f)\">\r\n     <use style=\"fill:#440154;\" x=\"317.316741\" xlink:href=\"#C1_0_0046b6ae93\" y=\"161.607576\"/>\r\n    </g>\r\n    <g clip-path=\"url(#p37bf5f978f)\">\r\n     <use style=\"fill:#440154;\" x=\"310.017094\" xlink:href=\"#C1_0_0046b6ae93\" y=\"155.748816\"/>\r\n    </g>\r\n    <g clip-path=\"url(#p37bf5f978f)\">\r\n     <use style=\"fill:#440154;\" x=\"312.396087\" xlink:href=\"#C1_0_0046b6ae93\" y=\"157.693329\"/>\r\n    </g>\r\n    <g clip-path=\"url(#p37bf5f978f)\">\r\n     <use style=\"fill:#440154;\" x=\"341.164917\" xlink:href=\"#C1_0_0046b6ae93\" y=\"152.152993\"/>\r\n    </g>\r\n    <g clip-path=\"url(#p37bf5f978f)\">\r\n     <use style=\"fill:#440154;\" x=\"368.111945\" xlink:href=\"#C1_0_0046b6ae93\" y=\"157.55265\"/>\r\n    </g>\r\n    <g clip-path=\"url(#p37bf5f978f)\">\r\n     <use style=\"fill:#440154;\" x=\"360.860348\" xlink:href=\"#C1_0_0046b6ae93\" y=\"189.970828\"/>\r\n    </g>\r\n    <g clip-path=\"url(#p37bf5f978f)\">\r\n     <use style=\"fill:#440154;\" x=\"335.857103\" xlink:href=\"#C1_0_0046b6ae93\" y=\"132.228735\"/>\r\n    </g>\r\n    <g clip-path=\"url(#p37bf5f978f)\">\r\n     <use style=\"fill:#440154;\" x=\"361.122343\" xlink:href=\"#C1_0_0046b6ae93\" y=\"171.249426\"/>\r\n    </g>\r\n    <g clip-path=\"url(#p37bf5f978f)\">\r\n     <use style=\"fill:#440154;\" x=\"345.365051\" xlink:href=\"#C1_0_0046b6ae93\" y=\"175.260757\"/>\r\n    </g>\r\n    <g clip-path=\"url(#p37bf5f978f)\">\r\n     <use style=\"fill:#440154;\" x=\"330.165437\" xlink:href=\"#C1_0_0046b6ae93\" y=\"162.539632\"/>\r\n    </g>\r\n    <g clip-path=\"url(#p37bf5f978f)\">\r\n     <use style=\"fill:#440154;\" x=\"347.400834\" xlink:href=\"#C1_0_0046b6ae93\" y=\"137.033365\"/>\r\n    </g>\r\n    <g clip-path=\"url(#p37bf5f978f)\">\r\n     <use style=\"fill:#440154;\" x=\"337.033169\" xlink:href=\"#C1_0_0046b6ae93\" y=\"153.604343\"/>\r\n    </g>\r\n    <g clip-path=\"url(#p37bf5f978f)\">\r\n     <use style=\"fill:#440154;\" x=\"318.071023\" xlink:href=\"#C1_0_0046b6ae93\" y=\"121.808122\"/>\r\n    </g>\r\n    <g clip-path=\"url(#p37bf5f978f)\">\r\n     <use style=\"fill:#440154;\" x=\"356.500306\" xlink:href=\"#C1_0_0046b6ae93\" y=\"174.660077\"/>\r\n    </g>\r\n    <g clip-path=\"url(#p37bf5f978f)\">\r\n     <use style=\"fill:#440154;\" x=\"315.526486\" xlink:href=\"#C1_0_0046b6ae93\" y=\"145.553946\"/>\r\n    </g>\r\n    <g clip-path=\"url(#p37bf5f978f)\">\r\n     <use style=\"fill:#440154;\" x=\"390.305106\" xlink:href=\"#C1_0_0046b6ae93\" y=\"206.727563\"/>\r\n    </g>\r\n    <g clip-path=\"url(#p37bf5f978f)\">\r\n     <use style=\"fill:#440154;\" x=\"335.652665\" xlink:href=\"#C1_0_0046b6ae93\" y=\"131.799376\"/>\r\n    </g>\r\n    <g clip-path=\"url(#p37bf5f978f)\">\r\n     <use style=\"fill:#440154;\" x=\"349.886397\" xlink:href=\"#C1_0_0046b6ae93\" y=\"146.860522\"/>\r\n    </g>\r\n    <g clip-path=\"url(#p37bf5f978f)\">\r\n     <use style=\"fill:#440154;\" x=\"333.898237\" xlink:href=\"#C1_0_0046b6ae93\" y=\"157.942142\"/>\r\n    </g>\r\n    <g clip-path=\"url(#p37bf5f978f)\">\r\n     <use style=\"fill:#440154;\" x=\"356.811131\" xlink:href=\"#C1_0_0046b6ae93\" y=\"161.966351\"/>\r\n    </g>\r\n    <g clip-path=\"url(#p37bf5f978f)\">\r\n     <use style=\"fill:#440154;\" x=\"332.542849\" xlink:href=\"#C1_0_0046b6ae93\" y=\"133.941891\"/>\r\n    </g>\r\n    <g clip-path=\"url(#p37bf5f978f)\">\r\n     <use style=\"fill:#440154;\" x=\"315.650909\" xlink:href=\"#C1_0_0046b6ae93\" y=\"172.261864\"/>\r\n    </g>\r\n    <g clip-path=\"url(#p37bf5f978f)\">\r\n     <use style=\"fill:#440154;\" x=\"325.292875\" xlink:href=\"#C1_0_0046b6ae93\" y=\"110.848118\"/>\r\n    </g>\r\n    <g clip-path=\"url(#p37bf5f978f)\">\r\n     <use style=\"fill:#440154;\" x=\"335.823613\" xlink:href=\"#C1_0_0046b6ae93\" y=\"181.615311\"/>\r\n    </g>\r\n    <g clip-path=\"url(#p37bf5f978f)\">\r\n     <use style=\"fill:#440154;\" x=\"351.463986\" xlink:href=\"#C1_0_0046b6ae93\" y=\"154.040972\"/>\r\n    </g>\r\n    <g clip-path=\"url(#p37bf5f978f)\">\r\n     <use style=\"fill:#440154;\" x=\"297.582793\" xlink:href=\"#C1_0_0046b6ae93\" y=\"153.986126\"/>\r\n    </g>\r\n    <g clip-path=\"url(#p37bf5f978f)\">\r\n     <use style=\"fill:#440154;\" x=\"349.484531\" xlink:href=\"#C1_0_0046b6ae93\" y=\"182.954537\"/>\r\n    </g>\r\n    <g clip-path=\"url(#p37bf5f978f)\">\r\n     <use style=\"fill:#440154;\" x=\"347.608971\" xlink:href=\"#C1_0_0046b6ae93\" y=\"180.013907\"/>\r\n    </g>\r\n    <g clip-path=\"url(#p37bf5f978f)\">\r\n     <use style=\"fill:#440154;\" x=\"326.783906\" xlink:href=\"#C1_0_0046b6ae93\" y=\"148.182549\"/>\r\n    </g>\r\n    <g clip-path=\"url(#p37bf5f978f)\">\r\n     <use style=\"fill:#440154;\" x=\"317.667831\" xlink:href=\"#C1_0_0046b6ae93\" y=\"145.196716\"/>\r\n    </g>\r\n    <g clip-path=\"url(#p37bf5f978f)\">\r\n     <use style=\"fill:#440154;\" x=\"332.612714\" xlink:href=\"#C1_0_0046b6ae93\" y=\"138.451267\"/>\r\n    </g>\r\n    <g clip-path=\"url(#p37bf5f978f)\">\r\n     <use style=\"fill:#440154;\" x=\"357.161921\" xlink:href=\"#C1_0_0046b6ae93\" y=\"156.449762\"/>\r\n    </g>\r\n    <g clip-path=\"url(#p37bf5f978f)\">\r\n     <use style=\"fill:#440154;\" x=\"352.870193\" xlink:href=\"#C1_0_0046b6ae93\" y=\"123.331097\"/>\r\n    </g>\r\n    <g clip-path=\"url(#p37bf5f978f)\">\r\n     <use style=\"fill:#440154;\" x=\"321.408575\" xlink:href=\"#C1_0_0046b6ae93\" y=\"153.390449\"/>\r\n    </g>\r\n    <g clip-path=\"url(#p37bf5f978f)\">\r\n     <use style=\"fill:#440154;\" x=\"364.401242\" xlink:href=\"#C1_0_0046b6ae93\" y=\"197.651764\"/>\r\n    </g>\r\n    <g clip-path=\"url(#p37bf5f978f)\">\r\n     <use style=\"fill:#440154;\" x=\"336.620229\" xlink:href=\"#C1_0_0046b6ae93\" y=\"115.827572\"/>\r\n    </g>\r\n    <g clip-path=\"url(#p37bf5f978f)\">\r\n     <use style=\"fill:#440154;\" x=\"374.501264\" xlink:href=\"#C1_0_0046b6ae93\" y=\"176.677721\"/>\r\n    </g>\r\n    <g clip-path=\"url(#p37bf5f978f)\">\r\n     <use style=\"fill:#440154;\" x=\"321.972791\" xlink:href=\"#C1_0_0046b6ae93\" y=\"192.197784\"/>\r\n    </g>\r\n    <g clip-path=\"url(#p37bf5f978f)\">\r\n     <use style=\"fill:#440154;\" x=\"357.183343\" xlink:href=\"#C1_0_0046b6ae93\" y=\"163.699448\"/>\r\n    </g>\r\n    <g clip-path=\"url(#p37bf5f978f)\">\r\n     <use style=\"fill:#440154;\" x=\"281.774425\" xlink:href=\"#C1_0_0046b6ae93\" y=\"122.683423\"/>\r\n    </g>\r\n    <g clip-path=\"url(#p37bf5f978f)\">\r\n     <use style=\"fill:#440154;\" x=\"370.093974\" xlink:href=\"#C1_0_0046b6ae93\" y=\"197.804271\"/>\r\n    </g>\r\n    <g clip-path=\"url(#p37bf5f978f)\">\r\n     <use style=\"fill:#440154;\" x=\"375.418803\" xlink:href=\"#C1_0_0046b6ae93\" y=\"181.784793\"/>\r\n    </g>\r\n   </g>\r\n   <g id=\"matplotlib.axis_3\">\r\n    <g id=\"xtick_4\">\r\n     <g id=\"line2d_11\">\r\n      <g>\r\n       <use style=\"stroke:#000000;stroke-width:0.8;\" x=\"284.203907\" xlink:href=\"#m9e65dba1f8\" y=\"224.64\"/>\r\n      </g>\r\n     </g>\r\n     <g id=\"text_11\">\r\n      <!-- −5.0 -->\r\n      <g transform=\"translate(272.062501 239.238437)scale(0.1 -0.1)\">\r\n       <defs>\r\n        <path d=\"M 10.796875 72.90625 \r\nL 49.515625 72.90625 \r\nL 49.515625 64.59375 \r\nL 19.828125 64.59375 \r\nL 19.828125 46.734375 \r\nQ 21.96875 47.46875 24.109375 47.828125 \r\nQ 26.265625 48.1875 28.421875 48.1875 \r\nQ 40.625 48.1875 47.75 41.5 \r\nQ 54.890625 34.8125 54.890625 23.390625 \r\nQ 54.890625 11.625 47.5625 5.09375 \r\nQ 40.234375 -1.421875 26.90625 -1.421875 \r\nQ 22.3125 -1.421875 17.546875 -0.640625 \r\nQ 12.796875 0.140625 7.71875 1.703125 \r\nL 7.71875 11.625 \r\nQ 12.109375 9.234375 16.796875 8.0625 \r\nQ 21.484375 6.890625 26.703125 6.890625 \r\nQ 35.15625 6.890625 40.078125 11.328125 \r\nQ 45.015625 15.765625 45.015625 23.390625 \r\nQ 45.015625 31 40.078125 35.4375 \r\nQ 35.15625 39.890625 26.703125 39.890625 \r\nQ 22.75 39.890625 18.8125 39.015625 \r\nQ 14.890625 38.140625 10.796875 36.28125 \r\nz\r\n\" id=\"DejaVuSans-53\"/>\r\n        <path d=\"M 10.6875 12.40625 \r\nL 21 12.40625 \r\nL 21 0 \r\nL 10.6875 0 \r\nz\r\n\" id=\"DejaVuSans-46\"/>\r\n       </defs>\r\n       <use xlink:href=\"#DejaVuSans-8722\"/>\r\n       <use x=\"83.789062\" xlink:href=\"#DejaVuSans-53\"/>\r\n       <use x=\"147.412109\" xlink:href=\"#DejaVuSans-46\"/>\r\n       <use x=\"179.199219\" xlink:href=\"#DejaVuSans-48\"/>\r\n      </g>\r\n     </g>\r\n    </g>\r\n    <g id=\"xtick_5\">\r\n     <g id=\"line2d_12\">\r\n      <g>\r\n       <use style=\"stroke:#000000;stroke-width:0.8;\" x=\"324.768624\" xlink:href=\"#m9e65dba1f8\" y=\"224.64\"/>\r\n      </g>\r\n     </g>\r\n     <g id=\"text_12\">\r\n      <!-- −2.5 -->\r\n      <g transform=\"translate(312.627217 239.238437)scale(0.1 -0.1)\">\r\n       <use xlink:href=\"#DejaVuSans-8722\"/>\r\n       <use x=\"83.789062\" xlink:href=\"#DejaVuSans-50\"/>\r\n       <use x=\"147.412109\" xlink:href=\"#DejaVuSans-46\"/>\r\n       <use x=\"179.199219\" xlink:href=\"#DejaVuSans-53\"/>\r\n      </g>\r\n     </g>\r\n    </g>\r\n    <g id=\"xtick_6\">\r\n     <g id=\"line2d_13\">\r\n      <g>\r\n       <use style=\"stroke:#000000;stroke-width:0.8;\" x=\"365.33334\" xlink:href=\"#m9e65dba1f8\" y=\"224.64\"/>\r\n      </g>\r\n     </g>\r\n     <g id=\"text_13\">\r\n      <!-- 0.0 -->\r\n      <g transform=\"translate(357.381777 239.238437)scale(0.1 -0.1)\">\r\n       <use xlink:href=\"#DejaVuSans-48\"/>\r\n       <use x=\"63.623047\" xlink:href=\"#DejaVuSans-46\"/>\r\n       <use x=\"95.410156\" xlink:href=\"#DejaVuSans-48\"/>\r\n      </g>\r\n     </g>\r\n    </g>\r\n    <g id=\"xtick_7\">\r\n     <g id=\"line2d_14\">\r\n      <g>\r\n       <use style=\"stroke:#000000;stroke-width:0.8;\" x=\"405.898056\" xlink:href=\"#m9e65dba1f8\" y=\"224.64\"/>\r\n      </g>\r\n     </g>\r\n     <g id=\"text_14\">\r\n      <!-- 2.5 -->\r\n      <g transform=\"translate(397.946493 239.238437)scale(0.1 -0.1)\">\r\n       <use xlink:href=\"#DejaVuSans-50\"/>\r\n       <use x=\"63.623047\" xlink:href=\"#DejaVuSans-46\"/>\r\n       <use x=\"95.410156\" xlink:href=\"#DejaVuSans-53\"/>\r\n      </g>\r\n     </g>\r\n    </g>\r\n    <g id=\"xtick_8\">\r\n     <g id=\"line2d_15\">\r\n      <g>\r\n       <use style=\"stroke:#000000;stroke-width:0.8;\" x=\"446.462772\" xlink:href=\"#m9e65dba1f8\" y=\"224.64\"/>\r\n      </g>\r\n     </g>\r\n     <g id=\"text_15\">\r\n      <!-- 5.0 -->\r\n      <g transform=\"translate(438.51121 239.238437)scale(0.1 -0.1)\">\r\n       <use xlink:href=\"#DejaVuSans-53\"/>\r\n       <use x=\"63.623047\" xlink:href=\"#DejaVuSans-46\"/>\r\n       <use x=\"95.410156\" xlink:href=\"#DejaVuSans-48\"/>\r\n      </g>\r\n     </g>\r\n    </g>\r\n   </g>\r\n   <g id=\"matplotlib.axis_4\">\r\n    <g id=\"ytick_8\">\r\n     <g id=\"line2d_16\">\r\n      <g>\r\n       <use style=\"stroke:#000000;stroke-width:0.8;\" x=\"272.563104\" xlink:href=\"#me3f85fee02\" y=\"205.828218\"/>\r\n      </g>\r\n     </g>\r\n     <g id=\"text_16\">\r\n      <!-- −4 -->\r\n      <g transform=\"translate(250.820916 209.627436)scale(0.1 -0.1)\">\r\n       <defs>\r\n        <path d=\"M 37.796875 64.3125 \r\nL 12.890625 25.390625 \r\nL 37.796875 25.390625 \r\nz\r\nM 35.203125 72.90625 \r\nL 47.609375 72.90625 \r\nL 47.609375 25.390625 \r\nL 58.015625 25.390625 \r\nL 58.015625 17.1875 \r\nL 47.609375 17.1875 \r\nL 47.609375 0 \r\nL 37.796875 0 \r\nL 37.796875 17.1875 \r\nL 4.890625 17.1875 \r\nL 4.890625 26.703125 \r\nz\r\n\" id=\"DejaVuSans-52\"/>\r\n       </defs>\r\n       <use xlink:href=\"#DejaVuSans-8722\"/>\r\n       <use x=\"83.789062\" xlink:href=\"#DejaVuSans-52\"/>\r\n      </g>\r\n     </g>\r\n    </g>\r\n    <g id=\"ytick_9\">\r\n     <g id=\"line2d_17\">\r\n      <g>\r\n       <use style=\"stroke:#000000;stroke-width:0.8;\" x=\"272.563104\" xlink:href=\"#me3f85fee02\" y=\"173.376445\"/>\r\n      </g>\r\n     </g>\r\n     <g id=\"text_17\">\r\n      <!-- −2 -->\r\n      <g transform=\"translate(250.820916 177.175664)scale(0.1 -0.1)\">\r\n       <use xlink:href=\"#DejaVuSans-8722\"/>\r\n       <use x=\"83.789062\" xlink:href=\"#DejaVuSans-50\"/>\r\n      </g>\r\n     </g>\r\n    </g>\r\n    <g id=\"ytick_10\">\r\n     <g id=\"line2d_18\">\r\n      <g>\r\n       <use style=\"stroke:#000000;stroke-width:0.8;\" x=\"272.563104\" xlink:href=\"#me3f85fee02\" y=\"140.924672\"/>\r\n      </g>\r\n     </g>\r\n     <g id=\"text_18\">\r\n      <!-- 0 -->\r\n      <g transform=\"translate(259.200604 144.723891)scale(0.1 -0.1)\">\r\n       <use xlink:href=\"#DejaVuSans-48\"/>\r\n      </g>\r\n     </g>\r\n    </g>\r\n    <g id=\"ytick_11\">\r\n     <g id=\"line2d_19\">\r\n      <g>\r\n       <use style=\"stroke:#000000;stroke-width:0.8;\" x=\"272.563104\" xlink:href=\"#me3f85fee02\" y=\"108.472899\"/>\r\n      </g>\r\n     </g>\r\n     <g id=\"text_19\">\r\n      <!-- 2 -->\r\n      <g transform=\"translate(259.200604 112.272118)scale(0.1 -0.1)\">\r\n       <use xlink:href=\"#DejaVuSans-50\"/>\r\n      </g>\r\n     </g>\r\n    </g>\r\n    <g id=\"ytick_12\">\r\n     <g id=\"line2d_20\">\r\n      <g>\r\n       <use style=\"stroke:#000000;stroke-width:0.8;\" x=\"272.563104\" xlink:href=\"#me3f85fee02\" y=\"76.021126\"/>\r\n      </g>\r\n     </g>\r\n     <g id=\"text_20\">\r\n      <!-- 4 -->\r\n      <g transform=\"translate(259.200604 79.820345)scale(0.1 -0.1)\">\r\n       <use xlink:href=\"#DejaVuSans-52\"/>\r\n      </g>\r\n     </g>\r\n    </g>\r\n    <g id=\"ytick_13\">\r\n     <g id=\"line2d_21\">\r\n      <g>\r\n       <use style=\"stroke:#000000;stroke-width:0.8;\" x=\"272.563104\" xlink:href=\"#me3f85fee02\" y=\"43.569353\"/>\r\n      </g>\r\n     </g>\r\n     <g id=\"text_21\">\r\n      <!-- 6 -->\r\n      <g transform=\"translate(259.200604 47.368572)scale(0.1 -0.1)\">\r\n       <defs>\r\n        <path d=\"M 33.015625 40.375 \r\nQ 26.375 40.375 22.484375 35.828125 \r\nQ 18.609375 31.296875 18.609375 23.390625 \r\nQ 18.609375 15.53125 22.484375 10.953125 \r\nQ 26.375 6.390625 33.015625 6.390625 \r\nQ 39.65625 6.390625 43.53125 10.953125 \r\nQ 47.40625 15.53125 47.40625 23.390625 \r\nQ 47.40625 31.296875 43.53125 35.828125 \r\nQ 39.65625 40.375 33.015625 40.375 \r\nz\r\nM 52.59375 71.296875 \r\nL 52.59375 62.3125 \r\nQ 48.875 64.0625 45.09375 64.984375 \r\nQ 41.3125 65.921875 37.59375 65.921875 \r\nQ 27.828125 65.921875 22.671875 59.328125 \r\nQ 17.53125 52.734375 16.796875 39.40625 \r\nQ 19.671875 43.65625 24.015625 45.921875 \r\nQ 28.375 48.1875 33.59375 48.1875 \r\nQ 44.578125 48.1875 50.953125 41.515625 \r\nQ 57.328125 34.859375 57.328125 23.390625 \r\nQ 57.328125 12.15625 50.6875 5.359375 \r\nQ 44.046875 -1.421875 33.015625 -1.421875 \r\nQ 20.359375 -1.421875 13.671875 8.265625 \r\nQ 6.984375 17.96875 6.984375 36.375 \r\nQ 6.984375 53.65625 15.1875 63.9375 \r\nQ 23.390625 74.21875 37.203125 74.21875 \r\nQ 40.921875 74.21875 44.703125 73.484375 \r\nQ 48.484375 72.75 52.59375 71.296875 \r\nz\r\n\" id=\"DejaVuSans-54\"/>\r\n       </defs>\r\n       <use xlink:href=\"#DejaVuSans-54\"/>\r\n      </g>\r\n     </g>\r\n    </g>\r\n    <g id=\"ytick_14\">\r\n     <g id=\"line2d_22\">\r\n      <g>\r\n       <use style=\"stroke:#000000;stroke-width:0.8;\" x=\"272.563104\" xlink:href=\"#me3f85fee02\" y=\"11.11758\"/>\r\n      </g>\r\n     </g>\r\n     <g id=\"text_22\">\r\n      <!-- 8 -->\r\n      <g transform=\"translate(259.200604 14.916799)scale(0.1 -0.1)\">\r\n       <defs>\r\n        <path d=\"M 31.78125 34.625 \r\nQ 24.75 34.625 20.71875 30.859375 \r\nQ 16.703125 27.09375 16.703125 20.515625 \r\nQ 16.703125 13.921875 20.71875 10.15625 \r\nQ 24.75 6.390625 31.78125 6.390625 \r\nQ 38.8125 6.390625 42.859375 10.171875 \r\nQ 46.921875 13.96875 46.921875 20.515625 \r\nQ 46.921875 27.09375 42.890625 30.859375 \r\nQ 38.875 34.625 31.78125 34.625 \r\nz\r\nM 21.921875 38.8125 \r\nQ 15.578125 40.375 12.03125 44.71875 \r\nQ 8.5 49.078125 8.5 55.328125 \r\nQ 8.5 64.0625 14.71875 69.140625 \r\nQ 20.953125 74.21875 31.78125 74.21875 \r\nQ 42.671875 74.21875 48.875 69.140625 \r\nQ 55.078125 64.0625 55.078125 55.328125 \r\nQ 55.078125 49.078125 51.53125 44.71875 \r\nQ 48 40.375 41.703125 38.8125 \r\nQ 48.828125 37.15625 52.796875 32.3125 \r\nQ 56.78125 27.484375 56.78125 20.515625 \r\nQ 56.78125 9.90625 50.3125 4.234375 \r\nQ 43.84375 -1.421875 31.78125 -1.421875 \r\nQ 19.734375 -1.421875 13.25 4.234375 \r\nQ 6.78125 9.90625 6.78125 20.515625 \r\nQ 6.78125 27.484375 10.78125 32.3125 \r\nQ 14.796875 37.15625 21.921875 38.8125 \r\nz\r\nM 18.3125 54.390625 \r\nQ 18.3125 48.734375 21.84375 45.5625 \r\nQ 25.390625 42.390625 31.78125 42.390625 \r\nQ 38.140625 42.390625 41.71875 45.5625 \r\nQ 45.3125 48.734375 45.3125 54.390625 \r\nQ 45.3125 60.0625 41.71875 63.234375 \r\nQ 38.140625 66.40625 31.78125 66.40625 \r\nQ 25.390625 66.40625 21.84375 63.234375 \r\nQ 18.3125 60.0625 18.3125 54.390625 \r\nz\r\n\" id=\"DejaVuSans-56\"/>\r\n       </defs>\r\n       <use xlink:href=\"#DejaVuSans-56\"/>\r\n      </g>\r\n     </g>\r\n    </g>\r\n   </g>\r\n   <g id=\"patch_8\">\r\n    <path d=\"M 272.563104 224.64 \r\nL 272.563104 7.2 \r\n\" style=\"fill:none;stroke:#000000;stroke-linecap:square;stroke-linejoin:miter;stroke-width:0.8;\"/>\r\n   </g>\r\n   <g id=\"patch_9\">\r\n    <path d=\"M 475.21218 224.64 \r\nL 475.21218 7.2 \r\n\" style=\"fill:none;stroke:#000000;stroke-linecap:square;stroke-linejoin:miter;stroke-width:0.8;\"/>\r\n   </g>\r\n   <g id=\"patch_10\">\r\n    <path d=\"M 272.563104 224.64 \r\nL 475.21218 224.64 \r\n\" style=\"fill:none;stroke:#000000;stroke-linecap:square;stroke-linejoin:miter;stroke-width:0.8;\"/>\r\n   </g>\r\n   <g id=\"patch_11\">\r\n    <path d=\"M 272.563104 7.2 \r\nL 475.21218 7.2 \r\n\" style=\"fill:none;stroke:#000000;stroke-linecap:square;stroke-linejoin:miter;stroke-width:0.8;\"/>\r\n   </g>\r\n  </g>\r\n </g>\r\n <defs>\r\n  <clipPath id=\"pcd5531e151\">\r\n   <rect height=\"202.88355\" width=\"202.909091\" x=\"28.942188\" y=\"14.478225\"/>\r\n  </clipPath>\r\n  <clipPath id=\"p37bf5f978f\">\r\n   <rect height=\"217.44\" width=\"202.649077\" x=\"272.563104\" y=\"7.2\"/>\r\n  </clipPath>\r\n </defs>\r\n</svg>\r\n",
      "image/png": "[encoded data removed]"
     },
     "metadata": {
      "needs_background": "light"
     }
    }
   ],
   "source": [
    "# Generate some data\n",
    "def generate_2_circles(N=100):\n",
    "    phi = np.linspace(0.0, np.pi * 2, 100)\n",
    "    X1 = 1.1 * np.array([np.sin(phi), np.cos(phi)])\n",
    "    X2 = 3.0 * np.array([np.sin(phi), np.cos(phi)])\n",
    "    Y = np.concatenate([np.ones(N), np.zeros(N)]).reshape((-1, 1))\n",
    "    X = np.hstack([X1,X2]).T\n",
    "    return X, Y\n",
    "\n",
    "\n",
    "def generate_2_gaussians(N=100):\n",
    "    phi = np.linspace(0.0, np.pi * 2, 100)\n",
    "    X1 = np.random.normal(loc=[1, 2], scale=[2.5, 0.9], size=(N, 2))\n",
    "    X1 = X1 @ np.array([[0.7, -0.7], [0.7, 0.7]])\n",
    "    X2 = np.random.normal(loc=[-2, 0], scale=[1, 1.5], size=(N, 2))\n",
    "    X2 = X2 @ np.array([[0.7, 0.7], [-0.7, 0.7]])\n",
    "    Y = np.concatenate([np.ones(N), np.zeros(N)]).reshape((-1, 1))\n",
    "    X = np.vstack([X1,X2])\n",
    "    return X, Y\n",
    "\n",
    "def split(X, Y, train_ratio=0.7):\n",
    "    size = len(X)\n",
    "    train_size = int(size * train_ratio)\n",
    "    indices = np.arange(size)\n",
    "    np.random.shuffle(indices)\n",
    "    train_indices = indices[:train_size]\n",
    "    test_indices = indices[train_size:]\n",
    "    return X[train_indices], Y[train_indices], X[test_indices], Y[test_indices]\n",
    "\n",
    "f, (ax1, ax2) = plt.subplots(1, 2, figsize=(8, 4))\n",
    "\n",
    "\n",
    "X, Y = generate_2_circles()\n",
    "ax1.scatter(X[:,0], X[:,1], c=Y.ravel(), edgecolors= 'none')\n",
    "ax1.set_aspect('equal')\n",
    "\n",
    "\n",
    "X, Y = generate_2_gaussians()\n",
    "ax2.scatter(X[:,0], X[:,1], c=Y.ravel(), edgecolors= 'none')\n",
    "ax2.set_aspect('equal')\n"
   ]
  },
  {
   "cell_type": "code",
   "execution_count": 101,
   "metadata": {},
   "outputs": [],
   "source": [
    "X_train, Y_train, X_test, Y_test = split(*generate_2_gaussians(), 0.7)"
   ]
  },
  {
   "cell_type": "code",
   "execution_count": 132,
   "metadata": {},
   "outputs": [
    {
     "output_type": "stream",
     "name": "stdout",
     "text": [
      "Step: 0 \t Loss: 1.655 \t Acc: 45.0%\nStep: 1 \t Loss: 240.678 \t Acc: 50.0%\n"
     ]
    },
    {
     "output_type": "error",
     "ename": "ValueError",
     "evalue": "operands could not be broadcast together with shapes (2,1) (2,140,1) ",
     "traceback": [
      "\u001b[1;31m---------------------------------------------------------------------------\u001b[0m",
      "\u001b[1;31mValueError\u001b[0m                                Traceback (most recent call last)",
      "\u001b[1;32m<ipython-input-132-1ed1f4cb4d97>\u001b[0m in \u001b[0;36m<module>\u001b[1;34m\u001b[0m\n\u001b[0;32m     10\u001b[0m \u001b[1;33m\u001b[0m\u001b[0m\n\u001b[0;32m     11\u001b[0m     \u001b[0mloss_grad\u001b[0m \u001b[1;33m=\u001b[0m \u001b[0mnll_grad_input\u001b[0m\u001b[1;33m(\u001b[0m\u001b[0mY_pred\u001b[0m\u001b[1;33m,\u001b[0m \u001b[0mY_train\u001b[0m\u001b[1;33m)\u001b[0m\u001b[1;33m\u001b[0m\u001b[1;33m\u001b[0m\u001b[0m\n\u001b[1;32m---> 12\u001b[1;33m     \u001b[0mmodel\u001b[0m\u001b[1;33m.\u001b[0m\u001b[0mupdate_params\u001b[0m\u001b[1;33m(\u001b[0m\u001b[0mX_train\u001b[0m\u001b[1;33m,\u001b[0m \u001b[0mloss_grad\u001b[0m\u001b[1;33m)\u001b[0m\u001b[1;33m\u001b[0m\u001b[1;33m\u001b[0m\u001b[0m\n\u001b[0m\u001b[0;32m     13\u001b[0m \u001b[1;33m\u001b[0m\u001b[0m\n\u001b[0;32m     14\u001b[0m \u001b[1;33m\u001b[0m\u001b[0m\n",
      "\u001b[1;32m<ipython-input-98-c1fad08a3aa8>\u001b[0m in \u001b[0;36mupdate_params\u001b[1;34m(self, x, nll_grad)\u001b[0m\n\u001b[0;32m     18\u001b[0m         \u001b[0mgrad_b\u001b[0m \u001b[1;33m=\u001b[0m \u001b[0mlinear_grad_b\u001b[0m\u001b[1;33m(\u001b[0m\u001b[0mx\u001b[0m\u001b[1;33m,\u001b[0m \u001b[0mgrad_h\u001b[0m\u001b[1;33m,\u001b[0m \u001b[0mself\u001b[0m\u001b[1;33m.\u001b[0m\u001b[0mW\u001b[0m\u001b[1;33m,\u001b[0m \u001b[0mself\u001b[0m\u001b[1;33m.\u001b[0m\u001b[0mb\u001b[0m\u001b[1;33m)\u001b[0m\u001b[1;33m\u001b[0m\u001b[1;33m\u001b[0m\u001b[0m\n\u001b[0;32m     19\u001b[0m         \u001b[1;31m# update params\u001b[0m\u001b[1;33m\u001b[0m\u001b[1;33m\u001b[0m\u001b[1;33m\u001b[0m\u001b[0m\n\u001b[1;32m---> 20\u001b[1;33m         \u001b[0mself\u001b[0m\u001b[1;33m.\u001b[0m\u001b[0mW\u001b[0m \u001b[1;33m=\u001b[0m \u001b[0mself\u001b[0m\u001b[1;33m.\u001b[0m\u001b[0mW\u001b[0m \u001b[1;33m-\u001b[0m \u001b[0mself\u001b[0m\u001b[1;33m.\u001b[0m\u001b[0mlr\u001b[0m \u001b[1;33m*\u001b[0m \u001b[0mgrad_W\u001b[0m\u001b[1;33m\u001b[0m\u001b[1;33m\u001b[0m\u001b[0m\n\u001b[0m\u001b[0;32m     21\u001b[0m         \u001b[0mself\u001b[0m\u001b[1;33m.\u001b[0m\u001b[0mb\u001b[0m \u001b[1;33m=\u001b[0m \u001b[0mself\u001b[0m\u001b[1;33m.\u001b[0m\u001b[0mb\u001b[0m \u001b[1;33m-\u001b[0m \u001b[0mself\u001b[0m\u001b[1;33m.\u001b[0m\u001b[0mlr\u001b[0m \u001b[1;33m*\u001b[0m \u001b[0mgrad_b\u001b[0m\u001b[1;33m\u001b[0m\u001b[1;33m\u001b[0m\u001b[0m\n",
      "\u001b[1;31mValueError\u001b[0m: operands could not be broadcast together with shapes (2,1) (2,140,1) "
     ]
    }
   ],
   "source": [
    "# let's train our model\n",
    "model = LogsticRegressionGD(2, 0.05)\n",
    "\n",
    "for step in range(30):\n",
    "    Y_pred = model.forward(X_train)\n",
    "    \n",
    "    loss_value = nll_forward(Y_pred, Y_train)\n",
    "    accuracy = ((Y_pred > 0.5) == Y_train).mean()\n",
    "    print('Step: {} \\t Loss: {:.3f} \\t Acc: {:.1f}%'.format(step, loss_value, accuracy * 100))\n",
    "    \n",
    "    loss_grad = nll_grad_input(Y_pred, Y_train)\n",
    "    model.update_params(X_train, loss_grad)\n",
    "\n",
    "    \n",
    "print('\\n\\nTesting...')\n",
    "Y_test_pred = model.forward(X_test)\n",
    "test_accuracy = ((Y_test_pred > 0.5) == Y_test).mean()\n",
    "print('Acc: {:.1f}%'.format(test_accuracy * 100))"
   ]
  },
  {
   "cell_type": "code",
   "execution_count": null,
   "metadata": {},
   "outputs": [],
   "source": [
    "def plot_model_prediction(prediction_func, X, Y, hard=True):\n",
    "    u_min = X[:, 0].min()-1\n",
    "    u_max = X[:, 0].max()+1\n",
    "    v_min = X[:, 1].min()-1\n",
    "    v_max = X[:, 1].max()+1\n",
    "\n",
    "    U, V = np.meshgrid(np.linspace(u_min, u_max, 100), np.linspace(v_min, v_max, 100))\n",
    "    UV = np.stack([U.ravel(), V.ravel()]).T\n",
    "    c = prediction_func(UV).ravel()\n",
    "    if hard:\n",
    "        c = c > 0.5\n",
    "    plt.scatter(UV[:,0], UV[:,1], c=c, edgecolors= 'none', alpha=0.15)\n",
    "    plt.scatter(X[:,0], X[:,1], c=Y.ravel(), edgecolors= 'black')\n",
    "    plt.xlim(left=u_min, right=u_max)\n",
    "    plt.ylim(bottom=v_min, top=v_max)\n",
    "    plt.axes().set_aspect('equal')\n",
    "    plt.show()\n",
    "    \n",
    "plot_model_prediction(lambda x: model.forward(x), X_train, Y_train, False)\n",
    "\n",
    "plot_model_prediction(lambda x: model.forward(x), X_train, Y_train, True)"
   ]
  },
  {
   "cell_type": "code",
   "execution_count": null,
   "metadata": {},
   "outputs": [],
   "source": [
    "# Now run the same experiment on 2 circles"
   ]
  },
  {
   "cell_type": "markdown",
   "metadata": {},
   "source": [
    "# 2. Decision Tree\n",
    "The next model we look at is called **Decision Tree**. This type of model is non-parametric, meaning in contrast to **Logistic Regression** we do not have any parameters here that need to be trained.\n",
    "\n",
    "Let us consider a simple binary decision tree for deciding on the two classes of \"creditable\" and \"Not creditable\".\n",
    "\n",
    "![](images/creditdecisiontree.png)\n",
    "\n",
    "Each node, except the leafs, asks a question about the the client in question. A decision is made by going from the root node to a leaf node, while considering the clients situation. The situation of the client, in this case, is fully described by the features:\n",
    "1. Checking account balance\n",
    "2. Duration of requested credit\n",
    "3. Payment status of previous loan\n",
    "4. Length of current employment"
   ]
  },
  {
   "cell_type": "markdown",
   "metadata": {},
   "source": [
    "In order to build a decision tree we need training data. To carry on the previous example: we need a number of clients for which we know the properties 1.-4. and their creditability.\n",
    "The process of building a decision tree starts with the root node and involves the following steps:\n",
    "1. Choose a splitting criteria and add it to the current node.\n",
    "2. Split the dataset at the current node into those that fullfil the criteria and those that do not.\n",
    "3. Add a child node for each data split.\n",
    "4. For each child node decide on either A. or B.:\n",
    "    1. Repeat from 1. step\n",
    "    2. Make it a leaf node: The predicted class label is decided by the majority vote over the training data in the current split."
   ]
  },
  {
   "cell_type": "markdown",
   "metadata": {},
   "source": [
    "## 2.1 Gini Index & Data Split\n",
    "Deciding on how to split your training data at each node is dominated by the following two criterias:\n",
    "1. Does the rule help me make a final decision?\n",
    "2. Is the rule general enough such that it applies not only to my training data, but also to new unseen examples?\n",
    "\n",
    "When considering our previous example, splitting the clients by their handedness would not help us deciding on their creditability. Knowning if a rule will generalize is usually a hard call to make, but in practice we rely on [Occam's razor](https://en.wikipedia.org/wiki/Occam%27s_razor) principle. Thus the less rules we use, the better we believe it to generalize to previously unseen examples.\n",
    "\n",
    "One way to measure the quality of a rule is by the [**Gini Index**](https://en.wikipedia.org/wiki/Gini_coefficient).\n",
    "Since we only consider binary classification, it is calculated by:\n",
    "$$\n",
    "Gini = \\sum_{n\\in\\{L,R\\}}\\frac{|S_n|}{|S|}\\left( 1 - \\sum_{c \\in C} p_{S_n}(c)^2\\right)\\\\\n",
    "p_{S_n}(c) = \\frac{|\\{\\mathbf{x}_{i}\\in \\mathbf{X}|y_{i} = c, i \\in S_n\\}|}{|S_n|}, n \\in \\{L, R\\}\n",
    "$$\n",
    "with $|C|=2$ being your set of class labels and $S_L$ and $S_R$ the two splits determined by the splitting criteria.\n",
    "While we only consider two class problems for decision trees, the method can also be applied when $|C|>2$.\n",
    "The lower the gini score, the better the split. In the extreme case, where all class labels are the same in each split respectively, the gini index takes the value of $0$."
   ]
  },
  {
   "cell_type": "code",
   "execution_count": 156,
   "metadata": {},
   "outputs": [],
   "source": [
    "def tree_gini_index(Y_left, Y_right, classes):\n",
    "    \"\"\"Compute the Gini Index.\n",
    "    # Arguments\n",
    "        Y_left: class labels of the data left set\n",
    "            np.array of size `(n_objects, 1)`\n",
    "        Y_right: class labels of the data right set\n",
    "            np.array of size `(n_objects, 1)`\n",
    "        classes: list of all class values\n",
    "    # Output\n",
    "        gini: scalar `float`\n",
    "    \"\"\"\n",
    "    gini = 0.0\n",
    "    prprR = 0.0\n",
    "    prprL = 0.0\n",
    "    YR_size = len(Y_right)\n",
    "    YL_size = len(Y_left)\n",
    "    N_Instances = float(YR_size + YL_size)\n",
    "    \n",
    "    for clss in classes:\n",
    "        prprR += np.square((Y_right == clss).sum()/YR_size)\n",
    "        prprL += np.square((Y_left == clss).sum()/YL_size)\n",
    "    gine_right = (1.0 - prprR) * (YR_size / N_Instances)\n",
    "    gine_left = (1.0 - prprL) * (YL_size / N_Instances)\n",
    "    gini = gine_right + gine_left\n",
    "\n",
    "\n",
    "    return gini"
   ]
  },
  {
   "cell_type": "code",
   "execution_count": 158,
   "metadata": {},
   "outputs": [
    {
     "output_type": "stream",
     "name": "stdout",
     "text": [
      "Running local tests...\n",
      "tree_gini_index successfully passed local tests\n",
      "Running remote test...\n",
      "Test was successful. Congratulations!\n"
     ]
    }
   ],
   "source": [
    "am.test_student_function(username, tree_gini_index, ['Y_left', 'Y_right', 'classes'])"
   ]
  },
  {
   "cell_type": "markdown",
   "metadata": {},
   "source": [
    "At each node in the tree, the data is split according to a split criterion and each split is passed onto the left/right child respectively.\n",
    "Implement the following function to return all rows in `X` and `Y` such that the left child gets all examples that are less than the split value and vice versa. "
   ]
  },
  {
   "cell_type": "code",
   "execution_count": 303,
   "metadata": {},
   "outputs": [],
   "source": [
    "def tree_split_data_left(X, Y, feature_index, split_value):\n",
    "    \"\"\"Split the data `X` and `Y`, at the feature indexed by `feature_index`.\n",
    "    If the value is less than `split_value` then return it as part of the left group.\n",
    "    \n",
    "    # Arguments\n",
    "        X: np.array of size `(n_objects, n_in)`\n",
    "        Y: np.array of size `(n_objects, 1)`\n",
    "        feature_index: index of the feature to split at \n",
    "        split_value: value to split between\n",
    "    # Output\n",
    "        (XY_left): np.array of size `(n_objects_left, n_in + 1)`\n",
    "    \"\"\"\n",
    "    X_left, Y_left = np.empty((0,2)), np.empty((0,1))\n",
    "    \n",
    "    for i in range(len(X)):\n",
    "        if X[i,feature_index] < split_value:\n",
    "           \n",
    "            X_left = np.append(X_left, [X[i,:]], axis=0)\n",
    "            \n",
    "            Y_left = np.append(Y_left, Y[i])\n",
    "            \n",
    "    \n",
    "    Y_left = Y_left.reshape([len(Y_left),-1])\n",
    "    \n",
    "\n",
    "    XY_left = np.concatenate([X_left, Y_left], axis=-1)\n",
    "    \n",
    "    return XY_left\n",
    "\n",
    "\n",
    "def tree_split_data_right(X, Y, feature_index, split_value):\n",
    "    \"\"\"Split the data `X` and `Y`, at the feature indexed by `feature_index`.\n",
    "    If the value is greater or equal than `split_value` then return it as part of the right group.\n",
    "    \n",
    "    # Arguments\n",
    "        X: np.array of size `(n_objects, n_in)`\n",
    "        Y: np.array of size `(n_objects, 1)`\n",
    "        feature_index: index of the feature to split at\n",
    "        split_value: value to split between\n",
    "    # Output\n",
    "        (XY_left): np.array of size `(n_objects_left, n_in + 1)`\n",
    "    \"\"\"\n",
    "    X_right, Y_right = np.empty((0,2)), np.empty((0,1))\n",
    "    \n",
    "    for i in range(len(X)):\n",
    "        if X[i,feature_index] >= split_value:\n",
    "           \n",
    "            X_right = np.append(X_right, [X[i,:]], axis=0)\n",
    "            \n",
    "            Y_right = np.append(Y_right, Y[i])\n",
    "            \n",
    "    \n",
    "    Y_right = Y_right.reshape([len(Y_right),-1])\n",
    "    \n",
    "\n",
    "    XY_right = np.concatenate([X_right, Y_right], axis=-1)\n",
    "    \n",
    "    return XY_right"
   ]
  },
  {
   "cell_type": "code",
   "execution_count": 301,
   "metadata": {
    "tags": []
   },
   "outputs": [
    {
     "output_type": "stream",
     "name": "stdout",
     "text": [
      "Running local tests...\n",
      "tree_split_data_left successfully passed local tests\n",
      "Running remote test...\n",
      "Test was successful. Congratulations!\n"
     ]
    }
   ],
   "source": [
    "am.test_student_function(username, tree_split_data_left, ['X', 'Y', 'feature_index', 'split_value'])"
   ]
  },
  {
   "cell_type": "code",
   "execution_count": 305,
   "metadata": {},
   "outputs": [
    {
     "output_type": "stream",
     "name": "stdout",
     "text": [
      "Running local tests...\n",
      "tree_split_data_right successfully passed local tests\n",
      "Running remote test...\n",
      "Test was successful. Congratulations!\n"
     ]
    }
   ],
   "source": [
    "am.test_student_function(username, tree_split_data_right, ['X', 'Y', 'feature_index', 'split_value'])"
   ]
  },
  {
   "cell_type": "code",
   "execution_count": 306,
   "metadata": {},
   "outputs": [
    {
     "output_type": "stream",
     "name": "stdout",
     "text": [
      "---------------------------------------------\n| Pericles Cataldi Beirao                   |\n| pericles.cataldi.beirao@student.uva.nl    |\n---------------------------------------------\n| linear_forward           | completed      |\n| linear_grad_W            | completed      |\n| linear_grad_b            | completed      |\n| nll_forward              | completed      |\n| nll_grad_input           | completed      |\n| sigmoid_forward          | completed      |\n| sigmoid_grad_input       | completed      |\n| tree_gini_index          | completed      |\n| tree_split_data_left     | completed      |\n| tree_split_data_right    | completed      |\n| tree_to_terminal         | not attempted  |\n---------------------------------------------\n"
     ]
    }
   ],
   "source": [
    "am.get_progress(username)"
   ]
  },
  {
   "cell_type": "markdown",
   "metadata": {},
   "source": [
    "Now to find the split rule with the lowest gini score, we brute-force search over all features and values to split by."
   ]
  },
  {
   "cell_type": "code",
   "execution_count": 307,
   "metadata": {},
   "outputs": [],
   "source": [
    "def tree_best_split(X, Y):\n",
    "    class_values = list(set(Y.flatten().tolist()))\n",
    "    r_index, r_value, r_score =  float(\"inf\"),  float(\"inf\"), float(\"inf\")\n",
    "    r_XY_left, r_XY_right = (X,Y), (X,Y)\n",
    "    for feature_index in range(X.shape[1]):\n",
    "        for row in X:\n",
    "            XY_left = tree_split_data_left(X, Y, feature_index, row[feature_index])\n",
    "            XY_right = tree_split_data_right(X, Y, feature_index, row[feature_index])\n",
    "            XY_left, XY_right = (XY_left[:,:-1], XY_left[:,-1:]), (XY_right[:,:-1], XY_right[:,-1:])\n",
    "            gini = tree_gini_index(XY_left[1], XY_right[1], class_values)\n",
    "            if gini < r_score:\n",
    "                r_index, r_value, r_score = feature_index, row[feature_index], gini\n",
    "                r_XY_left, r_XY_right = XY_left, XY_right\n",
    "    return {'index':r_index, 'value':r_value, 'XY_left': r_XY_left, 'XY_right':r_XY_right}"
   ]
  },
  {
   "cell_type": "markdown",
   "metadata": {},
   "source": [
    "## 2.2 Terminal Node\n",
    "The leaf nodes predict the label of an unseen example, by taking a majority vote over all training class labels in that node."
   ]
  },
  {
   "cell_type": "code",
   "execution_count": 362,
   "metadata": {},
   "outputs": [],
   "source": [
    "def tree_to_terminal(Y):\n",
    "    \"\"\"The most frequent class label, out of the data points belonging to the leaf node,\n",
    "    is selected as the predicted class.\n",
    "    \n",
    "    # Arguments\n",
    "        Y: np.array of size `(n_objects)`\n",
    "        \n",
    "    # Output\n",
    "        label: most frequent label of `Y.dtype`\n",
    "    \"\"\"\n",
    "    label = None\n",
    "    # Y.astype('float64')\n",
    "    \n",
    "    (values,counts) = np.unique(Y.flatten(),return_counts=True)\n",
    "       \n",
    "\n",
    "    label= values[np.argmax(counts)]\n",
    "    \n",
    "    return label"
   ]
  },
  {
   "cell_type": "code",
   "execution_count": 364,
   "metadata": {},
   "outputs": [
    {
     "output_type": "stream",
     "name": "stdout",
     "text": [
      "Running local tests...\n",
      "tree_to_terminal successfully passed local tests\n",
      "Running remote test...\n",
      "Test was successful. Congratulations!\n"
     ]
    }
   ],
   "source": [
    "am.test_student_function(username, tree_to_terminal, ['Y'])"
   ]
  },
  {
   "cell_type": "code",
   "execution_count": 365,
   "metadata": {},
   "outputs": [
    {
     "output_type": "stream",
     "name": "stdout",
     "text": [
      "---------------------------------------------\n| Pericles Cataldi Beirao                   |\n| pericles.cataldi.beirao@student.uva.nl    |\n---------------------------------------------\n| linear_forward           | completed      |\n| linear_grad_W            | completed      |\n| linear_grad_b            | completed      |\n| nll_forward              | completed      |\n| nll_grad_input           | completed      |\n| sigmoid_forward          | completed      |\n| sigmoid_grad_input       | completed      |\n| tree_gini_index          | completed      |\n| tree_split_data_left     | completed      |\n| tree_split_data_right    | completed      |\n| tree_to_terminal         | completed      |\n---------------------------------------------\n"
     ]
    }
   ],
   "source": [
    "am.get_progress(username)"
   ]
  },
  {
   "cell_type": "markdown",
   "metadata": {},
   "source": [
    "## 2.3 Build the Decision Tree\n",
    "Now we recursively build the decision tree, by greedily splitting the data at each node according to the gini index.\n",
    "To prevent the model from overfitting, we transform a node into a terminal/leaf node, if:\n",
    "1. a maximum depth is reached.\n",
    "2. the node does not reach a minimum number of training samples.\n"
   ]
  },
  {
   "cell_type": "code",
   "execution_count": 366,
   "metadata": {},
   "outputs": [],
   "source": [
    "def tree_recursive_split(X, Y, node, max_depth, min_size, depth):\n",
    "    XY_left, XY_right = node['XY_left'], node['XY_right']\n",
    "    del(node['XY_left'])\n",
    "    del(node['XY_right'])\n",
    "    # check for a no split\n",
    "    if XY_left[0].size <= 0 or XY_right[0].size <= 0:\n",
    "        node['left_child'] = node['right_child'] = tree_to_terminal(np.concatenate((XY_left[1], XY_right[1])))\n",
    "        return\n",
    "    # check for max depth\n",
    "    if depth >= max_depth:\n",
    "        node['left_child'], node['right_child'] = tree_to_terminal(XY_left[1]), tree_to_terminal(XY_right[1])\n",
    "        return\n",
    "    # process left child\n",
    "    if XY_left[0].shape[0] <= min_size:\n",
    "        node['left_child'] = tree_to_terminal(XY_left[1])\n",
    "    else:\n",
    "        node['left_child'] = tree_best_split(*XY_left)\n",
    "        tree_recursive_split(X, Y, node['left_child'], max_depth, min_size, depth+1)\n",
    "    # process right child\n",
    "    if XY_right[0].shape[0] <= min_size:\n",
    "        node['right_child'] = tree_to_terminal(XY_right[1])\n",
    "    else:\n",
    "        node['right_child'] = tree_best_split(*XY_right)\n",
    "        tree_recursive_split(X, Y, node['right_child'], max_depth, min_size, depth+1)\n",
    "\n",
    "\n",
    "def build_tree(X, Y, max_depth, min_size):\n",
    "    root = tree_best_split(X, Y)\n",
    "    tree_recursive_split(X, Y, root, max_depth, min_size, 1)\n",
    "    return root"
   ]
  },
  {
   "cell_type": "markdown",
   "metadata": {},
   "source": [
    "By printing the split criteria or the predicted class at each node, we can visualise the decising making process.\n",
    "Both the tree and a a prediction can be implemented recursively, by going from the root to a leaf node."
   ]
  },
  {
   "cell_type": "code",
   "execution_count": 367,
   "metadata": {},
   "outputs": [],
   "source": [
    "def print_tree(node, depth=0):\n",
    "    if isinstance(node, dict):\n",
    "        print('%s[X%d < %.3f]' % ((depth*' ', (node['index']+1), node['value'])))\n",
    "        print_tree(node['left_child'], depth+1)\n",
    "        print_tree(node['right_child'], depth+1)\n",
    "    else:\n",
    "        print('%s[%s]' % ((depth*' ', node)))\n",
    "        \n",
    "def tree_predict_single(x, node):\n",
    "    if isinstance(node, dict):\n",
    "        if x[node['index']] < node['value']:\n",
    "            return tree_predict_single(x, node['left_child'])\n",
    "        else:\n",
    "            return tree_predict_single(x, node['right_child'])\n",
    "        \n",
    "    return node\n",
    "\n",
    "def tree_predict_multi(X, node):\n",
    "    Y = np.array([tree_predict_single(row, node) for row in X])\n",
    "    return Y[:, None]  # size: (n_object,) -> (n_object, 1)"
   ]
  },
  {
   "cell_type": "markdown",
   "metadata": {},
   "source": [
    "Let's test our decision tree model on some toy data."
   ]
  },
  {
   "cell_type": "code",
   "execution_count": 368,
   "metadata": {
    "scrolled": false
   },
   "outputs": [
    {
     "output_type": "error",
     "ename": "ValueError",
     "evalue": "cannot reshape array of size 0 into shape (0,newaxis)",
     "traceback": [
      "\u001b[1;31m---------------------------------------------------------------------------\u001b[0m",
      "\u001b[1;31mValueError\u001b[0m                                Traceback (most recent call last)",
      "\u001b[1;32m<ipython-input-368-ab76176f9c80>\u001b[0m in \u001b[0;36m<module>\u001b[1;34m\u001b[0m\n\u001b[0;32m      1\u001b[0m \u001b[0mX_train\u001b[0m\u001b[1;33m,\u001b[0m \u001b[0mY_train\u001b[0m\u001b[1;33m,\u001b[0m \u001b[0mX_test\u001b[0m\u001b[1;33m,\u001b[0m \u001b[0mY_test\u001b[0m \u001b[1;33m=\u001b[0m \u001b[0msplit\u001b[0m\u001b[1;33m(\u001b[0m\u001b[1;33m*\u001b[0m\u001b[0mgenerate_2_circles\u001b[0m\u001b[1;33m(\u001b[0m\u001b[1;33m)\u001b[0m\u001b[1;33m,\u001b[0m \u001b[1;36m0.7\u001b[0m\u001b[1;33m)\u001b[0m\u001b[1;33m\u001b[0m\u001b[1;33m\u001b[0m\u001b[0m\n\u001b[0;32m      2\u001b[0m \u001b[1;33m\u001b[0m\u001b[0m\n\u001b[1;32m----> 3\u001b[1;33m \u001b[0mtree\u001b[0m \u001b[1;33m=\u001b[0m \u001b[0mbuild_tree\u001b[0m\u001b[1;33m(\u001b[0m\u001b[0mX_train\u001b[0m\u001b[1;33m,\u001b[0m \u001b[0mY_train\u001b[0m\u001b[1;33m,\u001b[0m \u001b[1;36m4\u001b[0m\u001b[1;33m,\u001b[0m \u001b[1;36m1\u001b[0m\u001b[1;33m)\u001b[0m\u001b[1;33m\u001b[0m\u001b[1;33m\u001b[0m\u001b[0m\n\u001b[0m\u001b[0;32m      4\u001b[0m \u001b[0mY_pred\u001b[0m \u001b[1;33m=\u001b[0m \u001b[0mtree_predict_multi\u001b[0m\u001b[1;33m(\u001b[0m\u001b[0mX_test\u001b[0m\u001b[1;33m,\u001b[0m \u001b[0mtree\u001b[0m\u001b[1;33m)\u001b[0m\u001b[1;33m\u001b[0m\u001b[1;33m\u001b[0m\u001b[0m\n\u001b[0;32m      5\u001b[0m \u001b[0mtest_accuracy\u001b[0m \u001b[1;33m=\u001b[0m \u001b[1;33m(\u001b[0m\u001b[0mY_pred\u001b[0m \u001b[1;33m==\u001b[0m \u001b[0mY_test\u001b[0m\u001b[1;33m)\u001b[0m\u001b[1;33m.\u001b[0m\u001b[0mmean\u001b[0m\u001b[1;33m(\u001b[0m\u001b[1;33m)\u001b[0m\u001b[1;33m\u001b[0m\u001b[1;33m\u001b[0m\u001b[0m\n",
      "\u001b[1;32m<ipython-input-366-fb998a9a5d69>\u001b[0m in \u001b[0;36mbuild_tree\u001b[1;34m(X, Y, max_depth, min_size)\u001b[0m\n\u001b[0;32m     26\u001b[0m \u001b[1;33m\u001b[0m\u001b[0m\n\u001b[0;32m     27\u001b[0m \u001b[1;32mdef\u001b[0m \u001b[0mbuild_tree\u001b[0m\u001b[1;33m(\u001b[0m\u001b[0mX\u001b[0m\u001b[1;33m,\u001b[0m \u001b[0mY\u001b[0m\u001b[1;33m,\u001b[0m \u001b[0mmax_depth\u001b[0m\u001b[1;33m,\u001b[0m \u001b[0mmin_size\u001b[0m\u001b[1;33m)\u001b[0m\u001b[1;33m:\u001b[0m\u001b[1;33m\u001b[0m\u001b[1;33m\u001b[0m\u001b[0m\n\u001b[1;32m---> 28\u001b[1;33m     \u001b[0mroot\u001b[0m \u001b[1;33m=\u001b[0m \u001b[0mtree_best_split\u001b[0m\u001b[1;33m(\u001b[0m\u001b[0mX\u001b[0m\u001b[1;33m,\u001b[0m \u001b[0mY\u001b[0m\u001b[1;33m)\u001b[0m\u001b[1;33m\u001b[0m\u001b[1;33m\u001b[0m\u001b[0m\n\u001b[0m\u001b[0;32m     29\u001b[0m     \u001b[0mtree_recursive_split\u001b[0m\u001b[1;33m(\u001b[0m\u001b[0mX\u001b[0m\u001b[1;33m,\u001b[0m \u001b[0mY\u001b[0m\u001b[1;33m,\u001b[0m \u001b[0mroot\u001b[0m\u001b[1;33m,\u001b[0m \u001b[0mmax_depth\u001b[0m\u001b[1;33m,\u001b[0m \u001b[0mmin_size\u001b[0m\u001b[1;33m,\u001b[0m \u001b[1;36m1\u001b[0m\u001b[1;33m)\u001b[0m\u001b[1;33m\u001b[0m\u001b[1;33m\u001b[0m\u001b[0m\n\u001b[0;32m     30\u001b[0m     \u001b[1;32mreturn\u001b[0m \u001b[0mroot\u001b[0m\u001b[1;33m\u001b[0m\u001b[1;33m\u001b[0m\u001b[0m\n",
      "\u001b[1;32m<ipython-input-307-5f626e54589f>\u001b[0m in \u001b[0;36mtree_best_split\u001b[1;34m(X, Y)\u001b[0m\n\u001b[0;32m      5\u001b[0m     \u001b[1;32mfor\u001b[0m \u001b[0mfeature_index\u001b[0m \u001b[1;32min\u001b[0m \u001b[0mrange\u001b[0m\u001b[1;33m(\u001b[0m\u001b[0mX\u001b[0m\u001b[1;33m.\u001b[0m\u001b[0mshape\u001b[0m\u001b[1;33m[\u001b[0m\u001b[1;36m1\u001b[0m\u001b[1;33m]\u001b[0m\u001b[1;33m)\u001b[0m\u001b[1;33m:\u001b[0m\u001b[1;33m\u001b[0m\u001b[1;33m\u001b[0m\u001b[0m\n\u001b[0;32m      6\u001b[0m         \u001b[1;32mfor\u001b[0m \u001b[0mrow\u001b[0m \u001b[1;32min\u001b[0m \u001b[0mX\u001b[0m\u001b[1;33m:\u001b[0m\u001b[1;33m\u001b[0m\u001b[1;33m\u001b[0m\u001b[0m\n\u001b[1;32m----> 7\u001b[1;33m             \u001b[0mXY_left\u001b[0m \u001b[1;33m=\u001b[0m \u001b[0mtree_split_data_left\u001b[0m\u001b[1;33m(\u001b[0m\u001b[0mX\u001b[0m\u001b[1;33m,\u001b[0m \u001b[0mY\u001b[0m\u001b[1;33m,\u001b[0m \u001b[0mfeature_index\u001b[0m\u001b[1;33m,\u001b[0m \u001b[0mrow\u001b[0m\u001b[1;33m[\u001b[0m\u001b[0mfeature_index\u001b[0m\u001b[1;33m]\u001b[0m\u001b[1;33m)\u001b[0m\u001b[1;33m\u001b[0m\u001b[1;33m\u001b[0m\u001b[0m\n\u001b[0m\u001b[0;32m      8\u001b[0m             \u001b[0mXY_right\u001b[0m \u001b[1;33m=\u001b[0m \u001b[0mtree_split_data_right\u001b[0m\u001b[1;33m(\u001b[0m\u001b[0mX\u001b[0m\u001b[1;33m,\u001b[0m \u001b[0mY\u001b[0m\u001b[1;33m,\u001b[0m \u001b[0mfeature_index\u001b[0m\u001b[1;33m,\u001b[0m \u001b[0mrow\u001b[0m\u001b[1;33m[\u001b[0m\u001b[0mfeature_index\u001b[0m\u001b[1;33m]\u001b[0m\u001b[1;33m)\u001b[0m\u001b[1;33m\u001b[0m\u001b[1;33m\u001b[0m\u001b[0m\n\u001b[0;32m      9\u001b[0m             \u001b[0mXY_left\u001b[0m\u001b[1;33m,\u001b[0m \u001b[0mXY_right\u001b[0m \u001b[1;33m=\u001b[0m \u001b[1;33m(\u001b[0m\u001b[0mXY_left\u001b[0m\u001b[1;33m[\u001b[0m\u001b[1;33m:\u001b[0m\u001b[1;33m,\u001b[0m\u001b[1;33m:\u001b[0m\u001b[1;33m-\u001b[0m\u001b[1;36m1\u001b[0m\u001b[1;33m]\u001b[0m\u001b[1;33m,\u001b[0m \u001b[0mXY_left\u001b[0m\u001b[1;33m[\u001b[0m\u001b[1;33m:\u001b[0m\u001b[1;33m,\u001b[0m\u001b[1;33m-\u001b[0m\u001b[1;36m1\u001b[0m\u001b[1;33m:\u001b[0m\u001b[1;33m]\u001b[0m\u001b[1;33m)\u001b[0m\u001b[1;33m,\u001b[0m \u001b[1;33m(\u001b[0m\u001b[0mXY_right\u001b[0m\u001b[1;33m[\u001b[0m\u001b[1;33m:\u001b[0m\u001b[1;33m,\u001b[0m\u001b[1;33m:\u001b[0m\u001b[1;33m-\u001b[0m\u001b[1;36m1\u001b[0m\u001b[1;33m]\u001b[0m\u001b[1;33m,\u001b[0m \u001b[0mXY_right\u001b[0m\u001b[1;33m[\u001b[0m\u001b[1;33m:\u001b[0m\u001b[1;33m,\u001b[0m\u001b[1;33m-\u001b[0m\u001b[1;36m1\u001b[0m\u001b[1;33m:\u001b[0m\u001b[1;33m]\u001b[0m\u001b[1;33m)\u001b[0m\u001b[1;33m\u001b[0m\u001b[1;33m\u001b[0m\u001b[0m\n",
      "\u001b[1;32m<ipython-input-303-0a653760aae0>\u001b[0m in \u001b[0;36mtree_split_data_left\u001b[1;34m(X, Y, feature_index, split_value)\u001b[0m\n\u001b[0;32m     21\u001b[0m \u001b[1;33m\u001b[0m\u001b[0m\n\u001b[0;32m     22\u001b[0m \u001b[1;33m\u001b[0m\u001b[0m\n\u001b[1;32m---> 23\u001b[1;33m     \u001b[0mY_left\u001b[0m \u001b[1;33m=\u001b[0m \u001b[0mY_left\u001b[0m\u001b[1;33m.\u001b[0m\u001b[0mreshape\u001b[0m\u001b[1;33m(\u001b[0m\u001b[1;33m[\u001b[0m\u001b[0mlen\u001b[0m\u001b[1;33m(\u001b[0m\u001b[0mY_left\u001b[0m\u001b[1;33m)\u001b[0m\u001b[1;33m,\u001b[0m\u001b[1;33m-\u001b[0m\u001b[1;36m1\u001b[0m\u001b[1;33m]\u001b[0m\u001b[1;33m)\u001b[0m\u001b[1;33m\u001b[0m\u001b[1;33m\u001b[0m\u001b[0m\n\u001b[0m\u001b[0;32m     24\u001b[0m \u001b[1;33m\u001b[0m\u001b[0m\n\u001b[0;32m     25\u001b[0m \u001b[1;33m\u001b[0m\u001b[0m\n",
      "\u001b[1;31mValueError\u001b[0m: cannot reshape array of size 0 into shape (0,newaxis)"
     ]
    }
   ],
   "source": [
    "X_train, Y_train, X_test, Y_test = split(*generate_2_circles(), 0.7)\n",
    "\n",
    "tree = build_tree(X_train, Y_train, 4, 1)\n",
    "Y_pred = tree_predict_multi(X_test, tree)\n",
    "test_accuracy = (Y_pred == Y_test).mean()\n",
    "print('Test Acc: {:.1f}%'.format(test_accuracy * 100))"
   ]
  },
  {
   "cell_type": "markdown",
   "metadata": {},
   "source": [
    "We print the decision tree in [pre-order](https://en.wikipedia.org/wiki/Tree_traversal#Pre-order_(NLR))."
   ]
  },
  {
   "cell_type": "code",
   "execution_count": null,
   "metadata": {},
   "outputs": [],
   "source": [
    "print_tree(tree)"
   ]
  },
  {
   "cell_type": "code",
   "execution_count": null,
   "metadata": {},
   "outputs": [],
   "source": [
    "plot_model_prediction(lambda x: tree_predict_multi(x, tree), X_test, Y_test)"
   ]
  },
  {
   "cell_type": "markdown",
   "metadata": {},
   "source": [
    "# 3. Experiments\n",
    "The [Cleveland Heart Disease](https://archive.ics.uci.edu/ml/datasets/Heart+Disease) dataset aims at predicting the presence of heart disease based on other available medical information of the patient.\n",
    "\n",
    "Although the whole database contains 76 attributes, we focus on the following 14:\n",
    "1. Age: age in years \n",
    "2. Sex: \n",
    "    * 0 = female\n",
    "    * 1 = male \n",
    "3. Chest pain type: \n",
    "    * 1 = typical angina\n",
    "    * 2 = atypical angina\n",
    "    * 3 = non-anginal pain\n",
    "    * 4 = asymptomatic\n",
    "4. Trestbps: resting blood pressure in mm Hg on admission to the hospital \n",
    "5. Chol: serum cholestoral in mg/dl \n",
    "6. Fasting blood sugar: > 120 mg/dl\n",
    "    * 0 = false\n",
    "    * 1 = true\n",
    "7. Resting electrocardiographic results: \n",
    "    * 0 = normal\n",
    "    * 1 = having ST-T wave abnormality (T wave inversions and/or ST elevation or depression of > 0.05 mV) \n",
    "    * 2 = showing probable or definite left ventricular hypertrophy by Estes' criteria \n",
    "8. Thalach: maximum heart rate achieved \n",
    "9. Exercise induced angina:\n",
    "    * 0 = no\n",
    "    * 1 = yes\n",
    "10. Oldpeak: ST depression induced by exercise relative to rest \n",
    "11. Slope: the slope of the peak exercise ST segment\n",
    "    * 1 = upsloping\n",
    "    * 2 = flat \n",
    "    * 3 = downsloping \n",
    "12. Ca: number of major vessels (0-3) colored by flourosopy \n",
    "13. Thal: \n",
    "    * 3 = normal\n",
    "    * 6 = fixed defect\n",
    "    * 7 = reversable defect \n",
    "14. Target: diagnosis of heart disease (angiographic disease status)\n",
    "    * 0 = < 50% diameter narrowing \n",
    "    * 1 = > 50% diameter narrowing\n",
    "    \n",
    "The 14. attribute is the target variable that we would like to predict based on the rest."
   ]
  },
  {
   "cell_type": "markdown",
   "metadata": {},
   "source": [
    "We have prepared some helper functions to download and pre-process the data in `heart_disease_data.py`"
   ]
  },
  {
   "cell_type": "code",
   "execution_count": null,
   "metadata": {},
   "outputs": [],
   "source": [
    "import heart_disease_data"
   ]
  },
  {
   "cell_type": "code",
   "execution_count": null,
   "metadata": {},
   "outputs": [],
   "source": [
    "X, Y = heart_disease_data.download_and_preprocess()\n",
    "X_train, Y_train, X_test, Y_test = split(X, Y, 0.7)"
   ]
  },
  {
   "cell_type": "markdown",
   "metadata": {},
   "source": [
    "Let's have a look at some examples"
   ]
  },
  {
   "cell_type": "code",
   "execution_count": null,
   "metadata": {},
   "outputs": [],
   "source": [
    "print(X_train[0:2])\n",
    "print(Y_train[0:2])\n",
    "\n",
    "# TODO feel free to explore more examples and see if you can predict the presence of a heart disease"
   ]
  },
  {
   "cell_type": "markdown",
   "metadata": {},
   "source": [
    "## 3.1 Decision Tree for Heart Disease Prediction \n",
    "Let's build a decision tree model on the training data and see how well it performs"
   ]
  },
  {
   "cell_type": "code",
   "execution_count": null,
   "metadata": {},
   "outputs": [],
   "source": [
    "# TODO: you are free to make use of code that we provide in previous cells\n",
    "# TODO: play around with different hyper parameters and see how these impact your performance\n",
    "\n",
    "tree = build_tree(X_train, Y_train, 5, 4)\n",
    "Y_pred = tree_predict_multi(X_test, tree)\n",
    "test_accuracy = (Y_pred == Y_test).mean()\n",
    "print('Test Acc: {:.1f}%'.format(test_accuracy * 100))"
   ]
  },
  {
   "cell_type": "markdown",
   "metadata": {},
   "source": [
    "How did changing the hyper parameters affect the test performance? Usually hyper parameters are tuned using a hold-out [validation set](https://en.wikipedia.org/wiki/Training,_validation,_and_test_sets#Validation_dataset) instead of the test set."
   ]
  },
  {
   "cell_type": "markdown",
   "metadata": {},
   "source": [
    "## 3.2 Logistic Regression for Heart Disease Prediction\n",
    "\n",
    "Instead of manually going through the data to find possible correlations, let's try training a logistic regression model on the data."
   ]
  },
  {
   "cell_type": "code",
   "execution_count": null,
   "metadata": {},
   "outputs": [],
   "source": [
    "# TODO: you are free to make use of code that we provide in previous cells\n",
    "# TODO: play around with different hyper parameters and see how these impact your performance"
   ]
  },
  {
   "cell_type": "markdown",
   "metadata": {},
   "source": [
    "How well did your model perform? Was it actually better then guessing? Let's look at the empirical mean of the target."
   ]
  },
  {
   "cell_type": "code",
   "execution_count": null,
   "metadata": {},
   "outputs": [],
   "source": [
    "Y_train.mean()"
   ]
  },
  {
   "cell_type": "markdown",
   "metadata": {},
   "source": [
    "So what is the problem? Let's have a look at the learned parameters of our model."
   ]
  },
  {
   "cell_type": "code",
   "execution_count": null,
   "metadata": {},
   "outputs": [],
   "source": [
    "print(model.W, model.b)"
   ]
  },
  {
   "cell_type": "markdown",
   "metadata": {},
   "source": [
    "If you trained sufficiently many steps you'll probably see how some weights are much larger than others. Have a look at what range the parameters were initialized and how much change we allow per step (learning rate). Compare this to the scale of the input features. Here an important concept arises, when we want to train on real world data: \n",
    "[Feature Scaling](https://en.wikipedia.org/wiki/Feature_scaling).\n",
    "\n",
    "Let's try applying it on our data and see how it affects our performance."
   ]
  },
  {
   "cell_type": "code",
   "execution_count": null,
   "metadata": {},
   "outputs": [],
   "source": [
    "# TODO: Rescale the input features and train again"
   ]
  },
  {
   "cell_type": "markdown",
   "metadata": {},
   "source": [
    "Notice that we did not need any rescaling for the decision tree. Can you think of why?"
   ]
  }
 ],
 "metadata": {
  "kernelspec": {
   "name": "Python 3.8.3 64-bit (conda)",
   "display_name": "Python 3.8.3 64-bit (conda)",
   "metadata": {
    "interpreter": {
     "hash": "39c9a9e684396029fa370fa384fa94292875d32367b3275c2c64de45029e0792"
    }
   }
  },
  "language_info": {
   "codemirror_mode": {
    "name": "ipython",
    "version": 3
   },
   "file_extension": ".py",
   "mimetype": "text/x-python",
   "name": "python",
   "nbconvert_exporter": "python",
   "pygments_lexer": "ipython3",
   "version": "3.8.3-final"
  }
 },
 "nbformat": 4,
 "nbformat_minor": 2
}