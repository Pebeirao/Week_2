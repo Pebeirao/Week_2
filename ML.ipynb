{
 "cells": [
  {
   "cell_type": "markdown",
   "metadata": {},
   "source": [
    "# Assignment 1\n",
    "\n",
    "The goal of this assignment is to supply you with machine learning models and algorithms. In this notebook, we will cover linear and nonlinear models, the concept of loss functions and some optimization techniques. All mathematical operations should be implemented in **NumPy** only. \n",
    "\n",
    "\n",
    "## Table of contents\n",
    "* [1. Logistic Regression](#1.-Logistic-Regression)\n",
    "    * [1.1 Linear Mapping](#1.1-Linear-Mapping)\n",
    "    * [1.2 Sigmoid](#1.2-Sigmoid)\n",
    "    * [1.3 Negative Log Likelihood](#1.3-Negative-Log-Likelihood)\n",
    "    * [1.4 Model](#1.4-Model)\n",
    "    * [1.5 Simple Experiment](#1.5-Simple-Experiment)\n",
    "* [2. Decision Tree](#2.-Decision-Tree)\n",
    "    * [2.1 Gini Index & Data Split](#2.1-Gini-Index-&-Data-Split)\n",
    "    * [2.2 Terminal Node](#2.2-Terminal-Node)\n",
    "    * [2.3 Build the Decision Tree](#2.3-Build-the-Decision-Tree)\n",
    "* [3. Experiments](#3.-Experiments)\n",
    "    * [3.1 Decision Tree for Heart Disease Prediction](#3.1-Decision-Tree-for-Heart-Disease-Prediction) \n",
    "    * [3.2 Logistic Regression for Heart Disease Prediction](#3.2-Logistic-Regression-for-Heart-Disease-Prediction)\n",
    "\n",
    "### Note\n",
    "Some of the concepts below have not (yet) been discussed during the lecture. These will be discussed further during the next lectures. "
   ]
  },
  {
   "cell_type": "markdown",
   "metadata": {},
   "source": [
    "### Before you begin\n",
    "\n",
    "To check whether the code you've written is correct, we'll use **automark**. For this, we created for each of you an account with the username being your student number. "
   ]
  },
  {
   "cell_type": "code",
   "execution_count": 6,
   "metadata": {},
   "outputs": [
    {
     "output_type": "stream",
     "name": "stdout",
     "text": [
      "---------------------------------------------\n| Pericles Cataldi Beirao                   |\n| pericles.cataldi.beirao@student.uva.nl    |\n---------------------------------------------\n| linear_forward           | completed      |\n| linear_grad_W            | completed      |\n| linear_grad_b            | completed      |\n| nll_forward              | completed      |\n| nll_grad_input           | completed      |\n| sigmoid_forward          | completed      |\n| sigmoid_grad_input       | completed      |\n| tree_gini_index          | completed      |\n| tree_split_data_left     | completed      |\n| tree_split_data_right    | completed      |\n| tree_to_terminal         | completed      |\n---------------------------------------------\n"
     ]
    }
   ],
   "source": [
    "import automark as am\n",
    "\n",
    "# fill in you student number as your username\n",
    "username = '13233580'\n",
    "\n",
    "# to check your progress, you can run this function\n",
    "am.get_progress(username)"
   ]
  },
  {
   "cell_type": "markdown",
   "metadata": {},
   "source": [
    "So far all your tests are 'not attempted'. At the end of this notebook you'll need to have completed all test. The output of `am.get_progress(username)` should at least match the example below. However, we encourage you to take a shot at the 'not attempted' tests!\n",
    "\n",
    "```\n",
    "---------------------------------------------\n",
    "| Your name / student number                |\n",
    "| your_email@your_domain.whatever           |\n",
    "---------------------------------------------\n",
    "| linear_forward           | not attempted  |\n",
    "| linear_grad_W            | not attempted  |\n",
    "| linear_grad_b            | not attempted  |\n",
    "| nll_forward              | not attempted  |\n",
    "| nll_grad_input           | not attempted  |\n",
    "| sigmoid_forward          | not attempted  |\n",
    "| sigmoid_grad_input       | not attempted  |\n",
    "| tree_data_split_left     | not attempted  |\n",
    "| tree_data_split_right    | not attempted  |\n",
    "| tree_gini_index          | not attempted  |\n",
    "| tree_to_terminal         | not attempted  |\n",
    "---------------------------------------------\n",
    "```"
   ]
  },
  {
   "cell_type": "code",
   "execution_count": 7,
   "metadata": {},
   "outputs": [],
   "source": [
    "from __future__ import print_function, absolute_import, division # You don't need to know what this is. \n",
    "import numpy as np # this imports numpy, which is used for vector- and matrix calculations"
   ]
  },
  {
   "cell_type": "markdown",
   "metadata": {},
   "source": [
    "This notebook makes use of **classes** and their **instances** that we have already implemented for you. It allows us to write less code and make it more readable. If you are interested in it, here are some useful links:\n",
    "* The official [documentation](https://docs.python.org/3/tutorial/classes.html) \n",
    "* Video by *sentdex*: [Object Oriented Programming Introduction](https://www.youtube.com/watch?v=ekA6hvk-8H8)\n",
    "* Antipatterns in OOP: [Stop Writing Classes](https://www.youtube.com/watch?v=o9pEzgHorH0)"
   ]
  },
  {
   "cell_type": "markdown",
   "metadata": {},
   "source": [
    "# 1. Logistic Regression\n",
    "\n",
    "We start with a very simple algorithm called **Logistic Regression**. It is a generalized linear model for 2-class classification.\n",
    "It can be generalized to the case of many classes and to non-linear cases as well. However, here we consider only the simplest case. \n",
    "\n",
    "Let us consider a data with 2 classes. Class 0 and class 1. For a given test sample, logistic regression returns a value from $[0, 1]$ which is interpreted as a probability of belonging to class 1. The set of points for which the prediction is $0.5$ is called a *decision boundary*. It is a line on a plane or a hyper-plane in a space.\n",
    "\n",
    "![](https://nlpforhackers.io/wp-content/uploads/2018/07/Linear-Separability-610x610.png)"
   ]
  },
  {
   "cell_type": "markdown",
   "metadata": {},
   "source": [
    "Logistic regression has two trainable parameters: a weight $W$ and a bias $b$. For a vector of features $X$, the prediction of logistic regression is given by\n",
    "\n",
    "$$\n",
    "f(X) = \\frac{1}{1 + \\exp(-[XW + b])} = \\sigma(h(X))\n",
    "$$\n",
    "where $\\sigma(z) = \\frac{1}{1 + \\exp(-z)}$ and $h(X)=XW + b$.\n",
    "\n",
    "Parameters $W$ and $b$ are fitted by maximizing the log-likelihood (or minimizing the negative log-likelihood) of the model on the training data. For a training subset $\\{X_j, Y_j\\}_{j=1}^N$ the normalized negative log likelihood (NLL) is given by \n",
    "\n",
    "$$\n",
    "\\mathcal{L} = -\\frac{1}{N}\\sum_j \\log\\Big[ f(X_j)^{Y_j} \\cdot (1-f(X_j))^{1-Y_j}\\Big]\n",
    "= -\\frac{1}{N}\\sum_j \\Big[ Y_j\\log f(X_j) + (1-Y_j)\\log(1-f(X_j))\\Big]\n",
    "$$"
   ]
  },
  {
   "cell_type": "markdown",
   "metadata": {},
   "source": [
    "There are different ways of fitting this model. In this assignment we consider Logistic Regression as a one-layer neural network. We use the following algorithm for the **forward** pass:\n",
    "\n",
    "1. Linear mapping: $h=XW + b$\n",
    "2. Sigmoid activation function: $f=\\sigma(h)$\n",
    "3. Calculation of NLL: $\\mathcal{L} = -\\frac{1}{N}\\sum_j \\Big[ Y_j\\log f_j + (1-Y_j)\\log(1-f_j)\\Big]$"
   ]
  },
  {
   "cell_type": "markdown",
   "metadata": {},
   "source": [
    "In order to fit $W$ and $b$ we perform Gradient Descent ([GD](https://en.wikipedia.org/wiki/Gradient_descent)). We choose a small learning rate $\\gamma$ and after each computation of forward pass, we update the parameters \n",
    "\n",
    "$$W_{\\text{new}} = W_{\\text{old}} - \\gamma \\frac{\\partial \\mathcal{L}}{\\partial W}$$\n",
    "\n",
    "$$b_{\\text{new}} = b_{\\text{old}} - \\gamma \\frac{\\partial \\mathcal{L}}{\\partial b}$$\n",
    "\n",
    "We use Backpropagation method ([BP](https://en.wikipedia.org/wiki/Backpropagation)) to calculate the partial derivatives of the loss function with respect to the parameters of the model.\n",
    "\n",
    "$$\n",
    "\\frac{\\partial\\mathcal{L}}{\\partial W} = \n",
    "\\frac{\\partial\\mathcal{L}}{\\partial h} \\frac{\\partial h}{\\partial W} =\n",
    "\\frac{\\partial\\mathcal{L}}{\\partial f} \\frac{\\partial f}{\\partial h} \\frac{\\partial h}{\\partial W}\n",
    "$$\n",
    "\n",
    "$$\n",
    "\\frac{\\partial\\mathcal{L}}{\\partial b} = \n",
    "\\frac{\\partial\\mathcal{L}}{\\partial h} \\frac{\\partial h}{\\partial b} =\n",
    "\\frac{\\partial\\mathcal{L}}{\\partial f} \\frac{\\partial f}{\\partial h} \\frac{\\partial h}{\\partial b}\n",
    "$$"
   ]
  },
  {
   "cell_type": "markdown",
   "metadata": {},
   "source": [
    "## 1.1 Linear Mapping\n",
    "First of all, you need to implement the forward pass of a linear mapping:\n",
    "$$\n",
    "h(X) = XW +b\n",
    "$$"
   ]
  },
  {
   "cell_type": "markdown",
   "metadata": {},
   "source": [
    "**Note**: here we use `n_out` as the dimensionality of the output. For logisitc regression `n_out = 1`. However, we will work with cases of `n_out > 1` in next assignments. You will **pass** the current assignment even if your implementation works only in case `n_out = 1`. If your implementation works for the cases of `n_out > 1` then you will not have to modify your method next week. All **numpy** operations are generic. It is recommended to use numpy when is it possible."
   ]
  },
  {
   "cell_type": "code",
   "execution_count": 8,
   "metadata": {},
   "outputs": [],
   "source": [
    "def linear_forward(x_input, W, b):\n",
    "    \"\"\"Perform the mapping of the input\n",
    "    # Arguments\n",
    "        x_input: input of the linear function - np.array of size `(n_objects, n_in)`\n",
    "        W: np.array of size `(n_in, n_out)`\n",
    "        b: np.array of size `(n_out,)`\n",
    "    # Output\n",
    "        the output of the linear function \n",
    "        np.array of size `(n_objects, n_out)`\n",
    "    \"\"\"\n",
    "    output = np.array([np.add(np.dot(xi,W),b) for xi in x_input])\n",
    "    \n",
    "    return output"
   ]
  },
  {
   "cell_type": "markdown",
   "metadata": {},
   "source": [
    "Let's check your first function. We set the matrices $X, W, b$:\n",
    "$$\n",
    "X = \\begin{bmatrix}\n",
    "1 & -1 \\\\\n",
    "-1 & 0 \\\\\n",
    "1 & 1 \\\\\n",
    "\\end{bmatrix} \\quad\n",
    "W = \\begin{bmatrix}\n",
    "4 \\\\\n",
    "2 \\\\\n",
    "\\end{bmatrix} \\quad\n",
    "b = \\begin{bmatrix}\n",
    "3 \\\\\n",
    "\\end{bmatrix}\n",
    "$$\n",
    "\n",
    "And then compute \n",
    "$$\n",
    "XW = \\begin{bmatrix}\n",
    "1 & -1 \\\\\n",
    "-1 & 0 \\\\\n",
    "1 & 1 \\\\\n",
    "\\end{bmatrix}\n",
    "\\begin{bmatrix}\n",
    "4 \\\\\n",
    "2 \\\\\n",
    "\\end{bmatrix} =\n",
    "\\begin{bmatrix}\n",
    "2 \\\\\n",
    "-4 \\\\\n",
    "6 \\\\\n",
    "\\end{bmatrix} \\\\\n",
    "XW + b = \n",
    "\\begin{bmatrix}\n",
    "5 \\\\\n",
    "-1 \\\\\n",
    "9 \\\\\n",
    "\\end{bmatrix} \n",
    "$$"
   ]
  },
  {
   "cell_type": "code",
   "execution_count": 9,
   "metadata": {},
   "outputs": [
    {
     "output_type": "stream",
     "name": "stdout",
     "text": [
      "[[[ 5]\n  [-1]\n  [ 9]]]\n"
     ]
    }
   ],
   "source": [
    "X_test = np.array([[[1, -1],\n",
    "                   [-1, 0],\n",
    "                   [1, 1]]])\n",
    "\n",
    "W_test = np.array([[4],\n",
    "                   [2]])\n",
    "\n",
    "b_test = np.array([3])\n",
    "\n",
    "h_test = linear_forward(X_test, W_test, b_test)\n",
    "print(h_test)"
   ]
  },
  {
   "cell_type": "code",
   "execution_count": 10,
   "metadata": {},
   "outputs": [
    {
     "output_type": "stream",
     "name": "stdout",
     "text": [
      "Running local tests...\n",
      "linear_forward successfully passed local tests\n",
      "Running remote test...\n",
      "Test was successful. Congratulations!\n"
     ]
    }
   ],
   "source": [
    "am.test_student_function(username, linear_forward, ['x_input', 'W', 'b'])"
   ]
  },
  {
   "cell_type": "markdown",
   "metadata": {},
   "source": [
    "Now you need to implement the calculation of the partial derivative of the loss function with respect to the parameters of the model. As this expressions are used for the updates of the parameters, we refer to them as gradients.\n",
    "$$\n",
    "\\frac{\\partial \\mathcal{L}}{\\partial W} = \n",
    "\\frac{\\partial \\mathcal{L}}{\\partial h}\n",
    "\\frac{\\partial h}{\\partial W} \\\\\n",
    "\\frac{\\partial \\mathcal{L}}{\\partial b} = \n",
    "\\frac{\\partial \\mathcal{L}}{\\partial h}\n",
    "\\frac{\\partial h}{\\partial b} \\\\\n",
    "$$"
   ]
  },
  {
   "cell_type": "code",
   "execution_count": 21,
   "metadata": {},
   "outputs": [],
   "source": [
    "def linear_grad_W(x_input, grad_output, W, b):\n",
    "    \"\"\"Calculate the partial derivative of \n",
    "        the loss with respect to W parameter of the function\n",
    "        dL / dW = (dL / dh) * (dh / dW)\n",
    "    # Arguments\n",
    "        x_input: input of a dense layer - np.array of size `(n_objects, n_in)`\n",
    "        grad_output: partial derivative of the loss functions with \n",
    "            respect to the ouput of the dense layer (dL / dh)\n",
    "            np.array of size `(n_objects, n_out)`\n",
    "        W: np.array of size `(n_in, n_out)`\n",
    "        b: np.array of size `(n_out,)`\n",
    "    # Output\n",
    "        the partial derivative of the loss \n",
    "        with respect to W parameter of the function\n",
    "        np.array of size `(n_in, n_out)`\n",
    "    \"\"\"\n",
    "    \n",
    "    \n",
    "    grad_W = np.sum(np.dot(np.transpose(grad_output), x_input))\n",
    "\n",
    "    return grad_W"
   ]
  },
  {
   "cell_type": "code",
   "execution_count": 22,
   "metadata": {
    "tags": []
   },
   "outputs": [
    {
     "output_type": "stream",
     "name": "stdout",
     "text": [
      "Running local tests...\nlinear_grad_W failed some local tests\n"
     ]
    }
   ],
   "source": [
    "am.test_student_function(username, linear_grad_W, ['x_input', 'grad_output', 'W', 'b'])"
   ]
  },
  {
   "cell_type": "code",
   "execution_count": 13,
   "metadata": {},
   "outputs": [],
   "source": [
    "def linear_grad_b(x_input, grad_output, W, b):\n",
    "    \"\"\"Calculate the partial derivative of \n",
    "        the loss with respect to b parameter of the function\n",
    "        dL / db = (dL / dh) * (dh / db)\n",
    "    # Arguments\n",
    "        x_input: input of a dense layer - np.array of size `(n_objects, n_in)`\n",
    "        grad_output: partial derivative of the loss functions with \n",
    "            respect to the ouput of the linear function (dL / dh)\n",
    "            np.array of size `(n_objects, n_out)`\n",
    "        W: np.array of size `(n_in, n_out)`\n",
    "        b: np.array of size `(n_out,)`\n",
    "    # Output\n",
    "        the partial derivative of the loss \n",
    "        with respect to b parameter of the linear function\n",
    "        np.array of size `(n_out,)`\n",
    "    \"\"\"\n",
    "    \n",
    "    grad_b = np.sum(grad_output,axis=0,keepdims=True)\n",
    "    \n",
    "    return grad_b"
   ]
  },
  {
   "cell_type": "code",
   "execution_count": 14,
   "metadata": {},
   "outputs": [
    {
     "output_type": "stream",
     "name": "stdout",
     "text": [
      "Running local tests...\nlinear_grad_b successfully passed local tests\nRunning remote test...\n"
     ]
    },
    {
     "output_type": "error",
     "ename": "ServerError",
     "evalue": "your timeout expires in 30 sec.",
     "traceback": [
      "\u001b[1;31m---------------------------------------------------------------------------\u001b[0m",
      "\u001b[1;31mServerError\u001b[0m                               Traceback (most recent call last)",
      "\u001b[1;32m<ipython-input-14-9688f24c8a51>\u001b[0m in \u001b[0;36m<module>\u001b[1;34m\u001b[0m\n\u001b[1;32m----> 1\u001b[1;33m \u001b[0mam\u001b[0m\u001b[1;33m.\u001b[0m\u001b[0mtest_student_function\u001b[0m\u001b[1;33m(\u001b[0m\u001b[0musername\u001b[0m\u001b[1;33m,\u001b[0m \u001b[0mlinear_grad_b\u001b[0m\u001b[1;33m,\u001b[0m \u001b[1;33m[\u001b[0m\u001b[1;34m'x_input'\u001b[0m\u001b[1;33m,\u001b[0m \u001b[1;34m'grad_output'\u001b[0m\u001b[1;33m,\u001b[0m \u001b[1;34m'W'\u001b[0m\u001b[1;33m,\u001b[0m \u001b[1;34m'b'\u001b[0m\u001b[1;33m]\u001b[0m\u001b[1;33m)\u001b[0m\u001b[1;33m\u001b[0m\u001b[1;33m\u001b[0m\u001b[0m\n\u001b[0m",
      "\u001b[1;32mc:\\Users\\PericlesWorkandStudy\\Documents\\UvA\\Master_DataScience\\AppliedMachineLearningCourse\\Week_2\\automark.py\u001b[0m in \u001b[0;36mtest_student_function\u001b[1;34m(username, function, arg_keys)\u001b[0m\n\u001b[0;32m    155\u001b[0m         \u001b[0msys\u001b[0m\u001b[1;33m.\u001b[0m\u001b[0mstdout\u001b[0m\u001b[1;33m.\u001b[0m\u001b[0mflush\u001b[0m\u001b[1;33m(\u001b[0m\u001b[1;33m)\u001b[0m\u001b[1;33m\u001b[0m\u001b[1;33m\u001b[0m\u001b[0m\n\u001b[0;32m    156\u001b[0m \u001b[1;33m\u001b[0m\u001b[0m\n\u001b[1;32m--> 157\u001b[1;33m         \u001b[1;32mif\u001b[0m \u001b[0m_passed_remote_test\u001b[0m\u001b[1;33m(\u001b[0m\u001b[0musername\u001b[0m\u001b[1;33m,\u001b[0m \u001b[0mfunction\u001b[0m\u001b[1;33m,\u001b[0m \u001b[0marg_keys\u001b[0m\u001b[1;33m)\u001b[0m\u001b[1;33m:\u001b[0m\u001b[1;33m\u001b[0m\u001b[1;33m\u001b[0m\u001b[0m\n\u001b[0m\u001b[0;32m    158\u001b[0m             \u001b[0mprint\u001b[0m\u001b[1;33m(\u001b[0m\u001b[1;34m\"Test was successful. Congratulations!\"\u001b[0m\u001b[1;33m)\u001b[0m\u001b[1;33m\u001b[0m\u001b[1;33m\u001b[0m\u001b[0m\n\u001b[0;32m    159\u001b[0m         \u001b[1;32melse\u001b[0m\u001b[1;33m:\u001b[0m\u001b[1;33m\u001b[0m\u001b[1;33m\u001b[0m\u001b[0m\n",
      "\u001b[1;32mc:\\Users\\PericlesWorkandStudy\\Documents\\UvA\\Master_DataScience\\AppliedMachineLearningCourse\\Week_2\\automark.py\u001b[0m in \u001b[0;36m_passed_remote_test\u001b[1;34m(username, function, arg_keys)\u001b[0m\n\u001b[0;32m    102\u001b[0m \u001b[1;33m\u001b[0m\u001b[0m\n\u001b[0;32m    103\u001b[0m     \u001b[1;32mif\u001b[0m \u001b[1;34m'error'\u001b[0m \u001b[1;32min\u001b[0m \u001b[0mdata\u001b[0m\u001b[1;33m:\u001b[0m\u001b[1;33m\u001b[0m\u001b[1;33m\u001b[0m\u001b[0m\n\u001b[1;32m--> 104\u001b[1;33m         \u001b[1;32mraise\u001b[0m \u001b[0mServerError\u001b[0m\u001b[1;33m(\u001b[0m\u001b[0mdata\u001b[0m\u001b[1;33m[\u001b[0m\u001b[1;34m'error'\u001b[0m\u001b[1;33m]\u001b[0m\u001b[1;33m)\u001b[0m\u001b[1;33m\u001b[0m\u001b[1;33m\u001b[0m\u001b[0m\n\u001b[0m\u001b[0;32m    105\u001b[0m \u001b[1;33m\u001b[0m\u001b[0m\n\u001b[0;32m    106\u001b[0m     \u001b[0margs\u001b[0m \u001b[1;33m=\u001b[0m \u001b[1;33m[\u001b[0m\u001b[1;33m]\u001b[0m\u001b[1;33m\u001b[0m\u001b[1;33m\u001b[0m\u001b[0m\n",
      "\u001b[1;31mServerError\u001b[0m: your timeout expires in 30 sec."
     ]
    }
   ],
   "source": [
    "am.test_student_function(username, linear_grad_b, ['x_input', 'grad_output', 'W', 'b'])"
   ]
  },
  {
   "cell_type": "code",
   "execution_count": 19,
   "metadata": {},
   "outputs": [
    {
     "output_type": "stream",
     "name": "stdout",
     "text": [
      "---------------------------------------------\n| Pericles Cataldi Beirao                   |\n| pericles.cataldi.beirao@student.uva.nl    |\n---------------------------------------------\n| linear_forward           | completed      |\n| linear_grad_W            | completed      |\n| linear_grad_b            | completed      |\n| nll_forward              | completed      |\n| nll_grad_input           | completed      |\n| sigmoid_forward          | completed      |\n| sigmoid_grad_input       | completed      |\n| tree_gini_index          | completed      |\n| tree_split_data_left     | completed      |\n| tree_split_data_right    | completed      |\n| tree_to_terminal         | completed      |\n---------------------------------------------\n"
     ]
    }
   ],
   "source": [
    "am.get_progress(username)"
   ]
  },
  {
   "cell_type": "markdown",
   "metadata": {},
   "source": [
    "## 1.2 Sigmoid\n",
    "$$\n",
    "f = \\sigma(h) = \\frac{1}{1 + e^{-h}} \n",
    "$$\n",
    "\n",
    "Sigmoid function is applied element-wise. It does not change the dimensionality of the tensor and its implementation is shape-agnostic in general."
   ]
  },
  {
   "cell_type": "code",
   "execution_count": 20,
   "metadata": {},
   "outputs": [],
   "source": [
    "def sigmoid_forward(x_input):\n",
    "    \"\"\"sigmoid nonlinearity\n",
    "    # Arguments\n",
    "        x_input: np.array of size `(n_objects, n_in)`\n",
    "    # Output\n",
    "        the output of relu layer\n",
    "        np.array of size `(n_objects, n_in)`\n",
    "    \"\"\"\n",
    "    output = 1/(1 + np.exp(-x_input)) \n",
    "    return output"
   ]
  },
  {
   "cell_type": "code",
   "execution_count": 63,
   "metadata": {},
   "outputs": [
    {
     "output_type": "stream",
     "name": "stdout",
     "text": [
      "Running local tests...\n",
      "sigmoid_forward successfully passed local tests\n",
      "Running remote test...\n",
      "Test was successful. Congratulations!\n"
     ]
    }
   ],
   "source": [
    "am.test_student_function(username, sigmoid_forward, ['x_input'])"
   ]
  },
  {
   "cell_type": "markdown",
   "metadata": {},
   "source": [
    "Now you need to implement the calculation of the partial derivative of the loss function with respect to the input of sigmoid. \n",
    "\n",
    "$$\n",
    "\\frac{\\partial \\mathcal{L}}{\\partial h} = \n",
    "\\frac{\\partial \\mathcal{L}}{\\partial f}\n",
    "\\frac{\\partial f}{\\partial h} \n",
    "$$\n",
    "\n",
    "Tensor $\\frac{\\partial \\mathcal{L}}{\\partial f}$ comes from the loss function. Let's calculate $\\frac{\\partial f}{\\partial h}$\n",
    "\n",
    "$$\n",
    "\\frac{\\partial f}{\\partial h} = \n",
    "\\frac{\\partial \\sigma(h)}{\\partial h} =\n",
    "\\frac{\\partial}{\\partial h} \\Big(\\frac{1}{1 + e^{-h}}\\Big)\n",
    "= \\frac{e^{-h}}{(1 + e^{-h})^2}\n",
    "= \\frac{1}{1 + e^{-h}} \\frac{e^{-h}}{1 + e^{-h}}\n",
    "= f(h) (1 - f(h))\n",
    "$$\n",
    "\n",
    "Therefore, in order to calculate the gradient of the loss with respect to the input of sigmoid function you need \n",
    "to \n",
    "1. calculate $f(h) (1 - f(h))$ \n",
    "2. multiply it element-wise by $\\frac{\\partial \\mathcal{L}}{\\partial f}$"
   ]
  },
  {
   "cell_type": "code",
   "execution_count": 21,
   "metadata": {},
   "outputs": [],
   "source": [
    "def sigmoid_grad_input(x_input, grad_output):\n",
    "    \"\"\"sigmoid nonlinearity gradient. \n",
    "        Calculate the partial derivative of the loss \n",
    "        with respect to the input of the layer\n",
    "    # Arguments\n",
    "        x_input: np.array of size `(n_objects, n_in)`\n",
    "        grad_output: np.array of size `(n_objects, n_in)` \n",
    "            dL / df\n",
    "    # Output\n",
    "        the partial derivative of the loss \n",
    "        with respect to the input of the function\n",
    "        np.array of size `(n_objects, n_in)` \n",
    "        dL / dh\n",
    "    \"\"\"\n",
    "    dfBYdh = (1/(1 + np.exp(-x_input)))*(1- 1/(1 + np.exp(-x_input))) \n",
    "    grad_input = dfBYdh*grad_output\n",
    "    return grad_input"
   ]
  },
  {
   "cell_type": "code",
   "execution_count": 65,
   "metadata": {},
   "outputs": [
    {
     "output_type": "stream",
     "name": "stdout",
     "text": [
      "Running local tests...\n",
      "sigmoid_grad_input successfully passed local tests\n",
      "Running remote test...\n",
      "Test was successful. Congratulations!\n"
     ]
    }
   ],
   "source": [
    "am.test_student_function(username, sigmoid_grad_input, ['x_input', 'grad_output'])"
   ]
  },
  {
   "cell_type": "markdown",
   "metadata": {},
   "source": [
    "## 1.3 Negative Log Likelihood"
   ]
  },
  {
   "cell_type": "markdown",
   "metadata": {},
   "source": [
    "$$\n",
    "\\mathcal{L} \n",
    "= -\\frac{1}{N}\\sum_j \\Big[ Y_j\\log \\dot{Y}_j + (1-Y_j)\\log(1-\\dot{Y}_j)\\Big]\n",
    "$$\n",
    "\n",
    "Here $N$ is the number of objects. $Y_j$ is the real label of an object and $\\dot{Y}_j$ is the predicted one."
   ]
  },
  {
   "cell_type": "code",
   "execution_count": 22,
   "metadata": {},
   "outputs": [],
   "source": [
    "def nll_forward(target_pred, target_true):\n",
    "    \"\"\"Compute the value of NLL\n",
    "        for a given prediction and the ground truth\n",
    "    # Arguments\n",
    "        target_pred: predictions - np.array of size `(n_objects, 1)`\n",
    "        target_true: ground truth - np.array of size `(n_objects, 1)`\n",
    "    # Output\n",
    "        the value of NLL for a given prediction and the ground truth\n",
    "        scalar\n",
    "    \"\"\"\n",
    "    output = -1/len(target_pred)*np.sum(target_true*np.log(target_pred)+(1-target_true)*np.log((1-target_pred)))  \n",
    "    return output"
   ]
  },
  {
   "cell_type": "code",
   "execution_count": 68,
   "metadata": {},
   "outputs": [
    {
     "output_type": "stream",
     "name": "stdout",
     "text": [
      "Running local tests...\n",
      "nll_forward successfully passed local tests\n",
      "Running remote test...\n",
      "Test was successful. Congratulations!\n"
     ]
    }
   ],
   "source": [
    "am.test_student_function(username, nll_forward, ['target_pred', 'target_true'])"
   ]
  },
  {
   "cell_type": "markdown",
   "metadata": {},
   "source": [
    "Now you need to calculate the partial derivative of NLL with with respect to its input.\n",
    "\n",
    "$$\n",
    "\\frac{\\partial \\mathcal{L}}{\\partial \\dot{Y}}\n",
    "=\n",
    "\\begin{pmatrix}\n",
    "\\frac{\\partial \\mathcal{L}}{\\partial \\dot{Y}_0} \\\\\n",
    "\\frac{\\partial \\mathcal{L}}{\\partial \\dot{Y}_1} \\\\\n",
    "\\vdots \\\\\n",
    "\\frac{\\partial \\mathcal{L}}{\\partial \\dot{Y}_N}\n",
    "\\end{pmatrix}\n",
    "$$\n",
    "\n",
    "Let's do it step-by-step\n",
    "\n",
    "\\begin{equation}\n",
    "\\begin{split}\n",
    "\\frac{\\partial \\mathcal{L}}{\\partial \\dot{Y}_0} \n",
    "&= \\frac{\\partial}{\\partial \\dot{Y}_0} \\Big(-\\frac{1}{N}\\sum_j \\Big[ Y_j\\log \\dot{Y}_j + (1-Y_j)\\log(1-\\dot{Y}_j)\\Big]\\Big) \\\\\n",
    "&= -\\frac{1}{N} \\frac{\\partial}{\\partial \\dot{Y}_0} \\Big(Y_0\\log \\dot{Y}_0 + (1-Y_0)\\log(1-\\dot{Y}_0)\\Big) \\\\\n",
    "&= -\\frac{1}{N} \\Big(\\frac{Y_0}{\\dot{Y}_0} - \\frac{1-Y_0}{1-\\dot{Y}_0}\\Big)\n",
    "= \\frac{1}{N} \\frac{\\dot{Y}_0 - Y_0}{\\dot{Y}_0 (1 - \\dot{Y}_0)}\n",
    "\\end{split}\n",
    "\\end{equation}\n",
    "\n",
    "And for the other components it can be done in exactly the same way. So the result is the vector where each component is given by \n",
    "$$\\frac{1}{N} \\frac{\\dot{Y}_j - Y_j}{\\dot{Y}_j (1 - \\dot{Y}_j)}$$\n",
    "\n",
    "Or if we assume all multiplications and divisions to be done element-wise the output can be calculated as\n",
    "$$\n",
    "\\frac{\\partial \\mathcal{L}}{\\partial \\dot{Y}} = \\frac{1}{N} \\frac{\\dot{Y} - Y}{\\dot{Y} (1 - \\dot{Y})}\n",
    "$$"
   ]
  },
  {
   "cell_type": "code",
   "execution_count": 23,
   "metadata": {},
   "outputs": [],
   "source": [
    "def nll_grad_input(target_pred, target_true):\n",
    "    \"\"\"Compute the partial derivative of NLL\n",
    "        with respect to its input\n",
    "    # Arguments\n",
    "        target_pred: predictions - np.array of size `(n_objects, 1)`\n",
    "        target_true: ground truth - np.array of size `(n_objects, 1)`\n",
    "    # Output\n",
    "        the partial derivative \n",
    "        of NLL with respect to its input\n",
    "        np.array of size `(n_objects, 1)`\n",
    "    \"\"\"\n",
    "   \n",
    "    grad_input = 1/len(target_pred)*((target_pred-target_true)/(target_pred*(1-target_pred)))  \n",
    "    return grad_input"
   ]
  },
  {
   "cell_type": "code",
   "execution_count": 96,
   "metadata": {},
   "outputs": [
    {
     "output_type": "stream",
     "name": "stdout",
     "text": [
      "Running local tests...\n",
      "nll_grad_input successfully passed local tests\n",
      "Running remote test...\n",
      "Test was successful. Congratulations!\n"
     ]
    }
   ],
   "source": [
    "am.test_student_function(username, nll_grad_input, ['target_pred', 'target_true'])"
   ]
  },
  {
   "cell_type": "code",
   "execution_count": 159,
   "metadata": {},
   "outputs": [
    {
     "output_type": "stream",
     "name": "stdout",
     "text": [
      "---------------------------------------------\n| Pericles Cataldi Beirao                   |\n| pericles.cataldi.beirao@student.uva.nl    |\n---------------------------------------------\n| linear_forward           | completed      |\n| linear_grad_W            | completed      |\n| linear_grad_b            | completed      |\n| nll_forward              | completed      |\n| nll_grad_input           | completed      |\n| sigmoid_forward          | completed      |\n| sigmoid_grad_input       | completed      |\n| tree_gini_index          | completed      |\n| tree_split_data_left     | not attempted  |\n| tree_split_data_right    | not attempted  |\n| tree_to_terminal         | not attempted  |\n---------------------------------------------\n"
     ]
    }
   ],
   "source": [
    "am.get_progress(username)"
   ]
  },
  {
   "cell_type": "markdown",
   "metadata": {},
   "source": [
    "## 1.4 Model\n",
    "\n",
    "Here we provide a model for your. It consist of the function which you have implmeneted above"
   ]
  },
  {
   "cell_type": "code",
   "execution_count": 43,
   "metadata": {},
   "outputs": [],
   "source": [
    "class LogsticRegressionGD(object):\n",
    "    \n",
    "    def __init__(self, n_in, lr=0.05):\n",
    "        super().__init__()\n",
    "        self.lr = lr\n",
    "        self.b = np.zeros(1, )\n",
    "        self.W = np.random.randn(n_in, 1)\n",
    "        \n",
    "    def forward(self, x):\n",
    "        self.h = linear_forward(x, self.W, self.b)\n",
    "        y = sigmoid_forward(self.h)\n",
    "        return y\n",
    "    \n",
    "    def update_params(self, x, nll_grad):\n",
    "        # compute gradients\n",
    "        grad_h = sigmoid_grad_input(self.h, nll_grad)\n",
    "       # print(\"X:\",x,\"grad_h:\", grad_h)\n",
    "        grad_W = linear_grad_W(x, grad_h, self.W, self.b)\n",
    "        grad_b = linear_grad_b(x, grad_h, self.W, self.b)\n",
    "        # update params\n",
    "        #print(self.W, self.lr, 'grad_W:',grad_W )\n",
    "        self.W = self.W - self.lr * grad_W\n",
    "        self.b = self.b - self.lr * grad_b"
   ]
  },
  {
   "cell_type": "markdown",
   "metadata": {},
   "source": [
    "## 1.5 Simple Experiment"
   ]
  },
  {
   "cell_type": "code",
   "execution_count": 25,
   "metadata": {},
   "outputs": [],
   "source": [
    "import matplotlib.pyplot as plt\n",
    "%matplotlib inline"
   ]
  },
  {
   "cell_type": "code",
   "execution_count": 26,
   "metadata": {},
   "outputs": [
    {
     "output_type": "display_data",
     "data": {
      "text/plain": "<Figure size 576x288 with 2 Axes>",
      "image/svg+xml": "<?xml version=\"1.0\" encoding=\"utf-8\" standalone=\"no\"?>\r\n<!DOCTYPE svg PUBLIC \"-//W3C//DTD SVG 1.1//EN\"\r\n  \"http://www.w3.org/Graphics/SVG/1.1/DTD/svg11.dtd\">\r\n<!-- Created with matplotlib (https://matplotlib.org/) -->\r\n<svg height=\"233.961675pt\" version=\"1.1\" viewBox=\"0 0 482.542187 233.961675\" width=\"482.542187pt\" xmlns=\"http://www.w3.org/2000/svg\" xmlns:xlink=\"http://www.w3.org/1999/xlink\">\r\n <metadata>\r\n  <rdf:RDF xmlns:cc=\"http://creativecommons.org/ns#\" xmlns:dc=\"http://purl.org/dc/elements/1.1/\" xmlns:rdf=\"http://www.w3.org/1999/02/22-rdf-syntax-ns#\">\r\n   <cc:Work>\r\n    <dc:type rdf:resource=\"http://purl.org/dc/dcmitype/StillImage\"/>\r\n    <dc:date>2020-11-12T20:08:23.430600</dc:date>\r\n    <dc:format>image/svg+xml</dc:format>\r\n    <dc:creator>\r\n     <cc:Agent>\r\n      <dc:title>Matplotlib v3.3.2, https://matplotlib.org/</dc:title>\r\n     </cc:Agent>\r\n    </dc:creator>\r\n   </cc:Work>\r\n  </rdf:RDF>\r\n </metadata>\r\n <defs>\r\n  <style type=\"text/css\">*{stroke-linecap:butt;stroke-linejoin:round;}</style>\r\n </defs>\r\n <g id=\"figure_1\">\r\n  <g id=\"patch_1\">\r\n   <path d=\"M 0 233.961675 \r\nL 482.542187 233.961675 \r\nL 482.542187 0 \r\nL 0 0 \r\nz\r\n\" style=\"fill:none;\"/>\r\n  </g>\r\n  <g id=\"axes_1\">\r\n   <g id=\"patch_2\">\r\n    <path d=\"M 28.942188 210.08355 \r\nL 231.851278 210.08355 \r\nL 231.851278 7.2 \r\nL 28.942188 7.2 \r\nz\r\n\" style=\"fill:#ffffff;\"/>\r\n   </g>\r\n   <g id=\"PathCollection_1\">\r\n    <defs>\r\n     <path d=\"M 0 3 \r\nC 0.795609 3 1.55874 2.683901 2.12132 2.12132 \r\nC 2.683901 1.55874 3 0.795609 3 -0 \r\nC 3 -0.795609 2.683901 -1.55874 2.12132 -2.12132 \r\nC 1.55874 -2.683901 0.795609 -3 0 -3 \r\nC -0.795609 -3 -1.55874 -2.683901 -2.12132 -2.12132 \r\nC -2.683901 -1.55874 -3 -0.795609 -3 0 \r\nC -3 0.795609 -2.683901 1.55874 -2.12132 2.12132 \r\nC -1.55874 2.683901 -0.795609 3 0 3 \r\nz\r\n\" id=\"C0_0_023f5d0e2f\"/>\r\n    </defs>\r\n    <g clip-path=\"url(#p542e37c756)\">\r\n     <use style=\"fill:#fde725;\" x=\"130.396733\" xlink:href=\"#C0_0_023f5d0e2f\" y=\"74.842556\"/>\r\n    </g>\r\n    <g clip-path=\"url(#p542e37c756)\">\r\n     <use style=\"fill:#fde725;\" x=\"132.541885\" xlink:href=\"#C0_0_023f5d0e2f\" y=\"74.910652\"/>\r\n    </g>\r\n    <g clip-path=\"url(#p542e37c756)\">\r\n     <use style=\"fill:#fde725;\" x=\"134.678399\" xlink:href=\"#C0_0_023f5d0e2f\" y=\"75.114664\"/>\r\n    </g>\r\n    <g clip-path=\"url(#p542e37c756)\">\r\n     <use style=\"fill:#fde725;\" x=\"136.797672\" xlink:href=\"#C0_0_023f5d0e2f\" y=\"75.453772\"/>\r\n    </g>\r\n    <g clip-path=\"url(#p542e37c756)\">\r\n     <use style=\"fill:#fde725;\" x=\"138.89117\" xlink:href=\"#C0_0_023f5d0e2f\" y=\"75.926609\"/>\r\n    </g>\r\n    <g clip-path=\"url(#p542e37c756)\">\r\n     <use style=\"fill:#fde725;\" x=\"140.950465\" xlink:href=\"#C0_0_023f5d0e2f\" y=\"76.531273\"/>\r\n    </g>\r\n    <g clip-path=\"url(#p542e37c756)\">\r\n     <use style=\"fill:#fde725;\" x=\"142.967264\" xlink:href=\"#C0_0_023f5d0e2f\" y=\"77.265327\"/>\r\n    </g>\r\n    <g clip-path=\"url(#p542e37c756)\">\r\n     <use style=\"fill:#fde725;\" x=\"144.933445\" xlink:href=\"#C0_0_023f5d0e2f\" y=\"78.125817\"/>\r\n    </g>\r\n    <g clip-path=\"url(#p542e37c756)\">\r\n     <use style=\"fill:#fde725;\" x=\"146.841092\" xlink:href=\"#C0_0_023f5d0e2f\" y=\"79.109278\"/>\r\n    </g>\r\n    <g clip-path=\"url(#p542e37c756)\">\r\n     <use style=\"fill:#fde725;\" x=\"148.682524\" xlink:href=\"#C0_0_023f5d0e2f\" y=\"80.211749\"/>\r\n    </g>\r\n    <g clip-path=\"url(#p542e37c756)\">\r\n     <use style=\"fill:#fde725;\" x=\"150.450325\" xlink:href=\"#C0_0_023f5d0e2f\" y=\"81.428791\"/>\r\n    </g>\r\n    <g clip-path=\"url(#p542e37c756)\">\r\n     <use style=\"fill:#fde725;\" x=\"152.137378\" xlink:href=\"#C0_0_023f5d0e2f\" y=\"82.755504\"/>\r\n    </g>\r\n    <g clip-path=\"url(#p542e37c756)\">\r\n     <use style=\"fill:#fde725;\" x=\"153.736888\" xlink:href=\"#C0_0_023f5d0e2f\" y=\"84.186545\"/>\r\n    </g>\r\n    <g clip-path=\"url(#p542e37c756)\">\r\n     <use style=\"fill:#fde725;\" x=\"155.242416\" xlink:href=\"#C0_0_023f5d0e2f\" y=\"85.716152\"/>\r\n    </g>\r\n    <g clip-path=\"url(#p542e37c756)\">\r\n     <use style=\"fill:#fde725;\" x=\"156.647899\" xlink:href=\"#C0_0_023f5d0e2f\" y=\"87.338166\"/>\r\n    </g>\r\n    <g clip-path=\"url(#p542e37c756)\">\r\n     <use style=\"fill:#fde725;\" x=\"157.947679\" xlink:href=\"#C0_0_023f5d0e2f\" y=\"89.046056\"/>\r\n    </g>\r\n    <g clip-path=\"url(#p542e37c756)\">\r\n     <use style=\"fill:#fde725;\" x=\"159.13652\" xlink:href=\"#C0_0_023f5d0e2f\" y=\"90.832944\"/>\r\n    </g>\r\n    <g clip-path=\"url(#p542e37c756)\">\r\n     <use style=\"fill:#fde725;\" x=\"160.209636\" xlink:href=\"#C0_0_023f5d0e2f\" y=\"92.691636\"/>\r\n    </g>\r\n    <g clip-path=\"url(#p542e37c756)\">\r\n     <use style=\"fill:#fde725;\" x=\"161.162706\" xlink:href=\"#C0_0_023f5d0e2f\" y=\"94.614646\"/>\r\n    </g>\r\n    <g clip-path=\"url(#p542e37c756)\">\r\n     <use style=\"fill:#fde725;\" x=\"161.991892\" xlink:href=\"#C0_0_023f5d0e2f\" y=\"96.594233\"/>\r\n    </g>\r\n    <g clip-path=\"url(#p542e37c756)\">\r\n     <use style=\"fill:#fde725;\" x=\"162.693856\" xlink:href=\"#C0_0_023f5d0e2f\" y=\"98.622424\"/>\r\n    </g>\r\n    <g clip-path=\"url(#p542e37c756)\">\r\n     <use style=\"fill:#fde725;\" x=\"163.265771\" xlink:href=\"#C0_0_023f5d0e2f\" y=\"100.691053\"/>\r\n    </g>\r\n    <g clip-path=\"url(#p542e37c756)\">\r\n     <use style=\"fill:#fde725;\" x=\"163.705333\" xlink:href=\"#C0_0_023f5d0e2f\" y=\"102.79179\"/>\r\n    </g>\r\n    <g clip-path=\"url(#p542e37c756)\">\r\n     <use style=\"fill:#fde725;\" x=\"164.010774\" xlink:href=\"#C0_0_023f5d0e2f\" y=\"104.916177\"/>\r\n    </g>\r\n    <g clip-path=\"url(#p542e37c756)\">\r\n     <use style=\"fill:#fde725;\" x=\"164.180863\" xlink:href=\"#C0_0_023f5d0e2f\" y=\"107.055659\"/>\r\n    </g>\r\n    <g clip-path=\"url(#p542e37c756)\">\r\n     <use style=\"fill:#fde725;\" x=\"164.214915\" xlink:href=\"#C0_0_023f5d0e2f\" y=\"109.201621\"/>\r\n    </g>\r\n    <g clip-path=\"url(#p542e37c756)\">\r\n     <use style=\"fill:#fde725;\" x=\"164.112793\" xlink:href=\"#C0_0_023f5d0e2f\" y=\"111.345422\"/>\r\n    </g>\r\n    <g clip-path=\"url(#p542e37c756)\">\r\n     <use style=\"fill:#fde725;\" x=\"163.874908\" xlink:href=\"#C0_0_023f5d0e2f\" y=\"113.47843\"/>\r\n    </g>\r\n    <g clip-path=\"url(#p542e37c756)\">\r\n     <use style=\"fill:#fde725;\" x=\"163.502219\" xlink:href=\"#C0_0_023f5d0e2f\" y=\"115.592056\"/>\r\n    </g>\r\n    <g clip-path=\"url(#p542e37c756)\">\r\n     <use style=\"fill:#fde725;\" x=\"162.996226\" xlink:href=\"#C0_0_023f5d0e2f\" y=\"117.67779\"/>\r\n    </g>\r\n    <g clip-path=\"url(#p542e37c756)\">\r\n     <use style=\"fill:#fde725;\" x=\"162.358966\" xlink:href=\"#C0_0_023f5d0e2f\" y=\"119.727232\"/>\r\n    </g>\r\n    <g clip-path=\"url(#p542e37c756)\">\r\n     <use style=\"fill:#fde725;\" x=\"161.593005\" xlink:href=\"#C0_0_023f5d0e2f\" y=\"121.73213\"/>\r\n    </g>\r\n    <g clip-path=\"url(#p542e37c756)\">\r\n     <use style=\"fill:#fde725;\" x=\"160.701428\" xlink:href=\"#C0_0_023f5d0e2f\" y=\"123.684411\"/>\r\n    </g>\r\n    <g clip-path=\"url(#p542e37c756)\">\r\n     <use style=\"fill:#fde725;\" x=\"159.687824\" xlink:href=\"#C0_0_023f5d0e2f\" y=\"125.576215\"/>\r\n    </g>\r\n    <g clip-path=\"url(#p542e37c756)\">\r\n     <use style=\"fill:#fde725;\" x=\"158.556276\" xlink:href=\"#C0_0_023f5d0e2f\" y=\"127.399923\"/>\r\n    </g>\r\n    <g clip-path=\"url(#p542e37c756)\">\r\n     <use style=\"fill:#fde725;\" x=\"157.311339\" xlink:href=\"#C0_0_023f5d0e2f\" y=\"129.148192\"/>\r\n    </g>\r\n    <g clip-path=\"url(#p542e37c756)\">\r\n     <use style=\"fill:#fde725;\" x=\"155.958027\" xlink:href=\"#C0_0_023f5d0e2f\" y=\"130.813983\"/>\r\n    </g>\r\n    <g clip-path=\"url(#p542e37c756)\">\r\n     <use style=\"fill:#fde725;\" x=\"154.501788\" xlink:href=\"#C0_0_023f5d0e2f\" y=\"132.390587\"/>\r\n    </g>\r\n    <g clip-path=\"url(#p542e37c756)\">\r\n     <use style=\"fill:#fde725;\" x=\"152.948487\" xlink:href=\"#C0_0_023f5d0e2f\" y=\"133.871657\"/>\r\n    </g>\r\n    <g clip-path=\"url(#p542e37c756)\">\r\n     <use style=\"fill:#fde725;\" x=\"151.304378\" xlink:href=\"#C0_0_023f5d0e2f\" y=\"135.251228\"/>\r\n    </g>\r\n    <g clip-path=\"url(#p542e37c756)\">\r\n     <use style=\"fill:#fde725;\" x=\"149.576081\" xlink:href=\"#C0_0_023f5d0e2f\" y=\"136.523746\"/>\r\n    </g>\r\n    <g clip-path=\"url(#p542e37c756)\">\r\n     <use style=\"fill:#fde725;\" x=\"147.770555\" xlink:href=\"#C0_0_023f5d0e2f\" y=\"137.684087\"/>\r\n    </g>\r\n    <g clip-path=\"url(#p542e37c756)\">\r\n     <use style=\"fill:#fde725;\" x=\"145.895072\" xlink:href=\"#C0_0_023f5d0e2f\" y=\"138.727578\"/>\r\n    </g>\r\n    <g clip-path=\"url(#p542e37c756)\">\r\n     <use style=\"fill:#fde725;\" x=\"143.957182\" xlink:href=\"#C0_0_023f5d0e2f\" y=\"139.650018\"/>\r\n    </g>\r\n    <g clip-path=\"url(#p542e37c756)\">\r\n     <use style=\"fill:#fde725;\" x=\"141.964688\" xlink:href=\"#C0_0_023f5d0e2f\" y=\"140.447692\"/>\r\n    </g>\r\n    <g clip-path=\"url(#p542e37c756)\">\r\n     <use style=\"fill:#fde725;\" x=\"139.925615\" xlink:href=\"#C0_0_023f5d0e2f\" y=\"141.117388\"/>\r\n    </g>\r\n    <g clip-path=\"url(#p542e37c756)\">\r\n     <use style=\"fill:#fde725;\" x=\"137.848173\" xlink:href=\"#C0_0_023f5d0e2f\" y=\"141.65641\"/>\r\n    </g>\r\n    <g clip-path=\"url(#p542e37c756)\">\r\n     <use style=\"fill:#fde725;\" x=\"135.740726\" xlink:href=\"#C0_0_023f5d0e2f\" y=\"142.062587\"/>\r\n    </g>\r\n    <g clip-path=\"url(#p542e37c756)\">\r\n     <use style=\"fill:#fde725;\" x=\"133.61176\" xlink:href=\"#C0_0_023f5d0e2f\" y=\"142.334284\"/>\r\n    </g>\r\n    <g clip-path=\"url(#p542e37c756)\">\r\n     <use style=\"fill:#fde725;\" x=\"131.469849\" xlink:href=\"#C0_0_023f5d0e2f\" y=\"142.470406\"/>\r\n    </g>\r\n    <g clip-path=\"url(#p542e37c756)\">\r\n     <use style=\"fill:#fde725;\" x=\"129.323617\" xlink:href=\"#C0_0_023f5d0e2f\" y=\"142.470406\"/>\r\n    </g>\r\n    <g clip-path=\"url(#p542e37c756)\">\r\n     <use style=\"fill:#fde725;\" x=\"127.181706\" xlink:href=\"#C0_0_023f5d0e2f\" y=\"142.334284\"/>\r\n    </g>\r\n    <g clip-path=\"url(#p542e37c756)\">\r\n     <use style=\"fill:#fde725;\" x=\"125.05274\" xlink:href=\"#C0_0_023f5d0e2f\" y=\"142.062587\"/>\r\n    </g>\r\n    <g clip-path=\"url(#p542e37c756)\">\r\n     <use style=\"fill:#fde725;\" x=\"122.945293\" xlink:href=\"#C0_0_023f5d0e2f\" y=\"141.65641\"/>\r\n    </g>\r\n    <g clip-path=\"url(#p542e37c756)\">\r\n     <use style=\"fill:#fde725;\" x=\"120.867851\" xlink:href=\"#C0_0_023f5d0e2f\" y=\"141.117388\"/>\r\n    </g>\r\n    <g clip-path=\"url(#p542e37c756)\">\r\n     <use style=\"fill:#fde725;\" x=\"118.828777\" xlink:href=\"#C0_0_023f5d0e2f\" y=\"140.447692\"/>\r\n    </g>\r\n    <g clip-path=\"url(#p542e37c756)\">\r\n     <use style=\"fill:#fde725;\" x=\"116.836284\" xlink:href=\"#C0_0_023f5d0e2f\" y=\"139.650018\"/>\r\n    </g>\r\n    <g clip-path=\"url(#p542e37c756)\">\r\n     <use style=\"fill:#fde725;\" x=\"114.898394\" xlink:href=\"#C0_0_023f5d0e2f\" y=\"138.727578\"/>\r\n    </g>\r\n    <g clip-path=\"url(#p542e37c756)\">\r\n     <use style=\"fill:#fde725;\" x=\"113.022911\" xlink:href=\"#C0_0_023f5d0e2f\" y=\"137.684087\"/>\r\n    </g>\r\n    <g clip-path=\"url(#p542e37c756)\">\r\n     <use style=\"fill:#fde725;\" x=\"111.217385\" xlink:href=\"#C0_0_023f5d0e2f\" y=\"136.523746\"/>\r\n    </g>\r\n    <g clip-path=\"url(#p542e37c756)\">\r\n     <use style=\"fill:#fde725;\" x=\"109.489088\" xlink:href=\"#C0_0_023f5d0e2f\" y=\"135.251228\"/>\r\n    </g>\r\n    <g clip-path=\"url(#p542e37c756)\">\r\n     <use style=\"fill:#fde725;\" x=\"107.844979\" xlink:href=\"#C0_0_023f5d0e2f\" y=\"133.871657\"/>\r\n    </g>\r\n    <g clip-path=\"url(#p542e37c756)\">\r\n     <use style=\"fill:#fde725;\" x=\"106.291678\" xlink:href=\"#C0_0_023f5d0e2f\" y=\"132.390587\"/>\r\n    </g>\r\n    <g clip-path=\"url(#p542e37c756)\">\r\n     <use style=\"fill:#fde725;\" x=\"104.835439\" xlink:href=\"#C0_0_023f5d0e2f\" y=\"130.813983\"/>\r\n    </g>\r\n    <g clip-path=\"url(#p542e37c756)\">\r\n     <use style=\"fill:#fde725;\" x=\"103.482127\" xlink:href=\"#C0_0_023f5d0e2f\" y=\"129.148192\"/>\r\n    </g>\r\n    <g clip-path=\"url(#p542e37c756)\">\r\n     <use style=\"fill:#fde725;\" x=\"102.23719\" xlink:href=\"#C0_0_023f5d0e2f\" y=\"127.399923\"/>\r\n    </g>\r\n    <g clip-path=\"url(#p542e37c756)\">\r\n     <use style=\"fill:#fde725;\" x=\"101.105641\" xlink:href=\"#C0_0_023f5d0e2f\" y=\"125.576215\"/>\r\n    </g>\r\n    <g clip-path=\"url(#p542e37c756)\">\r\n     <use style=\"fill:#fde725;\" x=\"100.092038\" xlink:href=\"#C0_0_023f5d0e2f\" y=\"123.684411\"/>\r\n    </g>\r\n    <g clip-path=\"url(#p542e37c756)\">\r\n     <use style=\"fill:#fde725;\" x=\"99.200461\" xlink:href=\"#C0_0_023f5d0e2f\" y=\"121.73213\"/>\r\n    </g>\r\n    <g clip-path=\"url(#p542e37c756)\">\r\n     <use style=\"fill:#fde725;\" x=\"98.4345\" xlink:href=\"#C0_0_023f5d0e2f\" y=\"119.727232\"/>\r\n    </g>\r\n    <g clip-path=\"url(#p542e37c756)\">\r\n     <use style=\"fill:#fde725;\" x=\"97.79724\" xlink:href=\"#C0_0_023f5d0e2f\" y=\"117.67779\"/>\r\n    </g>\r\n    <g clip-path=\"url(#p542e37c756)\">\r\n     <use style=\"fill:#fde725;\" x=\"97.291247\" xlink:href=\"#C0_0_023f5d0e2f\" y=\"115.592056\"/>\r\n    </g>\r\n    <g clip-path=\"url(#p542e37c756)\">\r\n     <use style=\"fill:#fde725;\" x=\"96.918557\" xlink:href=\"#C0_0_023f5d0e2f\" y=\"113.47843\"/>\r\n    </g>\r\n    <g clip-path=\"url(#p542e37c756)\">\r\n     <use style=\"fill:#fde725;\" x=\"96.680673\" xlink:href=\"#C0_0_023f5d0e2f\" y=\"111.345422\"/>\r\n    </g>\r\n    <g clip-path=\"url(#p542e37c756)\">\r\n     <use style=\"fill:#fde725;\" x=\"96.578551\" xlink:href=\"#C0_0_023f5d0e2f\" y=\"109.201621\"/>\r\n    </g>\r\n    <g clip-path=\"url(#p542e37c756)\">\r\n     <use style=\"fill:#fde725;\" x=\"96.612603\" xlink:href=\"#C0_0_023f5d0e2f\" y=\"107.055659\"/>\r\n    </g>\r\n    <g clip-path=\"url(#p542e37c756)\">\r\n     <use style=\"fill:#fde725;\" x=\"96.782692\" xlink:href=\"#C0_0_023f5d0e2f\" y=\"104.916177\"/>\r\n    </g>\r\n    <g clip-path=\"url(#p542e37c756)\">\r\n     <use style=\"fill:#fde725;\" x=\"97.088133\" xlink:href=\"#C0_0_023f5d0e2f\" y=\"102.79179\"/>\r\n    </g>\r\n    <g clip-path=\"url(#p542e37c756)\">\r\n     <use style=\"fill:#fde725;\" x=\"97.527695\" xlink:href=\"#C0_0_023f5d0e2f\" y=\"100.691053\"/>\r\n    </g>\r\n    <g clip-path=\"url(#p542e37c756)\">\r\n     <use style=\"fill:#fde725;\" x=\"98.09961\" xlink:href=\"#C0_0_023f5d0e2f\" y=\"98.622424\"/>\r\n    </g>\r\n    <g clip-path=\"url(#p542e37c756)\">\r\n     <use style=\"fill:#fde725;\" x=\"98.801574\" xlink:href=\"#C0_0_023f5d0e2f\" y=\"96.594233\"/>\r\n    </g>\r\n    <g clip-path=\"url(#p542e37c756)\">\r\n     <use style=\"fill:#fde725;\" x=\"99.63076\" xlink:href=\"#C0_0_023f5d0e2f\" y=\"94.614646\"/>\r\n    </g>\r\n    <g clip-path=\"url(#p542e37c756)\">\r\n     <use style=\"fill:#fde725;\" x=\"100.58383\" xlink:href=\"#C0_0_023f5d0e2f\" y=\"92.691636\"/>\r\n    </g>\r\n    <g clip-path=\"url(#p542e37c756)\">\r\n     <use style=\"fill:#fde725;\" x=\"101.656946\" xlink:href=\"#C0_0_023f5d0e2f\" y=\"90.832944\"/>\r\n    </g>\r\n    <g clip-path=\"url(#p542e37c756)\">\r\n     <use style=\"fill:#fde725;\" x=\"102.845787\" xlink:href=\"#C0_0_023f5d0e2f\" y=\"89.046056\"/>\r\n    </g>\r\n    <g clip-path=\"url(#p542e37c756)\">\r\n     <use style=\"fill:#fde725;\" x=\"104.145566\" xlink:href=\"#C0_0_023f5d0e2f\" y=\"87.338166\"/>\r\n    </g>\r\n    <g clip-path=\"url(#p542e37c756)\">\r\n     <use style=\"fill:#fde725;\" x=\"105.55105\" xlink:href=\"#C0_0_023f5d0e2f\" y=\"85.716152\"/>\r\n    </g>\r\n    <g clip-path=\"url(#p542e37c756)\">\r\n     <use style=\"fill:#fde725;\" x=\"107.056578\" xlink:href=\"#C0_0_023f5d0e2f\" y=\"84.186545\"/>\r\n    </g>\r\n    <g clip-path=\"url(#p542e37c756)\">\r\n     <use style=\"fill:#fde725;\" x=\"108.656088\" xlink:href=\"#C0_0_023f5d0e2f\" y=\"82.755504\"/>\r\n    </g>\r\n    <g clip-path=\"url(#p542e37c756)\">\r\n     <use style=\"fill:#fde725;\" x=\"110.343141\" xlink:href=\"#C0_0_023f5d0e2f\" y=\"81.428791\"/>\r\n    </g>\r\n    <g clip-path=\"url(#p542e37c756)\">\r\n     <use style=\"fill:#fde725;\" x=\"112.110942\" xlink:href=\"#C0_0_023f5d0e2f\" y=\"80.211749\"/>\r\n    </g>\r\n    <g clip-path=\"url(#p542e37c756)\">\r\n     <use style=\"fill:#fde725;\" x=\"113.952373\" xlink:href=\"#C0_0_023f5d0e2f\" y=\"79.109278\"/>\r\n    </g>\r\n    <g clip-path=\"url(#p542e37c756)\">\r\n     <use style=\"fill:#fde725;\" x=\"115.860021\" xlink:href=\"#C0_0_023f5d0e2f\" y=\"78.125817\"/>\r\n    </g>\r\n    <g clip-path=\"url(#p542e37c756)\">\r\n     <use style=\"fill:#fde725;\" x=\"117.826202\" xlink:href=\"#C0_0_023f5d0e2f\" y=\"77.265327\"/>\r\n    </g>\r\n    <g clip-path=\"url(#p542e37c756)\">\r\n     <use style=\"fill:#fde725;\" x=\"119.843001\" xlink:href=\"#C0_0_023f5d0e2f\" y=\"76.531273\"/>\r\n    </g>\r\n    <g clip-path=\"url(#p542e37c756)\">\r\n     <use style=\"fill:#fde725;\" x=\"121.902295\" xlink:href=\"#C0_0_023f5d0e2f\" y=\"75.926609\"/>\r\n    </g>\r\n    <g clip-path=\"url(#p542e37c756)\">\r\n     <use style=\"fill:#fde725;\" x=\"123.995794\" xlink:href=\"#C0_0_023f5d0e2f\" y=\"75.453772\"/>\r\n    </g>\r\n    <g clip-path=\"url(#p542e37c756)\">\r\n     <use style=\"fill:#fde725;\" x=\"126.115067\" xlink:href=\"#C0_0_023f5d0e2f\" y=\"75.114664\"/>\r\n    </g>\r\n    <g clip-path=\"url(#p542e37c756)\">\r\n     <use style=\"fill:#fde725;\" x=\"128.251581\" xlink:href=\"#C0_0_023f5d0e2f\" y=\"74.910652\"/>\r\n    </g>\r\n    <g clip-path=\"url(#p542e37c756)\">\r\n     <use style=\"fill:#fde725;\" x=\"130.396733\" xlink:href=\"#C0_0_023f5d0e2f\" y=\"74.842556\"/>\r\n    </g>\r\n    <g clip-path=\"url(#p542e37c756)\">\r\n     <use style=\"fill:#440154;\" x=\"130.396733\" xlink:href=\"#C0_0_023f5d0e2f\" y=\"16.42198\"/>\r\n    </g>\r\n    <g clip-path=\"url(#p542e37c756)\">\r\n     <use style=\"fill:#440154;\" x=\"136.247147\" xlink:href=\"#C0_0_023f5d0e2f\" y=\"16.607695\"/>\r\n    </g>\r\n    <g clip-path=\"url(#p542e37c756)\">\r\n     <use style=\"fill:#440154;\" x=\"142.074003\" xlink:href=\"#C0_0_023f5d0e2f\" y=\"17.164092\"/>\r\n    </g>\r\n    <g clip-path=\"url(#p542e37c756)\">\r\n     <use style=\"fill:#440154;\" x=\"147.853838\" xlink:href=\"#C0_0_023f5d0e2f\" y=\"18.088931\"/>\r\n    </g>\r\n    <g clip-path=\"url(#p542e37c756)\">\r\n     <use style=\"fill:#440154;\" x=\"153.563381\" xlink:href=\"#C0_0_023f5d0e2f\" y=\"19.378488\"/>\r\n    </g>\r\n    <g clip-path=\"url(#p542e37c756)\">\r\n     <use style=\"fill:#440154;\" x=\"159.179639\" xlink:href=\"#C0_0_023f5d0e2f\" y=\"21.02757\"/>\r\n    </g>\r\n    <g clip-path=\"url(#p542e37c756)\">\r\n     <use style=\"fill:#440154;\" x=\"164.679999\" xlink:href=\"#C0_0_023f5d0e2f\" y=\"23.029537\"/>\r\n    </g>\r\n    <g clip-path=\"url(#p542e37c756)\">\r\n     <use style=\"fill:#440154;\" x=\"170.042312\" xlink:href=\"#C0_0_023f5d0e2f\" y=\"25.376328\"/>\r\n    </g>\r\n    <g clip-path=\"url(#p542e37c756)\">\r\n     <use style=\"fill:#440154;\" x=\"175.244986\" xlink:href=\"#C0_0_023f5d0e2f\" y=\"28.058493\"/>\r\n    </g>\r\n    <g clip-path=\"url(#p542e37c756)\">\r\n     <use style=\"fill:#440154;\" x=\"180.267072\" xlink:href=\"#C0_0_023f5d0e2f\" y=\"31.065232\"/>\r\n    </g>\r\n    <g clip-path=\"url(#p542e37c756)\">\r\n     <use style=\"fill:#440154;\" x=\"185.088348\" xlink:href=\"#C0_0_023f5d0e2f\" y=\"34.384438\"/>\r\n    </g>\r\n    <g clip-path=\"url(#p542e37c756)\">\r\n     <use style=\"fill:#440154;\" x=\"189.689401\" xlink:href=\"#C0_0_023f5d0e2f\" y=\"38.002746\"/>\r\n    </g>\r\n    <g clip-path=\"url(#p542e37c756)\">\r\n     <use style=\"fill:#440154;\" x=\"194.051702\" xlink:href=\"#C0_0_023f5d0e2f\" y=\"41.905585\"/>\r\n    </g>\r\n    <g clip-path=\"url(#p542e37c756)\">\r\n     <use style=\"fill:#440154;\" x=\"198.157688\" xlink:href=\"#C0_0_023f5d0e2f\" y=\"46.077241\"/>\r\n    </g>\r\n    <g clip-path=\"url(#p542e37c756)\">\r\n     <use style=\"fill:#440154;\" x=\"201.990824\" xlink:href=\"#C0_0_023f5d0e2f\" y=\"50.500916\"/>\r\n    </g>\r\n    <g clip-path=\"url(#p542e37c756)\">\r\n     <use style=\"fill:#440154;\" x=\"205.535675\" xlink:href=\"#C0_0_023f5d0e2f\" y=\"55.158797\"/>\r\n    </g>\r\n    <g clip-path=\"url(#p542e37c756)\">\r\n     <use style=\"fill:#440154;\" x=\"208.777969\" xlink:href=\"#C0_0_023f5d0e2f\" y=\"60.032128\"/>\r\n    </g>\r\n    <g clip-path=\"url(#p542e37c756)\">\r\n     <use style=\"fill:#440154;\" x=\"211.704649\" xlink:href=\"#C0_0_023f5d0e2f\" y=\"65.101287\"/>\r\n    </g>\r\n    <g clip-path=\"url(#p542e37c756)\">\r\n     <use style=\"fill:#440154;\" x=\"214.303931\" xlink:href=\"#C0_0_023f5d0e2f\" y=\"70.345862\"/>\r\n    </g>\r\n    <g clip-path=\"url(#p542e37c756)\">\r\n     <use style=\"fill:#440154;\" x=\"216.565349\" xlink:href=\"#C0_0_023f5d0e2f\" y=\"75.744734\"/>\r\n    </g>\r\n    <g clip-path=\"url(#p542e37c756)\">\r\n     <use style=\"fill:#440154;\" x=\"218.479796\" xlink:href=\"#C0_0_023f5d0e2f\" y=\"81.276164\"/>\r\n    </g>\r\n    <g clip-path=\"url(#p542e37c756)\">\r\n     <use style=\"fill:#440154;\" x=\"220.039563\" xlink:href=\"#C0_0_023f5d0e2f\" y=\"86.91788\"/>\r\n    </g>\r\n    <g clip-path=\"url(#p542e37c756)\">\r\n     <use style=\"fill:#440154;\" x=\"221.23837\" xlink:href=\"#C0_0_023f5d0e2f\" y=\"92.647164\"/>\r\n    </g>\r\n    <g clip-path=\"url(#p542e37c756)\">\r\n     <use style=\"fill:#440154;\" x=\"222.07139\" xlink:href=\"#C0_0_023f5d0e2f\" y=\"98.440946\"/>\r\n    </g>\r\n    <g clip-path=\"url(#p542e37c756)\">\r\n     <use style=\"fill:#440154;\" x=\"222.535269\" xlink:href=\"#C0_0_023f5d0e2f\" y=\"104.275896\"/>\r\n    </g>\r\n    <g clip-path=\"url(#p542e37c756)\">\r\n     <use style=\"fill:#440154;\" x=\"222.628138\" xlink:href=\"#C0_0_023f5d0e2f\" y=\"110.12852\"/>\r\n    </g>\r\n    <g clip-path=\"url(#p542e37c756)\">\r\n     <use style=\"fill:#440154;\" x=\"222.349624\" xlink:href=\"#C0_0_023f5d0e2f\" y=\"115.97525\"/>\r\n    </g>\r\n    <g clip-path=\"url(#p542e37c756)\">\r\n     <use style=\"fill:#440154;\" x=\"221.700848\" xlink:href=\"#C0_0_023f5d0e2f\" y=\"121.792545\"/>\r\n    </g>\r\n    <g clip-path=\"url(#p542e37c756)\">\r\n     <use style=\"fill:#440154;\" x=\"220.684422\" xlink:href=\"#C0_0_023f5d0e2f\" y=\"127.55698\"/>\r\n    </g>\r\n    <g clip-path=\"url(#p542e37c756)\">\r\n     <use style=\"fill:#440154;\" x=\"219.30444\" xlink:href=\"#C0_0_023f5d0e2f\" y=\"133.245344\"/>\r\n    </g>\r\n    <g clip-path=\"url(#p542e37c756)\">\r\n     <use style=\"fill:#440154;\" x=\"217.566458\" xlink:href=\"#C0_0_023f5d0e2f\" y=\"138.834731\"/>\r\n    </g>\r\n    <g clip-path=\"url(#p542e37c756)\">\r\n     <use style=\"fill:#440154;\" x=\"215.477475\" xlink:href=\"#C0_0_023f5d0e2f\" y=\"144.302635\"/>\r\n    </g>\r\n    <g clip-path=\"url(#p542e37c756)\">\r\n     <use style=\"fill:#440154;\" x=\"213.045901\" xlink:href=\"#C0_0_023f5d0e2f\" y=\"149.627039\"/>\r\n    </g>\r\n    <g clip-path=\"url(#p542e37c756)\">\r\n     <use style=\"fill:#440154;\" x=\"210.281528\" xlink:href=\"#C0_0_023f5d0e2f\" y=\"154.786503\"/>\r\n    </g>\r\n    <g clip-path=\"url(#p542e37c756)\">\r\n     <use style=\"fill:#440154;\" x=\"207.195487\" xlink:href=\"#C0_0_023f5d0e2f\" y=\"159.760253\"/>\r\n    </g>\r\n    <g clip-path=\"url(#p542e37c756)\">\r\n     <use style=\"fill:#440154;\" x=\"203.800205\" xlink:href=\"#C0_0_023f5d0e2f\" y=\"164.528259\"/>\r\n    </g>\r\n    <g clip-path=\"url(#p542e37c756)\">\r\n     <use style=\"fill:#440154;\" x=\"200.109353\" xlink:href=\"#C0_0_023f5d0e2f\" y=\"169.071324\"/>\r\n    </g>\r\n    <g clip-path=\"url(#p542e37c756)\">\r\n     <use style=\"fill:#440154;\" x=\"196.137793\" xlink:href=\"#C0_0_023f5d0e2f\" y=\"173.371155\"/>\r\n    </g>\r\n    <g clip-path=\"url(#p542e37c756)\">\r\n     <use style=\"fill:#440154;\" x=\"191.901516\" xlink:href=\"#C0_0_023f5d0e2f\" y=\"177.410436\"/>\r\n    </g>\r\n    <g clip-path=\"url(#p542e37c756)\">\r\n     <use style=\"fill:#440154;\" x=\"187.417582\" xlink:href=\"#C0_0_023f5d0e2f\" y=\"181.172903\"/>\r\n    </g>\r\n    <g clip-path=\"url(#p542e37c756)\">\r\n     <use style=\"fill:#440154;\" x=\"182.704045\" xlink:href=\"#C0_0_023f5d0e2f\" y=\"184.643407\"/>\r\n    </g>\r\n    <g clip-path=\"url(#p542e37c756)\">\r\n     <use style=\"fill:#440154;\" x=\"177.779885\" xlink:href=\"#C0_0_023f5d0e2f\" y=\"187.807973\"/>\r\n    </g>\r\n    <g clip-path=\"url(#p542e37c756)\">\r\n     <use style=\"fill:#440154;\" x=\"172.664929\" xlink:href=\"#C0_0_023f5d0e2f\" y=\"190.653858\"/>\r\n    </g>\r\n    <g clip-path=\"url(#p542e37c756)\">\r\n     <use style=\"fill:#440154;\" x=\"167.379775\" xlink:href=\"#C0_0_023f5d0e2f\" y=\"193.169602\"/>\r\n    </g>\r\n    <g clip-path=\"url(#p542e37c756)\">\r\n     <use style=\"fill:#440154;\" x=\"161.945702\" xlink:href=\"#C0_0_023f5d0e2f\" y=\"195.345077\"/>\r\n    </g>\r\n    <g clip-path=\"url(#p542e37c756)\">\r\n     <use style=\"fill:#440154;\" x=\"156.384594\" xlink:href=\"#C0_0_023f5d0e2f\" y=\"197.171521\"/>\r\n    </g>\r\n    <g clip-path=\"url(#p542e37c756)\">\r\n     <use style=\"fill:#440154;\" x=\"150.718841\" xlink:href=\"#C0_0_023f5d0e2f\" y=\"198.641581\"/>\r\n    </g>\r\n    <g clip-path=\"url(#p542e37c756)\">\r\n     <use style=\"fill:#440154;\" x=\"144.971258\" xlink:href=\"#C0_0_023f5d0e2f\" y=\"199.749336\"/>\r\n    </g>\r\n    <g clip-path=\"url(#p542e37c756)\">\r\n     <use style=\"fill:#440154;\" x=\"139.164989\" xlink:href=\"#C0_0_023f5d0e2f\" y=\"200.490328\"/>\r\n    </g>\r\n    <g clip-path=\"url(#p542e37c756)\">\r\n     <use style=\"fill:#440154;\" x=\"133.323413\" xlink:href=\"#C0_0_023f5d0e2f\" y=\"200.861571\"/>\r\n    </g>\r\n    <g clip-path=\"url(#p542e37c756)\">\r\n     <use style=\"fill:#440154;\" x=\"127.470053\" xlink:href=\"#C0_0_023f5d0e2f\" y=\"200.861571\"/>\r\n    </g>\r\n    <g clip-path=\"url(#p542e37c756)\">\r\n     <use style=\"fill:#440154;\" x=\"121.628477\" xlink:href=\"#C0_0_023f5d0e2f\" y=\"200.490328\"/>\r\n    </g>\r\n    <g clip-path=\"url(#p542e37c756)\">\r\n     <use style=\"fill:#440154;\" x=\"115.822208\" xlink:href=\"#C0_0_023f5d0e2f\" y=\"199.749336\"/>\r\n    </g>\r\n    <g clip-path=\"url(#p542e37c756)\">\r\n     <use style=\"fill:#440154;\" x=\"110.074625\" xlink:href=\"#C0_0_023f5d0e2f\" y=\"198.641581\"/>\r\n    </g>\r\n    <g clip-path=\"url(#p542e37c756)\">\r\n     <use style=\"fill:#440154;\" x=\"104.408872\" xlink:href=\"#C0_0_023f5d0e2f\" y=\"197.171521\"/>\r\n    </g>\r\n    <g clip-path=\"url(#p542e37c756)\">\r\n     <use style=\"fill:#440154;\" x=\"98.847763\" xlink:href=\"#C0_0_023f5d0e2f\" y=\"195.345077\"/>\r\n    </g>\r\n    <g clip-path=\"url(#p542e37c756)\">\r\n     <use style=\"fill:#440154;\" x=\"93.413691\" xlink:href=\"#C0_0_023f5d0e2f\" y=\"193.169602\"/>\r\n    </g>\r\n    <g clip-path=\"url(#p542e37c756)\">\r\n     <use style=\"fill:#440154;\" x=\"88.128537\" xlink:href=\"#C0_0_023f5d0e2f\" y=\"190.653858\"/>\r\n    </g>\r\n    <g clip-path=\"url(#p542e37c756)\">\r\n     <use style=\"fill:#440154;\" x=\"83.013581\" xlink:href=\"#C0_0_023f5d0e2f\" y=\"187.807973\"/>\r\n    </g>\r\n    <g clip-path=\"url(#p542e37c756)\">\r\n     <use style=\"fill:#440154;\" x=\"78.089421\" xlink:href=\"#C0_0_023f5d0e2f\" y=\"184.643407\"/>\r\n    </g>\r\n    <g clip-path=\"url(#p542e37c756)\">\r\n     <use style=\"fill:#440154;\" x=\"73.375884\" xlink:href=\"#C0_0_023f5d0e2f\" y=\"181.172903\"/>\r\n    </g>\r\n    <g clip-path=\"url(#p542e37c756)\">\r\n     <use style=\"fill:#440154;\" x=\"68.89195\" xlink:href=\"#C0_0_023f5d0e2f\" y=\"177.410436\"/>\r\n    </g>\r\n    <g clip-path=\"url(#p542e37c756)\">\r\n     <use style=\"fill:#440154;\" x=\"64.655673\" xlink:href=\"#C0_0_023f5d0e2f\" y=\"173.371155\"/>\r\n    </g>\r\n    <g clip-path=\"url(#p542e37c756)\">\r\n     <use style=\"fill:#440154;\" x=\"60.684113\" xlink:href=\"#C0_0_023f5d0e2f\" y=\"169.071324\"/>\r\n    </g>\r\n    <g clip-path=\"url(#p542e37c756)\">\r\n     <use style=\"fill:#440154;\" x=\"56.993261\" xlink:href=\"#C0_0_023f5d0e2f\" y=\"164.528259\"/>\r\n    </g>\r\n    <g clip-path=\"url(#p542e37c756)\">\r\n     <use style=\"fill:#440154;\" x=\"53.597979\" xlink:href=\"#C0_0_023f5d0e2f\" y=\"159.760253\"/>\r\n    </g>\r\n    <g clip-path=\"url(#p542e37c756)\">\r\n     <use style=\"fill:#440154;\" x=\"50.511938\" xlink:href=\"#C0_0_023f5d0e2f\" y=\"154.786503\"/>\r\n    </g>\r\n    <g clip-path=\"url(#p542e37c756)\">\r\n     <use style=\"fill:#440154;\" x=\"47.747565\" xlink:href=\"#C0_0_023f5d0e2f\" y=\"149.627039\"/>\r\n    </g>\r\n    <g clip-path=\"url(#p542e37c756)\">\r\n     <use style=\"fill:#440154;\" x=\"45.315991\" xlink:href=\"#C0_0_023f5d0e2f\" y=\"144.302635\"/>\r\n    </g>\r\n    <g clip-path=\"url(#p542e37c756)\">\r\n     <use style=\"fill:#440154;\" x=\"43.227008\" xlink:href=\"#C0_0_023f5d0e2f\" y=\"138.834731\"/>\r\n    </g>\r\n    <g clip-path=\"url(#p542e37c756)\">\r\n     <use style=\"fill:#440154;\" x=\"41.489025\" xlink:href=\"#C0_0_023f5d0e2f\" y=\"133.245344\"/>\r\n    </g>\r\n    <g clip-path=\"url(#p542e37c756)\">\r\n     <use style=\"fill:#440154;\" x=\"40.109043\" xlink:href=\"#C0_0_023f5d0e2f\" y=\"127.55698\"/>\r\n    </g>\r\n    <g clip-path=\"url(#p542e37c756)\">\r\n     <use style=\"fill:#440154;\" x=\"39.092618\" xlink:href=\"#C0_0_023f5d0e2f\" y=\"121.792545\"/>\r\n    </g>\r\n    <g clip-path=\"url(#p542e37c756)\">\r\n     <use style=\"fill:#440154;\" x=\"38.443842\" xlink:href=\"#C0_0_023f5d0e2f\" y=\"115.97525\"/>\r\n    </g>\r\n    <g clip-path=\"url(#p542e37c756)\">\r\n     <use style=\"fill:#440154;\" x=\"38.165328\" xlink:href=\"#C0_0_023f5d0e2f\" y=\"110.12852\"/>\r\n    </g>\r\n    <g clip-path=\"url(#p542e37c756)\">\r\n     <use style=\"fill:#440154;\" x=\"38.258197\" xlink:href=\"#C0_0_023f5d0e2f\" y=\"104.275896\"/>\r\n    </g>\r\n    <g clip-path=\"url(#p542e37c756)\">\r\n     <use style=\"fill:#440154;\" x=\"38.722076\" xlink:href=\"#C0_0_023f5d0e2f\" y=\"98.440946\"/>\r\n    </g>\r\n    <g clip-path=\"url(#p542e37c756)\">\r\n     <use style=\"fill:#440154;\" x=\"39.555096\" xlink:href=\"#C0_0_023f5d0e2f\" y=\"92.647164\"/>\r\n    </g>\r\n    <g clip-path=\"url(#p542e37c756)\">\r\n     <use style=\"fill:#440154;\" x=\"40.753903\" xlink:href=\"#C0_0_023f5d0e2f\" y=\"86.91788\"/>\r\n    </g>\r\n    <g clip-path=\"url(#p542e37c756)\">\r\n     <use style=\"fill:#440154;\" x=\"42.31367\" xlink:href=\"#C0_0_023f5d0e2f\" y=\"81.276164\"/>\r\n    </g>\r\n    <g clip-path=\"url(#p542e37c756)\">\r\n     <use style=\"fill:#440154;\" x=\"44.228117\" xlink:href=\"#C0_0_023f5d0e2f\" y=\"75.744734\"/>\r\n    </g>\r\n    <g clip-path=\"url(#p542e37c756)\">\r\n     <use style=\"fill:#440154;\" x=\"46.489534\" xlink:href=\"#C0_0_023f5d0e2f\" y=\"70.345862\"/>\r\n    </g>\r\n    <g clip-path=\"url(#p542e37c756)\">\r\n     <use style=\"fill:#440154;\" x=\"49.088816\" xlink:href=\"#C0_0_023f5d0e2f\" y=\"65.101287\"/>\r\n    </g>\r\n    <g clip-path=\"url(#p542e37c756)\">\r\n     <use style=\"fill:#440154;\" x=\"52.015497\" xlink:href=\"#C0_0_023f5d0e2f\" y=\"60.032128\"/>\r\n    </g>\r\n    <g clip-path=\"url(#p542e37c756)\">\r\n     <use style=\"fill:#440154;\" x=\"55.257791\" xlink:href=\"#C0_0_023f5d0e2f\" y=\"55.158797\"/>\r\n    </g>\r\n    <g clip-path=\"url(#p542e37c756)\">\r\n     <use style=\"fill:#440154;\" x=\"58.802642\" xlink:href=\"#C0_0_023f5d0e2f\" y=\"50.500916\"/>\r\n    </g>\r\n    <g clip-path=\"url(#p542e37c756)\">\r\n     <use style=\"fill:#440154;\" x=\"62.635778\" xlink:href=\"#C0_0_023f5d0e2f\" y=\"46.077241\"/>\r\n    </g>\r\n    <g clip-path=\"url(#p542e37c756)\">\r\n     <use style=\"fill:#440154;\" x=\"66.741764\" xlink:href=\"#C0_0_023f5d0e2f\" y=\"41.905585\"/>\r\n    </g>\r\n    <g clip-path=\"url(#p542e37c756)\">\r\n     <use style=\"fill:#440154;\" x=\"71.104065\" xlink:href=\"#C0_0_023f5d0e2f\" y=\"38.002746\"/>\r\n    </g>\r\n    <g clip-path=\"url(#p542e37c756)\">\r\n     <use style=\"fill:#440154;\" x=\"75.705117\" xlink:href=\"#C0_0_023f5d0e2f\" y=\"34.384438\"/>\r\n    </g>\r\n    <g clip-path=\"url(#p542e37c756)\">\r\n     <use style=\"fill:#440154;\" x=\"80.526393\" xlink:href=\"#C0_0_023f5d0e2f\" y=\"31.065232\"/>\r\n    </g>\r\n    <g clip-path=\"url(#p542e37c756)\">\r\n     <use style=\"fill:#440154;\" x=\"85.54848\" xlink:href=\"#C0_0_023f5d0e2f\" y=\"28.058493\"/>\r\n    </g>\r\n    <g clip-path=\"url(#p542e37c756)\">\r\n     <use style=\"fill:#440154;\" x=\"90.751154\" xlink:href=\"#C0_0_023f5d0e2f\" y=\"25.376328\"/>\r\n    </g>\r\n    <g clip-path=\"url(#p542e37c756)\">\r\n     <use style=\"fill:#440154;\" x=\"96.113467\" xlink:href=\"#C0_0_023f5d0e2f\" y=\"23.029537\"/>\r\n    </g>\r\n    <g clip-path=\"url(#p542e37c756)\">\r\n     <use style=\"fill:#440154;\" x=\"101.613827\" xlink:href=\"#C0_0_023f5d0e2f\" y=\"21.02757\"/>\r\n    </g>\r\n    <g clip-path=\"url(#p542e37c756)\">\r\n     <use style=\"fill:#440154;\" x=\"107.230085\" xlink:href=\"#C0_0_023f5d0e2f\" y=\"19.378488\"/>\r\n    </g>\r\n    <g clip-path=\"url(#p542e37c756)\">\r\n     <use style=\"fill:#440154;\" x=\"112.939627\" xlink:href=\"#C0_0_023f5d0e2f\" y=\"18.088931\"/>\r\n    </g>\r\n    <g clip-path=\"url(#p542e37c756)\">\r\n     <use style=\"fill:#440154;\" x=\"118.719463\" xlink:href=\"#C0_0_023f5d0e2f\" y=\"17.164092\"/>\r\n    </g>\r\n    <g clip-path=\"url(#p542e37c756)\">\r\n     <use style=\"fill:#440154;\" x=\"124.546319\" xlink:href=\"#C0_0_023f5d0e2f\" y=\"16.607695\"/>\r\n    </g>\r\n    <g clip-path=\"url(#p542e37c756)\">\r\n     <use style=\"fill:#440154;\" x=\"130.396733\" xlink:href=\"#C0_0_023f5d0e2f\" y=\"16.42198\"/>\r\n    </g>\r\n   </g>\r\n   <g id=\"matplotlib.axis_1\">\r\n    <g id=\"xtick_1\">\r\n     <g id=\"line2d_1\">\r\n      <defs>\r\n       <path d=\"M 0 0 \r\nL 0 3.5 \r\n\" id=\"m34eb4ba84f\" style=\"stroke:#000000;stroke-width:0.8;\"/>\r\n      </defs>\r\n      <g>\r\n       <use style=\"stroke:#000000;stroke-width:0.8;\" x=\"68.901389\" xlink:href=\"#m34eb4ba84f\" y=\"210.08355\"/>\r\n      </g>\r\n     </g>\r\n     <g id=\"text_1\">\r\n      <!-- −2 -->\r\n      <g transform=\"translate(61.530295 224.681988)scale(0.1 -0.1)\">\r\n       <defs>\r\n        <path d=\"M 10.59375 35.5 \r\nL 73.1875 35.5 \r\nL 73.1875 27.203125 \r\nL 10.59375 27.203125 \r\nz\r\n\" id=\"DejaVuSans-8722\"/>\r\n        <path d=\"M 19.1875 8.296875 \r\nL 53.609375 8.296875 \r\nL 53.609375 0 \r\nL 7.328125 0 \r\nL 7.328125 8.296875 \r\nQ 12.9375 14.109375 22.625 23.890625 \r\nQ 32.328125 33.6875 34.8125 36.53125 \r\nQ 39.546875 41.84375 41.421875 45.53125 \r\nQ 43.3125 49.21875 43.3125 52.78125 \r\nQ 43.3125 58.59375 39.234375 62.25 \r\nQ 35.15625 65.921875 28.609375 65.921875 \r\nQ 23.96875 65.921875 18.8125 64.3125 \r\nQ 13.671875 62.703125 7.8125 59.421875 \r\nL 7.8125 69.390625 \r\nQ 13.765625 71.78125 18.9375 73 \r\nQ 24.125 74.21875 28.421875 74.21875 \r\nQ 39.75 74.21875 46.484375 68.546875 \r\nQ 53.21875 62.890625 53.21875 53.421875 \r\nQ 53.21875 48.921875 51.53125 44.890625 \r\nQ 49.859375 40.875 45.40625 35.40625 \r\nQ 44.1875 33.984375 37.640625 27.21875 \r\nQ 31.109375 20.453125 19.1875 8.296875 \r\nz\r\n\" id=\"DejaVuSans-50\"/>\r\n       </defs>\r\n       <use xlink:href=\"#DejaVuSans-8722\"/>\r\n       <use x=\"83.789062\" xlink:href=\"#DejaVuSans-50\"/>\r\n      </g>\r\n     </g>\r\n    </g>\r\n    <g id=\"xtick_2\">\r\n     <g id=\"line2d_2\">\r\n      <g>\r\n       <use style=\"stroke:#000000;stroke-width:0.8;\" x=\"130.396733\" xlink:href=\"#m34eb4ba84f\" y=\"210.08355\"/>\r\n      </g>\r\n     </g>\r\n     <g id=\"text_2\">\r\n      <!-- 0 -->\r\n      <g transform=\"translate(127.215483 224.681988)scale(0.1 -0.1)\">\r\n       <defs>\r\n        <path d=\"M 31.78125 66.40625 \r\nQ 24.171875 66.40625 20.328125 58.90625 \r\nQ 16.5 51.421875 16.5 36.375 \r\nQ 16.5 21.390625 20.328125 13.890625 \r\nQ 24.171875 6.390625 31.78125 6.390625 \r\nQ 39.453125 6.390625 43.28125 13.890625 \r\nQ 47.125 21.390625 47.125 36.375 \r\nQ 47.125 51.421875 43.28125 58.90625 \r\nQ 39.453125 66.40625 31.78125 66.40625 \r\nz\r\nM 31.78125 74.21875 \r\nQ 44.046875 74.21875 50.515625 64.515625 \r\nQ 56.984375 54.828125 56.984375 36.375 \r\nQ 56.984375 17.96875 50.515625 8.265625 \r\nQ 44.046875 -1.421875 31.78125 -1.421875 \r\nQ 19.53125 -1.421875 13.0625 8.265625 \r\nQ 6.59375 17.96875 6.59375 36.375 \r\nQ 6.59375 54.828125 13.0625 64.515625 \r\nQ 19.53125 74.21875 31.78125 74.21875 \r\nz\r\n\" id=\"DejaVuSans-48\"/>\r\n       </defs>\r\n       <use xlink:href=\"#DejaVuSans-48\"/>\r\n      </g>\r\n     </g>\r\n    </g>\r\n    <g id=\"xtick_3\">\r\n     <g id=\"line2d_3\">\r\n      <g>\r\n       <use style=\"stroke:#000000;stroke-width:0.8;\" x=\"191.892077\" xlink:href=\"#m34eb4ba84f\" y=\"210.08355\"/>\r\n      </g>\r\n     </g>\r\n     <g id=\"text_3\">\r\n      <!-- 2 -->\r\n      <g transform=\"translate(188.710827 224.681988)scale(0.1 -0.1)\">\r\n       <use xlink:href=\"#DejaVuSans-50\"/>\r\n      </g>\r\n     </g>\r\n    </g>\r\n   </g>\r\n   <g id=\"matplotlib.axis_2\">\r\n    <g id=\"ytick_1\">\r\n     <g id=\"line2d_4\">\r\n      <defs>\r\n       <path d=\"M 0 0 \r\nL -3.5 0 \r\n\" id=\"m89560b51ca\" style=\"stroke:#000000;stroke-width:0.8;\"/>\r\n      </defs>\r\n      <g>\r\n       <use style=\"stroke:#000000;stroke-width:0.8;\" x=\"28.942188\" xlink:href=\"#m89560b51ca\" y=\"200.908011\"/>\r\n      </g>\r\n     </g>\r\n     <g id=\"text_4\">\r\n      <!-- −3 -->\r\n      <g transform=\"translate(7.2 204.70723)scale(0.1 -0.1)\">\r\n       <defs>\r\n        <path d=\"M 40.578125 39.3125 \r\nQ 47.65625 37.796875 51.625 33 \r\nQ 55.609375 28.21875 55.609375 21.1875 \r\nQ 55.609375 10.40625 48.1875 4.484375 \r\nQ 40.765625 -1.421875 27.09375 -1.421875 \r\nQ 22.515625 -1.421875 17.65625 -0.515625 \r\nQ 12.796875 0.390625 7.625 2.203125 \r\nL 7.625 11.71875 \r\nQ 11.71875 9.328125 16.59375 8.109375 \r\nQ 21.484375 6.890625 26.8125 6.890625 \r\nQ 36.078125 6.890625 40.9375 10.546875 \r\nQ 45.796875 14.203125 45.796875 21.1875 \r\nQ 45.796875 27.640625 41.28125 31.265625 \r\nQ 36.765625 34.90625 28.71875 34.90625 \r\nL 20.21875 34.90625 \r\nL 20.21875 43.015625 \r\nL 29.109375 43.015625 \r\nQ 36.375 43.015625 40.234375 45.921875 \r\nQ 44.09375 48.828125 44.09375 54.296875 \r\nQ 44.09375 59.90625 40.109375 62.90625 \r\nQ 36.140625 65.921875 28.71875 65.921875 \r\nQ 24.65625 65.921875 20.015625 65.03125 \r\nQ 15.375 64.15625 9.8125 62.3125 \r\nL 9.8125 71.09375 \r\nQ 15.4375 72.65625 20.34375 73.4375 \r\nQ 25.25 74.21875 29.59375 74.21875 \r\nQ 40.828125 74.21875 47.359375 69.109375 \r\nQ 53.90625 64.015625 53.90625 55.328125 \r\nQ 53.90625 49.265625 50.4375 45.09375 \r\nQ 46.96875 40.921875 40.578125 39.3125 \r\nz\r\n\" id=\"DejaVuSans-51\"/>\r\n       </defs>\r\n       <use xlink:href=\"#DejaVuSans-8722\"/>\r\n       <use x=\"83.789062\" xlink:href=\"#DejaVuSans-51\"/>\r\n      </g>\r\n     </g>\r\n    </g>\r\n    <g id=\"ytick_2\">\r\n     <g id=\"line2d_5\">\r\n      <g>\r\n       <use style=\"stroke:#000000;stroke-width:0.8;\" x=\"28.942188\" xlink:href=\"#m89560b51ca\" y=\"170.160339\"/>\r\n      </g>\r\n     </g>\r\n     <g id=\"text_5\">\r\n      <!-- −2 -->\r\n      <g transform=\"translate(7.2 173.959558)scale(0.1 -0.1)\">\r\n       <use xlink:href=\"#DejaVuSans-8722\"/>\r\n       <use x=\"83.789062\" xlink:href=\"#DejaVuSans-50\"/>\r\n      </g>\r\n     </g>\r\n    </g>\r\n    <g id=\"ytick_3\">\r\n     <g id=\"line2d_6\">\r\n      <g>\r\n       <use style=\"stroke:#000000;stroke-width:0.8;\" x=\"28.942188\" xlink:href=\"#m89560b51ca\" y=\"139.412667\"/>\r\n      </g>\r\n     </g>\r\n     <g id=\"text_6\">\r\n      <!-- −1 -->\r\n      <g transform=\"translate(7.2 143.211886)scale(0.1 -0.1)\">\r\n       <defs>\r\n        <path d=\"M 12.40625 8.296875 \r\nL 28.515625 8.296875 \r\nL 28.515625 63.921875 \r\nL 10.984375 60.40625 \r\nL 10.984375 69.390625 \r\nL 28.421875 72.90625 \r\nL 38.28125 72.90625 \r\nL 38.28125 8.296875 \r\nL 54.390625 8.296875 \r\nL 54.390625 0 \r\nL 12.40625 0 \r\nz\r\n\" id=\"DejaVuSans-49\"/>\r\n       </defs>\r\n       <use xlink:href=\"#DejaVuSans-8722\"/>\r\n       <use x=\"83.789062\" xlink:href=\"#DejaVuSans-49\"/>\r\n      </g>\r\n     </g>\r\n    </g>\r\n    <g id=\"ytick_4\">\r\n     <g id=\"line2d_7\">\r\n      <g>\r\n       <use style=\"stroke:#000000;stroke-width:0.8;\" x=\"28.942188\" xlink:href=\"#m89560b51ca\" y=\"108.664995\"/>\r\n      </g>\r\n     </g>\r\n     <g id=\"text_7\">\r\n      <!-- 0 -->\r\n      <g transform=\"translate(15.579688 112.464214)scale(0.1 -0.1)\">\r\n       <use xlink:href=\"#DejaVuSans-48\"/>\r\n      </g>\r\n     </g>\r\n    </g>\r\n    <g id=\"ytick_5\">\r\n     <g id=\"line2d_8\">\r\n      <g>\r\n       <use style=\"stroke:#000000;stroke-width:0.8;\" x=\"28.942188\" xlink:href=\"#m89560b51ca\" y=\"77.917323\"/>\r\n      </g>\r\n     </g>\r\n     <g id=\"text_8\">\r\n      <!-- 1 -->\r\n      <g transform=\"translate(15.579688 81.716542)scale(0.1 -0.1)\">\r\n       <use xlink:href=\"#DejaVuSans-49\"/>\r\n      </g>\r\n     </g>\r\n    </g>\r\n    <g id=\"ytick_6\">\r\n     <g id=\"line2d_9\">\r\n      <g>\r\n       <use style=\"stroke:#000000;stroke-width:0.8;\" x=\"28.942188\" xlink:href=\"#m89560b51ca\" y=\"47.169651\"/>\r\n      </g>\r\n     </g>\r\n     <g id=\"text_9\">\r\n      <!-- 2 -->\r\n      <g transform=\"translate(15.579688 50.96887)scale(0.1 -0.1)\">\r\n       <use xlink:href=\"#DejaVuSans-50\"/>\r\n      </g>\r\n     </g>\r\n    </g>\r\n    <g id=\"ytick_7\">\r\n     <g id=\"line2d_10\">\r\n      <g>\r\n       <use style=\"stroke:#000000;stroke-width:0.8;\" x=\"28.942188\" xlink:href=\"#m89560b51ca\" y=\"16.42198\"/>\r\n      </g>\r\n     </g>\r\n     <g id=\"text_10\">\r\n      <!-- 3 -->\r\n      <g transform=\"translate(15.579688 20.221198)scale(0.1 -0.1)\">\r\n       <use xlink:href=\"#DejaVuSans-51\"/>\r\n      </g>\r\n     </g>\r\n    </g>\r\n   </g>\r\n   <g id=\"patch_3\">\r\n    <path d=\"M 28.942188 210.08355 \r\nL 28.942188 7.2 \r\n\" style=\"fill:none;stroke:#000000;stroke-linecap:square;stroke-linejoin:miter;stroke-width:0.8;\"/>\r\n   </g>\r\n   <g id=\"patch_4\">\r\n    <path d=\"M 231.851278 210.08355 \r\nL 231.851278 7.2 \r\n\" style=\"fill:none;stroke:#000000;stroke-linecap:square;stroke-linejoin:miter;stroke-width:0.8;\"/>\r\n   </g>\r\n   <g id=\"patch_5\">\r\n    <path d=\"M 28.942188 210.08355 \r\nL 231.851278 210.08355 \r\n\" style=\"fill:none;stroke:#000000;stroke-linecap:square;stroke-linejoin:miter;stroke-width:0.8;\"/>\r\n   </g>\r\n   <g id=\"patch_6\">\r\n    <path d=\"M 28.942188 7.2 \r\nL 231.851278 7.2 \r\n\" style=\"fill:none;stroke:#000000;stroke-linecap:square;stroke-linejoin:miter;stroke-width:0.8;\"/>\r\n   </g>\r\n  </g>\r\n  <g id=\"axes_2\">\r\n   <g id=\"patch_7\">\r\n    <path d=\"M 272.433097 181.273086 \r\nL 475.342187 181.273086 \r\nL 475.342187 36.010464 \r\nL 272.433097 36.010464 \r\nz\r\n\" style=\"fill:#ffffff;\"/>\r\n   </g>\r\n   <g id=\"PathCollection_2\">\r\n    <defs>\r\n     <path d=\"M 0 3 \r\nC 0.795609 3 1.55874 2.683901 2.12132 2.12132 \r\nC 2.683901 1.55874 3 0.795609 3 -0 \r\nC 3 -0.795609 2.683901 -1.55874 2.12132 -2.12132 \r\nC 1.55874 -2.683901 0.795609 -3 0 -3 \r\nC -0.795609 -3 -1.55874 -2.683901 -2.12132 -2.12132 \r\nC -2.683901 -1.55874 -3 -0.795609 -3 0 \r\nC -3 0.795609 -2.683901 1.55874 -2.12132 2.12132 \r\nC -1.55874 2.683901 -0.795609 3 0 3 \r\nz\r\n\" id=\"C1_0_26c8f20b3c\"/>\r\n    </defs>\r\n    <g clip-path=\"url(#p3f8d0238ca)\">\r\n     <use style=\"fill:#fde725;\" x=\"375.995082\" xlink:href=\"#C1_0_26c8f20b3c\" y=\"68.184968\"/>\r\n    </g>\r\n    <g clip-path=\"url(#p3f8d0238ca)\">\r\n     <use style=\"fill:#fde725;\" x=\"375.697285\" xlink:href=\"#C1_0_26c8f20b3c\" y=\"73.560425\"/>\r\n    </g>\r\n    <g clip-path=\"url(#p3f8d0238ca)\">\r\n     <use style=\"fill:#fde725;\" x=\"403.775752\" xlink:href=\"#C1_0_26c8f20b3c\" y=\"122.87412\"/>\r\n    </g>\r\n    <g clip-path=\"url(#p3f8d0238ca)\">\r\n     <use style=\"fill:#fde725;\" x=\"423.909529\" xlink:href=\"#C1_0_26c8f20b3c\" y=\"152.479299\"/>\r\n    </g>\r\n    <g clip-path=\"url(#p3f8d0238ca)\">\r\n     <use style=\"fill:#fde725;\" x=\"376.713688\" xlink:href=\"#C1_0_26c8f20b3c\" y=\"88.978723\"/>\r\n    </g>\r\n    <g clip-path=\"url(#p3f8d0238ca)\">\r\n     <use style=\"fill:#fde725;\" x=\"391.273822\" xlink:href=\"#C1_0_26c8f20b3c\" y=\"82.397493\"/>\r\n    </g>\r\n    <g clip-path=\"url(#p3f8d0238ca)\">\r\n     <use style=\"fill:#fde725;\" x=\"379.732075\" xlink:href=\"#C1_0_26c8f20b3c\" y=\"82.275504\"/>\r\n    </g>\r\n    <g clip-path=\"url(#p3f8d0238ca)\">\r\n     <use style=\"fill:#fde725;\" x=\"419.418399\" xlink:href=\"#C1_0_26c8f20b3c\" y=\"141.79595\"/>\r\n    </g>\r\n    <g clip-path=\"url(#p3f8d0238ca)\">\r\n     <use style=\"fill:#fde725;\" x=\"417.841294\" xlink:href=\"#C1_0_26c8f20b3c\" y=\"120.388678\"/>\r\n    </g>\r\n    <g clip-path=\"url(#p3f8d0238ca)\">\r\n     <use style=\"fill:#fde725;\" x=\"398.898278\" xlink:href=\"#C1_0_26c8f20b3c\" y=\"108.573755\"/>\r\n    </g>\r\n    <g clip-path=\"url(#p3f8d0238ca)\">\r\n     <use style=\"fill:#fde725;\" x=\"426.380769\" xlink:href=\"#C1_0_26c8f20b3c\" y=\"124.666254\"/>\r\n    </g>\r\n    <g clip-path=\"url(#p3f8d0238ca)\">\r\n     <use style=\"fill:#fde725;\" x=\"399.533238\" xlink:href=\"#C1_0_26c8f20b3c\" y=\"47.483101\"/>\r\n    </g>\r\n    <g clip-path=\"url(#p3f8d0238ca)\">\r\n     <use style=\"fill:#fde725;\" x=\"371.566048\" xlink:href=\"#C1_0_26c8f20b3c\" y=\"54.551501\"/>\r\n    </g>\r\n    <g clip-path=\"url(#p3f8d0238ca)\">\r\n     <use style=\"fill:#fde725;\" x=\"432.529827\" xlink:href=\"#C1_0_26c8f20b3c\" y=\"130.836705\"/>\r\n    </g>\r\n    <g clip-path=\"url(#p3f8d0238ca)\">\r\n     <use style=\"fill:#fde725;\" x=\"375.783784\" xlink:href=\"#C1_0_26c8f20b3c\" y=\"115.871022\"/>\r\n    </g>\r\n    <g clip-path=\"url(#p3f8d0238ca)\">\r\n     <use style=\"fill:#fde725;\" x=\"417.554403\" xlink:href=\"#C1_0_26c8f20b3c\" y=\"126.131701\"/>\r\n    </g>\r\n    <g clip-path=\"url(#p3f8d0238ca)\">\r\n     <use style=\"fill:#fde725;\" x=\"381.092797\" xlink:href=\"#C1_0_26c8f20b3c\" y=\"86.154407\"/>\r\n    </g>\r\n    <g clip-path=\"url(#p3f8d0238ca)\">\r\n     <use style=\"fill:#fde725;\" x=\"363.444333\" xlink:href=\"#C1_0_26c8f20b3c\" y=\"82.12437\"/>\r\n    </g>\r\n    <g clip-path=\"url(#p3f8d0238ca)\">\r\n     <use style=\"fill:#fde725;\" x=\"347.944814\" xlink:href=\"#C1_0_26c8f20b3c\" y=\"79.395167\"/>\r\n    </g>\r\n    <g clip-path=\"url(#p3f8d0238ca)\">\r\n     <use style=\"fill:#fde725;\" x=\"339.835199\" xlink:href=\"#C1_0_26c8f20b3c\" y=\"81.871517\"/>\r\n    </g>\r\n    <g clip-path=\"url(#p3f8d0238ca)\">\r\n     <use style=\"fill:#fde725;\" x=\"346.186894\" xlink:href=\"#C1_0_26c8f20b3c\" y=\"46.511893\"/>\r\n    </g>\r\n    <g clip-path=\"url(#p3f8d0238ca)\">\r\n     <use style=\"fill:#fde725;\" x=\"361.313\" xlink:href=\"#C1_0_26c8f20b3c\" y=\"89.534598\"/>\r\n    </g>\r\n    <g clip-path=\"url(#p3f8d0238ca)\">\r\n     <use style=\"fill:#fde725;\" x=\"444.527172\" xlink:href=\"#C1_0_26c8f20b3c\" y=\"147.929071\"/>\r\n    </g>\r\n    <g clip-path=\"url(#p3f8d0238ca)\">\r\n     <use style=\"fill:#fde725;\" x=\"340.210953\" xlink:href=\"#C1_0_26c8f20b3c\" y=\"87.362333\"/>\r\n    </g>\r\n    <g clip-path=\"url(#p3f8d0238ca)\">\r\n     <use style=\"fill:#fde725;\" x=\"436.105052\" xlink:href=\"#C1_0_26c8f20b3c\" y=\"127.534602\"/>\r\n    </g>\r\n    <g clip-path=\"url(#p3f8d0238ca)\">\r\n     <use style=\"fill:#fde725;\" x=\"389.569351\" xlink:href=\"#C1_0_26c8f20b3c\" y=\"93.520587\"/>\r\n    </g>\r\n    <g clip-path=\"url(#p3f8d0238ca)\">\r\n     <use style=\"fill:#fde725;\" x=\"369.292296\" xlink:href=\"#C1_0_26c8f20b3c\" y=\"63.022465\"/>\r\n    </g>\r\n    <g clip-path=\"url(#p3f8d0238ca)\">\r\n     <use style=\"fill:#fde725;\" x=\"420.730769\" xlink:href=\"#C1_0_26c8f20b3c\" y=\"109.716406\"/>\r\n    </g>\r\n    <g clip-path=\"url(#p3f8d0238ca)\">\r\n     <use style=\"fill:#fde725;\" x=\"362.958377\" xlink:href=\"#C1_0_26c8f20b3c\" y=\"85.981405\"/>\r\n    </g>\r\n    <g clip-path=\"url(#p3f8d0238ca)\">\r\n     <use style=\"fill:#fde725;\" x=\"406.202151\" xlink:href=\"#C1_0_26c8f20b3c\" y=\"82.8986\"/>\r\n    </g>\r\n    <g clip-path=\"url(#p3f8d0238ca)\">\r\n     <use style=\"fill:#fde725;\" x=\"359.847536\" xlink:href=\"#C1_0_26c8f20b3c\" y=\"102.54486\"/>\r\n    </g>\r\n    <g clip-path=\"url(#p3f8d0238ca)\">\r\n     <use style=\"fill:#fde725;\" x=\"403.087717\" xlink:href=\"#C1_0_26c8f20b3c\" y=\"120.040729\"/>\r\n    </g>\r\n    <g clip-path=\"url(#p3f8d0238ca)\">\r\n     <use style=\"fill:#fde725;\" x=\"385.872014\" xlink:href=\"#C1_0_26c8f20b3c\" y=\"140.444429\"/>\r\n    </g>\r\n    <g clip-path=\"url(#p3f8d0238ca)\">\r\n     <use style=\"fill:#fde725;\" x=\"420.0161\" xlink:href=\"#C1_0_26c8f20b3c\" y=\"134.840162\"/>\r\n    </g>\r\n    <g clip-path=\"url(#p3f8d0238ca)\">\r\n     <use style=\"fill:#fde725;\" x=\"432.166705\" xlink:href=\"#C1_0_26c8f20b3c\" y=\"152.592772\"/>\r\n    </g>\r\n    <g clip-path=\"url(#p3f8d0238ca)\">\r\n     <use style=\"fill:#fde725;\" x=\"417.403382\" xlink:href=\"#C1_0_26c8f20b3c\" y=\"116.55621\"/>\r\n    </g>\r\n    <g clip-path=\"url(#p3f8d0238ca)\">\r\n     <use style=\"fill:#fde725;\" x=\"399.178073\" xlink:href=\"#C1_0_26c8f20b3c\" y=\"125.704343\"/>\r\n    </g>\r\n    <g clip-path=\"url(#p3f8d0238ca)\">\r\n     <use style=\"fill:#fde725;\" x=\"439.244613\" xlink:href=\"#C1_0_26c8f20b3c\" y=\"106.206669\"/>\r\n    </g>\r\n    <g clip-path=\"url(#p3f8d0238ca)\">\r\n     <use style=\"fill:#fde725;\" x=\"433.60276\" xlink:href=\"#C1_0_26c8f20b3c\" y=\"126.391764\"/>\r\n    </g>\r\n    <g clip-path=\"url(#p3f8d0238ca)\">\r\n     <use style=\"fill:#fde725;\" x=\"415.434127\" xlink:href=\"#C1_0_26c8f20b3c\" y=\"116.696182\"/>\r\n    </g>\r\n    <g clip-path=\"url(#p3f8d0238ca)\">\r\n     <use style=\"fill:#fde725;\" x=\"365.150247\" xlink:href=\"#C1_0_26c8f20b3c\" y=\"99.790828\"/>\r\n    </g>\r\n    <g clip-path=\"url(#p3f8d0238ca)\">\r\n     <use style=\"fill:#fde725;\" x=\"375.184457\" xlink:href=\"#C1_0_26c8f20b3c\" y=\"58.639636\"/>\r\n    </g>\r\n    <g clip-path=\"url(#p3f8d0238ca)\">\r\n     <use style=\"fill:#fde725;\" x=\"386.720093\" xlink:href=\"#C1_0_26c8f20b3c\" y=\"100.479268\"/>\r\n    </g>\r\n    <g clip-path=\"url(#p3f8d0238ca)\">\r\n     <use style=\"fill:#fde725;\" x=\"383.14632\" xlink:href=\"#C1_0_26c8f20b3c\" y=\"95.697318\"/>\r\n    </g>\r\n    <g clip-path=\"url(#p3f8d0238ca)\">\r\n     <use style=\"fill:#fde725;\" x=\"420.255974\" xlink:href=\"#C1_0_26c8f20b3c\" y=\"158.120818\"/>\r\n    </g>\r\n    <g clip-path=\"url(#p3f8d0238ca)\">\r\n     <use style=\"fill:#fde725;\" x=\"450.189773\" xlink:href=\"#C1_0_26c8f20b3c\" y=\"154.728052\"/>\r\n    </g>\r\n    <g clip-path=\"url(#p3f8d0238ca)\">\r\n     <use style=\"fill:#fde725;\" x=\"336.081327\" xlink:href=\"#C1_0_26c8f20b3c\" y=\"83.147057\"/>\r\n    </g>\r\n    <g clip-path=\"url(#p3f8d0238ca)\">\r\n     <use style=\"fill:#fde725;\" x=\"378.003002\" xlink:href=\"#C1_0_26c8f20b3c\" y=\"103.119614\"/>\r\n    </g>\r\n    <g clip-path=\"url(#p3f8d0238ca)\">\r\n     <use style=\"fill:#fde725;\" x=\"388.88866\" xlink:href=\"#C1_0_26c8f20b3c\" y=\"82.448493\"/>\r\n    </g>\r\n    <g clip-path=\"url(#p3f8d0238ca)\">\r\n     <use style=\"fill:#fde725;\" x=\"343.721294\" xlink:href=\"#C1_0_26c8f20b3c\" y=\"90.560339\"/>\r\n    </g>\r\n    <g clip-path=\"url(#p3f8d0238ca)\">\r\n     <use style=\"fill:#fde725;\" x=\"393.445855\" xlink:href=\"#C1_0_26c8f20b3c\" y=\"86.216428\"/>\r\n    </g>\r\n    <g clip-path=\"url(#p3f8d0238ca)\">\r\n     <use style=\"fill:#fde725;\" x=\"415.812709\" xlink:href=\"#C1_0_26c8f20b3c\" y=\"112.24138\"/>\r\n    </g>\r\n    <g clip-path=\"url(#p3f8d0238ca)\">\r\n     <use style=\"fill:#fde725;\" x=\"425.029654\" xlink:href=\"#C1_0_26c8f20b3c\" y=\"114.487567\"/>\r\n    </g>\r\n    <g clip-path=\"url(#p3f8d0238ca)\">\r\n     <use style=\"fill:#fde725;\" x=\"384.509625\" xlink:href=\"#C1_0_26c8f20b3c\" y=\"67.202688\"/>\r\n    </g>\r\n    <g clip-path=\"url(#p3f8d0238ca)\">\r\n     <use style=\"fill:#fde725;\" x=\"403.717567\" xlink:href=\"#C1_0_26c8f20b3c\" y=\"115.541215\"/>\r\n    </g>\r\n    <g clip-path=\"url(#p3f8d0238ca)\">\r\n     <use style=\"fill:#fde725;\" x=\"466.119047\" xlink:href=\"#C1_0_26c8f20b3c\" y=\"144.803563\"/>\r\n    </g>\r\n    <g clip-path=\"url(#p3f8d0238ca)\">\r\n     <use style=\"fill:#fde725;\" x=\"390.066905\" xlink:href=\"#C1_0_26c8f20b3c\" y=\"71.265548\"/>\r\n    </g>\r\n    <g clip-path=\"url(#p3f8d0238ca)\">\r\n     <use style=\"fill:#fde725;\" x=\"397.352496\" xlink:href=\"#C1_0_26c8f20b3c\" y=\"87.508447\"/>\r\n    </g>\r\n    <g clip-path=\"url(#p3f8d0238ca)\">\r\n     <use style=\"fill:#fde725;\" x=\"400.162323\" xlink:href=\"#C1_0_26c8f20b3c\" y=\"91.332458\"/>\r\n    </g>\r\n    <g clip-path=\"url(#p3f8d0238ca)\">\r\n     <use style=\"fill:#fde725;\" x=\"411.162417\" xlink:href=\"#C1_0_26c8f20b3c\" y=\"124.533343\"/>\r\n    </g>\r\n    <g clip-path=\"url(#p3f8d0238ca)\">\r\n     <use style=\"fill:#fde725;\" x=\"340.201183\" xlink:href=\"#C1_0_26c8f20b3c\" y=\"61.836681\"/>\r\n    </g>\r\n    <g clip-path=\"url(#p3f8d0238ca)\">\r\n     <use style=\"fill:#fde725;\" x=\"404.578761\" xlink:href=\"#C1_0_26c8f20b3c\" y=\"110.490512\"/>\r\n    </g>\r\n    <g clip-path=\"url(#p3f8d0238ca)\">\r\n     <use style=\"fill:#fde725;\" x=\"383.504586\" xlink:href=\"#C1_0_26c8f20b3c\" y=\"82.761088\"/>\r\n    </g>\r\n    <g clip-path=\"url(#p3f8d0238ca)\">\r\n     <use style=\"fill:#fde725;\" x=\"356.187452\" xlink:href=\"#C1_0_26c8f20b3c\" y=\"107.478211\"/>\r\n    </g>\r\n    <g clip-path=\"url(#p3f8d0238ca)\">\r\n     <use style=\"fill:#fde725;\" x=\"397.82739\" xlink:href=\"#C1_0_26c8f20b3c\" y=\"78.687777\"/>\r\n    </g>\r\n    <g clip-path=\"url(#p3f8d0238ca)\">\r\n     <use style=\"fill:#fde725;\" x=\"353.36794\" xlink:href=\"#C1_0_26c8f20b3c\" y=\"67.839578\"/>\r\n    </g>\r\n    <g clip-path=\"url(#p3f8d0238ca)\">\r\n     <use style=\"fill:#fde725;\" x=\"398.443701\" xlink:href=\"#C1_0_26c8f20b3c\" y=\"107.042114\"/>\r\n    </g>\r\n    <g clip-path=\"url(#p3f8d0238ca)\">\r\n     <use style=\"fill:#fde725;\" x=\"436.798586\" xlink:href=\"#C1_0_26c8f20b3c\" y=\"127.479934\"/>\r\n    </g>\r\n    <g clip-path=\"url(#p3f8d0238ca)\">\r\n     <use style=\"fill:#fde725;\" x=\"407.651533\" xlink:href=\"#C1_0_26c8f20b3c\" y=\"107.195267\"/>\r\n    </g>\r\n    <g clip-path=\"url(#p3f8d0238ca)\">\r\n     <use style=\"fill:#fde725;\" x=\"391.698518\" xlink:href=\"#C1_0_26c8f20b3c\" y=\"121.341577\"/>\r\n    </g>\r\n    <g clip-path=\"url(#p3f8d0238ca)\">\r\n     <use style=\"fill:#fde725;\" x=\"356.053757\" xlink:href=\"#C1_0_26c8f20b3c\" y=\"67.4998\"/>\r\n    </g>\r\n    <g clip-path=\"url(#p3f8d0238ca)\">\r\n     <use style=\"fill:#fde725;\" x=\"413.572934\" xlink:href=\"#C1_0_26c8f20b3c\" y=\"109.905184\"/>\r\n    </g>\r\n    <g clip-path=\"url(#p3f8d0238ca)\">\r\n     <use style=\"fill:#fde725;\" x=\"388.083796\" xlink:href=\"#C1_0_26c8f20b3c\" y=\"78.07964\"/>\r\n    </g>\r\n    <g clip-path=\"url(#p3f8d0238ca)\">\r\n     <use style=\"fill:#fde725;\" x=\"370.812237\" xlink:href=\"#C1_0_26c8f20b3c\" y=\"107.387962\"/>\r\n    </g>\r\n    <g clip-path=\"url(#p3f8d0238ca)\">\r\n     <use style=\"fill:#fde725;\" x=\"389.375377\" xlink:href=\"#C1_0_26c8f20b3c\" y=\"111.214807\"/>\r\n    </g>\r\n    <g clip-path=\"url(#p3f8d0238ca)\">\r\n     <use style=\"fill:#fde725;\" x=\"375.622814\" xlink:href=\"#C1_0_26c8f20b3c\" y=\"54.93222\"/>\r\n    </g>\r\n    <g clip-path=\"url(#p3f8d0238ca)\">\r\n     <use style=\"fill:#fde725;\" x=\"324.886354\" xlink:href=\"#C1_0_26c8f20b3c\" y=\"42.613311\"/>\r\n    </g>\r\n    <g clip-path=\"url(#p3f8d0238ca)\">\r\n     <use style=\"fill:#fde725;\" x=\"403.973999\" xlink:href=\"#C1_0_26c8f20b3c\" y=\"109.506456\"/>\r\n    </g>\r\n    <g clip-path=\"url(#p3f8d0238ca)\">\r\n     <use style=\"fill:#fde725;\" x=\"405.66082\" xlink:href=\"#C1_0_26c8f20b3c\" y=\"129.423683\"/>\r\n    </g>\r\n    <g clip-path=\"url(#p3f8d0238ca)\">\r\n     <use style=\"fill:#fde725;\" x=\"378.028618\" xlink:href=\"#C1_0_26c8f20b3c\" y=\"81.978979\"/>\r\n    </g>\r\n    <g clip-path=\"url(#p3f8d0238ca)\">\r\n     <use style=\"fill:#fde725;\" x=\"412.695457\" xlink:href=\"#C1_0_26c8f20b3c\" y=\"130.649768\"/>\r\n    </g>\r\n    <g clip-path=\"url(#p3f8d0238ca)\">\r\n     <use style=\"fill:#fde725;\" x=\"373.381655\" xlink:href=\"#C1_0_26c8f20b3c\" y=\"89.012256\"/>\r\n    </g>\r\n    <g clip-path=\"url(#p3f8d0238ca)\">\r\n     <use style=\"fill:#fde725;\" x=\"395.183875\" xlink:href=\"#C1_0_26c8f20b3c\" y=\"125.075603\"/>\r\n    </g>\r\n    <g clip-path=\"url(#p3f8d0238ca)\">\r\n     <use style=\"fill:#fde725;\" x=\"391.857051\" xlink:href=\"#C1_0_26c8f20b3c\" y=\"72.441403\"/>\r\n    </g>\r\n    <g clip-path=\"url(#p3f8d0238ca)\">\r\n     <use style=\"fill:#fde725;\" x=\"385.745951\" xlink:href=\"#C1_0_26c8f20b3c\" y=\"67.34182\"/>\r\n    </g>\r\n    <g clip-path=\"url(#p3f8d0238ca)\">\r\n     <use style=\"fill:#fde725;\" x=\"426.349293\" xlink:href=\"#C1_0_26c8f20b3c\" y=\"138.864912\"/>\r\n    </g>\r\n    <g clip-path=\"url(#p3f8d0238ca)\">\r\n     <use style=\"fill:#fde725;\" x=\"390.152788\" xlink:href=\"#C1_0_26c8f20b3c\" y=\"92.933688\"/>\r\n    </g>\r\n    <g clip-path=\"url(#p3f8d0238ca)\">\r\n     <use style=\"fill:#fde725;\" x=\"364.272447\" xlink:href=\"#C1_0_26c8f20b3c\" y=\"68.800669\"/>\r\n    </g>\r\n    <g clip-path=\"url(#p3f8d0238ca)\">\r\n     <use style=\"fill:#fde725;\" x=\"323.379348\" xlink:href=\"#C1_0_26c8f20b3c\" y=\"57.807157\"/>\r\n    </g>\r\n    <g clip-path=\"url(#p3f8d0238ca)\">\r\n     <use style=\"fill:#fde725;\" x=\"368.062859\" xlink:href=\"#C1_0_26c8f20b3c\" y=\"95.772581\"/>\r\n    </g>\r\n    <g clip-path=\"url(#p3f8d0238ca)\">\r\n     <use style=\"fill:#fde725;\" x=\"369.562513\" xlink:href=\"#C1_0_26c8f20b3c\" y=\"109.126705\"/>\r\n    </g>\r\n    <g clip-path=\"url(#p3f8d0238ca)\">\r\n     <use style=\"fill:#fde725;\" x=\"411.891106\" xlink:href=\"#C1_0_26c8f20b3c\" y=\"116.649406\"/>\r\n    </g>\r\n    <g clip-path=\"url(#p3f8d0238ca)\">\r\n     <use style=\"fill:#fde725;\" x=\"392.27326\" xlink:href=\"#C1_0_26c8f20b3c\" y=\"139.26951\"/>\r\n    </g>\r\n    <g clip-path=\"url(#p3f8d0238ca)\">\r\n     <use style=\"fill:#fde725;\" x=\"367.659686\" xlink:href=\"#C1_0_26c8f20b3c\" y=\"88.701648\"/>\r\n    </g>\r\n    <g clip-path=\"url(#p3f8d0238ca)\">\r\n     <use style=\"fill:#fde725;\" x=\"332.529959\" xlink:href=\"#C1_0_26c8f20b3c\" y=\"62.745433\"/>\r\n    </g>\r\n    <g clip-path=\"url(#p3f8d0238ca)\">\r\n     <use style=\"fill:#fde725;\" x=\"377.464335\" xlink:href=\"#C1_0_26c8f20b3c\" y=\"134.45437\"/>\r\n    </g>\r\n    <g clip-path=\"url(#p3f8d0238ca)\">\r\n     <use style=\"fill:#fde725;\" x=\"460.613933\" xlink:href=\"#C1_0_26c8f20b3c\" y=\"151.870599\"/>\r\n    </g>\r\n    <g clip-path=\"url(#p3f8d0238ca)\">\r\n     <use style=\"fill:#fde725;\" x=\"408.867028\" xlink:href=\"#C1_0_26c8f20b3c\" y=\"105.920463\"/>\r\n    </g>\r\n    <g clip-path=\"url(#p3f8d0238ca)\">\r\n     <use style=\"fill:#fde725;\" x=\"416.642833\" xlink:href=\"#C1_0_26c8f20b3c\" y=\"135.266508\"/>\r\n    </g>\r\n    <g clip-path=\"url(#p3f8d0238ca)\">\r\n     <use style=\"fill:#fde725;\" x=\"439.617755\" xlink:href=\"#C1_0_26c8f20b3c\" y=\"151.60443\"/>\r\n    </g>\r\n    <g clip-path=\"url(#p3f8d0238ca)\">\r\n     <use style=\"fill:#440154;\" x=\"336.562136\" xlink:href=\"#C1_0_26c8f20b3c\" y=\"137.491171\"/>\r\n    </g>\r\n    <g clip-path=\"url(#p3f8d0238ca)\">\r\n     <use style=\"fill:#440154;\" x=\"357.993106\" xlink:href=\"#C1_0_26c8f20b3c\" y=\"121.561763\"/>\r\n    </g>\r\n    <g clip-path=\"url(#p3f8d0238ca)\">\r\n     <use style=\"fill:#440154;\" x=\"370.704754\" xlink:href=\"#C1_0_26c8f20b3c\" y=\"160.70728\"/>\r\n    </g>\r\n    <g clip-path=\"url(#p3f8d0238ca)\">\r\n     <use style=\"fill:#440154;\" x=\"338.108006\" xlink:href=\"#C1_0_26c8f20b3c\" y=\"114.742764\"/>\r\n    </g>\r\n    <g clip-path=\"url(#p3f8d0238ca)\">\r\n     <use style=\"fill:#440154;\" x=\"317.547011\" xlink:href=\"#C1_0_26c8f20b3c\" y=\"135.032026\"/>\r\n    </g>\r\n    <g clip-path=\"url(#p3f8d0238ca)\">\r\n     <use style=\"fill:#440154;\" x=\"349.812138\" xlink:href=\"#C1_0_26c8f20b3c\" y=\"171.976416\"/>\r\n    </g>\r\n    <g clip-path=\"url(#p3f8d0238ca)\">\r\n     <use style=\"fill:#440154;\" x=\"371.565032\" xlink:href=\"#C1_0_26c8f20b3c\" y=\"140.074807\"/>\r\n    </g>\r\n    <g clip-path=\"url(#p3f8d0238ca)\">\r\n     <use style=\"fill:#440154;\" x=\"354.009357\" xlink:href=\"#C1_0_26c8f20b3c\" y=\"144.718441\"/>\r\n    </g>\r\n    <g clip-path=\"url(#p3f8d0238ca)\">\r\n     <use style=\"fill:#440154;\" x=\"312.41811\" xlink:href=\"#C1_0_26c8f20b3c\" y=\"137.817709\"/>\r\n    </g>\r\n    <g clip-path=\"url(#p3f8d0238ca)\">\r\n     <use style=\"fill:#440154;\" x=\"323.727305\" xlink:href=\"#C1_0_26c8f20b3c\" y=\"144.586645\"/>\r\n    </g>\r\n    <g clip-path=\"url(#p3f8d0238ca)\">\r\n     <use style=\"fill:#440154;\" x=\"377.560615\" xlink:href=\"#C1_0_26c8f20b3c\" y=\"167.549875\"/>\r\n    </g>\r\n    <g clip-path=\"url(#p3f8d0238ca)\">\r\n     <use style=\"fill:#440154;\" x=\"338.271842\" xlink:href=\"#C1_0_26c8f20b3c\" y=\"127.840361\"/>\r\n    </g>\r\n    <g clip-path=\"url(#p3f8d0238ca)\">\r\n     <use style=\"fill:#440154;\" x=\"316.242883\" xlink:href=\"#C1_0_26c8f20b3c\" y=\"109.884616\"/>\r\n    </g>\r\n    <g clip-path=\"url(#p3f8d0238ca)\">\r\n     <use style=\"fill:#440154;\" x=\"345.187145\" xlink:href=\"#C1_0_26c8f20b3c\" y=\"102.38908\"/>\r\n    </g>\r\n    <g clip-path=\"url(#p3f8d0238ca)\">\r\n     <use style=\"fill:#440154;\" x=\"337.006185\" xlink:href=\"#C1_0_26c8f20b3c\" y=\"137.531137\"/>\r\n    </g>\r\n    <g clip-path=\"url(#p3f8d0238ca)\">\r\n     <use style=\"fill:#440154;\" x=\"326.635177\" xlink:href=\"#C1_0_26c8f20b3c\" y=\"139.623453\"/>\r\n    </g>\r\n    <g clip-path=\"url(#p3f8d0238ca)\">\r\n     <use style=\"fill:#440154;\" x=\"294.520435\" xlink:href=\"#C1_0_26c8f20b3c\" y=\"148.344577\"/>\r\n    </g>\r\n    <g clip-path=\"url(#p3f8d0238ca)\">\r\n     <use style=\"fill:#440154;\" x=\"376.817594\" xlink:href=\"#C1_0_26c8f20b3c\" y=\"157.264074\"/>\r\n    </g>\r\n    <g clip-path=\"url(#p3f8d0238ca)\">\r\n     <use style=\"fill:#440154;\" x=\"317.328461\" xlink:href=\"#C1_0_26c8f20b3c\" y=\"157.88232\"/>\r\n    </g>\r\n    <g clip-path=\"url(#p3f8d0238ca)\">\r\n     <use style=\"fill:#440154;\" x=\"301.100656\" xlink:href=\"#C1_0_26c8f20b3c\" y=\"132.061417\"/>\r\n    </g>\r\n    <g clip-path=\"url(#p3f8d0238ca)\">\r\n     <use style=\"fill:#440154;\" x=\"327.52919\" xlink:href=\"#C1_0_26c8f20b3c\" y=\"108.490631\"/>\r\n    </g>\r\n    <g clip-path=\"url(#p3f8d0238ca)\">\r\n     <use style=\"fill:#440154;\" x=\"338.133639\" xlink:href=\"#C1_0_26c8f20b3c\" y=\"141.859801\"/>\r\n    </g>\r\n    <g clip-path=\"url(#p3f8d0238ca)\">\r\n     <use style=\"fill:#440154;\" x=\"343.427766\" xlink:href=\"#C1_0_26c8f20b3c\" y=\"133.217614\"/>\r\n    </g>\r\n    <g clip-path=\"url(#p3f8d0238ca)\">\r\n     <use style=\"fill:#440154;\" x=\"333.967004\" xlink:href=\"#C1_0_26c8f20b3c\" y=\"122.828849\"/>\r\n    </g>\r\n    <g clip-path=\"url(#p3f8d0238ca)\">\r\n     <use style=\"fill:#440154;\" x=\"306.177667\" xlink:href=\"#C1_0_26c8f20b3c\" y=\"117.768108\"/>\r\n    </g>\r\n    <g clip-path=\"url(#p3f8d0238ca)\">\r\n     <use style=\"fill:#440154;\" x=\"336.599251\" xlink:href=\"#C1_0_26c8f20b3c\" y=\"139.672949\"/>\r\n    </g>\r\n    <g clip-path=\"url(#p3f8d0238ca)\">\r\n     <use style=\"fill:#440154;\" x=\"330.840916\" xlink:href=\"#C1_0_26c8f20b3c\" y=\"166.204597\"/>\r\n    </g>\r\n    <g clip-path=\"url(#p3f8d0238ca)\">\r\n     <use style=\"fill:#440154;\" x=\"345.766156\" xlink:href=\"#C1_0_26c8f20b3c\" y=\"126.241141\"/>\r\n    </g>\r\n    <g clip-path=\"url(#p3f8d0238ca)\">\r\n     <use style=\"fill:#440154;\" x=\"314.962916\" xlink:href=\"#C1_0_26c8f20b3c\" y=\"115.384445\"/>\r\n    </g>\r\n    <g clip-path=\"url(#p3f8d0238ca)\">\r\n     <use style=\"fill:#440154;\" x=\"364.280514\" xlink:href=\"#C1_0_26c8f20b3c\" y=\"165.404501\"/>\r\n    </g>\r\n    <g clip-path=\"url(#p3f8d0238ca)\">\r\n     <use style=\"fill:#440154;\" x=\"347.899848\" xlink:href=\"#C1_0_26c8f20b3c\" y=\"132.48793\"/>\r\n    </g>\r\n    <g clip-path=\"url(#p3f8d0238ca)\">\r\n     <use style=\"fill:#440154;\" x=\"307.010556\" xlink:href=\"#C1_0_26c8f20b3c\" y=\"130.989066\"/>\r\n    </g>\r\n    <g clip-path=\"url(#p3f8d0238ca)\">\r\n     <use style=\"fill:#440154;\" x=\"313.534735\" xlink:href=\"#C1_0_26c8f20b3c\" y=\"136.020452\"/>\r\n    </g>\r\n    <g clip-path=\"url(#p3f8d0238ca)\">\r\n     <use style=\"fill:#440154;\" x=\"281.656237\" xlink:href=\"#C1_0_26c8f20b3c\" y=\"81.979552\"/>\r\n    </g>\r\n    <g clip-path=\"url(#p3f8d0238ca)\">\r\n     <use style=\"fill:#440154;\" x=\"310.984549\" xlink:href=\"#C1_0_26c8f20b3c\" y=\"155.061646\"/>\r\n    </g>\r\n    <g clip-path=\"url(#p3f8d0238ca)\">\r\n     <use style=\"fill:#440154;\" x=\"341.463189\" xlink:href=\"#C1_0_26c8f20b3c\" y=\"163.72094\"/>\r\n    </g>\r\n    <g clip-path=\"url(#p3f8d0238ca)\">\r\n     <use style=\"fill:#440154;\" x=\"345.376335\" xlink:href=\"#C1_0_26c8f20b3c\" y=\"110.846993\"/>\r\n    </g>\r\n    <g clip-path=\"url(#p3f8d0238ca)\">\r\n     <use style=\"fill:#440154;\" x=\"306.278289\" xlink:href=\"#C1_0_26c8f20b3c\" y=\"114.035232\"/>\r\n    </g>\r\n    <g clip-path=\"url(#p3f8d0238ca)\">\r\n     <use style=\"fill:#440154;\" x=\"333.884669\" xlink:href=\"#C1_0_26c8f20b3c\" y=\"132.289589\"/>\r\n    </g>\r\n    <g clip-path=\"url(#p3f8d0238ca)\">\r\n     <use style=\"fill:#440154;\" x=\"353.980996\" xlink:href=\"#C1_0_26c8f20b3c\" y=\"148.097239\"/>\r\n    </g>\r\n    <g clip-path=\"url(#p3f8d0238ca)\">\r\n     <use style=\"fill:#440154;\" x=\"339.624426\" xlink:href=\"#C1_0_26c8f20b3c\" y=\"131.048625\"/>\r\n    </g>\r\n    <g clip-path=\"url(#p3f8d0238ca)\">\r\n     <use style=\"fill:#440154;\" x=\"328.591377\" xlink:href=\"#C1_0_26c8f20b3c\" y=\"132.650546\"/>\r\n    </g>\r\n    <g clip-path=\"url(#p3f8d0238ca)\">\r\n     <use style=\"fill:#440154;\" x=\"336.047081\" xlink:href=\"#C1_0_26c8f20b3c\" y=\"132.089312\"/>\r\n    </g>\r\n    <g clip-path=\"url(#p3f8d0238ca)\">\r\n     <use style=\"fill:#440154;\" x=\"365.557711\" xlink:href=\"#C1_0_26c8f20b3c\" y=\"157.959673\"/>\r\n    </g>\r\n    <g clip-path=\"url(#p3f8d0238ca)\">\r\n     <use style=\"fill:#440154;\" x=\"346.744027\" xlink:href=\"#C1_0_26c8f20b3c\" y=\"147.825667\"/>\r\n    </g>\r\n    <g clip-path=\"url(#p3f8d0238ca)\">\r\n     <use style=\"fill:#440154;\" x=\"316.671505\" xlink:href=\"#C1_0_26c8f20b3c\" y=\"142.956666\"/>\r\n    </g>\r\n    <g clip-path=\"url(#p3f8d0238ca)\">\r\n     <use style=\"fill:#440154;\" x=\"315.084185\" xlink:href=\"#C1_0_26c8f20b3c\" y=\"122.430122\"/>\r\n    </g>\r\n    <g clip-path=\"url(#p3f8d0238ca)\">\r\n     <use style=\"fill:#440154;\" x=\"337.910576\" xlink:href=\"#C1_0_26c8f20b3c\" y=\"170.676914\"/>\r\n    </g>\r\n    <g clip-path=\"url(#p3f8d0238ca)\">\r\n     <use style=\"fill:#440154;\" x=\"356.518671\" xlink:href=\"#C1_0_26c8f20b3c\" y=\"132.702063\"/>\r\n    </g>\r\n    <g clip-path=\"url(#p3f8d0238ca)\">\r\n     <use style=\"fill:#440154;\" x=\"358.811728\" xlink:href=\"#C1_0_26c8f20b3c\" y=\"144.992978\"/>\r\n    </g>\r\n    <g clip-path=\"url(#p3f8d0238ca)\">\r\n     <use style=\"fill:#440154;\" x=\"356.821006\" xlink:href=\"#C1_0_26c8f20b3c\" y=\"155.258807\"/>\r\n    </g>\r\n    <g clip-path=\"url(#p3f8d0238ca)\">\r\n     <use style=\"fill:#440154;\" x=\"345.24176\" xlink:href=\"#C1_0_26c8f20b3c\" y=\"159.965514\"/>\r\n    </g>\r\n    <g clip-path=\"url(#p3f8d0238ca)\">\r\n     <use style=\"fill:#440154;\" x=\"356.898413\" xlink:href=\"#C1_0_26c8f20b3c\" y=\"146.063516\"/>\r\n    </g>\r\n    <g clip-path=\"url(#p3f8d0238ca)\">\r\n     <use style=\"fill:#440154;\" x=\"348.999541\" xlink:href=\"#C1_0_26c8f20b3c\" y=\"118.058866\"/>\r\n    </g>\r\n    <g clip-path=\"url(#p3f8d0238ca)\">\r\n     <use style=\"fill:#440154;\" x=\"321.558889\" xlink:href=\"#C1_0_26c8f20b3c\" y=\"145.602575\"/>\r\n    </g>\r\n    <g clip-path=\"url(#p3f8d0238ca)\">\r\n     <use style=\"fill:#440154;\" x=\"365.494793\" xlink:href=\"#C1_0_26c8f20b3c\" y=\"157.616763\"/>\r\n    </g>\r\n    <g clip-path=\"url(#p3f8d0238ca)\">\r\n     <use style=\"fill:#440154;\" x=\"365.955026\" xlink:href=\"#C1_0_26c8f20b3c\" y=\"152.894399\"/>\r\n    </g>\r\n    <g clip-path=\"url(#p3f8d0238ca)\">\r\n     <use style=\"fill:#440154;\" x=\"339.963862\" xlink:href=\"#C1_0_26c8f20b3c\" y=\"128.431491\"/>\r\n    </g>\r\n    <g clip-path=\"url(#p3f8d0238ca)\">\r\n     <use style=\"fill:#440154;\" x=\"324.530041\" xlink:href=\"#C1_0_26c8f20b3c\" y=\"124.60212\"/>\r\n    </g>\r\n    <g clip-path=\"url(#p3f8d0238ca)\">\r\n     <use style=\"fill:#440154;\" x=\"338.751617\" xlink:href=\"#C1_0_26c8f20b3c\" y=\"144.688277\"/>\r\n    </g>\r\n    <g clip-path=\"url(#p3f8d0238ca)\">\r\n     <use style=\"fill:#440154;\" x=\"338.890541\" xlink:href=\"#C1_0_26c8f20b3c\" y=\"160.635939\"/>\r\n    </g>\r\n    <g clip-path=\"url(#p3f8d0238ca)\">\r\n     <use style=\"fill:#440154;\" x=\"351.13454\" xlink:href=\"#C1_0_26c8f20b3c\" y=\"151.364788\"/>\r\n    </g>\r\n    <g clip-path=\"url(#p3f8d0238ca)\">\r\n     <use style=\"fill:#440154;\" x=\"328.731243\" xlink:href=\"#C1_0_26c8f20b3c\" y=\"155.337561\"/>\r\n    </g>\r\n    <g clip-path=\"url(#p3f8d0238ca)\">\r\n     <use style=\"fill:#440154;\" x=\"354.241165\" xlink:href=\"#C1_0_26c8f20b3c\" y=\"137.646471\"/>\r\n    </g>\r\n    <g clip-path=\"url(#p3f8d0238ca)\">\r\n     <use style=\"fill:#440154;\" x=\"346.075123\" xlink:href=\"#C1_0_26c8f20b3c\" y=\"138.459855\"/>\r\n    </g>\r\n    <g clip-path=\"url(#p3f8d0238ca)\">\r\n     <use style=\"fill:#440154;\" x=\"296.38285\" xlink:href=\"#C1_0_26c8f20b3c\" y=\"117.69456\"/>\r\n    </g>\r\n    <g clip-path=\"url(#p3f8d0238ca)\">\r\n     <use style=\"fill:#440154;\" x=\"345.164195\" xlink:href=\"#C1_0_26c8f20b3c\" y=\"145.546066\"/>\r\n    </g>\r\n    <g clip-path=\"url(#p3f8d0238ca)\">\r\n     <use style=\"fill:#440154;\" x=\"347.520514\" xlink:href=\"#C1_0_26c8f20b3c\" y=\"136.245975\"/>\r\n    </g>\r\n    <g clip-path=\"url(#p3f8d0238ca)\">\r\n     <use style=\"fill:#440154;\" x=\"327.450422\" xlink:href=\"#C1_0_26c8f20b3c\" y=\"153.68798\"/>\r\n    </g>\r\n    <g clip-path=\"url(#p3f8d0238ca)\">\r\n     <use style=\"fill:#440154;\" x=\"336.650573\" xlink:href=\"#C1_0_26c8f20b3c\" y=\"157.100516\"/>\r\n    </g>\r\n    <g clip-path=\"url(#p3f8d0238ca)\">\r\n     <use style=\"fill:#440154;\" x=\"400.731856\" xlink:href=\"#C1_0_26c8f20b3c\" y=\"174.670239\"/>\r\n    </g>\r\n    <g clip-path=\"url(#p3f8d0238ca)\">\r\n     <use style=\"fill:#440154;\" x=\"334.52689\" xlink:href=\"#C1_0_26c8f20b3c\" y=\"68.03278\"/>\r\n    </g>\r\n    <g clip-path=\"url(#p3f8d0238ca)\">\r\n     <use style=\"fill:#440154;\" x=\"321.143139\" xlink:href=\"#C1_0_26c8f20b3c\" y=\"162.468349\"/>\r\n    </g>\r\n    <g clip-path=\"url(#p3f8d0238ca)\">\r\n     <use style=\"fill:#440154;\" x=\"331.903184\" xlink:href=\"#C1_0_26c8f20b3c\" y=\"169.973445\"/>\r\n    </g>\r\n    <g clip-path=\"url(#p3f8d0238ca)\">\r\n     <use style=\"fill:#440154;\" x=\"331.256335\" xlink:href=\"#C1_0_26c8f20b3c\" y=\"164.495015\"/>\r\n    </g>\r\n    <g clip-path=\"url(#p3f8d0238ca)\">\r\n     <use style=\"fill:#440154;\" x=\"330.142835\" xlink:href=\"#C1_0_26c8f20b3c\" y=\"127.095972\"/>\r\n    </g>\r\n    <g clip-path=\"url(#p3f8d0238ca)\">\r\n     <use style=\"fill:#440154;\" x=\"354.480635\" xlink:href=\"#C1_0_26c8f20b3c\" y=\"135.246727\"/>\r\n    </g>\r\n    <g clip-path=\"url(#p3f8d0238ca)\">\r\n     <use style=\"fill:#440154;\" x=\"319.27948\" xlink:href=\"#C1_0_26c8f20b3c\" y=\"111.98591\"/>\r\n    </g>\r\n    <g clip-path=\"url(#p3f8d0238ca)\">\r\n     <use style=\"fill:#440154;\" x=\"371.134256\" xlink:href=\"#C1_0_26c8f20b3c\" y=\"150.340643\"/>\r\n    </g>\r\n    <g clip-path=\"url(#p3f8d0238ca)\">\r\n     <use style=\"fill:#440154;\" x=\"383.884447\" xlink:href=\"#C1_0_26c8f20b3c\" y=\"161.738295\"/>\r\n    </g>\r\n    <g clip-path=\"url(#p3f8d0238ca)\">\r\n     <use style=\"fill:#440154;\" x=\"315.522836\" xlink:href=\"#C1_0_26c8f20b3c\" y=\"118.109188\"/>\r\n    </g>\r\n    <g clip-path=\"url(#p3f8d0238ca)\">\r\n     <use style=\"fill:#440154;\" x=\"347.470189\" xlink:href=\"#C1_0_26c8f20b3c\" y=\"135.365897\"/>\r\n    </g>\r\n    <g clip-path=\"url(#p3f8d0238ca)\">\r\n     <use style=\"fill:#440154;\" x=\"349.332042\" xlink:href=\"#C1_0_26c8f20b3c\" y=\"165.818297\"/>\r\n    </g>\r\n    <g clip-path=\"url(#p3f8d0238ca)\">\r\n     <use style=\"fill:#440154;\" x=\"360.109054\" xlink:href=\"#C1_0_26c8f20b3c\" y=\"101.542346\"/>\r\n    </g>\r\n    <g clip-path=\"url(#p3f8d0238ca)\">\r\n     <use style=\"fill:#440154;\" x=\"366.811718\" xlink:href=\"#C1_0_26c8f20b3c\" y=\"162.482386\"/>\r\n    </g>\r\n    <g clip-path=\"url(#p3f8d0238ca)\">\r\n     <use style=\"fill:#440154;\" x=\"378.753088\" xlink:href=\"#C1_0_26c8f20b3c\" y=\"127.113286\"/>\r\n    </g>\r\n    <g clip-path=\"url(#p3f8d0238ca)\">\r\n     <use style=\"fill:#440154;\" x=\"337.352151\" xlink:href=\"#C1_0_26c8f20b3c\" y=\"157.609462\"/>\r\n    </g>\r\n    <g clip-path=\"url(#p3f8d0238ca)\">\r\n     <use style=\"fill:#440154;\" x=\"317.114543\" xlink:href=\"#C1_0_26c8f20b3c\" y=\"117.413553\"/>\r\n    </g>\r\n    <g clip-path=\"url(#p3f8d0238ca)\">\r\n     <use style=\"fill:#440154;\" x=\"334.444301\" xlink:href=\"#C1_0_26c8f20b3c\" y=\"135.044044\"/>\r\n    </g>\r\n    <g clip-path=\"url(#p3f8d0238ca)\">\r\n     <use style=\"fill:#440154;\" x=\"323.617184\" xlink:href=\"#C1_0_26c8f20b3c\" y=\"141.576089\"/>\r\n    </g>\r\n    <g clip-path=\"url(#p3f8d0238ca)\">\r\n     <use style=\"fill:#440154;\" x=\"325.821838\" xlink:href=\"#C1_0_26c8f20b3c\" y=\"107.037092\"/>\r\n    </g>\r\n    <g clip-path=\"url(#p3f8d0238ca)\">\r\n     <use style=\"fill:#440154;\" x=\"326.339728\" xlink:href=\"#C1_0_26c8f20b3c\" y=\"150.187953\"/>\r\n    </g>\r\n    <g clip-path=\"url(#p3f8d0238ca)\">\r\n     <use style=\"fill:#440154;\" x=\"328.492855\" xlink:href=\"#C1_0_26c8f20b3c\" y=\"158.85808\"/>\r\n    </g>\r\n    <g clip-path=\"url(#p3f8d0238ca)\">\r\n     <use style=\"fill:#440154;\" x=\"333.36362\" xlink:href=\"#C1_0_26c8f20b3c\" y=\"150.723648\"/>\r\n    </g>\r\n    <g clip-path=\"url(#p3f8d0238ca)\">\r\n     <use style=\"fill:#440154;\" x=\"356.765667\" xlink:href=\"#C1_0_26c8f20b3c\" y=\"143.245597\"/>\r\n    </g>\r\n    <g clip-path=\"url(#p3f8d0238ca)\">\r\n     <use style=\"fill:#440154;\" x=\"342.366074\" xlink:href=\"#C1_0_26c8f20b3c\" y=\"174.10866\"/>\r\n    </g>\r\n    <g clip-path=\"url(#p3f8d0238ca)\">\r\n     <use style=\"fill:#440154;\" x=\"302.616055\" xlink:href=\"#C1_0_26c8f20b3c\" y=\"126.525406\"/>\r\n    </g>\r\n    <g clip-path=\"url(#p3f8d0238ca)\">\r\n     <use style=\"fill:#440154;\" x=\"332.103928\" xlink:href=\"#C1_0_26c8f20b3c\" y=\"168.218018\"/>\r\n    </g>\r\n    <g clip-path=\"url(#p3f8d0238ca)\">\r\n     <use style=\"fill:#440154;\" x=\"318.920282\" xlink:href=\"#C1_0_26c8f20b3c\" y=\"128.105444\"/>\r\n    </g>\r\n    <g clip-path=\"url(#p3f8d0238ca)\">\r\n     <use style=\"fill:#440154;\" x=\"296.236866\" xlink:href=\"#C1_0_26c8f20b3c\" y=\"135.15577\"/>\r\n    </g>\r\n   </g>\r\n   <g id=\"matplotlib.axis_3\">\r\n    <g id=\"xtick_4\">\r\n     <g id=\"line2d_11\">\r\n      <g>\r\n       <use style=\"stroke:#000000;stroke-width:0.8;\" x=\"279.352744\" xlink:href=\"#m34eb4ba84f\" y=\"181.273086\"/>\r\n      </g>\r\n     </g>\r\n     <g id=\"text_11\">\r\n      <!-- −5.0 -->\r\n      <g transform=\"translate(267.211338 195.871523)scale(0.1 -0.1)\">\r\n       <defs>\r\n        <path d=\"M 10.796875 72.90625 \r\nL 49.515625 72.90625 \r\nL 49.515625 64.59375 \r\nL 19.828125 64.59375 \r\nL 19.828125 46.734375 \r\nQ 21.96875 47.46875 24.109375 47.828125 \r\nQ 26.265625 48.1875 28.421875 48.1875 \r\nQ 40.625 48.1875 47.75 41.5 \r\nQ 54.890625 34.8125 54.890625 23.390625 \r\nQ 54.890625 11.625 47.5625 5.09375 \r\nQ 40.234375 -1.421875 26.90625 -1.421875 \r\nQ 22.3125 -1.421875 17.546875 -0.640625 \r\nQ 12.796875 0.140625 7.71875 1.703125 \r\nL 7.71875 11.625 \r\nQ 12.109375 9.234375 16.796875 8.0625 \r\nQ 21.484375 6.890625 26.703125 6.890625 \r\nQ 35.15625 6.890625 40.078125 11.328125 \r\nQ 45.015625 15.765625 45.015625 23.390625 \r\nQ 45.015625 31 40.078125 35.4375 \r\nQ 35.15625 39.890625 26.703125 39.890625 \r\nQ 22.75 39.890625 18.8125 39.015625 \r\nQ 14.890625 38.140625 10.796875 36.28125 \r\nz\r\n\" id=\"DejaVuSans-53\"/>\r\n        <path d=\"M 10.6875 12.40625 \r\nL 21 12.40625 \r\nL 21 0 \r\nL 10.6875 0 \r\nz\r\n\" id=\"DejaVuSans-46\"/>\r\n       </defs>\r\n       <use xlink:href=\"#DejaVuSans-8722\"/>\r\n       <use x=\"83.789062\" xlink:href=\"#DejaVuSans-53\"/>\r\n       <use x=\"147.412109\" xlink:href=\"#DejaVuSans-46\"/>\r\n       <use x=\"179.199219\" xlink:href=\"#DejaVuSans-48\"/>\r\n      </g>\r\n     </g>\r\n    </g>\r\n    <g id=\"xtick_5\">\r\n     <g id=\"line2d_12\">\r\n      <g>\r\n       <use style=\"stroke:#000000;stroke-width:0.8;\" x=\"319.963982\" xlink:href=\"#m34eb4ba84f\" y=\"181.273086\"/>\r\n      </g>\r\n     </g>\r\n     <g id=\"text_12\">\r\n      <!-- −2.5 -->\r\n      <g transform=\"translate(307.822576 195.871523)scale(0.1 -0.1)\">\r\n       <use xlink:href=\"#DejaVuSans-8722\"/>\r\n       <use x=\"83.789062\" xlink:href=\"#DejaVuSans-50\"/>\r\n       <use x=\"147.412109\" xlink:href=\"#DejaVuSans-46\"/>\r\n       <use x=\"179.199219\" xlink:href=\"#DejaVuSans-53\"/>\r\n      </g>\r\n     </g>\r\n    </g>\r\n    <g id=\"xtick_6\">\r\n     <g id=\"line2d_13\">\r\n      <g>\r\n       <use style=\"stroke:#000000;stroke-width:0.8;\" x=\"360.57522\" xlink:href=\"#m34eb4ba84f\" y=\"181.273086\"/>\r\n      </g>\r\n     </g>\r\n     <g id=\"text_13\">\r\n      <!-- 0.0 -->\r\n      <g transform=\"translate(352.623658 195.871523)scale(0.1 -0.1)\">\r\n       <use xlink:href=\"#DejaVuSans-48\"/>\r\n       <use x=\"63.623047\" xlink:href=\"#DejaVuSans-46\"/>\r\n       <use x=\"95.410156\" xlink:href=\"#DejaVuSans-48\"/>\r\n      </g>\r\n     </g>\r\n    </g>\r\n    <g id=\"xtick_7\">\r\n     <g id=\"line2d_14\">\r\n      <g>\r\n       <use style=\"stroke:#000000;stroke-width:0.8;\" x=\"401.186458\" xlink:href=\"#m34eb4ba84f\" y=\"181.273086\"/>\r\n      </g>\r\n     </g>\r\n     <g id=\"text_14\">\r\n      <!-- 2.5 -->\r\n      <g transform=\"translate(393.234896 195.871523)scale(0.1 -0.1)\">\r\n       <use xlink:href=\"#DejaVuSans-50\"/>\r\n       <use x=\"63.623047\" xlink:href=\"#DejaVuSans-46\"/>\r\n       <use x=\"95.410156\" xlink:href=\"#DejaVuSans-53\"/>\r\n      </g>\r\n     </g>\r\n    </g>\r\n    <g id=\"xtick_8\">\r\n     <g id=\"line2d_15\">\r\n      <g>\r\n       <use style=\"stroke:#000000;stroke-width:0.8;\" x=\"441.797696\" xlink:href=\"#m34eb4ba84f\" y=\"181.273086\"/>\r\n      </g>\r\n     </g>\r\n     <g id=\"text_15\">\r\n      <!-- 5.0 -->\r\n      <g transform=\"translate(433.846134 195.871523)scale(0.1 -0.1)\">\r\n       <use xlink:href=\"#DejaVuSans-53\"/>\r\n       <use x=\"63.623047\" xlink:href=\"#DejaVuSans-46\"/>\r\n       <use x=\"95.410156\" xlink:href=\"#DejaVuSans-48\"/>\r\n      </g>\r\n     </g>\r\n    </g>\r\n   </g>\r\n   <g id=\"matplotlib.axis_4\">\r\n    <g id=\"ytick_8\">\r\n     <g id=\"line2d_16\">\r\n      <g>\r\n       <use style=\"stroke:#000000;stroke-width:0.8;\" x=\"272.433097\" xlink:href=\"#m89560b51ca\" y=\"179.326395\"/>\r\n      </g>\r\n     </g>\r\n     <g id=\"text_16\">\r\n      <!-- −4 -->\r\n      <g transform=\"translate(250.690909 183.125614)scale(0.1 -0.1)\">\r\n       <defs>\r\n        <path d=\"M 37.796875 64.3125 \r\nL 12.890625 25.390625 \r\nL 37.796875 25.390625 \r\nz\r\nM 35.203125 72.90625 \r\nL 47.609375 72.90625 \r\nL 47.609375 25.390625 \r\nL 58.015625 25.390625 \r\nL 58.015625 17.1875 \r\nL 47.609375 17.1875 \r\nL 47.609375 0 \r\nL 37.796875 0 \r\nL 37.796875 17.1875 \r\nL 4.890625 17.1875 \r\nL 4.890625 26.703125 \r\nz\r\n\" id=\"DejaVuSans-52\"/>\r\n       </defs>\r\n       <use xlink:href=\"#DejaVuSans-8722\"/>\r\n       <use x=\"83.789062\" xlink:href=\"#DejaVuSans-52\"/>\r\n      </g>\r\n     </g>\r\n    </g>\r\n    <g id=\"ytick_9\">\r\n     <g id=\"line2d_17\">\r\n      <g>\r\n       <use style=\"stroke:#000000;stroke-width:0.8;\" x=\"272.433097\" xlink:href=\"#m89560b51ca\" y=\"146.837405\"/>\r\n      </g>\r\n     </g>\r\n     <g id=\"text_17\">\r\n      <!-- −2 -->\r\n      <g transform=\"translate(250.690909 150.636624)scale(0.1 -0.1)\">\r\n       <use xlink:href=\"#DejaVuSans-8722\"/>\r\n       <use x=\"83.789062\" xlink:href=\"#DejaVuSans-50\"/>\r\n      </g>\r\n     </g>\r\n    </g>\r\n    <g id=\"ytick_10\">\r\n     <g id=\"line2d_18\">\r\n      <g>\r\n       <use style=\"stroke:#000000;stroke-width:0.8;\" x=\"272.433097\" xlink:href=\"#m89560b51ca\" y=\"114.348415\"/>\r\n      </g>\r\n     </g>\r\n     <g id=\"text_18\">\r\n      <!-- 0 -->\r\n      <g transform=\"translate(259.070597 118.147633)scale(0.1 -0.1)\">\r\n       <use xlink:href=\"#DejaVuSans-48\"/>\r\n      </g>\r\n     </g>\r\n    </g>\r\n    <g id=\"ytick_11\">\r\n     <g id=\"line2d_19\">\r\n      <g>\r\n       <use style=\"stroke:#000000;stroke-width:0.8;\" x=\"272.433097\" xlink:href=\"#m89560b51ca\" y=\"81.859424\"/>\r\n      </g>\r\n     </g>\r\n     <g id=\"text_19\">\r\n      <!-- 2 -->\r\n      <g transform=\"translate(259.070597 85.658643)scale(0.1 -0.1)\">\r\n       <use xlink:href=\"#DejaVuSans-50\"/>\r\n      </g>\r\n     </g>\r\n    </g>\r\n    <g id=\"ytick_12\">\r\n     <g id=\"line2d_20\">\r\n      <g>\r\n       <use style=\"stroke:#000000;stroke-width:0.8;\" x=\"272.433097\" xlink:href=\"#m89560b51ca\" y=\"49.370434\"/>\r\n      </g>\r\n     </g>\r\n     <g id=\"text_20\">\r\n      <!-- 4 -->\r\n      <g transform=\"translate(259.070597 53.169653)scale(0.1 -0.1)\">\r\n       <use xlink:href=\"#DejaVuSans-52\"/>\r\n      </g>\r\n     </g>\r\n    </g>\r\n   </g>\r\n   <g id=\"patch_8\">\r\n    <path d=\"M 272.433097 181.273086 \r\nL 272.433097 36.010464 \r\n\" style=\"fill:none;stroke:#000000;stroke-linecap:square;stroke-linejoin:miter;stroke-width:0.8;\"/>\r\n   </g>\r\n   <g id=\"patch_9\">\r\n    <path d=\"M 475.342187 181.273086 \r\nL 475.342187 36.010464 \r\n\" style=\"fill:none;stroke:#000000;stroke-linecap:square;stroke-linejoin:miter;stroke-width:0.8;\"/>\r\n   </g>\r\n   <g id=\"patch_10\">\r\n    <path d=\"M 272.433097 181.273086 \r\nL 475.342187 181.273086 \r\n\" style=\"fill:none;stroke:#000000;stroke-linecap:square;stroke-linejoin:miter;stroke-width:0.8;\"/>\r\n   </g>\r\n   <g id=\"patch_11\">\r\n    <path d=\"M 272.433097 36.010464 \r\nL 475.342187 36.010464 \r\n\" style=\"fill:none;stroke:#000000;stroke-linecap:square;stroke-linejoin:miter;stroke-width:0.8;\"/>\r\n   </g>\r\n  </g>\r\n </g>\r\n <defs>\r\n  <clipPath id=\"p542e37c756\">\r\n   <rect height=\"202.88355\" width=\"202.909091\" x=\"28.942188\" y=\"7.2\"/>\r\n  </clipPath>\r\n  <clipPath id=\"p3f8d0238ca\">\r\n   <rect height=\"145.262621\" width=\"202.909091\" x=\"272.433097\" y=\"36.010464\"/>\r\n  </clipPath>\r\n </defs>\r\n</svg>\r\n",
      "image/png": "[encoded data removed]"
     },
     "metadata": {
      "needs_background": "light"
     }
    }
   ],
   "source": [
    "# Generate some data\n",
    "def generate_2_circles(N=100):\n",
    "    phi = np.linspace(0.0, np.pi * 2, 100)\n",
    "    X1 = 1.1 * np.array([np.sin(phi), np.cos(phi)])\n",
    "    X2 = 3.0 * np.array([np.sin(phi), np.cos(phi)])\n",
    "    Y = np.concatenate([np.ones(N), np.zeros(N)]).reshape((-1, 1))\n",
    "    X = np.hstack([X1,X2]).T\n",
    "    return X, Y\n",
    "\n",
    "\n",
    "def generate_2_gaussians(N=100):\n",
    "    phi = np.linspace(0.0, np.pi * 2, 100)\n",
    "    X1 = np.random.normal(loc=[1, 2], scale=[2.5, 0.9], size=(N, 2))\n",
    "    X1 = X1 @ np.array([[0.7, -0.7], [0.7, 0.7]])\n",
    "    X2 = np.random.normal(loc=[-2, 0], scale=[1, 1.5], size=(N, 2))\n",
    "    X2 = X2 @ np.array([[0.7, 0.7], [-0.7, 0.7]])\n",
    "    Y = np.concatenate([np.ones(N), np.zeros(N)]).reshape((-1, 1))\n",
    "    X = np.vstack([X1,X2])\n",
    "    return X, Y\n",
    "\n",
    "def split(X, Y, train_ratio=0.7):\n",
    "    size = len(X)\n",
    "    train_size = int(size * train_ratio)\n",
    "    indices = np.arange(size)\n",
    "    np.random.shuffle(indices)\n",
    "    train_indices = indices[:train_size]\n",
    "    test_indices = indices[train_size:]\n",
    "    return X[train_indices], Y[train_indices], X[test_indices], Y[test_indices]\n",
    "\n",
    "f, (ax1, ax2) = plt.subplots(1, 2, figsize=(8, 4))\n",
    "\n",
    "\n",
    "X, Y = generate_2_circles()\n",
    "ax1.scatter(X[:,0], X[:,1], c=Y.ravel(), edgecolors= 'none')\n",
    "ax1.set_aspect('equal')\n",
    "\n",
    "\n",
    "X, Y = generate_2_gaussians()\n",
    "ax2.scatter(X[:,0], X[:,1], c=Y.ravel(), edgecolors= 'none')\n",
    "ax2.set_aspect('equal')\n"
   ]
  },
  {
   "cell_type": "code",
   "execution_count": 27,
   "metadata": {},
   "outputs": [],
   "source": [
    "X_train, Y_train, X_test, Y_test = split(*generate_2_gaussians(), 0.7)"
   ]
  },
  {
   "cell_type": "code",
   "execution_count": 55,
   "metadata": {
    "tags": []
   },
   "outputs": [
    {
     "output_type": "stream",
     "name": "stdout",
     "text": [
      "Step: 0 \t Loss: 1.254 \t Acc: 17.9%\nStep: 1 \t Loss: 120.029 \t Acc: 50.3%\nStep: 2 \t Loss: 116.879 \t Acc: 51.1%\nStep: 3 \t Loss: 113.415 \t Acc: 52.8%\nStep: 4 \t Loss: 109.700 \t Acc: 53.3%\nStep: 5 \t Loss: 105.906 \t Acc: 53.4%\nStep: 6 \t Loss: 102.302 \t Acc: 56.2%\nStep: 7 \t Loss: 99.168 \t Acc: 59.1%\nStep: 8 \t Loss: 96.661 \t Acc: 60.2%\nStep: 9 \t Loss: 94.753 \t Acc: 60.5%\nStep: 10 \t Loss: 93.288 \t Acc: 60.2%\nStep: 11 \t Loss: 92.088 \t Acc: 62.6%\nStep: 12 \t Loss: 91.011 \t Acc: 64.0%\nStep: 13 \t Loss: 89.975 \t Acc: 66.0%\nStep: 14 \t Loss: 88.937 \t Acc: 66.7%\nStep: 15 \t Loss: 87.882 \t Acc: 68.1%\nStep: 16 \t Loss: 86.807 \t Acc: 68.1%\nStep: 17 \t Loss: 85.717 \t Acc: 68.8%\nStep: 18 \t Loss: 84.616 \t Acc: 69.1%\nStep: 19 \t Loss: 83.511 \t Acc: 69.8%\nStep: 20 \t Loss: 82.408 \t Acc: 70.2%\nStep: 21 \t Loss: 81.311 \t Acc: 71.3%\nStep: 22 \t Loss: 80.223 \t Acc: 71.7%\nStep: 23 \t Loss: 79.147 \t Acc: 71.7%\nStep: 24 \t Loss: 78.085 \t Acc: 72.0%\nStep: 25 \t Loss: 77.039 \t Acc: 72.4%\nStep: 26 \t Loss: 76.009 \t Acc: 73.0%\nStep: 27 \t Loss: 74.996 \t Acc: 74.5%\nStep: 28 \t Loss: 74.001 \t Acc: 74.8%\nStep: 29 \t Loss: 73.024 \t Acc: 75.9%\n\n\nTesting...\nAcc: 48.2%\n"
     ]
    }
   ],
   "source": [
    "# let's train our model\n",
    "model = LogsticRegressionGD(2, 0.05)\n",
    "\n",
    "for step in range(30):\n",
    "    Y_pred = model.forward(X_train)\n",
    "    \n",
    "    loss_value = nll_forward(Y_pred, Y_train)\n",
    "    accuracy = ((Y_pred > 0.5) == Y_train).mean()\n",
    "    print('Step: {} \\t Loss: {:.3f} \\t Acc: {:.1f}%'.format(step, loss_value, accuracy * 100))\n",
    "    \n",
    "    loss_grad = nll_grad_input(Y_pred, Y_train)\n",
    "    model.update_params(X_train, loss_grad)\n",
    "\n",
    "    \n",
    "print('\\n\\nTesting...')\n",
    "Y_test_pred = model.forward(X_test)\n",
    "\n",
    "test_accuracy = (np.equal((Y_test_pred.flatten() > 0.5), Y_test)).mean()\n",
    "print('Acc: {:.1f}%'.format(test_accuracy * 100))"
   ]
  },
  {
   "cell_type": "code",
   "execution_count": 56,
   "metadata": {},
   "outputs": [
    {
     "output_type": "error",
     "ename": "ValueError",
     "evalue": "'c' argument has 1400000 elements, which is inconsistent with 'x' and 'y' with size 10000.",
     "traceback": [
      "\u001b[1;31m---------------------------------------------------------------------------\u001b[0m",
      "\u001b[1;31mValueError\u001b[0m                                Traceback (most recent call last)",
      "\u001b[1;32m~\\miniconda3\\lib\\site-packages\\matplotlib\\axes\\_axes.py\u001b[0m in \u001b[0;36m_parse_scatter_color_args\u001b[1;34m(c, edgecolors, kwargs, xsize, get_next_color_func)\u001b[0m\n\u001b[0;32m   4290\u001b[0m             \u001b[1;32mtry\u001b[0m\u001b[1;33m:\u001b[0m  \u001b[1;31m# Is 'c' acceptable as PathCollection facecolors?\u001b[0m\u001b[1;33m\u001b[0m\u001b[1;33m\u001b[0m\u001b[0m\n\u001b[1;32m-> 4291\u001b[1;33m                 \u001b[0mcolors\u001b[0m \u001b[1;33m=\u001b[0m \u001b[0mmcolors\u001b[0m\u001b[1;33m.\u001b[0m\u001b[0mto_rgba_array\u001b[0m\u001b[1;33m(\u001b[0m\u001b[0mc\u001b[0m\u001b[1;33m)\u001b[0m\u001b[1;33m\u001b[0m\u001b[1;33m\u001b[0m\u001b[0m\n\u001b[0m\u001b[0;32m   4292\u001b[0m             \u001b[1;32mexcept\u001b[0m \u001b[1;33m(\u001b[0m\u001b[0mTypeError\u001b[0m\u001b[1;33m,\u001b[0m \u001b[0mValueError\u001b[0m\u001b[1;33m)\u001b[0m \u001b[1;32mas\u001b[0m \u001b[0merr\u001b[0m\u001b[1;33m:\u001b[0m\u001b[1;33m\u001b[0m\u001b[1;33m\u001b[0m\u001b[0m\n",
      "\u001b[1;32m~\\miniconda3\\lib\\site-packages\\matplotlib\\colors.py\u001b[0m in \u001b[0;36mto_rgba_array\u001b[1;34m(c, alpha)\u001b[0m\n\u001b[0;32m    340\u001b[0m     \u001b[1;32melse\u001b[0m\u001b[1;33m:\u001b[0m\u001b[1;33m\u001b[0m\u001b[1;33m\u001b[0m\u001b[0m\n\u001b[1;32m--> 341\u001b[1;33m         \u001b[1;32mreturn\u001b[0m \u001b[0mnp\u001b[0m\u001b[1;33m.\u001b[0m\u001b[0marray\u001b[0m\u001b[1;33m(\u001b[0m\u001b[1;33m[\u001b[0m\u001b[0mto_rgba\u001b[0m\u001b[1;33m(\u001b[0m\u001b[0mcc\u001b[0m\u001b[1;33m,\u001b[0m \u001b[0malpha\u001b[0m\u001b[1;33m)\u001b[0m \u001b[1;32mfor\u001b[0m \u001b[0mcc\u001b[0m \u001b[1;32min\u001b[0m \u001b[0mc\u001b[0m\u001b[1;33m]\u001b[0m\u001b[1;33m)\u001b[0m\u001b[1;33m\u001b[0m\u001b[1;33m\u001b[0m\u001b[0m\n\u001b[0m\u001b[0;32m    342\u001b[0m \u001b[1;33m\u001b[0m\u001b[0m\n",
      "\u001b[1;32m~\\miniconda3\\lib\\site-packages\\matplotlib\\colors.py\u001b[0m in \u001b[0;36m<listcomp>\u001b[1;34m(.0)\u001b[0m\n\u001b[0;32m    340\u001b[0m     \u001b[1;32melse\u001b[0m\u001b[1;33m:\u001b[0m\u001b[1;33m\u001b[0m\u001b[1;33m\u001b[0m\u001b[0m\n\u001b[1;32m--> 341\u001b[1;33m         \u001b[1;32mreturn\u001b[0m \u001b[0mnp\u001b[0m\u001b[1;33m.\u001b[0m\u001b[0marray\u001b[0m\u001b[1;33m(\u001b[0m\u001b[1;33m[\u001b[0m\u001b[0mto_rgba\u001b[0m\u001b[1;33m(\u001b[0m\u001b[0mcc\u001b[0m\u001b[1;33m,\u001b[0m \u001b[0malpha\u001b[0m\u001b[1;33m)\u001b[0m \u001b[1;32mfor\u001b[0m \u001b[0mcc\u001b[0m \u001b[1;32min\u001b[0m \u001b[0mc\u001b[0m\u001b[1;33m]\u001b[0m\u001b[1;33m)\u001b[0m\u001b[1;33m\u001b[0m\u001b[1;33m\u001b[0m\u001b[0m\n\u001b[0m\u001b[0;32m    342\u001b[0m \u001b[1;33m\u001b[0m\u001b[0m\n",
      "\u001b[1;32m~\\miniconda3\\lib\\site-packages\\matplotlib\\colors.py\u001b[0m in \u001b[0;36mto_rgba\u001b[1;34m(c, alpha)\u001b[0m\n\u001b[0;32m    188\u001b[0m     \u001b[1;32mif\u001b[0m \u001b[0mrgba\u001b[0m \u001b[1;32mis\u001b[0m \u001b[1;32mNone\u001b[0m\u001b[1;33m:\u001b[0m  \u001b[1;31m# Suppress exception chaining of cache lookup failure.\u001b[0m\u001b[1;33m\u001b[0m\u001b[1;33m\u001b[0m\u001b[0m\n\u001b[1;32m--> 189\u001b[1;33m         \u001b[0mrgba\u001b[0m \u001b[1;33m=\u001b[0m \u001b[0m_to_rgba_no_colorcycle\u001b[0m\u001b[1;33m(\u001b[0m\u001b[0mc\u001b[0m\u001b[1;33m,\u001b[0m \u001b[0malpha\u001b[0m\u001b[1;33m)\u001b[0m\u001b[1;33m\u001b[0m\u001b[1;33m\u001b[0m\u001b[0m\n\u001b[0m\u001b[0;32m    190\u001b[0m         \u001b[1;32mtry\u001b[0m\u001b[1;33m:\u001b[0m\u001b[1;33m\u001b[0m\u001b[1;33m\u001b[0m\u001b[0m\n",
      "\u001b[1;32m~\\miniconda3\\lib\\site-packages\\matplotlib\\colors.py\u001b[0m in \u001b[0;36m_to_rgba_no_colorcycle\u001b[1;34m(c, alpha)\u001b[0m\n\u001b[0;32m    262\u001b[0m     \u001b[1;32mif\u001b[0m \u001b[1;32mnot\u001b[0m \u001b[0mnp\u001b[0m\u001b[1;33m.\u001b[0m\u001b[0miterable\u001b[0m\u001b[1;33m(\u001b[0m\u001b[0mc\u001b[0m\u001b[1;33m)\u001b[0m\u001b[1;33m:\u001b[0m\u001b[1;33m\u001b[0m\u001b[1;33m\u001b[0m\u001b[0m\n\u001b[1;32m--> 263\u001b[1;33m         \u001b[1;32mraise\u001b[0m \u001b[0mValueError\u001b[0m\u001b[1;33m(\u001b[0m\u001b[1;34mf\"Invalid RGBA argument: {orig_c!r}\"\u001b[0m\u001b[1;33m)\u001b[0m\u001b[1;33m\u001b[0m\u001b[1;33m\u001b[0m\u001b[0m\n\u001b[0m\u001b[0;32m    264\u001b[0m     \u001b[1;32mif\u001b[0m \u001b[0mlen\u001b[0m\u001b[1;33m(\u001b[0m\u001b[0mc\u001b[0m\u001b[1;33m)\u001b[0m \u001b[1;32mnot\u001b[0m \u001b[1;32min\u001b[0m \u001b[1;33m[\u001b[0m\u001b[1;36m3\u001b[0m\u001b[1;33m,\u001b[0m \u001b[1;36m4\u001b[0m\u001b[1;33m]\u001b[0m\u001b[1;33m:\u001b[0m\u001b[1;33m\u001b[0m\u001b[1;33m\u001b[0m\u001b[0m\n",
      "\u001b[1;31mValueError\u001b[0m: Invalid RGBA argument: 0.34632445041730814",
      "\nThe above exception was the direct cause of the following exception:\n",
      "\u001b[1;31mValueError\u001b[0m                                Traceback (most recent call last)",
      "\u001b[1;32m<ipython-input-56-e757c56cd52d>\u001b[0m in \u001b[0;36m<module>\u001b[1;34m\u001b[0m\n\u001b[0;32m     17\u001b[0m     \u001b[0mplt\u001b[0m\u001b[1;33m.\u001b[0m\u001b[0mshow\u001b[0m\u001b[1;33m(\u001b[0m\u001b[1;33m)\u001b[0m\u001b[1;33m\u001b[0m\u001b[1;33m\u001b[0m\u001b[0m\n\u001b[0;32m     18\u001b[0m \u001b[1;33m\u001b[0m\u001b[0m\n\u001b[1;32m---> 19\u001b[1;33m \u001b[0mplot_model_prediction\u001b[0m\u001b[1;33m(\u001b[0m\u001b[1;32mlambda\u001b[0m \u001b[0mx\u001b[0m\u001b[1;33m:\u001b[0m \u001b[0mmodel\u001b[0m\u001b[1;33m.\u001b[0m\u001b[0mforward\u001b[0m\u001b[1;33m(\u001b[0m\u001b[0mx\u001b[0m\u001b[1;33m)\u001b[0m\u001b[1;33m,\u001b[0m \u001b[0mX_train\u001b[0m\u001b[1;33m,\u001b[0m \u001b[0mY_train\u001b[0m\u001b[1;33m,\u001b[0m \u001b[1;32mFalse\u001b[0m\u001b[1;33m)\u001b[0m\u001b[1;33m\u001b[0m\u001b[1;33m\u001b[0m\u001b[0m\n\u001b[0m\u001b[0;32m     20\u001b[0m \u001b[1;33m\u001b[0m\u001b[0m\n\u001b[0;32m     21\u001b[0m \u001b[0mplot_model_prediction\u001b[0m\u001b[1;33m(\u001b[0m\u001b[1;32mlambda\u001b[0m \u001b[0mx\u001b[0m\u001b[1;33m:\u001b[0m \u001b[0mmodel\u001b[0m\u001b[1;33m.\u001b[0m\u001b[0mforward\u001b[0m\u001b[1;33m(\u001b[0m\u001b[0mx\u001b[0m\u001b[1;33m)\u001b[0m\u001b[1;33m,\u001b[0m \u001b[0mX_train\u001b[0m\u001b[1;33m,\u001b[0m \u001b[0mY_train\u001b[0m\u001b[1;33m,\u001b[0m \u001b[1;32mTrue\u001b[0m\u001b[1;33m)\u001b[0m\u001b[1;33m\u001b[0m\u001b[1;33m\u001b[0m\u001b[0m\n",
      "\u001b[1;32m<ipython-input-56-e757c56cd52d>\u001b[0m in \u001b[0;36mplot_model_prediction\u001b[1;34m(prediction_func, X, Y, hard)\u001b[0m\n\u001b[0;32m     10\u001b[0m     \u001b[1;32mif\u001b[0m \u001b[0mhard\u001b[0m\u001b[1;33m:\u001b[0m\u001b[1;33m\u001b[0m\u001b[1;33m\u001b[0m\u001b[0m\n\u001b[0;32m     11\u001b[0m         \u001b[0mc\u001b[0m \u001b[1;33m=\u001b[0m \u001b[0mc\u001b[0m \u001b[1;33m>\u001b[0m \u001b[1;36m0.5\u001b[0m\u001b[1;33m\u001b[0m\u001b[1;33m\u001b[0m\u001b[0m\n\u001b[1;32m---> 12\u001b[1;33m     \u001b[0mplt\u001b[0m\u001b[1;33m.\u001b[0m\u001b[0mscatter\u001b[0m\u001b[1;33m(\u001b[0m\u001b[0mUV\u001b[0m\u001b[1;33m[\u001b[0m\u001b[1;33m:\u001b[0m\u001b[1;33m,\u001b[0m\u001b[1;36m0\u001b[0m\u001b[1;33m]\u001b[0m\u001b[1;33m,\u001b[0m \u001b[0mUV\u001b[0m\u001b[1;33m[\u001b[0m\u001b[1;33m:\u001b[0m\u001b[1;33m,\u001b[0m\u001b[1;36m1\u001b[0m\u001b[1;33m]\u001b[0m\u001b[1;33m,\u001b[0m \u001b[0mc\u001b[0m\u001b[1;33m=\u001b[0m\u001b[0mc\u001b[0m\u001b[1;33m,\u001b[0m \u001b[0medgecolors\u001b[0m\u001b[1;33m=\u001b[0m \u001b[1;34m'none'\u001b[0m\u001b[1;33m,\u001b[0m \u001b[0malpha\u001b[0m\u001b[1;33m=\u001b[0m\u001b[1;36m0.15\u001b[0m\u001b[1;33m)\u001b[0m\u001b[1;33m\u001b[0m\u001b[1;33m\u001b[0m\u001b[0m\n\u001b[0m\u001b[0;32m     13\u001b[0m     \u001b[0mplt\u001b[0m\u001b[1;33m.\u001b[0m\u001b[0mscatter\u001b[0m\u001b[1;33m(\u001b[0m\u001b[0mX\u001b[0m\u001b[1;33m[\u001b[0m\u001b[1;33m:\u001b[0m\u001b[1;33m,\u001b[0m\u001b[1;36m0\u001b[0m\u001b[1;33m]\u001b[0m\u001b[1;33m,\u001b[0m \u001b[0mX\u001b[0m\u001b[1;33m[\u001b[0m\u001b[1;33m:\u001b[0m\u001b[1;33m,\u001b[0m\u001b[1;36m1\u001b[0m\u001b[1;33m]\u001b[0m\u001b[1;33m,\u001b[0m \u001b[0mc\u001b[0m\u001b[1;33m=\u001b[0m\u001b[0mY\u001b[0m\u001b[1;33m.\u001b[0m\u001b[0mravel\u001b[0m\u001b[1;33m(\u001b[0m\u001b[1;33m)\u001b[0m\u001b[1;33m,\u001b[0m \u001b[0medgecolors\u001b[0m\u001b[1;33m=\u001b[0m \u001b[1;34m'black'\u001b[0m\u001b[1;33m)\u001b[0m\u001b[1;33m\u001b[0m\u001b[1;33m\u001b[0m\u001b[0m\n\u001b[0;32m     14\u001b[0m     \u001b[0mplt\u001b[0m\u001b[1;33m.\u001b[0m\u001b[0mxlim\u001b[0m\u001b[1;33m(\u001b[0m\u001b[0mleft\u001b[0m\u001b[1;33m=\u001b[0m\u001b[0mu_min\u001b[0m\u001b[1;33m,\u001b[0m \u001b[0mright\u001b[0m\u001b[1;33m=\u001b[0m\u001b[0mu_max\u001b[0m\u001b[1;33m)\u001b[0m\u001b[1;33m\u001b[0m\u001b[1;33m\u001b[0m\u001b[0m\n",
      "\u001b[1;32m~\\miniconda3\\lib\\site-packages\\matplotlib\\pyplot.py\u001b[0m in \u001b[0;36mscatter\u001b[1;34m(x, y, s, c, marker, cmap, norm, vmin, vmax, alpha, linewidths, verts, edgecolors, plotnonfinite, data, **kwargs)\u001b[0m\n\u001b[0;32m   2888\u001b[0m         \u001b[0mverts\u001b[0m\u001b[1;33m=\u001b[0m\u001b[0mcbook\u001b[0m\u001b[1;33m.\u001b[0m\u001b[0mdeprecation\u001b[0m\u001b[1;33m.\u001b[0m\u001b[0m_deprecated_parameter\u001b[0m\u001b[1;33m,\u001b[0m\u001b[1;33m\u001b[0m\u001b[1;33m\u001b[0m\u001b[0m\n\u001b[0;32m   2889\u001b[0m         edgecolors=None, *, plotnonfinite=False, data=None, **kwargs):\n\u001b[1;32m-> 2890\u001b[1;33m     __ret = gca().scatter(\n\u001b[0m\u001b[0;32m   2891\u001b[0m         \u001b[0mx\u001b[0m\u001b[1;33m,\u001b[0m \u001b[0my\u001b[0m\u001b[1;33m,\u001b[0m \u001b[0ms\u001b[0m\u001b[1;33m=\u001b[0m\u001b[0ms\u001b[0m\u001b[1;33m,\u001b[0m \u001b[0mc\u001b[0m\u001b[1;33m=\u001b[0m\u001b[0mc\u001b[0m\u001b[1;33m,\u001b[0m \u001b[0mmarker\u001b[0m\u001b[1;33m=\u001b[0m\u001b[0mmarker\u001b[0m\u001b[1;33m,\u001b[0m \u001b[0mcmap\u001b[0m\u001b[1;33m=\u001b[0m\u001b[0mcmap\u001b[0m\u001b[1;33m,\u001b[0m \u001b[0mnorm\u001b[0m\u001b[1;33m=\u001b[0m\u001b[0mnorm\u001b[0m\u001b[1;33m,\u001b[0m\u001b[1;33m\u001b[0m\u001b[1;33m\u001b[0m\u001b[0m\n\u001b[0;32m   2892\u001b[0m         \u001b[0mvmin\u001b[0m\u001b[1;33m=\u001b[0m\u001b[0mvmin\u001b[0m\u001b[1;33m,\u001b[0m \u001b[0mvmax\u001b[0m\u001b[1;33m=\u001b[0m\u001b[0mvmax\u001b[0m\u001b[1;33m,\u001b[0m \u001b[0malpha\u001b[0m\u001b[1;33m=\u001b[0m\u001b[0malpha\u001b[0m\u001b[1;33m,\u001b[0m \u001b[0mlinewidths\u001b[0m\u001b[1;33m=\u001b[0m\u001b[0mlinewidths\u001b[0m\u001b[1;33m,\u001b[0m\u001b[1;33m\u001b[0m\u001b[1;33m\u001b[0m\u001b[0m\n",
      "\u001b[1;32m~\\miniconda3\\lib\\site-packages\\matplotlib\\__init__.py\u001b[0m in \u001b[0;36minner\u001b[1;34m(ax, data, *args, **kwargs)\u001b[0m\n\u001b[0;32m   1436\u001b[0m     \u001b[1;32mdef\u001b[0m \u001b[0minner\u001b[0m\u001b[1;33m(\u001b[0m\u001b[0max\u001b[0m\u001b[1;33m,\u001b[0m \u001b[1;33m*\u001b[0m\u001b[0margs\u001b[0m\u001b[1;33m,\u001b[0m \u001b[0mdata\u001b[0m\u001b[1;33m=\u001b[0m\u001b[1;32mNone\u001b[0m\u001b[1;33m,\u001b[0m \u001b[1;33m**\u001b[0m\u001b[0mkwargs\u001b[0m\u001b[1;33m)\u001b[0m\u001b[1;33m:\u001b[0m\u001b[1;33m\u001b[0m\u001b[1;33m\u001b[0m\u001b[0m\n\u001b[0;32m   1437\u001b[0m         \u001b[1;32mif\u001b[0m \u001b[0mdata\u001b[0m \u001b[1;32mis\u001b[0m \u001b[1;32mNone\u001b[0m\u001b[1;33m:\u001b[0m\u001b[1;33m\u001b[0m\u001b[1;33m\u001b[0m\u001b[0m\n\u001b[1;32m-> 1438\u001b[1;33m             \u001b[1;32mreturn\u001b[0m \u001b[0mfunc\u001b[0m\u001b[1;33m(\u001b[0m\u001b[0max\u001b[0m\u001b[1;33m,\u001b[0m \u001b[1;33m*\u001b[0m\u001b[0mmap\u001b[0m\u001b[1;33m(\u001b[0m\u001b[0msanitize_sequence\u001b[0m\u001b[1;33m,\u001b[0m \u001b[0margs\u001b[0m\u001b[1;33m)\u001b[0m\u001b[1;33m,\u001b[0m \u001b[1;33m**\u001b[0m\u001b[0mkwargs\u001b[0m\u001b[1;33m)\u001b[0m\u001b[1;33m\u001b[0m\u001b[1;33m\u001b[0m\u001b[0m\n\u001b[0m\u001b[0;32m   1439\u001b[0m \u001b[1;33m\u001b[0m\u001b[0m\n\u001b[0;32m   1440\u001b[0m         \u001b[0mbound\u001b[0m \u001b[1;33m=\u001b[0m \u001b[0mnew_sig\u001b[0m\u001b[1;33m.\u001b[0m\u001b[0mbind\u001b[0m\u001b[1;33m(\u001b[0m\u001b[0max\u001b[0m\u001b[1;33m,\u001b[0m \u001b[1;33m*\u001b[0m\u001b[0margs\u001b[0m\u001b[1;33m,\u001b[0m \u001b[1;33m**\u001b[0m\u001b[0mkwargs\u001b[0m\u001b[1;33m)\u001b[0m\u001b[1;33m\u001b[0m\u001b[1;33m\u001b[0m\u001b[0m\n",
      "\u001b[1;32m~\\miniconda3\\lib\\site-packages\\matplotlib\\cbook\\deprecation.py\u001b[0m in \u001b[0;36mwrapper\u001b[1;34m(*inner_args, **inner_kwargs)\u001b[0m\n\u001b[0;32m    409\u001b[0m                          \u001b[1;32melse\u001b[0m \u001b[0mdeprecation_addendum\u001b[0m\u001b[1;33m,\u001b[0m\u001b[1;33m\u001b[0m\u001b[1;33m\u001b[0m\u001b[0m\n\u001b[0;32m    410\u001b[0m                 **kwargs)\n\u001b[1;32m--> 411\u001b[1;33m         \u001b[1;32mreturn\u001b[0m \u001b[0mfunc\u001b[0m\u001b[1;33m(\u001b[0m\u001b[1;33m*\u001b[0m\u001b[0minner_args\u001b[0m\u001b[1;33m,\u001b[0m \u001b[1;33m**\u001b[0m\u001b[0minner_kwargs\u001b[0m\u001b[1;33m)\u001b[0m\u001b[1;33m\u001b[0m\u001b[1;33m\u001b[0m\u001b[0m\n\u001b[0m\u001b[0;32m    412\u001b[0m \u001b[1;33m\u001b[0m\u001b[0m\n\u001b[0;32m    413\u001b[0m     \u001b[1;32mreturn\u001b[0m \u001b[0mwrapper\u001b[0m\u001b[1;33m\u001b[0m\u001b[1;33m\u001b[0m\u001b[0m\n",
      "\u001b[1;32m~\\miniconda3\\lib\\site-packages\\matplotlib\\axes\\_axes.py\u001b[0m in \u001b[0;36mscatter\u001b[1;34m(self, x, y, s, c, marker, cmap, norm, vmin, vmax, alpha, linewidths, verts, edgecolors, plotnonfinite, **kwargs)\u001b[0m\n\u001b[0;32m   4449\u001b[0m \u001b[1;33m\u001b[0m\u001b[0m\n\u001b[0;32m   4450\u001b[0m         \u001b[0mc\u001b[0m\u001b[1;33m,\u001b[0m \u001b[0mcolors\u001b[0m\u001b[1;33m,\u001b[0m \u001b[0medgecolors\u001b[0m \u001b[1;33m=\u001b[0m\u001b[0;31m \u001b[0m\u001b[0;31m\\\u001b[0m\u001b[1;33m\u001b[0m\u001b[1;33m\u001b[0m\u001b[0m\n\u001b[1;32m-> 4451\u001b[1;33m             self._parse_scatter_color_args(\n\u001b[0m\u001b[0;32m   4452\u001b[0m                 \u001b[0mc\u001b[0m\u001b[1;33m,\u001b[0m \u001b[0medgecolors\u001b[0m\u001b[1;33m,\u001b[0m \u001b[0mkwargs\u001b[0m\u001b[1;33m,\u001b[0m \u001b[0mx\u001b[0m\u001b[1;33m.\u001b[0m\u001b[0msize\u001b[0m\u001b[1;33m,\u001b[0m\u001b[1;33m\u001b[0m\u001b[1;33m\u001b[0m\u001b[0m\n\u001b[0;32m   4453\u001b[0m                 get_next_color_func=self._get_patches_for_fill.get_next_color)\n",
      "\u001b[1;32m~\\miniconda3\\lib\\site-packages\\matplotlib\\axes\\_axes.py\u001b[0m in \u001b[0;36m_parse_scatter_color_args\u001b[1;34m(c, edgecolors, kwargs, xsize, get_next_color_func)\u001b[0m\n\u001b[0;32m   4295\u001b[0m                 \u001b[1;32melse\u001b[0m\u001b[1;33m:\u001b[0m\u001b[1;33m\u001b[0m\u001b[1;33m\u001b[0m\u001b[0m\n\u001b[0;32m   4296\u001b[0m                     \u001b[1;32mif\u001b[0m \u001b[1;32mnot\u001b[0m \u001b[0mvalid_shape\u001b[0m\u001b[1;33m:\u001b[0m\u001b[1;33m\u001b[0m\u001b[1;33m\u001b[0m\u001b[0m\n\u001b[1;32m-> 4297\u001b[1;33m                         \u001b[1;32mraise\u001b[0m \u001b[0minvalid_shape_exception\u001b[0m\u001b[1;33m(\u001b[0m\u001b[0mc\u001b[0m\u001b[1;33m.\u001b[0m\u001b[0msize\u001b[0m\u001b[1;33m,\u001b[0m \u001b[0mxsize\u001b[0m\u001b[1;33m)\u001b[0m \u001b[1;32mfrom\u001b[0m \u001b[0merr\u001b[0m\u001b[1;33m\u001b[0m\u001b[1;33m\u001b[0m\u001b[0m\n\u001b[0m\u001b[0;32m   4298\u001b[0m                     \u001b[1;31m# Both the mapping *and* the RGBA conversion failed: pretty\u001b[0m\u001b[1;33m\u001b[0m\u001b[1;33m\u001b[0m\u001b[1;33m\u001b[0m\u001b[0m\n\u001b[0;32m   4299\u001b[0m                     \u001b[1;31m# severe failure => one may appreciate a verbose feedback.\u001b[0m\u001b[1;33m\u001b[0m\u001b[1;33m\u001b[0m\u001b[1;33m\u001b[0m\u001b[0m\n",
      "\u001b[1;31mValueError\u001b[0m: 'c' argument has 1400000 elements, which is inconsistent with 'x' and 'y' with size 10000."
     ]
    }
   ],
   "source": [
    "def plot_model_prediction(prediction_func, X, Y, hard=True):\n",
    "    u_min = X[:, 0].min()-1\n",
    "    u_max = X[:, 0].max()+1\n",
    "    v_min = X[:, 1].min()-1\n",
    "    v_max = X[:, 1].max()+1\n",
    "\n",
    "    U, V = np.meshgrid(np.linspace(u_min, u_max, 100), np.linspace(v_min, v_max, 100))\n",
    "    UV = np.stack([U.ravel(), V.ravel()]).T\n",
    "    c = prediction_func(UV).ravel()\n",
    "    if hard:\n",
    "        c = c > 0.5\n",
    "    plt.scatter(UV[:,0], UV[:,1], c=c, edgecolors= 'none', alpha=0.15)\n",
    "    plt.scatter(X[:,0], X[:,1], c=Y.ravel(), edgecolors= 'black')\n",
    "    plt.xlim(left=u_min, right=u_max)\n",
    "    plt.ylim(bottom=v_min, top=v_max)\n",
    "    plt.axes().set_aspect('equal')\n",
    "    plt.show()\n",
    "    \n",
    "plot_model_prediction(lambda x: model.forward(x), X_train, Y_train, False)\n",
    "\n",
    "plot_model_prediction(lambda x: model.forward(x), X_train, Y_train, True)"
   ]
  },
  {
   "cell_type": "code",
   "execution_count": null,
   "metadata": {},
   "outputs": [],
   "source": [
    "# Now run the same experiment on 2 circles"
   ]
  },
  {
   "cell_type": "markdown",
   "metadata": {},
   "source": [
    "# 2. Decision Tree\n",
    "The next model we look at is called **Decision Tree**. This type of model is non-parametric, meaning in contrast to **Logistic Regression** we do not have any parameters here that need to be trained.\n",
    "\n",
    "Let us consider a simple binary decision tree for deciding on the two classes of \"creditable\" and \"Not creditable\".\n",
    "\n",
    "![](images/creditdecisiontree.png)\n",
    "\n",
    "Each node, except the leafs, asks a question about the the client in question. A decision is made by going from the root node to a leaf node, while considering the clients situation. The situation of the client, in this case, is fully described by the features:\n",
    "1. Checking account balance\n",
    "2. Duration of requested credit\n",
    "3. Payment status of previous loan\n",
    "4. Length of current employment"
   ]
  },
  {
   "cell_type": "markdown",
   "metadata": {},
   "source": [
    "In order to build a decision tree we need training data. To carry on the previous example: we need a number of clients for which we know the properties 1.-4. and their creditability.\n",
    "The process of building a decision tree starts with the root node and involves the following steps:\n",
    "1. Choose a splitting criteria and add it to the current node.\n",
    "2. Split the dataset at the current node into those that fullfil the criteria and those that do not.\n",
    "3. Add a child node for each data split.\n",
    "4. For each child node decide on either A. or B.:\n",
    "    1. Repeat from 1. step\n",
    "    2. Make it a leaf node: The predicted class label is decided by the majority vote over the training data in the current split."
   ]
  },
  {
   "cell_type": "markdown",
   "metadata": {},
   "source": [
    "## 2.1 Gini Index & Data Split\n",
    "Deciding on how to split your training data at each node is dominated by the following two criterias:\n",
    "1. Does the rule help me make a final decision?\n",
    "2. Is the rule general enough such that it applies not only to my training data, but also to new unseen examples?\n",
    "\n",
    "When considering our previous example, splitting the clients by their handedness would not help us deciding on their creditability. Knowning if a rule will generalize is usually a hard call to make, but in practice we rely on [Occam's razor](https://en.wikipedia.org/wiki/Occam%27s_razor) principle. Thus the less rules we use, the better we believe it to generalize to previously unseen examples.\n",
    "\n",
    "One way to measure the quality of a rule is by the [**Gini Index**](https://en.wikipedia.org/wiki/Gini_coefficient).\n",
    "Since we only consider binary classification, it is calculated by:\n",
    "$$\n",
    "Gini = \\sum_{n\\in\\{L,R\\}}\\frac{|S_n|}{|S|}\\left( 1 - \\sum_{c \\in C} p_{S_n}(c)^2\\right)\\\\\n",
    "p_{S_n}(c) = \\frac{|\\{\\mathbf{x}_{i}\\in \\mathbf{X}|y_{i} = c, i \\in S_n\\}|}{|S_n|}, n \\in \\{L, R\\}\n",
    "$$\n",
    "with $|C|=2$ being your set of class labels and $S_L$ and $S_R$ the two splits determined by the splitting criteria.\n",
    "While we only consider two class problems for decision trees, the method can also be applied when $|C|>2$.\n",
    "The lower the gini score, the better the split. In the extreme case, where all class labels are the same in each split respectively, the gini index takes the value of $0$."
   ]
  },
  {
   "cell_type": "code",
   "execution_count": 23,
   "metadata": {},
   "outputs": [],
   "source": [
    "def tree_gini_index(Y_left, Y_right, classes):\n",
    "    \"\"\"Compute the Gini Index.\n",
    "    # Arguments\n",
    "        Y_left: class labels of the data left set\n",
    "            np.array of size `(n_objects, 1)`\n",
    "        Y_right: class labels of the data right set\n",
    "            np.array of size `(n_objects, 1)`\n",
    "        classes: list of all class values\n",
    "    # Output\n",
    "        gini: scalar `float`\n",
    "    \"\"\"\n",
    "    gini = 0.0\n",
    "    prprR = 0.0\n",
    "    prprL = 0.0\n",
    "    YR_size = len(Y_right)\n",
    "    YL_size = len(Y_left)\n",
    "    N_Instances = float(YR_size + YL_size)\n",
    "    \n",
    "    for clss in classes:\n",
    "        prprR += np.square((Y_right == clss).sum()/YR_size)\n",
    "        prprL += np.square((Y_left == clss).sum()/YL_size)\n",
    "    gine_right = (1.0 - prprR) * (YR_size / N_Instances)\n",
    "    gine_left = (1.0 - prprL) * (YL_size / N_Instances)\n",
    "    gini = gine_right + gine_left\n",
    "\n",
    "    # # Christian\n",
    "    # n_instances = float(Y_left.shape[0] + Y_right.shape[0])\n",
    "    # # sum weighted Gini index for each group\n",
    "    # for Y in [Y_left, Y_right]:\n",
    "    #     size = float(Y.shape[0])\n",
    "    #     # avoid divide by zero\n",
    "    #     if size == 0:\n",
    "    #         continue\n",
    "    #     score = 0.0\n",
    "    #     # score the group based on the score for each class\n",
    "    #     for class_val in classes:\n",
    "    #         p = np.count_nonzero(Y == class_val) / size\n",
    "    #         score += p * p\n",
    "    #     # weight the group score by its relative size\n",
    "    #     gini += (1.0 - score) * (size / n_instances)\n",
    "    # return gini\n",
    "\n",
    "\n",
    "\n",
    "    return gini"
   ]
  },
  {
   "cell_type": "code",
   "execution_count": 24,
   "metadata": {},
   "outputs": [
    {
     "output_type": "stream",
     "name": "stdout",
     "text": [
      "Running local tests...\n",
      "tree_gini_index successfully passed local tests\n",
      "Running remote test...\n",
      "Test was successful. Congratulations!\n"
     ]
    }
   ],
   "source": [
    "am.test_student_function(username, tree_gini_index, ['Y_left', 'Y_right', 'classes'])"
   ]
  },
  {
   "cell_type": "markdown",
   "metadata": {},
   "source": [
    "At each node in the tree, the data is split according to a split criterion and each split is passed onto the left/right child respectively.\n",
    "Implement the following function to return all rows in `X` and `Y` such that the left child gets all examples that are less than the split value and vice versa. "
   ]
  },
  {
   "cell_type": "code",
   "execution_count": 16,
   "metadata": {},
   "outputs": [],
   "source": [
    "def tree_split_data_left(X, Y, feature_index, split_value):\n",
    "    \"\"\"Split the data `X` and `Y`, at the feature indexed by `feature_index`.\n",
    "    If the value is less than `split_value` then return it as part of the left group.\n",
    "    \n",
    "    # Arguments\n",
    "        X: np.array of size `(n_objects, n_in)`\n",
    "        Y: np.array of size `(n_objects, 1)`\n",
    "        feature_index: index of the feature to split at \n",
    "        split_value: value to split between\n",
    "    # Output\n",
    "        (XY_left): np.array of size `(n_objects_left, n_in + 1)`\n",
    "    \"\"\"\n",
    "    X_left, Y_left = None, None\n",
    "    \n",
    "    left_ind = X[:, feature_index] < split_value\n",
    "    X_left = X[left_ind]\n",
    "    Y_left = Y[left_ind]\n",
    "    XY_left = np.concatenate([X_left, Y_left], axis=-1)\n",
    "    \n",
    "\n",
    "    \n",
    "    return XY_left\n",
    "\n",
    "\n",
    "def tree_split_data_right(X, Y, feature_index, split_value):\n",
    "    \"\"\"Split the data `X` and `Y`, at the feature indexed by `feature_index`.\n",
    "    If the value is greater or equal than `split_value` then return it as part of the right group.\n",
    "    \n",
    "    # Arguments\n",
    "        X: np.array of size `(n_objects, n_in)`\n",
    "        Y: np.array of size `(n_objects, 1)`\n",
    "        feature_index: index of the feature to split at\n",
    "        split_value: value to split between\n",
    "    # Output\n",
    "        (XY_left): np.array of size `(n_objects_left, n_in + 1)`\n",
    "    \"\"\"\n",
    "    \n",
    "    X_right, Y_right = np.empty((0,2)), np.empty((0,1))\n",
    "    \n",
    "    for i in range(len(X)):\n",
    "        if X[i,feature_index] >= split_value:\n",
    "           \n",
    "            X_right = np.append(X_right, [X[i,:]], axis=0)\n",
    "            \n",
    "            Y_right = np.append(Y_right, Y[i])\n",
    "            \n",
    "    \n",
    "    Y_right = Y_right.reshape([len(Y_right),-1])\n",
    "    \n",
    "\n",
    "    XY_right = np.concatenate([X_right, Y_right], axis=-1)\n",
    "    \n",
    "    return XY_right"
   ]
  },
  {
   "cell_type": "code",
   "execution_count": 18,
   "metadata": {
    "tags": []
   },
   "outputs": [
    {
     "output_type": "stream",
     "name": "stdout",
     "text": [
      "Running local tests...\n",
      "tree_split_data_left successfully passed local tests\n",
      "Running remote test...\n",
      "Test was successful. Congratulations!\n"
     ]
    }
   ],
   "source": [
    "am.test_student_function(username, tree_split_data_left, ['X', 'Y', 'feature_index', 'split_value'])"
   ]
  },
  {
   "cell_type": "code",
   "execution_count": 305,
   "metadata": {},
   "outputs": [
    {
     "output_type": "stream",
     "name": "stdout",
     "text": [
      "Running local tests...\n",
      "tree_split_data_right successfully passed local tests\n",
      "Running remote test...\n",
      "Test was successful. Congratulations!\n"
     ]
    }
   ],
   "source": [
    "am.test_student_function(username, tree_split_data_right, ['X', 'Y', 'feature_index', 'split_value'])"
   ]
  },
  {
   "cell_type": "code",
   "execution_count": 27,
   "metadata": {},
   "outputs": [
    {
     "output_type": "stream",
     "name": "stdout",
     "text": [
      "---------------------------------------------\n| Pericles Cataldi Beirao                   |\n| pericles.cataldi.beirao@student.uva.nl    |\n---------------------------------------------\n| linear_forward           | completed      |\n| linear_grad_W            | completed      |\n| linear_grad_b            | completed      |\n| nll_forward              | completed      |\n| nll_grad_input           | completed      |\n| sigmoid_forward          | completed      |\n| sigmoid_grad_input       | completed      |\n| tree_gini_index          | completed      |\n| tree_split_data_left     | completed      |\n| tree_split_data_right    | completed      |\n| tree_to_terminal         | completed      |\n---------------------------------------------\n"
     ]
    }
   ],
   "source": [
    "am.get_progress(username)"
   ]
  },
  {
   "cell_type": "markdown",
   "metadata": {},
   "source": [
    "Now to find the split rule with the lowest gini score, we brute-force search over all features and values to split by."
   ]
  },
  {
   "cell_type": "code",
   "execution_count": 307,
   "metadata": {},
   "outputs": [],
   "source": [
    "def tree_best_split(X, Y):\n",
    "    class_values = list(set(Y.flatten().tolist()))\n",
    "    r_index, r_value, r_score =  float(\"inf\"),  float(\"inf\"), float(\"inf\")\n",
    "    r_XY_left, r_XY_right = (X,Y), (X,Y)\n",
    "    for feature_index in range(X.shape[1]):\n",
    "        for row in X:\n",
    "            XY_left = tree_split_data_left(X, Y, feature_index, row[feature_index])\n",
    "            XY_right = tree_split_data_right(X, Y, feature_index, row[feature_index])\n",
    "            XY_left, XY_right = (XY_left[:,:-1], XY_left[:,-1:]), (XY_right[:,:-1], XY_right[:,-1:])\n",
    "            gini = tree_gini_index(XY_left[1], XY_right[1], class_values)\n",
    "            if gini < r_score:\n",
    "                r_index, r_value, r_score = feature_index, row[feature_index], gini\n",
    "                r_XY_left, r_XY_right = XY_left, XY_right\n",
    "    return {'index':r_index, 'value':r_value, 'XY_left': r_XY_left, 'XY_right':r_XY_right}"
   ]
  },
  {
   "cell_type": "markdown",
   "metadata": {},
   "source": [
    "## 2.2 Terminal Node\n",
    "The leaf nodes predict the label of an unseen example, by taking a majority vote over all training class labels in that node."
   ]
  },
  {
   "cell_type": "code",
   "execution_count": 25,
   "metadata": {},
   "outputs": [],
   "source": [
    "def tree_to_terminal(Y):\n",
    "    \"\"\"The most frequent class label, out of the data points belonging to the leaf node,\n",
    "    is selected as the predicted class.\n",
    "    \n",
    "    # Arguments\n",
    "        Y: np.array of size `(n_objects)`\n",
    "        \n",
    "    # Output\n",
    "        label: most frequent label of `Y.dtype`\n",
    "    \"\"\"\n",
    "    label = None\n",
    "    # Y.astype('float64')\n",
    "    \n",
    "    (values,counts) = np.unique(Y,return_counts=True)\n",
    "       \n",
    "\n",
    "    label= values[np.argmax(counts)]\n",
    "    \n",
    "    return label"
   ]
  },
  {
   "cell_type": "code",
   "execution_count": 26,
   "metadata": {},
   "outputs": [
    {
     "output_type": "stream",
     "name": "stdout",
     "text": [
      "Running local tests...\n",
      "tree_to_terminal successfully passed local tests\n",
      "Running remote test...\n",
      "Test was successful. Congratulations!\n"
     ]
    }
   ],
   "source": [
    "am.test_student_function(username, tree_to_terminal, ['Y'])"
   ]
  },
  {
   "cell_type": "code",
   "execution_count": 365,
   "metadata": {},
   "outputs": [
    {
     "output_type": "stream",
     "name": "stdout",
     "text": [
      "---------------------------------------------\n| Pericles Cataldi Beirao                   |\n| pericles.cataldi.beirao@student.uva.nl    |\n---------------------------------------------\n| linear_forward           | completed      |\n| linear_grad_W            | completed      |\n| linear_grad_b            | completed      |\n| nll_forward              | completed      |\n| nll_grad_input           | completed      |\n| sigmoid_forward          | completed      |\n| sigmoid_grad_input       | completed      |\n| tree_gini_index          | completed      |\n| tree_split_data_left     | completed      |\n| tree_split_data_right    | completed      |\n| tree_to_terminal         | completed      |\n---------------------------------------------\n"
     ]
    }
   ],
   "source": [
    "am.get_progress(username)"
   ]
  },
  {
   "cell_type": "markdown",
   "metadata": {},
   "source": [
    "## 2.3 Build the Decision Tree\n",
    "Now we recursively build the decision tree, by greedily splitting the data at each node according to the gini index.\n",
    "To prevent the model from overfitting, we transform a node into a terminal/leaf node, if:\n",
    "1. a maximum depth is reached.\n",
    "2. the node does not reach a minimum number of training samples.\n"
   ]
  },
  {
   "cell_type": "code",
   "execution_count": 366,
   "metadata": {},
   "outputs": [],
   "source": [
    "def tree_recursive_split(X, Y, node, max_depth, min_size, depth):\n",
    "    XY_left, XY_right = node['XY_left'], node['XY_right']\n",
    "    del(node['XY_left'])\n",
    "    del(node['XY_right'])\n",
    "    # check for a no split\n",
    "    if XY_left[0].size <= 0 or XY_right[0].size <= 0:\n",
    "        node['left_child'] = node['right_child'] = tree_to_terminal(np.concatenate((XY_left[1], XY_right[1])))\n",
    "        return\n",
    "    # check for max depth\n",
    "    if depth >= max_depth:\n",
    "        node['left_child'], node['right_child'] = tree_to_terminal(XY_left[1]), tree_to_terminal(XY_right[1])\n",
    "        return\n",
    "    # process left child\n",
    "    if XY_left[0].shape[0] <= min_size:\n",
    "        node['left_child'] = tree_to_terminal(XY_left[1])\n",
    "    else:\n",
    "        node['left_child'] = tree_best_split(*XY_left)\n",
    "        tree_recursive_split(X, Y, node['left_child'], max_depth, min_size, depth+1)\n",
    "    # process right child\n",
    "    if XY_right[0].shape[0] <= min_size:\n",
    "        node['right_child'] = tree_to_terminal(XY_right[1])\n",
    "    else:\n",
    "        node['right_child'] = tree_best_split(*XY_right)\n",
    "        tree_recursive_split(X, Y, node['right_child'], max_depth, min_size, depth+1)\n",
    "\n",
    "\n",
    "def build_tree(X, Y, max_depth, min_size):\n",
    "    root = tree_best_split(X, Y)\n",
    "    tree_recursive_split(X, Y, root, max_depth, min_size, 1)\n",
    "    return root"
   ]
  },
  {
   "cell_type": "markdown",
   "metadata": {},
   "source": [
    "By printing the split criteria or the predicted class at each node, we can visualise the decising making process.\n",
    "Both the tree and a a prediction can be implemented recursively, by going from the root to a leaf node."
   ]
  },
  {
   "cell_type": "code",
   "execution_count": 367,
   "metadata": {},
   "outputs": [],
   "source": [
    "def print_tree(node, depth=0):\n",
    "    if isinstance(node, dict):\n",
    "        print('%s[X%d < %.3f]' % ((depth*' ', (node['index']+1), node['value'])))\n",
    "        print_tree(node['left_child'], depth+1)\n",
    "        print_tree(node['right_child'], depth+1)\n",
    "    else:\n",
    "        print('%s[%s]' % ((depth*' ', node)))\n",
    "        \n",
    "def tree_predict_single(x, node):\n",
    "    if isinstance(node, dict):\n",
    "        if x[node['index']] < node['value']:\n",
    "            return tree_predict_single(x, node['left_child'])\n",
    "        else:\n",
    "            return tree_predict_single(x, node['right_child'])\n",
    "        \n",
    "    return node\n",
    "\n",
    "def tree_predict_multi(X, node):\n",
    "    Y = np.array([tree_predict_single(row, node) for row in X])\n",
    "    return Y[:, None]  # size: (n_object,) -> (n_object, 1)"
   ]
  },
  {
   "cell_type": "markdown",
   "metadata": {},
   "source": [
    "Let's test our decision tree model on some toy data."
   ]
  },
  {
   "cell_type": "code",
   "execution_count": 368,
   "metadata": {
    "scrolled": false
   },
   "outputs": [
    {
     "output_type": "error",
     "ename": "ValueError",
     "evalue": "cannot reshape array of size 0 into shape (0,newaxis)",
     "traceback": [
      "\u001b[1;31m---------------------------------------------------------------------------\u001b[0m",
      "\u001b[1;31mValueError\u001b[0m                                Traceback (most recent call last)",
      "\u001b[1;32m<ipython-input-368-ab76176f9c80>\u001b[0m in \u001b[0;36m<module>\u001b[1;34m\u001b[0m\n\u001b[0;32m      1\u001b[0m \u001b[0mX_train\u001b[0m\u001b[1;33m,\u001b[0m \u001b[0mY_train\u001b[0m\u001b[1;33m,\u001b[0m \u001b[0mX_test\u001b[0m\u001b[1;33m,\u001b[0m \u001b[0mY_test\u001b[0m \u001b[1;33m=\u001b[0m \u001b[0msplit\u001b[0m\u001b[1;33m(\u001b[0m\u001b[1;33m*\u001b[0m\u001b[0mgenerate_2_circles\u001b[0m\u001b[1;33m(\u001b[0m\u001b[1;33m)\u001b[0m\u001b[1;33m,\u001b[0m \u001b[1;36m0.7\u001b[0m\u001b[1;33m)\u001b[0m\u001b[1;33m\u001b[0m\u001b[1;33m\u001b[0m\u001b[0m\n\u001b[0;32m      2\u001b[0m \u001b[1;33m\u001b[0m\u001b[0m\n\u001b[1;32m----> 3\u001b[1;33m \u001b[0mtree\u001b[0m \u001b[1;33m=\u001b[0m \u001b[0mbuild_tree\u001b[0m\u001b[1;33m(\u001b[0m\u001b[0mX_train\u001b[0m\u001b[1;33m,\u001b[0m \u001b[0mY_train\u001b[0m\u001b[1;33m,\u001b[0m \u001b[1;36m4\u001b[0m\u001b[1;33m,\u001b[0m \u001b[1;36m1\u001b[0m\u001b[1;33m)\u001b[0m\u001b[1;33m\u001b[0m\u001b[1;33m\u001b[0m\u001b[0m\n\u001b[0m\u001b[0;32m      4\u001b[0m \u001b[0mY_pred\u001b[0m \u001b[1;33m=\u001b[0m \u001b[0mtree_predict_multi\u001b[0m\u001b[1;33m(\u001b[0m\u001b[0mX_test\u001b[0m\u001b[1;33m,\u001b[0m \u001b[0mtree\u001b[0m\u001b[1;33m)\u001b[0m\u001b[1;33m\u001b[0m\u001b[1;33m\u001b[0m\u001b[0m\n\u001b[0;32m      5\u001b[0m \u001b[0mtest_accuracy\u001b[0m \u001b[1;33m=\u001b[0m \u001b[1;33m(\u001b[0m\u001b[0mY_pred\u001b[0m \u001b[1;33m==\u001b[0m \u001b[0mY_test\u001b[0m\u001b[1;33m)\u001b[0m\u001b[1;33m.\u001b[0m\u001b[0mmean\u001b[0m\u001b[1;33m(\u001b[0m\u001b[1;33m)\u001b[0m\u001b[1;33m\u001b[0m\u001b[1;33m\u001b[0m\u001b[0m\n",
      "\u001b[1;32m<ipython-input-366-fb998a9a5d69>\u001b[0m in \u001b[0;36mbuild_tree\u001b[1;34m(X, Y, max_depth, min_size)\u001b[0m\n\u001b[0;32m     26\u001b[0m \u001b[1;33m\u001b[0m\u001b[0m\n\u001b[0;32m     27\u001b[0m \u001b[1;32mdef\u001b[0m \u001b[0mbuild_tree\u001b[0m\u001b[1;33m(\u001b[0m\u001b[0mX\u001b[0m\u001b[1;33m,\u001b[0m \u001b[0mY\u001b[0m\u001b[1;33m,\u001b[0m \u001b[0mmax_depth\u001b[0m\u001b[1;33m,\u001b[0m \u001b[0mmin_size\u001b[0m\u001b[1;33m)\u001b[0m\u001b[1;33m:\u001b[0m\u001b[1;33m\u001b[0m\u001b[1;33m\u001b[0m\u001b[0m\n\u001b[1;32m---> 28\u001b[1;33m     \u001b[0mroot\u001b[0m \u001b[1;33m=\u001b[0m \u001b[0mtree_best_split\u001b[0m\u001b[1;33m(\u001b[0m\u001b[0mX\u001b[0m\u001b[1;33m,\u001b[0m \u001b[0mY\u001b[0m\u001b[1;33m)\u001b[0m\u001b[1;33m\u001b[0m\u001b[1;33m\u001b[0m\u001b[0m\n\u001b[0m\u001b[0;32m     29\u001b[0m     \u001b[0mtree_recursive_split\u001b[0m\u001b[1;33m(\u001b[0m\u001b[0mX\u001b[0m\u001b[1;33m,\u001b[0m \u001b[0mY\u001b[0m\u001b[1;33m,\u001b[0m \u001b[0mroot\u001b[0m\u001b[1;33m,\u001b[0m \u001b[0mmax_depth\u001b[0m\u001b[1;33m,\u001b[0m \u001b[0mmin_size\u001b[0m\u001b[1;33m,\u001b[0m \u001b[1;36m1\u001b[0m\u001b[1;33m)\u001b[0m\u001b[1;33m\u001b[0m\u001b[1;33m\u001b[0m\u001b[0m\n\u001b[0;32m     30\u001b[0m     \u001b[1;32mreturn\u001b[0m \u001b[0mroot\u001b[0m\u001b[1;33m\u001b[0m\u001b[1;33m\u001b[0m\u001b[0m\n",
      "\u001b[1;32m<ipython-input-307-5f626e54589f>\u001b[0m in \u001b[0;36mtree_best_split\u001b[1;34m(X, Y)\u001b[0m\n\u001b[0;32m      5\u001b[0m     \u001b[1;32mfor\u001b[0m \u001b[0mfeature_index\u001b[0m \u001b[1;32min\u001b[0m \u001b[0mrange\u001b[0m\u001b[1;33m(\u001b[0m\u001b[0mX\u001b[0m\u001b[1;33m.\u001b[0m\u001b[0mshape\u001b[0m\u001b[1;33m[\u001b[0m\u001b[1;36m1\u001b[0m\u001b[1;33m]\u001b[0m\u001b[1;33m)\u001b[0m\u001b[1;33m:\u001b[0m\u001b[1;33m\u001b[0m\u001b[1;33m\u001b[0m\u001b[0m\n\u001b[0;32m      6\u001b[0m         \u001b[1;32mfor\u001b[0m \u001b[0mrow\u001b[0m \u001b[1;32min\u001b[0m \u001b[0mX\u001b[0m\u001b[1;33m:\u001b[0m\u001b[1;33m\u001b[0m\u001b[1;33m\u001b[0m\u001b[0m\n\u001b[1;32m----> 7\u001b[1;33m             \u001b[0mXY_left\u001b[0m \u001b[1;33m=\u001b[0m \u001b[0mtree_split_data_left\u001b[0m\u001b[1;33m(\u001b[0m\u001b[0mX\u001b[0m\u001b[1;33m,\u001b[0m \u001b[0mY\u001b[0m\u001b[1;33m,\u001b[0m \u001b[0mfeature_index\u001b[0m\u001b[1;33m,\u001b[0m \u001b[0mrow\u001b[0m\u001b[1;33m[\u001b[0m\u001b[0mfeature_index\u001b[0m\u001b[1;33m]\u001b[0m\u001b[1;33m)\u001b[0m\u001b[1;33m\u001b[0m\u001b[1;33m\u001b[0m\u001b[0m\n\u001b[0m\u001b[0;32m      8\u001b[0m             \u001b[0mXY_right\u001b[0m \u001b[1;33m=\u001b[0m \u001b[0mtree_split_data_right\u001b[0m\u001b[1;33m(\u001b[0m\u001b[0mX\u001b[0m\u001b[1;33m,\u001b[0m \u001b[0mY\u001b[0m\u001b[1;33m,\u001b[0m \u001b[0mfeature_index\u001b[0m\u001b[1;33m,\u001b[0m \u001b[0mrow\u001b[0m\u001b[1;33m[\u001b[0m\u001b[0mfeature_index\u001b[0m\u001b[1;33m]\u001b[0m\u001b[1;33m)\u001b[0m\u001b[1;33m\u001b[0m\u001b[1;33m\u001b[0m\u001b[0m\n\u001b[0;32m      9\u001b[0m             \u001b[0mXY_left\u001b[0m\u001b[1;33m,\u001b[0m \u001b[0mXY_right\u001b[0m \u001b[1;33m=\u001b[0m \u001b[1;33m(\u001b[0m\u001b[0mXY_left\u001b[0m\u001b[1;33m[\u001b[0m\u001b[1;33m:\u001b[0m\u001b[1;33m,\u001b[0m\u001b[1;33m:\u001b[0m\u001b[1;33m-\u001b[0m\u001b[1;36m1\u001b[0m\u001b[1;33m]\u001b[0m\u001b[1;33m,\u001b[0m \u001b[0mXY_left\u001b[0m\u001b[1;33m[\u001b[0m\u001b[1;33m:\u001b[0m\u001b[1;33m,\u001b[0m\u001b[1;33m-\u001b[0m\u001b[1;36m1\u001b[0m\u001b[1;33m:\u001b[0m\u001b[1;33m]\u001b[0m\u001b[1;33m)\u001b[0m\u001b[1;33m,\u001b[0m \u001b[1;33m(\u001b[0m\u001b[0mXY_right\u001b[0m\u001b[1;33m[\u001b[0m\u001b[1;33m:\u001b[0m\u001b[1;33m,\u001b[0m\u001b[1;33m:\u001b[0m\u001b[1;33m-\u001b[0m\u001b[1;36m1\u001b[0m\u001b[1;33m]\u001b[0m\u001b[1;33m,\u001b[0m \u001b[0mXY_right\u001b[0m\u001b[1;33m[\u001b[0m\u001b[1;33m:\u001b[0m\u001b[1;33m,\u001b[0m\u001b[1;33m-\u001b[0m\u001b[1;36m1\u001b[0m\u001b[1;33m:\u001b[0m\u001b[1;33m]\u001b[0m\u001b[1;33m)\u001b[0m\u001b[1;33m\u001b[0m\u001b[1;33m\u001b[0m\u001b[0m\n",
      "\u001b[1;32m<ipython-input-303-0a653760aae0>\u001b[0m in \u001b[0;36mtree_split_data_left\u001b[1;34m(X, Y, feature_index, split_value)\u001b[0m\n\u001b[0;32m     21\u001b[0m \u001b[1;33m\u001b[0m\u001b[0m\n\u001b[0;32m     22\u001b[0m \u001b[1;33m\u001b[0m\u001b[0m\n\u001b[1;32m---> 23\u001b[1;33m     \u001b[0mY_left\u001b[0m \u001b[1;33m=\u001b[0m \u001b[0mY_left\u001b[0m\u001b[1;33m.\u001b[0m\u001b[0mreshape\u001b[0m\u001b[1;33m(\u001b[0m\u001b[1;33m[\u001b[0m\u001b[0mlen\u001b[0m\u001b[1;33m(\u001b[0m\u001b[0mY_left\u001b[0m\u001b[1;33m)\u001b[0m\u001b[1;33m,\u001b[0m\u001b[1;33m-\u001b[0m\u001b[1;36m1\u001b[0m\u001b[1;33m]\u001b[0m\u001b[1;33m)\u001b[0m\u001b[1;33m\u001b[0m\u001b[1;33m\u001b[0m\u001b[0m\n\u001b[0m\u001b[0;32m     24\u001b[0m \u001b[1;33m\u001b[0m\u001b[0m\n\u001b[0;32m     25\u001b[0m \u001b[1;33m\u001b[0m\u001b[0m\n",
      "\u001b[1;31mValueError\u001b[0m: cannot reshape array of size 0 into shape (0,newaxis)"
     ]
    }
   ],
   "source": [
    "X_train, Y_train, X_test, Y_test = split(*generate_2_circles(), 0.7)\n",
    "\n",
    "tree = build_tree(X_train, Y_train, 4, 1)\n",
    "Y_pred = tree_predict_multi(X_test, tree)\n",
    "test_accuracy = (Y_pred == Y_test).mean()\n",
    "print('Test Acc: {:.1f}%'.format(test_accuracy * 100))"
   ]
  },
  {
   "cell_type": "markdown",
   "metadata": {},
   "source": [
    "We print the decision tree in [pre-order](https://en.wikipedia.org/wiki/Tree_traversal#Pre-order_(NLR))."
   ]
  },
  {
   "cell_type": "code",
   "execution_count": null,
   "metadata": {},
   "outputs": [],
   "source": [
    "print_tree(tree)"
   ]
  },
  {
   "cell_type": "code",
   "execution_count": null,
   "metadata": {},
   "outputs": [],
   "source": [
    "plot_model_prediction(lambda x: tree_predict_multi(x, tree), X_test, Y_test)"
   ]
  },
  {
   "cell_type": "markdown",
   "metadata": {},
   "source": [
    "# 3. Experiments\n",
    "The [Cleveland Heart Disease](https://archive.ics.uci.edu/ml/datasets/Heart+Disease) dataset aims at predicting the presence of heart disease based on other available medical information of the patient.\n",
    "\n",
    "Although the whole database contains 76 attributes, we focus on the following 14:\n",
    "1. Age: age in years \n",
    "2. Sex: \n",
    "    * 0 = female\n",
    "    * 1 = male \n",
    "3. Chest pain type: \n",
    "    * 1 = typical angina\n",
    "    * 2 = atypical angina\n",
    "    * 3 = non-anginal pain\n",
    "    * 4 = asymptomatic\n",
    "4. Trestbps: resting blood pressure in mm Hg on admission to the hospital \n",
    "5. Chol: serum cholestoral in mg/dl \n",
    "6. Fasting blood sugar: > 120 mg/dl\n",
    "    * 0 = false\n",
    "    * 1 = true\n",
    "7. Resting electrocardiographic results: \n",
    "    * 0 = normal\n",
    "    * 1 = having ST-T wave abnormality (T wave inversions and/or ST elevation or depression of > 0.05 mV) \n",
    "    * 2 = showing probable or definite left ventricular hypertrophy by Estes' criteria \n",
    "8. Thalach: maximum heart rate achieved \n",
    "9. Exercise induced angina:\n",
    "    * 0 = no\n",
    "    * 1 = yes\n",
    "10. Oldpeak: ST depression induced by exercise relative to rest \n",
    "11. Slope: the slope of the peak exercise ST segment\n",
    "    * 1 = upsloping\n",
    "    * 2 = flat \n",
    "    * 3 = downsloping \n",
    "12. Ca: number of major vessels (0-3) colored by flourosopy \n",
    "13. Thal: \n",
    "    * 3 = normal\n",
    "    * 6 = fixed defect\n",
    "    * 7 = reversable defect \n",
    "14. Target: diagnosis of heart disease (angiographic disease status)\n",
    "    * 0 = < 50% diameter narrowing \n",
    "    * 1 = > 50% diameter narrowing\n",
    "    \n",
    "The 14. attribute is the target variable that we would like to predict based on the rest."
   ]
  },
  {
   "cell_type": "markdown",
   "metadata": {},
   "source": [
    "We have prepared some helper functions to download and pre-process the data in `heart_disease_data.py`"
   ]
  },
  {
   "cell_type": "code",
   "execution_count": null,
   "metadata": {},
   "outputs": [],
   "source": [
    "import heart_disease_data"
   ]
  },
  {
   "cell_type": "code",
   "execution_count": null,
   "metadata": {},
   "outputs": [],
   "source": [
    "X, Y = heart_disease_data.download_and_preprocess()\n",
    "X_train, Y_train, X_test, Y_test = split(X, Y, 0.7)"
   ]
  },
  {
   "cell_type": "markdown",
   "metadata": {},
   "source": [
    "Let's have a look at some examples"
   ]
  },
  {
   "cell_type": "code",
   "execution_count": null,
   "metadata": {},
   "outputs": [],
   "source": [
    "print(X_train[0:2])\n",
    "print(Y_train[0:2])\n",
    "\n",
    "# TODO feel free to explore more examples and see if you can predict the presence of a heart disease"
   ]
  },
  {
   "cell_type": "markdown",
   "metadata": {},
   "source": [
    "## 3.1 Decision Tree for Heart Disease Prediction \n",
    "Let's build a decision tree model on the training data and see how well it performs"
   ]
  },
  {
   "cell_type": "code",
   "execution_count": null,
   "metadata": {},
   "outputs": [],
   "source": [
    "# TODO: you are free to make use of code that we provide in previous cells\n",
    "# TODO: play around with different hyper parameters and see how these impact your performance\n",
    "\n",
    "tree = build_tree(X_train, Y_train, 5, 4)\n",
    "Y_pred = tree_predict_multi(X_test, tree)\n",
    "test_accuracy = (Y_pred == Y_test).mean()\n",
    "print('Test Acc: {:.1f}%'.format(test_accuracy * 100))"
   ]
  },
  {
   "cell_type": "markdown",
   "metadata": {},
   "source": [
    "How did changing the hyper parameters affect the test performance? Usually hyper parameters are tuned using a hold-out [validation set](https://en.wikipedia.org/wiki/Training,_validation,_and_test_sets#Validation_dataset) instead of the test set."
   ]
  },
  {
   "cell_type": "markdown",
   "metadata": {},
   "source": [
    "## 3.2 Logistic Regression for Heart Disease Prediction\n",
    "\n",
    "Instead of manually going through the data to find possible correlations, let's try training a logistic regression model on the data."
   ]
  },
  {
   "cell_type": "code",
   "execution_count": null,
   "metadata": {},
   "outputs": [],
   "source": [
    "# TODO: you are free to make use of code that we provide in previous cells\n",
    "# TODO: play around with different hyper parameters and see how these impact your performance"
   ]
  },
  {
   "cell_type": "markdown",
   "metadata": {},
   "source": [
    "How well did your model perform? Was it actually better then guessing? Let's look at the empirical mean of the target."
   ]
  },
  {
   "cell_type": "code",
   "execution_count": null,
   "metadata": {},
   "outputs": [],
   "source": [
    "Y_train.mean()"
   ]
  },
  {
   "cell_type": "markdown",
   "metadata": {},
   "source": [
    "So what is the problem? Let's have a look at the learned parameters of our model."
   ]
  },
  {
   "cell_type": "code",
   "execution_count": null,
   "metadata": {},
   "outputs": [],
   "source": [
    "print(model.W, model.b)"
   ]
  },
  {
   "cell_type": "markdown",
   "metadata": {},
   "source": [
    "If you trained sufficiently many steps you'll probably see how some weights are much larger than others. Have a look at what range the parameters were initialized and how much change we allow per step (learning rate). Compare this to the scale of the input features. Here an important concept arises, when we want to train on real world data: \n",
    "[Feature Scaling](https://en.wikipedia.org/wiki/Feature_scaling).\n",
    "\n",
    "Let's try applying it on our data and see how it affects our performance."
   ]
  },
  {
   "cell_type": "code",
   "execution_count": null,
   "metadata": {},
   "outputs": [],
   "source": [
    "# TODO: Rescale the input features and train again"
   ]
  },
  {
   "cell_type": "markdown",
   "metadata": {},
   "source": [
    "Notice that we did not need any rescaling for the decision tree. Can you think of why?"
   ]
  }
 ],
 "metadata": {
  "kernelspec": {
   "name": "python3",
   "display_name": "Python 3.8.3 64-bit (conda)",
   "metadata": {
    "interpreter": {
     "hash": "39c9a9e684396029fa370fa384fa94292875d32367b3275c2c64de45029e0792"
    }
   }
  },
  "language_info": {
   "codemirror_mode": {
    "name": "ipython",
    "version": 3
   },
   "file_extension": ".py",
   "mimetype": "text/x-python",
   "name": "python",
   "nbconvert_exporter": "python",
   "pygments_lexer": "ipython3",
   "version": "3.8.3-final"
  }
 },
 "nbformat": 4,
 "nbformat_minor": 2
}